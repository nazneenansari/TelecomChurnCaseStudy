{
 "cells": [
  {
   "cell_type": "markdown",
   "id": "13a2d4e8",
   "metadata": {
    "papermill": {
     "duration": 0.072196,
     "end_time": "2022-05-24T08:45:50.833987",
     "exception": false,
     "start_time": "2022-05-24T08:45:50.761791",
     "status": "completed"
    },
    "tags": []
   },
   "source": [
    "# Telecom Churn Prediction "
   ]
  },
  {
   "cell_type": "markdown",
   "id": "c8f1e43a",
   "metadata": {
    "papermill": {
     "duration": 0.066283,
     "end_time": "2022-05-24T08:45:50.969526",
     "exception": false,
     "start_time": "2022-05-24T08:45:50.903243",
     "status": "completed"
    },
    "tags": []
   },
   "source": [
    "The goal of this notebook is to provide an overview of how write a notebook and create a submission file that successfully solves the churn prediction problem. Please download the datasets, unzip and place them in the same folder as this notebook.\n",
    "\n",
    "We are going to follow the process called CRISP-DM.\n",
    "\n",
    "<img src=\"https://upload.wikimedia.org/wikipedia/commons/thumb/b/b9/CRISP-DM_Process_Diagram.png/639px-CRISP-DM_Process_Diagram.png\" style=\"height: 400px; width:400px;\"/>\n",
    "\n",
    "After Business and Data Understanding via EDA, we want to prepare data for modelling. Then evaluate and submit our predictions."
   ]
  },
  {
   "cell_type": "markdown",
   "id": "e787bdaf",
   "metadata": {
    "papermill": {
     "duration": 0.065074,
     "end_time": "2022-05-24T08:45:51.101404",
     "exception": false,
     "start_time": "2022-05-24T08:45:51.036330",
     "status": "completed"
    },
    "tags": []
   },
   "source": [
    "# 0. Problem statement\n",
    "\n",
    "In the telecom industry, customers are able to choose from multiple service providers and actively switch from one operator to another. In this highly competitive market, the telecommunications industry experiences an average of 15-25% annual churn rate. Given the fact that it costs 5-10 times more to acquire a new customer than to retain an existing one, customer retention has now become even more important than customer acquisition.\n",
    "\n",
    "For many incumbent operators, retaining high profitable customers is the number one business\n",
    "goal. To reduce customer churn, telecom companies need to predict which customers are at high risk of churn. In this project, you will analyze customer-level data of a leading telecom firm, build predictive models to identify customers at high risk of churn, and identify the main indicators of churn.\n",
    "\n",
    "In this competition, your goal is *to build a machine learning model that is able to predict churning customers based on the features provided for their usage.*\n",
    "\n",
    "**Customer behaviour during churn:**\n",
    "\n",
    "Customers usually do not decide to switch to another competitor instantly, but rather over a\n",
    "period of time (this is especially applicable to high-value customers). In churn prediction, we\n",
    "assume that there are three phases of customer lifecycle :\n",
    "\n",
    "1. <u>The ‘good’ phase:</u> In this phase, the customer is happy with the service and behaves as usual.\n",
    "\n",
    "2. <u>The ‘action’ phase:</u> The customer experience starts to sore in this phase, for e.g. he/she gets a compelling offer from a competitor, faces unjust charges, becomes unhappy with service quality etc. In this phase, the customer usually shows different behaviour than the ‘good’ months. It is crucial to identify high-churn-risk customers in this phase, since some corrective actions can be taken at this point (such as matching the competitor’s offer/improving the service quality etc.)\n",
    "\n",
    "3. <u>The ‘churn’ phase:</u> In this phase, the customer is said to have churned. In this case, since you are working over a four-month window, the first two months are the ‘good’ phase, the third month is the ‘action’ phase, while the fourth month (September) is the ‘churn’ phase."
   ]
  },
  {
   "cell_type": "code",
   "execution_count": 1,
   "id": "1bd0d2e9",
   "metadata": {
    "execution": {
     "iopub.execute_input": "2022-05-24T08:45:51.381899Z",
     "iopub.status.busy": "2022-05-24T08:45:51.380830Z",
     "iopub.status.idle": "2022-05-24T08:45:52.753968Z",
     "shell.execute_reply": "2022-05-24T08:45:52.753206Z"
    },
    "papermill": {
     "duration": 1.454938,
     "end_time": "2022-05-24T08:45:52.756157",
     "exception": false,
     "start_time": "2022-05-24T08:45:51.301219",
     "status": "completed"
    },
    "tags": []
   },
   "outputs": [],
   "source": [
    "#Data Structures\n",
    "import pandas as pd\n",
    "import numpy as np\n",
    "import re\n",
    "import os\n",
    "\n",
    "### For installing missingno library, type this command in terminal\n",
    "#pip install missingno\n",
    "#pip install imblearn\n",
    "#!pip install sidetable\n",
    "#!pip install xgboost\n",
    "\n",
    "#Sklearn\n",
    "from sklearn.preprocessing import StandardScaler\n",
    "from sklearn.model_selection import train_test_split\n",
    "from sklearn.ensemble import RandomForestClassifier\n",
    "from sklearn.decomposition import PCA\n",
    "from sklearn.manifold import TSNE\n",
    "from sklearn.linear_model import LogisticRegression\n",
    "from imblearn.pipeline import Pipeline as imbpipeline\n",
    "from sklearn.model_selection import GridSearchCV\n",
    "from sklearn.metrics import confusion_matrix, precision_score, recall_score, accuracy_score\n",
    "from imblearn.over_sampling import SMOTE\n",
    "from imblearn.under_sampling import RandomUnderSampler\n",
    "from sklearn.impute import KNNImputer\n",
    "from sklearn.preprocessing import MinMaxScaler\n",
    "\n",
    "from sklearn.decomposition import IncrementalPCA\n",
    "from sklearn.model_selection import KFold\n",
    "from sklearn import svm\n",
    "import xgboost as xgb\n",
    "from xgboost import XGBClassifier\n",
    "from xgboost import plot_importance\n",
    "\n",
    "#Plotting\n",
    "import matplotlib.pyplot as plt\n",
    "from mpl_toolkits.mplot3d import Axes3D\n",
    "import seaborn as sns\n",
    "\n",
    "import sidetable\n",
    "from tabulate import tabulate\n",
    "\n",
    "#Others\n",
    "import warnings\n",
    "warnings.filterwarnings('ignore')\n",
    "\n",
    "%matplotlib inline\n",
    "pd.set_option('display.max_rows', None)"
   ]
  },
  {
   "cell_type": "markdown",
   "id": "c79a7193",
   "metadata": {
    "papermill": {
     "duration": 0.063524,
     "end_time": "2022-05-24T08:45:51.228858",
     "exception": false,
     "start_time": "2022-05-24T08:45:51.165334",
     "status": "completed"
    },
    "tags": []
   },
   "source": [
    "# 1. Loading dependencies & datasets\n",
    "\n",
    "Lets start by loading our dependencies. We can keep adding any imports to this cell block, as we write mode and mode code."
   ]
  },
  {
   "cell_type": "markdown",
   "id": "907dd34e",
   "metadata": {
    "papermill": {
     "duration": 0.061065,
     "end_time": "2022-05-24T08:45:52.879192",
     "exception": false,
     "start_time": "2022-05-24T08:45:52.818127",
     "status": "completed"
    },
    "tags": []
   },
   "source": [
    "Next, we load our datasets and the data dictionary file.\n",
    "\n",
    "The **train.csv** file contains both dependent and independent features, while the **test.csv** contains only the independent variables. \n",
    "\n",
    "So, for model selection, I will create our own train/test dataset from the **train.csv** and use the model to predict the solution using the features in unseen test.csv data for submission."
   ]
  },
  {
   "cell_type": "code",
   "execution_count": 2,
   "id": "20371590",
   "metadata": {
    "execution": {
     "iopub.execute_input": "2022-05-24T08:45:53.144706Z",
     "iopub.status.busy": "2022-05-24T08:45:53.144434Z",
     "iopub.status.idle": "2022-05-24T08:45:55.961977Z",
     "shell.execute_reply": "2022-05-24T08:45:55.961070Z"
    },
    "papermill": {
     "duration": 2.885197,
     "end_time": "2022-05-24T08:45:55.963763",
     "exception": false,
     "start_time": "2022-05-24T08:45:53.078566",
     "status": "completed"
    },
    "tags": []
   },
   "outputs": [
    {
     "name": "stdout",
     "output_type": "stream",
     "text": [
      "(69999, 172)\n",
      "(30000, 171)\n",
      "(30000, 2)\n",
      "(36, 2)\n"
     ]
    }
   ],
   "source": [
    "#load data\n",
    "data = pd.read_csv(\"train.csv\")\n",
    "unseen = pd.read_csv(\"test.csv\")\n",
    "sample = pd.read_csv(\"sample.csv\")\n",
    "data_dict = pd.read_csv(\"data_dictionary.csv\")\n",
    "\n",
    "print(data.shape)\n",
    "print(unseen.shape)\n",
    "print(sample.shape)\n",
    "print(data_dict.shape)"
   ]
  },
  {
   "cell_type": "code",
   "execution_count": 3,
   "id": "a0b707d6",
   "metadata": {
    "execution": {
     "iopub.execute_input": "2022-05-24T08:45:56.220637Z",
     "iopub.status.busy": "2022-05-24T08:45:56.220362Z",
     "iopub.status.idle": "2022-05-24T08:45:56.237901Z",
     "shell.execute_reply": "2022-05-24T08:45:56.237212Z"
    },
    "papermill": {
     "duration": 0.085045,
     "end_time": "2022-05-24T08:45:56.240638",
     "exception": false,
     "start_time": "2022-05-24T08:45:56.155593",
     "status": "completed"
    },
    "tags": []
   },
   "outputs": [
    {
     "data": {
      "text/html": [
       "<div>\n",
       "<style scoped>\n",
       "    .dataframe tbody tr th:only-of-type {\n",
       "        vertical-align: middle;\n",
       "    }\n",
       "\n",
       "    .dataframe tbody tr th {\n",
       "        vertical-align: top;\n",
       "    }\n",
       "\n",
       "    .dataframe thead th {\n",
       "        text-align: right;\n",
       "    }\n",
       "</style>\n",
       "<table border=\"1\" class=\"dataframe\">\n",
       "  <thead>\n",
       "    <tr style=\"text-align: right;\">\n",
       "      <th></th>\n",
       "      <th>Acronyms</th>\n",
       "      <th>Description</th>\n",
       "    </tr>\n",
       "  </thead>\n",
       "  <tbody>\n",
       "    <tr>\n",
       "      <th>0</th>\n",
       "      <td>CIRCLE_ID</td>\n",
       "      <td>Telecom circle area to which the customer belo...</td>\n",
       "    </tr>\n",
       "    <tr>\n",
       "      <th>1</th>\n",
       "      <td>LOC</td>\n",
       "      <td>Local calls  within same telecom circle</td>\n",
       "    </tr>\n",
       "    <tr>\n",
       "      <th>2</th>\n",
       "      <td>STD</td>\n",
       "      <td>STD calls  outside the calling circle</td>\n",
       "    </tr>\n",
       "    <tr>\n",
       "      <th>3</th>\n",
       "      <td>IC</td>\n",
       "      <td>Incoming calls</td>\n",
       "    </tr>\n",
       "    <tr>\n",
       "      <th>4</th>\n",
       "      <td>OG</td>\n",
       "      <td>Outgoing calls</td>\n",
       "    </tr>\n",
       "    <tr>\n",
       "      <th>5</th>\n",
       "      <td>T2T</td>\n",
       "      <td>Operator T to T ie within same operator mobile...</td>\n",
       "    </tr>\n",
       "    <tr>\n",
       "      <th>6</th>\n",
       "      <td>T2M</td>\n",
       "      <td>Operator T to other operator mobile</td>\n",
       "    </tr>\n",
       "    <tr>\n",
       "      <th>7</th>\n",
       "      <td>T2O</td>\n",
       "      <td>Operator T to other operator fixed line</td>\n",
       "    </tr>\n",
       "    <tr>\n",
       "      <th>8</th>\n",
       "      <td>T2F</td>\n",
       "      <td>Operator T to fixed lines of T</td>\n",
       "    </tr>\n",
       "    <tr>\n",
       "      <th>9</th>\n",
       "      <td>T2C</td>\n",
       "      <td>Operator T to its own call center</td>\n",
       "    </tr>\n",
       "    <tr>\n",
       "      <th>10</th>\n",
       "      <td>ARPU</td>\n",
       "      <td>Average revenue per user</td>\n",
       "    </tr>\n",
       "    <tr>\n",
       "      <th>11</th>\n",
       "      <td>MOU</td>\n",
       "      <td>Minutes of usage  voice calls</td>\n",
       "    </tr>\n",
       "    <tr>\n",
       "      <th>12</th>\n",
       "      <td>AON</td>\n",
       "      <td>Age on network  number of days the customer is...</td>\n",
       "    </tr>\n",
       "    <tr>\n",
       "      <th>13</th>\n",
       "      <td>ONNET</td>\n",
       "      <td>All kind of calls within the same operator net...</td>\n",
       "    </tr>\n",
       "    <tr>\n",
       "      <th>14</th>\n",
       "      <td>OFFNET</td>\n",
       "      <td>All kind of calls outside the operator T network</td>\n",
       "    </tr>\n",
       "    <tr>\n",
       "      <th>15</th>\n",
       "      <td>ROAM</td>\n",
       "      <td>Indicates that customer is in roaming zone dur...</td>\n",
       "    </tr>\n",
       "    <tr>\n",
       "      <th>16</th>\n",
       "      <td>SPL</td>\n",
       "      <td>Special calls</td>\n",
       "    </tr>\n",
       "    <tr>\n",
       "      <th>17</th>\n",
       "      <td>ISD</td>\n",
       "      <td>ISD calls</td>\n",
       "    </tr>\n",
       "    <tr>\n",
       "      <th>18</th>\n",
       "      <td>RECH</td>\n",
       "      <td>Recharge</td>\n",
       "    </tr>\n",
       "    <tr>\n",
       "      <th>19</th>\n",
       "      <td>NUM</td>\n",
       "      <td>Number</td>\n",
       "    </tr>\n",
       "    <tr>\n",
       "      <th>20</th>\n",
       "      <td>AMT</td>\n",
       "      <td>Amount in local currency</td>\n",
       "    </tr>\n",
       "    <tr>\n",
       "      <th>21</th>\n",
       "      <td>MAX</td>\n",
       "      <td>Maximum</td>\n",
       "    </tr>\n",
       "    <tr>\n",
       "      <th>22</th>\n",
       "      <td>DATA</td>\n",
       "      <td>Mobile internet</td>\n",
       "    </tr>\n",
       "    <tr>\n",
       "      <th>23</th>\n",
       "      <td>3G</td>\n",
       "      <td>G network</td>\n",
       "    </tr>\n",
       "    <tr>\n",
       "      <th>24</th>\n",
       "      <td>AV</td>\n",
       "      <td>Average</td>\n",
       "    </tr>\n",
       "    <tr>\n",
       "      <th>25</th>\n",
       "      <td>VOL</td>\n",
       "      <td>Mobile internet usage volume in MB</td>\n",
       "    </tr>\n",
       "    <tr>\n",
       "      <th>26</th>\n",
       "      <td>2G</td>\n",
       "      <td>G network</td>\n",
       "    </tr>\n",
       "    <tr>\n",
       "      <th>27</th>\n",
       "      <td>PCK</td>\n",
       "      <td>Prepaid service schemes called  PACKS</td>\n",
       "    </tr>\n",
       "    <tr>\n",
       "      <th>28</th>\n",
       "      <td>NIGHT</td>\n",
       "      <td>Scheme to use during specific night hours only</td>\n",
       "    </tr>\n",
       "    <tr>\n",
       "      <th>29</th>\n",
       "      <td>MONTHLY</td>\n",
       "      <td>Service schemes with validity equivalent to a ...</td>\n",
       "    </tr>\n",
       "    <tr>\n",
       "      <th>30</th>\n",
       "      <td>SACHET</td>\n",
       "      <td>Service schemes with validity smaller than a m...</td>\n",
       "    </tr>\n",
       "    <tr>\n",
       "      <th>31</th>\n",
       "      <td>*.6</td>\n",
       "      <td>KPI for the month of June</td>\n",
       "    </tr>\n",
       "    <tr>\n",
       "      <th>32</th>\n",
       "      <td>*.7</td>\n",
       "      <td>KPI for the month of July</td>\n",
       "    </tr>\n",
       "    <tr>\n",
       "      <th>33</th>\n",
       "      <td>*.8</td>\n",
       "      <td>KPI for the month of August</td>\n",
       "    </tr>\n",
       "    <tr>\n",
       "      <th>34</th>\n",
       "      <td>FB_USER</td>\n",
       "      <td>Service scheme to avail services of Facebook a...</td>\n",
       "    </tr>\n",
       "    <tr>\n",
       "      <th>35</th>\n",
       "      <td>VBC</td>\n",
       "      <td>Volume based cost  when no specific scheme is ...</td>\n",
       "    </tr>\n",
       "  </tbody>\n",
       "</table>\n",
       "</div>"
      ],
      "text/plain": [
       "       Acronyms                                        Description\n",
       "0     CIRCLE_ID  Telecom circle area to which the customer belo...\n",
       "1           LOC            Local calls  within same telecom circle\n",
       "2           STD              STD calls  outside the calling circle\n",
       "3            IC                                     Incoming calls\n",
       "4            OG                                     Outgoing calls\n",
       "5           T2T  Operator T to T ie within same operator mobile...\n",
       "6       T2M                    Operator T to other operator mobile\n",
       "7       T2O                Operator T to other operator fixed line\n",
       "8       T2F                         Operator T to fixed lines of T\n",
       "9       T2C                      Operator T to its own call center\n",
       "10     ARPU                               Average revenue per user\n",
       "11      MOU                          Minutes of usage  voice calls\n",
       "12      AON      Age on network  number of days the customer is...\n",
       "13     ONNET     All kind of calls within the same operator net...\n",
       "14   OFFNET       All kind of calls outside the operator T network\n",
       "15         ROAM  Indicates that customer is in roaming zone dur...\n",
       "16       SPL                                         Special calls\n",
       "17      ISD                                              ISD calls\n",
       "18     RECH                                               Recharge\n",
       "19      NUM                                                 Number\n",
       "20      AMT                               Amount in local currency\n",
       "21      MAX                                                Maximum\n",
       "22     DATA                                        Mobile internet\n",
       "23       3G                                              G network\n",
       "24       AV                                                Average\n",
       "25      VOL                     Mobile internet usage volume in MB\n",
       "26       2G                                              G network\n",
       "27      PCK                  Prepaid service schemes called  PACKS\n",
       "28    NIGHT         Scheme to use during specific night hours only\n",
       "29  MONTHLY      Service schemes with validity equivalent to a ...\n",
       "30    SACHET     Service schemes with validity smaller than a m...\n",
       "31      *.6                              KPI for the month of June\n",
       "32      *.7                              KPI for the month of July\n",
       "33      *.8                            KPI for the month of August\n",
       "34      FB_USER  Service scheme to avail services of Facebook a...\n",
       "35      VBC      Volume based cost  when no specific scheme is ..."
      ]
     },
     "execution_count": 3,
     "metadata": {},
     "output_type": "execute_result"
    }
   ],
   "source": [
    "data_dict"
   ]
  },
  {
   "cell_type": "code",
   "execution_count": 4,
   "id": "a278baa6",
   "metadata": {},
   "outputs": [
    {
     "data": {
      "text/html": [
       "<div>\n",
       "<style scoped>\n",
       "    .dataframe tbody tr th:only-of-type {\n",
       "        vertical-align: middle;\n",
       "    }\n",
       "\n",
       "    .dataframe tbody tr th {\n",
       "        vertical-align: top;\n",
       "    }\n",
       "\n",
       "    .dataframe thead th {\n",
       "        text-align: right;\n",
       "    }\n",
       "</style>\n",
       "<table border=\"1\" class=\"dataframe\">\n",
       "  <thead>\n",
       "    <tr style=\"text-align: right;\">\n",
       "      <th></th>\n",
       "      <th>id</th>\n",
       "      <th>circle_id</th>\n",
       "      <th>loc_og_t2o_mou</th>\n",
       "      <th>std_og_t2o_mou</th>\n",
       "      <th>loc_ic_t2o_mou</th>\n",
       "      <th>last_date_of_month_6</th>\n",
       "      <th>last_date_of_month_7</th>\n",
       "      <th>last_date_of_month_8</th>\n",
       "      <th>arpu_6</th>\n",
       "      <th>arpu_7</th>\n",
       "      <th>...</th>\n",
       "      <th>sachet_3g_7</th>\n",
       "      <th>sachet_3g_8</th>\n",
       "      <th>fb_user_6</th>\n",
       "      <th>fb_user_7</th>\n",
       "      <th>fb_user_8</th>\n",
       "      <th>aon</th>\n",
       "      <th>aug_vbc_3g</th>\n",
       "      <th>jul_vbc_3g</th>\n",
       "      <th>jun_vbc_3g</th>\n",
       "      <th>churn_probability</th>\n",
       "    </tr>\n",
       "  </thead>\n",
       "  <tbody>\n",
       "    <tr>\n",
       "      <th>0</th>\n",
       "      <td>0</td>\n",
       "      <td>109</td>\n",
       "      <td>0.0</td>\n",
       "      <td>0.0</td>\n",
       "      <td>0.0</td>\n",
       "      <td>6/30/2014</td>\n",
       "      <td>7/31/2014</td>\n",
       "      <td>8/31/2014</td>\n",
       "      <td>31.277</td>\n",
       "      <td>87.009</td>\n",
       "      <td>...</td>\n",
       "      <td>0</td>\n",
       "      <td>0</td>\n",
       "      <td>NaN</td>\n",
       "      <td>NaN</td>\n",
       "      <td>NaN</td>\n",
       "      <td>1958</td>\n",
       "      <td>0.0</td>\n",
       "      <td>0.0</td>\n",
       "      <td>0.0</td>\n",
       "      <td>0</td>\n",
       "    </tr>\n",
       "    <tr>\n",
       "      <th>1</th>\n",
       "      <td>1</td>\n",
       "      <td>109</td>\n",
       "      <td>0.0</td>\n",
       "      <td>0.0</td>\n",
       "      <td>0.0</td>\n",
       "      <td>6/30/2014</td>\n",
       "      <td>7/31/2014</td>\n",
       "      <td>8/31/2014</td>\n",
       "      <td>0.000</td>\n",
       "      <td>122.787</td>\n",
       "      <td>...</td>\n",
       "      <td>0</td>\n",
       "      <td>0</td>\n",
       "      <td>NaN</td>\n",
       "      <td>1.0</td>\n",
       "      <td>NaN</td>\n",
       "      <td>710</td>\n",
       "      <td>0.0</td>\n",
       "      <td>0.0</td>\n",
       "      <td>0.0</td>\n",
       "      <td>0</td>\n",
       "    </tr>\n",
       "    <tr>\n",
       "      <th>2</th>\n",
       "      <td>2</td>\n",
       "      <td>109</td>\n",
       "      <td>0.0</td>\n",
       "      <td>0.0</td>\n",
       "      <td>0.0</td>\n",
       "      <td>6/30/2014</td>\n",
       "      <td>7/31/2014</td>\n",
       "      <td>8/31/2014</td>\n",
       "      <td>60.806</td>\n",
       "      <td>103.176</td>\n",
       "      <td>...</td>\n",
       "      <td>0</td>\n",
       "      <td>0</td>\n",
       "      <td>NaN</td>\n",
       "      <td>NaN</td>\n",
       "      <td>NaN</td>\n",
       "      <td>882</td>\n",
       "      <td>0.0</td>\n",
       "      <td>0.0</td>\n",
       "      <td>0.0</td>\n",
       "      <td>0</td>\n",
       "    </tr>\n",
       "    <tr>\n",
       "      <th>3</th>\n",
       "      <td>3</td>\n",
       "      <td>109</td>\n",
       "      <td>0.0</td>\n",
       "      <td>0.0</td>\n",
       "      <td>0.0</td>\n",
       "      <td>6/30/2014</td>\n",
       "      <td>7/31/2014</td>\n",
       "      <td>8/31/2014</td>\n",
       "      <td>156.362</td>\n",
       "      <td>205.260</td>\n",
       "      <td>...</td>\n",
       "      <td>0</td>\n",
       "      <td>0</td>\n",
       "      <td>NaN</td>\n",
       "      <td>NaN</td>\n",
       "      <td>NaN</td>\n",
       "      <td>982</td>\n",
       "      <td>0.0</td>\n",
       "      <td>0.0</td>\n",
       "      <td>0.0</td>\n",
       "      <td>0</td>\n",
       "    </tr>\n",
       "    <tr>\n",
       "      <th>4</th>\n",
       "      <td>4</td>\n",
       "      <td>109</td>\n",
       "      <td>0.0</td>\n",
       "      <td>0.0</td>\n",
       "      <td>0.0</td>\n",
       "      <td>6/30/2014</td>\n",
       "      <td>7/31/2014</td>\n",
       "      <td>8/31/2014</td>\n",
       "      <td>240.708</td>\n",
       "      <td>128.191</td>\n",
       "      <td>...</td>\n",
       "      <td>1</td>\n",
       "      <td>0</td>\n",
       "      <td>1.0</td>\n",
       "      <td>1.0</td>\n",
       "      <td>1.0</td>\n",
       "      <td>647</td>\n",
       "      <td>0.0</td>\n",
       "      <td>0.0</td>\n",
       "      <td>0.0</td>\n",
       "      <td>0</td>\n",
       "    </tr>\n",
       "  </tbody>\n",
       "</table>\n",
       "<p>5 rows × 172 columns</p>\n",
       "</div>"
      ],
      "text/plain": [
       "   id  circle_id  loc_og_t2o_mou  std_og_t2o_mou  loc_ic_t2o_mou  \\\n",
       "0   0        109             0.0             0.0             0.0   \n",
       "1   1        109             0.0             0.0             0.0   \n",
       "2   2        109             0.0             0.0             0.0   \n",
       "3   3        109             0.0             0.0             0.0   \n",
       "4   4        109             0.0             0.0             0.0   \n",
       "\n",
       "  last_date_of_month_6 last_date_of_month_7 last_date_of_month_8   arpu_6  \\\n",
       "0            6/30/2014            7/31/2014            8/31/2014   31.277   \n",
       "1            6/30/2014            7/31/2014            8/31/2014    0.000   \n",
       "2            6/30/2014            7/31/2014            8/31/2014   60.806   \n",
       "3            6/30/2014            7/31/2014            8/31/2014  156.362   \n",
       "4            6/30/2014            7/31/2014            8/31/2014  240.708   \n",
       "\n",
       "    arpu_7  ...  sachet_3g_7  sachet_3g_8  fb_user_6  fb_user_7  fb_user_8  \\\n",
       "0   87.009  ...            0            0        NaN        NaN        NaN   \n",
       "1  122.787  ...            0            0        NaN        1.0        NaN   \n",
       "2  103.176  ...            0            0        NaN        NaN        NaN   \n",
       "3  205.260  ...            0            0        NaN        NaN        NaN   \n",
       "4  128.191  ...            1            0        1.0        1.0        1.0   \n",
       "\n",
       "    aon  aug_vbc_3g  jul_vbc_3g  jun_vbc_3g  churn_probability  \n",
       "0  1958         0.0         0.0         0.0                  0  \n",
       "1   710         0.0         0.0         0.0                  0  \n",
       "2   882         0.0         0.0         0.0                  0  \n",
       "3   982         0.0         0.0         0.0                  0  \n",
       "4   647         0.0         0.0         0.0                  0  \n",
       "\n",
       "[5 rows x 172 columns]"
      ]
     },
     "execution_count": 4,
     "metadata": {},
     "output_type": "execute_result"
    }
   ],
   "source": [
    "#Make a copy of the data\n",
    "df = data.copy()\n",
    "df.head()"
   ]
  },
  {
   "cell_type": "markdown",
   "id": "61639a48",
   "metadata": {},
   "source": [
    "# 2. Data Cleaning and Imputation"
   ]
  },
  {
   "cell_type": "markdown",
   "id": "d91527e2",
   "metadata": {},
   "source": [
    "## 2.1 Data Understanding and Cleaning"
   ]
  },
  {
   "cell_type": "code",
   "execution_count": 5,
   "id": "80879d61",
   "metadata": {
    "scrolled": false
   },
   "outputs": [
    {
     "data": {
      "text/plain": [
       "arpu_3g_6                   74.902499\n",
       "count_rech_2g_6             74.902499\n",
       "night_pck_user_6            74.902499\n",
       "arpu_2g_6                   74.902499\n",
       "date_of_last_rech_data_6    74.902499\n",
       "total_rech_data_6           74.902499\n",
       "av_rech_amt_data_6          74.902499\n",
       "max_rech_data_6             74.902499\n",
       "count_rech_3g_6             74.902499\n",
       "fb_user_6                   74.902499\n",
       "night_pck_user_7            74.478207\n",
       "date_of_last_rech_data_7    74.478207\n",
       "total_rech_data_7           74.478207\n",
       "max_rech_data_7             74.478207\n",
       "fb_user_7                   74.478207\n",
       "count_rech_2g_7             74.478207\n",
       "count_rech_3g_7             74.478207\n",
       "arpu_3g_7                   74.478207\n",
       "av_rech_amt_data_7          74.478207\n",
       "arpu_2g_7                   74.478207\n",
       "count_rech_2g_8             73.689624\n",
       "av_rech_amt_data_8          73.689624\n",
       "night_pck_user_8            73.689624\n",
       "max_rech_data_8             73.689624\n",
       "total_rech_data_8           73.689624\n",
       "arpu_2g_8                   73.689624\n",
       "arpu_3g_8                   73.689624\n",
       "date_of_last_rech_data_8    73.689624\n",
       "fb_user_8                   73.689624\n",
       "count_rech_3g_8             73.689624\n",
       "isd_og_mou_8                 5.290076\n",
       "std_ic_t2o_mou_8             5.290076\n",
       "std_og_t2c_mou_8             5.290076\n",
       "std_ic_t2f_mou_8             5.290076\n",
       "std_og_mou_8                 5.290076\n",
       "std_ic_t2m_mou_8             5.290076\n",
       "std_ic_mou_8                 5.290076\n",
       "std_ic_t2t_mou_8             5.290076\n",
       "og_others_8                  5.290076\n",
       "spl_og_mou_8                 5.290076\n",
       "loc_ic_t2m_mou_8             5.290076\n",
       "loc_ic_mou_8                 5.290076\n",
       "loc_ic_t2f_mou_8             5.290076\n",
       "std_og_t2f_mou_8             5.290076\n",
       "loc_og_t2c_mou_8             5.290076\n",
       "ic_others_8                  5.290076\n",
       "loc_og_mou_8                 5.290076\n",
       "onnet_mou_8                  5.290076\n",
       "offnet_mou_8                 5.290076\n",
       "roam_ic_mou_8                5.290076\n",
       "roam_og_mou_8                5.290076\n",
       "loc_og_t2t_mou_8             5.290076\n",
       "loc_og_t2m_mou_8             5.290076\n",
       "loc_og_t2f_mou_8             5.290076\n",
       "std_og_t2m_mou_8             5.290076\n",
       "loc_ic_t2t_mou_8             5.290076\n",
       "isd_ic_mou_8                 5.290076\n",
       "std_og_t2t_mou_8             5.290076\n",
       "spl_ic_mou_8                 5.290076\n",
       "std_ic_t2m_mou_6             3.954342\n",
       "std_ic_t2t_mou_6             3.954342\n",
       "loc_ic_t2m_mou_6             3.954342\n",
       "ic_others_6                  3.954342\n",
       "loc_ic_mou_6                 3.954342\n",
       "std_ic_t2f_mou_6             3.954342\n",
       "isd_ic_mou_6                 3.954342\n",
       "std_ic_mou_6                 3.954342\n",
       "spl_ic_mou_6                 3.954342\n",
       "std_ic_t2o_mou_6             3.954342\n",
       "loc_ic_t2f_mou_6             3.954342\n",
       "isd_og_mou_6                 3.954342\n",
       "std_og_t2m_mou_6             3.954342\n",
       "std_og_t2f_mou_6             3.954342\n",
       "loc_og_mou_6                 3.954342\n",
       "loc_og_t2c_mou_6             3.954342\n",
       "std_og_t2c_mou_6             3.954342\n",
       "loc_og_t2f_mou_6             3.954342\n",
       "loc_og_t2m_mou_6             3.954342\n",
       "std_og_mou_6                 3.954342\n",
       "loc_og_t2t_mou_6             3.954342\n",
       "std_og_t2t_mou_6             3.954342\n",
       "loc_ic_t2t_mou_6             3.954342\n",
       "spl_og_mou_6                 3.954342\n",
       "onnet_mou_6                  3.954342\n",
       "roam_ic_mou_6                3.954342\n",
       "og_others_6                  3.954342\n",
       "roam_og_mou_6                3.954342\n",
       "offnet_mou_6                 3.954342\n",
       "roam_og_mou_7                3.838626\n",
       "ic_others_7                  3.838626\n",
       "loc_og_mou_7                 3.838626\n",
       "onnet_mou_7                  3.838626\n",
       "loc_ic_t2t_mou_7             3.838626\n",
       "loc_og_t2f_mou_7             3.838626\n",
       "loc_og_t2c_mou_7             3.838626\n",
       "offnet_mou_7                 3.838626\n",
       "loc_og_t2m_mou_7             3.838626\n",
       "roam_ic_mou_7                3.838626\n",
       "std_og_t2t_mou_7             3.838626\n",
       "loc_og_t2t_mou_7             3.838626\n",
       "loc_ic_t2m_mou_7             3.838626\n",
       "isd_ic_mou_7                 3.838626\n",
       "loc_ic_t2f_mou_7             3.838626\n",
       "loc_ic_mou_7                 3.838626\n",
       "spl_og_mou_7                 3.838626\n",
       "std_ic_t2t_mou_7             3.838626\n",
       "isd_og_mou_7                 3.838626\n",
       "std_ic_t2m_mou_7             3.838626\n",
       "std_og_mou_7                 3.838626\n",
       "std_ic_t2f_mou_7             3.838626\n",
       "std_og_t2m_mou_7             3.838626\n",
       "std_ic_t2o_mou_7             3.838626\n",
       "std_og_t2c_mou_7             3.838626\n",
       "std_ic_mou_7                 3.838626\n",
       "std_og_t2f_mou_7             3.838626\n",
       "og_others_7                  3.838626\n",
       "spl_ic_mou_7                 3.838626\n",
       "date_of_last_rech_8          3.515765\n",
       "date_of_last_rech_7          1.762882\n",
       "date_of_last_rech_6          1.572880\n",
       "last_date_of_month_8         1.047158\n",
       "loc_ic_t2o_mou               1.002871\n",
       "std_og_t2o_mou               1.002871\n",
       "loc_og_t2o_mou               1.002871\n",
       "last_date_of_month_7         0.570008\n",
       "vol_3g_mb_8                  0.000000\n",
       "aon                          0.000000\n",
       "aug_vbc_3g                   0.000000\n",
       "jul_vbc_3g                   0.000000\n",
       "jun_vbc_3g                   0.000000\n",
       "sachet_3g_8                  0.000000\n",
       "sachet_3g_7                  0.000000\n",
       "sachet_3g_6                  0.000000\n",
       "monthly_2g_6                 0.000000\n",
       "monthly_2g_7                 0.000000\n",
       "monthly_2g_8                 0.000000\n",
       "sachet_2g_6                  0.000000\n",
       "sachet_2g_7                  0.000000\n",
       "sachet_2g_8                  0.000000\n",
       "monthly_3g_8                 0.000000\n",
       "monthly_3g_7                 0.000000\n",
       "monthly_3g_6                 0.000000\n",
       "id                           0.000000\n",
       "vol_3g_mb_7                  0.000000\n",
       "total_rech_num_7             0.000000\n",
       "last_date_of_month_6         0.000000\n",
       "arpu_6                       0.000000\n",
       "arpu_7                       0.000000\n",
       "arpu_8                       0.000000\n",
       "total_og_mou_6               0.000000\n",
       "total_og_mou_7               0.000000\n",
       "total_og_mou_8               0.000000\n",
       "circle_id                    0.000000\n",
       "total_ic_mou_6               0.000000\n",
       "total_ic_mou_7               0.000000\n",
       "total_ic_mou_8               0.000000\n",
       "total_rech_num_6             0.000000\n",
       "total_rech_num_8             0.000000\n",
       "vol_3g_mb_6                  0.000000\n",
       "total_rech_amt_6             0.000000\n",
       "total_rech_amt_7             0.000000\n",
       "total_rech_amt_8             0.000000\n",
       "max_rech_amt_6               0.000000\n",
       "max_rech_amt_7               0.000000\n",
       "max_rech_amt_8               0.000000\n",
       "last_day_rch_amt_6           0.000000\n",
       "last_day_rch_amt_7           0.000000\n",
       "last_day_rch_amt_8           0.000000\n",
       "vol_2g_mb_6                  0.000000\n",
       "vol_2g_mb_7                  0.000000\n",
       "vol_2g_mb_8                  0.000000\n",
       "churn_probability            0.000000\n",
       "dtype: float64"
      ]
     },
     "execution_count": 5,
     "metadata": {},
     "output_type": "execute_result"
    }
   ],
   "source": [
    "# find out missing/ null values\n",
    "percent_missing = (df.isnull().sum()/df.shape[0]) *100\n",
    "percent_missing.sort_values(inplace=True,ascending=False)\n",
    "percent_missing"
   ]
  },
  {
   "cell_type": "code",
   "execution_count": 6,
   "id": "7892b867",
   "metadata": {},
   "outputs": [],
   "source": [
    "#Find list of columns having more than 60% null\n",
    "col_to_drop = percent_missing[percent_missing > 60].keys()"
   ]
  },
  {
   "cell_type": "code",
   "execution_count": 7,
   "id": "1161084c",
   "metadata": {},
   "outputs": [],
   "source": [
    "#Drop column more than 60% null value\n",
    "for col in col_to_drop:\n",
    "    del df[col]"
   ]
  },
  {
   "cell_type": "code",
   "execution_count": 8,
   "id": "d881140b",
   "metadata": {
    "scrolled": false
   },
   "outputs": [
    {
     "name": "stdout",
     "output_type": "stream",
     "text": [
      "109    69999\n",
      "Name: circle_id, dtype: int64\n",
      "0.0    69297\n",
      "Name: loc_og_t2o_mou, dtype: int64\n",
      "0.0    69297\n",
      "Name: std_og_t2o_mou, dtype: int64\n",
      "0.0    69297\n",
      "Name: loc_ic_t2o_mou, dtype: int64\n",
      "6/30/2014    69999\n",
      "Name: last_date_of_month_6, dtype: int64\n",
      "7/31/2014    69600\n",
      "Name: last_date_of_month_7, dtype: int64\n",
      "8/31/2014    69266\n",
      "Name: last_date_of_month_8, dtype: int64\n",
      "0.0    67231\n",
      "Name: std_og_t2c_mou_6, dtype: int64\n",
      "0.0    67312\n",
      "Name: std_og_t2c_mou_7, dtype: int64\n",
      "0.0    66296\n",
      "Name: std_og_t2c_mou_8, dtype: int64\n",
      "0.0    67231\n",
      "Name: std_ic_t2o_mou_6, dtype: int64\n",
      "0.0    67312\n",
      "Name: std_ic_t2o_mou_7, dtype: int64\n",
      "0.0    66296\n",
      "Name: std_ic_t2o_mou_8, dtype: int64\n",
      "0    62867\n",
      "1     7132\n",
      "Name: churn_probability, dtype: int64\n"
     ]
    }
   ],
   "source": [
    "#Get least distinctive / less varaince feature\n",
    "leastdisc= []\n",
    "for col in df:\n",
    "    if df[col].unique().size < 5:\n",
    "        leastdisc.append(col)\n",
    "\n",
    "for col in leastdisc:\n",
    "    print(df[col].value_counts())"
   ]
  },
  {
   "cell_type": "code",
   "execution_count": 9,
   "id": "9381b7b6",
   "metadata": {},
   "outputs": [],
   "source": [
    "# drop least distinctive columns \n",
    "leastdisc_col= ['circle_id', 'loc_og_t2o_mou', 'std_og_t2o_mou', 'loc_ic_t2o_mou', 'last_date_of_month_6', 'last_date_of_month_7',\n",
    "              'last_date_of_month_8', 'std_og_t2c_mou_6', 'std_og_t2c_mou_7', 'std_og_t2c_mou_8', 'std_ic_t2o_mou_6',\n",
    "              'std_ic_t2o_mou_7', 'std_ic_t2o_mou_8', 'id']\n",
    "\n",
    "for col in leastdisc_col:\n",
    "    del df[col]"
   ]
  },
  {
   "cell_type": "code",
   "execution_count": 10,
   "id": "a9de5cbb",
   "metadata": {},
   "outputs": [],
   "source": [
    "date_to_drop = ['date_of_last_rech_6', 'date_of_last_rech_7', 'date_of_last_rech_8']\n",
    "df.drop(date_to_drop, axis=1, inplace = True) "
   ]
  },
  {
   "cell_type": "code",
   "execution_count": 11,
   "id": "3969526f",
   "metadata": {},
   "outputs": [],
   "source": [
    "# Find out high value customers \n",
    "df['arpu_Gphase'] = (df['arpu_6'] + df['arpu_7'])/2"
   ]
  },
  {
   "cell_type": "code",
   "execution_count": 12,
   "id": "a201dd4f",
   "metadata": {},
   "outputs": [],
   "source": [
    "# filter customer with ARPU more than 70 percentile \n",
    "high_value_filter = df['arpu_Gphase'].quantile(0.7)\n",
    "\n",
    "df_high_val_cust = df[df['arpu_Gphase'] > high_value_filter]"
   ]
  },
  {
   "cell_type": "code",
   "execution_count": 13,
   "id": "c6d76492",
   "metadata": {},
   "outputs": [
    {
     "data": {
      "text/plain": [
       "(21000, 126)"
      ]
     },
     "execution_count": 13,
     "metadata": {},
     "output_type": "execute_result"
    }
   ],
   "source": [
    "df_high_val_cust.shape"
   ]
  },
  {
   "cell_type": "markdown",
   "id": "744d6251",
   "metadata": {
    "papermill": {
     "duration": 0.064977,
     "end_time": "2022-05-24T08:45:56.812217",
     "exception": false,
     "start_time": "2022-05-24T08:45:56.747240",
     "status": "completed"
    },
    "tags": []
   },
   "source": [
    "Let's look at each variable's datatype:"
   ]
  },
  {
   "cell_type": "code",
   "execution_count": 14,
   "id": "7dba15d5",
   "metadata": {
    "execution": {
     "iopub.execute_input": "2022-05-24T08:45:56.946961Z",
     "iopub.status.busy": "2022-05-24T08:45:56.946686Z",
     "iopub.status.idle": "2022-05-24T08:45:56.968837Z",
     "shell.execute_reply": "2022-05-24T08:45:56.967570Z"
    },
    "papermill": {
     "duration": 0.091325,
     "end_time": "2022-05-24T08:45:56.970720",
     "exception": false,
     "start_time": "2022-05-24T08:45:56.879395",
     "status": "completed"
    },
    "scrolled": false,
    "tags": []
   },
   "outputs": [
    {
     "name": "stdout",
     "output_type": "stream",
     "text": [
      "<class 'pandas.core.frame.DataFrame'>\n",
      "Int64Index: 21000 entries, 12 to 69990\n",
      "Data columns (total 126 columns):\n",
      " #    Column              Dtype  \n",
      "---   ------              -----  \n",
      " 0    arpu_6              float64\n",
      " 1    arpu_7              float64\n",
      " 2    arpu_8              float64\n",
      " 3    onnet_mou_6         float64\n",
      " 4    onnet_mou_7         float64\n",
      " 5    onnet_mou_8         float64\n",
      " 6    offnet_mou_6        float64\n",
      " 7    offnet_mou_7        float64\n",
      " 8    offnet_mou_8        float64\n",
      " 9    roam_ic_mou_6       float64\n",
      " 10   roam_ic_mou_7       float64\n",
      " 11   roam_ic_mou_8       float64\n",
      " 12   roam_og_mou_6       float64\n",
      " 13   roam_og_mou_7       float64\n",
      " 14   roam_og_mou_8       float64\n",
      " 15   loc_og_t2t_mou_6    float64\n",
      " 16   loc_og_t2t_mou_7    float64\n",
      " 17   loc_og_t2t_mou_8    float64\n",
      " 18   loc_og_t2m_mou_6    float64\n",
      " 19   loc_og_t2m_mou_7    float64\n",
      " 20   loc_og_t2m_mou_8    float64\n",
      " 21   loc_og_t2f_mou_6    float64\n",
      " 22   loc_og_t2f_mou_7    float64\n",
      " 23   loc_og_t2f_mou_8    float64\n",
      " 24   loc_og_t2c_mou_6    float64\n",
      " 25   loc_og_t2c_mou_7    float64\n",
      " 26   loc_og_t2c_mou_8    float64\n",
      " 27   loc_og_mou_6        float64\n",
      " 28   loc_og_mou_7        float64\n",
      " 29   loc_og_mou_8        float64\n",
      " 30   std_og_t2t_mou_6    float64\n",
      " 31   std_og_t2t_mou_7    float64\n",
      " 32   std_og_t2t_mou_8    float64\n",
      " 33   std_og_t2m_mou_6    float64\n",
      " 34   std_og_t2m_mou_7    float64\n",
      " 35   std_og_t2m_mou_8    float64\n",
      " 36   std_og_t2f_mou_6    float64\n",
      " 37   std_og_t2f_mou_7    float64\n",
      " 38   std_og_t2f_mou_8    float64\n",
      " 39   std_og_mou_6        float64\n",
      " 40   std_og_mou_7        float64\n",
      " 41   std_og_mou_8        float64\n",
      " 42   isd_og_mou_6        float64\n",
      " 43   isd_og_mou_7        float64\n",
      " 44   isd_og_mou_8        float64\n",
      " 45   spl_og_mou_6        float64\n",
      " 46   spl_og_mou_7        float64\n",
      " 47   spl_og_mou_8        float64\n",
      " 48   og_others_6         float64\n",
      " 49   og_others_7         float64\n",
      " 50   og_others_8         float64\n",
      " 51   total_og_mou_6      float64\n",
      " 52   total_og_mou_7      float64\n",
      " 53   total_og_mou_8      float64\n",
      " 54   loc_ic_t2t_mou_6    float64\n",
      " 55   loc_ic_t2t_mou_7    float64\n",
      " 56   loc_ic_t2t_mou_8    float64\n",
      " 57   loc_ic_t2m_mou_6    float64\n",
      " 58   loc_ic_t2m_mou_7    float64\n",
      " 59   loc_ic_t2m_mou_8    float64\n",
      " 60   loc_ic_t2f_mou_6    float64\n",
      " 61   loc_ic_t2f_mou_7    float64\n",
      " 62   loc_ic_t2f_mou_8    float64\n",
      " 63   loc_ic_mou_6        float64\n",
      " 64   loc_ic_mou_7        float64\n",
      " 65   loc_ic_mou_8        float64\n",
      " 66   std_ic_t2t_mou_6    float64\n",
      " 67   std_ic_t2t_mou_7    float64\n",
      " 68   std_ic_t2t_mou_8    float64\n",
      " 69   std_ic_t2m_mou_6    float64\n",
      " 70   std_ic_t2m_mou_7    float64\n",
      " 71   std_ic_t2m_mou_8    float64\n",
      " 72   std_ic_t2f_mou_6    float64\n",
      " 73   std_ic_t2f_mou_7    float64\n",
      " 74   std_ic_t2f_mou_8    float64\n",
      " 75   std_ic_mou_6        float64\n",
      " 76   std_ic_mou_7        float64\n",
      " 77   std_ic_mou_8        float64\n",
      " 78   total_ic_mou_6      float64\n",
      " 79   total_ic_mou_7      float64\n",
      " 80   total_ic_mou_8      float64\n",
      " 81   spl_ic_mou_6        float64\n",
      " 82   spl_ic_mou_7        float64\n",
      " 83   spl_ic_mou_8        float64\n",
      " 84   isd_ic_mou_6        float64\n",
      " 85   isd_ic_mou_7        float64\n",
      " 86   isd_ic_mou_8        float64\n",
      " 87   ic_others_6         float64\n",
      " 88   ic_others_7         float64\n",
      " 89   ic_others_8         float64\n",
      " 90   total_rech_num_6    int64  \n",
      " 91   total_rech_num_7    int64  \n",
      " 92   total_rech_num_8    int64  \n",
      " 93   total_rech_amt_6    int64  \n",
      " 94   total_rech_amt_7    int64  \n",
      " 95   total_rech_amt_8    int64  \n",
      " 96   max_rech_amt_6      int64  \n",
      " 97   max_rech_amt_7      int64  \n",
      " 98   max_rech_amt_8      int64  \n",
      " 99   last_day_rch_amt_6  int64  \n",
      " 100  last_day_rch_amt_7  int64  \n",
      " 101  last_day_rch_amt_8  int64  \n",
      " 102  vol_2g_mb_6         float64\n",
      " 103  vol_2g_mb_7         float64\n",
      " 104  vol_2g_mb_8         float64\n",
      " 105  vol_3g_mb_6         float64\n",
      " 106  vol_3g_mb_7         float64\n",
      " 107  vol_3g_mb_8         float64\n",
      " 108  monthly_2g_6        int64  \n",
      " 109  monthly_2g_7        int64  \n",
      " 110  monthly_2g_8        int64  \n",
      " 111  sachet_2g_6         int64  \n",
      " 112  sachet_2g_7         int64  \n",
      " 113  sachet_2g_8         int64  \n",
      " 114  monthly_3g_6        int64  \n",
      " 115  monthly_3g_7        int64  \n",
      " 116  monthly_3g_8        int64  \n",
      " 117  sachet_3g_6         int64  \n",
      " 118  sachet_3g_7         int64  \n",
      " 119  sachet_3g_8         int64  \n",
      " 120  aon                 int64  \n",
      " 121  aug_vbc_3g          float64\n",
      " 122  jul_vbc_3g          float64\n",
      " 123  jun_vbc_3g          float64\n",
      " 124  churn_probability   int64  \n",
      " 125  arpu_Gphase         float64\n",
      "dtypes: float64(100), int64(26)\n",
      "memory usage: 20.3 MB\n"
     ]
    }
   ],
   "source": [
    "df_high_val_cust.info(verbose=1)"
   ]
  },
  {
   "cell_type": "markdown",
   "id": "a7fced65",
   "metadata": {
    "papermill": {
     "duration": 0.064727,
     "end_time": "2022-05-24T08:45:57.103300",
     "exception": false,
     "start_time": "2022-05-24T08:45:57.038573",
     "status": "completed"
    },
    "tags": []
   },
   "source": [
    "Let's also summarize the features using the df.describe method:"
   ]
  },
  {
   "cell_type": "code",
   "execution_count": 15,
   "id": "84d66d43",
   "metadata": {
    "execution": {
     "iopub.execute_input": "2022-05-24T08:45:57.237625Z",
     "iopub.status.busy": "2022-05-24T08:45:57.237062Z",
     "iopub.status.idle": "2022-05-24T08:45:57.369464Z",
     "shell.execute_reply": "2022-05-24T08:45:57.368665Z"
    },
    "papermill": {
     "duration": 0.201272,
     "end_time": "2022-05-24T08:45:57.371563",
     "exception": false,
     "start_time": "2022-05-24T08:45:57.170291",
     "status": "completed"
    },
    "tags": []
   },
   "outputs": [
    {
     "data": {
      "text/html": [
       "<div>\n",
       "<style scoped>\n",
       "    .dataframe tbody tr th:only-of-type {\n",
       "        vertical-align: middle;\n",
       "    }\n",
       "\n",
       "    .dataframe tbody tr th {\n",
       "        vertical-align: top;\n",
       "    }\n",
       "\n",
       "    .dataframe thead th {\n",
       "        text-align: right;\n",
       "    }\n",
       "</style>\n",
       "<table border=\"1\" class=\"dataframe\">\n",
       "  <thead>\n",
       "    <tr style=\"text-align: right;\">\n",
       "      <th></th>\n",
       "      <th>arpu_6</th>\n",
       "      <th>arpu_7</th>\n",
       "      <th>arpu_8</th>\n",
       "      <th>onnet_mou_6</th>\n",
       "      <th>onnet_mou_7</th>\n",
       "      <th>onnet_mou_8</th>\n",
       "      <th>offnet_mou_6</th>\n",
       "      <th>offnet_mou_7</th>\n",
       "      <th>offnet_mou_8</th>\n",
       "      <th>roam_ic_mou_6</th>\n",
       "      <th>...</th>\n",
       "      <th>monthly_3g_8</th>\n",
       "      <th>sachet_3g_6</th>\n",
       "      <th>sachet_3g_7</th>\n",
       "      <th>sachet_3g_8</th>\n",
       "      <th>aon</th>\n",
       "      <th>aug_vbc_3g</th>\n",
       "      <th>jul_vbc_3g</th>\n",
       "      <th>jun_vbc_3g</th>\n",
       "      <th>churn_probability</th>\n",
       "      <th>arpu_Gphase</th>\n",
       "    </tr>\n",
       "  </thead>\n",
       "  <tbody>\n",
       "    <tr>\n",
       "      <th>count</th>\n",
       "      <td>21000.000000</td>\n",
       "      <td>21000.000000</td>\n",
       "      <td>21000.000000</td>\n",
       "      <td>20777.000000</td>\n",
       "      <td>20771.000000</td>\n",
       "      <td>20284.000000</td>\n",
       "      <td>20777.000000</td>\n",
       "      <td>20771.000000</td>\n",
       "      <td>20284.000000</td>\n",
       "      <td>20777.000000</td>\n",
       "      <td>...</td>\n",
       "      <td>21000.000000</td>\n",
       "      <td>21000.000000</td>\n",
       "      <td>21000.000000</td>\n",
       "      <td>21000.000000</td>\n",
       "      <td>21000.000000</td>\n",
       "      <td>21000.000000</td>\n",
       "      <td>21000.000000</td>\n",
       "      <td>21000.000000</td>\n",
       "      <td>21000.000000</td>\n",
       "      <td>21000.000000</td>\n",
       "    </tr>\n",
       "    <tr>\n",
       "      <th>mean</th>\n",
       "      <td>595.062539</td>\n",
       "      <td>590.576454</td>\n",
       "      <td>530.321718</td>\n",
       "      <td>302.712149</td>\n",
       "      <td>307.045096</td>\n",
       "      <td>274.882499</td>\n",
       "      <td>428.288871</td>\n",
       "      <td>427.042211</td>\n",
       "      <td>385.633853</td>\n",
       "      <td>17.708136</td>\n",
       "      <td>...</td>\n",
       "      <td>0.171857</td>\n",
       "      <td>0.143381</td>\n",
       "      <td>0.156143</td>\n",
       "      <td>0.145619</td>\n",
       "      <td>1268.835810</td>\n",
       "      <td>129.945662</td>\n",
       "      <td>135.942217</td>\n",
       "      <td>124.082008</td>\n",
       "      <td>0.090190</td>\n",
       "      <td>592.819496</td>\n",
       "    </tr>\n",
       "    <tr>\n",
       "      <th>std</th>\n",
       "      <td>453.857477</td>\n",
       "      <td>478.539413</td>\n",
       "      <td>511.647744</td>\n",
       "      <td>467.823291</td>\n",
       "      <td>489.602533</td>\n",
       "      <td>477.675127</td>\n",
       "      <td>468.337169</td>\n",
       "      <td>479.078139</td>\n",
       "      <td>473.597744</td>\n",
       "      <td>78.748558</td>\n",
       "      <td>...</td>\n",
       "      <td>0.578549</td>\n",
       "      <td>0.895228</td>\n",
       "      <td>0.998141</td>\n",
       "      <td>1.029419</td>\n",
       "      <td>974.420493</td>\n",
       "      <td>391.543864</td>\n",
       "      <td>409.330007</td>\n",
       "      <td>396.639863</td>\n",
       "      <td>0.286461</td>\n",
       "      <td>423.916500</td>\n",
       "    </tr>\n",
       "    <tr>\n",
       "      <th>min</th>\n",
       "      <td>-2041.228000</td>\n",
       "      <td>-1077.191000</td>\n",
       "      <td>-945.808000</td>\n",
       "      <td>0.000000</td>\n",
       "      <td>0.000000</td>\n",
       "      <td>0.000000</td>\n",
       "      <td>0.000000</td>\n",
       "      <td>0.000000</td>\n",
       "      <td>0.000000</td>\n",
       "      <td>0.000000</td>\n",
       "      <td>...</td>\n",
       "      <td>0.000000</td>\n",
       "      <td>0.000000</td>\n",
       "      <td>0.000000</td>\n",
       "      <td>0.000000</td>\n",
       "      <td>180.000000</td>\n",
       "      <td>0.000000</td>\n",
       "      <td>0.000000</td>\n",
       "      <td>0.000000</td>\n",
       "      <td>0.000000</td>\n",
       "      <td>317.497000</td>\n",
       "    </tr>\n",
       "    <tr>\n",
       "      <th>25%</th>\n",
       "      <td>374.194000</td>\n",
       "      <td>368.439250</td>\n",
       "      <td>286.350250</td>\n",
       "      <td>43.740000</td>\n",
       "      <td>42.085000</td>\n",
       "      <td>31.175000</td>\n",
       "      <td>144.680000</td>\n",
       "      <td>139.135000</td>\n",
       "      <td>106.280000</td>\n",
       "      <td>0.000000</td>\n",
       "      <td>...</td>\n",
       "      <td>0.000000</td>\n",
       "      <td>0.000000</td>\n",
       "      <td>0.000000</td>\n",
       "      <td>0.000000</td>\n",
       "      <td>480.000000</td>\n",
       "      <td>0.000000</td>\n",
       "      <td>0.000000</td>\n",
       "      <td>0.000000</td>\n",
       "      <td>0.000000</td>\n",
       "      <td>384.856625</td>\n",
       "    </tr>\n",
       "    <tr>\n",
       "      <th>50%</th>\n",
       "      <td>501.701000</td>\n",
       "      <td>495.156000</td>\n",
       "      <td>450.375000</td>\n",
       "      <td>130.690000</td>\n",
       "      <td>127.260000</td>\n",
       "      <td>105.270000</td>\n",
       "      <td>292.310000</td>\n",
       "      <td>285.330000</td>\n",
       "      <td>250.455000</td>\n",
       "      <td>0.000000</td>\n",
       "      <td>...</td>\n",
       "      <td>0.000000</td>\n",
       "      <td>0.000000</td>\n",
       "      <td>0.000000</td>\n",
       "      <td>0.000000</td>\n",
       "      <td>925.000000</td>\n",
       "      <td>0.000000</td>\n",
       "      <td>0.000000</td>\n",
       "      <td>0.000000</td>\n",
       "      <td>0.000000</td>\n",
       "      <td>487.112500</td>\n",
       "    </tr>\n",
       "    <tr>\n",
       "      <th>75%</th>\n",
       "      <td>707.986750</td>\n",
       "      <td>701.980250</td>\n",
       "      <td>667.315250</td>\n",
       "      <td>358.330000</td>\n",
       "      <td>358.925000</td>\n",
       "      <td>305.565000</td>\n",
       "      <td>537.430000</td>\n",
       "      <td>540.200000</td>\n",
       "      <td>492.242500</td>\n",
       "      <td>0.000000</td>\n",
       "      <td>...</td>\n",
       "      <td>0.000000</td>\n",
       "      <td>0.000000</td>\n",
       "      <td>0.000000</td>\n",
       "      <td>0.000000</td>\n",
       "      <td>1946.000000</td>\n",
       "      <td>4.295000</td>\n",
       "      <td>6.102500</td>\n",
       "      <td>0.000000</td>\n",
       "      <td>0.000000</td>\n",
       "      <td>675.178000</td>\n",
       "    </tr>\n",
       "    <tr>\n",
       "      <th>max</th>\n",
       "      <td>27731.088000</td>\n",
       "      <td>35145.834000</td>\n",
       "      <td>33543.624000</td>\n",
       "      <td>7376.710000</td>\n",
       "      <td>8157.780000</td>\n",
       "      <td>10752.560000</td>\n",
       "      <td>8362.360000</td>\n",
       "      <td>7043.980000</td>\n",
       "      <td>14007.340000</td>\n",
       "      <td>2613.310000</td>\n",
       "      <td>...</td>\n",
       "      <td>16.000000</td>\n",
       "      <td>29.000000</td>\n",
       "      <td>33.000000</td>\n",
       "      <td>41.000000</td>\n",
       "      <td>4321.000000</td>\n",
       "      <td>12916.220000</td>\n",
       "      <td>9165.600000</td>\n",
       "      <td>11166.210000</td>\n",
       "      <td>1.000000</td>\n",
       "      <td>31438.461000</td>\n",
       "    </tr>\n",
       "  </tbody>\n",
       "</table>\n",
       "<p>8 rows × 126 columns</p>\n",
       "</div>"
      ],
      "text/plain": [
       "             arpu_6        arpu_7        arpu_8   onnet_mou_6   onnet_mou_7  \\\n",
       "count  21000.000000  21000.000000  21000.000000  20777.000000  20771.000000   \n",
       "mean     595.062539    590.576454    530.321718    302.712149    307.045096   \n",
       "std      453.857477    478.539413    511.647744    467.823291    489.602533   \n",
       "min    -2041.228000  -1077.191000   -945.808000      0.000000      0.000000   \n",
       "25%      374.194000    368.439250    286.350250     43.740000     42.085000   \n",
       "50%      501.701000    495.156000    450.375000    130.690000    127.260000   \n",
       "75%      707.986750    701.980250    667.315250    358.330000    358.925000   \n",
       "max    27731.088000  35145.834000  33543.624000   7376.710000   8157.780000   \n",
       "\n",
       "        onnet_mou_8  offnet_mou_6  offnet_mou_7  offnet_mou_8  roam_ic_mou_6  \\\n",
       "count  20284.000000  20777.000000  20771.000000  20284.000000   20777.000000   \n",
       "mean     274.882499    428.288871    427.042211    385.633853      17.708136   \n",
       "std      477.675127    468.337169    479.078139    473.597744      78.748558   \n",
       "min        0.000000      0.000000      0.000000      0.000000       0.000000   \n",
       "25%       31.175000    144.680000    139.135000    106.280000       0.000000   \n",
       "50%      105.270000    292.310000    285.330000    250.455000       0.000000   \n",
       "75%      305.565000    537.430000    540.200000    492.242500       0.000000   \n",
       "max    10752.560000   8362.360000   7043.980000  14007.340000    2613.310000   \n",
       "\n",
       "       ...  monthly_3g_8   sachet_3g_6   sachet_3g_7   sachet_3g_8  \\\n",
       "count  ...  21000.000000  21000.000000  21000.000000  21000.000000   \n",
       "mean   ...      0.171857      0.143381      0.156143      0.145619   \n",
       "std    ...      0.578549      0.895228      0.998141      1.029419   \n",
       "min    ...      0.000000      0.000000      0.000000      0.000000   \n",
       "25%    ...      0.000000      0.000000      0.000000      0.000000   \n",
       "50%    ...      0.000000      0.000000      0.000000      0.000000   \n",
       "75%    ...      0.000000      0.000000      0.000000      0.000000   \n",
       "max    ...     16.000000     29.000000     33.000000     41.000000   \n",
       "\n",
       "                aon    aug_vbc_3g    jul_vbc_3g    jun_vbc_3g  \\\n",
       "count  21000.000000  21000.000000  21000.000000  21000.000000   \n",
       "mean    1268.835810    129.945662    135.942217    124.082008   \n",
       "std      974.420493    391.543864    409.330007    396.639863   \n",
       "min      180.000000      0.000000      0.000000      0.000000   \n",
       "25%      480.000000      0.000000      0.000000      0.000000   \n",
       "50%      925.000000      0.000000      0.000000      0.000000   \n",
       "75%     1946.000000      4.295000      6.102500      0.000000   \n",
       "max     4321.000000  12916.220000   9165.600000  11166.210000   \n",
       "\n",
       "       churn_probability   arpu_Gphase  \n",
       "count       21000.000000  21000.000000  \n",
       "mean            0.090190    592.819496  \n",
       "std             0.286461    423.916500  \n",
       "min             0.000000    317.497000  \n",
       "25%             0.000000    384.856625  \n",
       "50%             0.000000    487.112500  \n",
       "75%             0.000000    675.178000  \n",
       "max             1.000000  31438.461000  \n",
       "\n",
       "[8 rows x 126 columns]"
      ]
     },
     "execution_count": 15,
     "metadata": {},
     "output_type": "execute_result"
    }
   ],
   "source": [
    "df_high_val_cust.describe(include=\"all\")"
   ]
  },
  {
   "cell_type": "markdown",
   "id": "f71bfeed",
   "metadata": {},
   "source": [
    "## 2.2 Data Imputations"
   ]
  },
  {
   "cell_type": "code",
   "execution_count": 16,
   "id": "49b2cd86",
   "metadata": {},
   "outputs": [
    {
     "data": {
      "text/plain": [
       "Index(['std_ic_t2t_mou_8', 'og_others_8', 'isd_og_mou_8', 'std_ic_mou_8',\n",
       "       'loc_og_t2c_mou_8', 'std_ic_t2m_mou_8', 'loc_ic_t2f_mou_8',\n",
       "       'loc_og_t2f_mou_8', 'spl_og_mou_8', 'std_og_t2t_mou_8',\n",
       "       ...\n",
       "       'total_rech_num_8', 'total_rech_amt_6', 'total_rech_amt_7',\n",
       "       'total_rech_amt_8', 'max_rech_amt_6', 'max_rech_amt_7',\n",
       "       'max_rech_amt_8', 'last_day_rch_amt_6', 'last_day_rch_amt_7',\n",
       "       'arpu_Gphase'],\n",
       "      dtype='object', length=126)"
      ]
     },
     "execution_count": 16,
     "metadata": {},
     "output_type": "execute_result"
    }
   ],
   "source": [
    "percent_missing = (df_high_val_cust.isnull().sum()/df_high_val_cust.shape[0]) *100\n",
    "percent_missing.sort_values(inplace=True,ascending=False)\n",
    "percent_missing[percent_missing > 0]\n",
    "percent_missing.index"
   ]
  },
  {
   "cell_type": "code",
   "execution_count": 17,
   "id": "436a293a",
   "metadata": {},
   "outputs": [],
   "source": [
    "num_col = df_high_val_cust.select_dtypes(include = ['int64','float64']).columns.tolist()\n",
    "num_col.remove('churn_probability')"
   ]
  },
  {
   "cell_type": "code",
   "execution_count": 18,
   "id": "f27ac725",
   "metadata": {},
   "outputs": [],
   "source": [
    "# Calling the Scaling function\n",
    "scalar = MinMaxScaler()\n",
    "\n",
    "# Scaling and transforming the data for the columns that are numerical\n",
    "df_high_val_cust[num_col]=scalar.fit_transform(df_high_val_cust[num_col])\n",
    "\n",
    "# Calling the KNN Imputer function\n",
    "knn=KNNImputer(n_neighbors=3)\n",
    "\n",
    "# Imputing the NaN values using KNN Imputer\n",
    "df_high_val_cust_knn = pd.DataFrame(knn.fit_transform(df_high_val_cust[num_col]))\n",
    "df_high_val_cust_knn.columns=df_high_val_cust[num_col].columns"
   ]
  },
  {
   "cell_type": "code",
   "execution_count": 19,
   "id": "bc7698c0",
   "metadata": {},
   "outputs": [],
   "source": [
    "df_high_val_cust[num_col]=scalar.inverse_transform(df_high_val_cust_knn)"
   ]
  },
  {
   "cell_type": "code",
   "execution_count": 20,
   "id": "9a2cb723",
   "metadata": {
    "scrolled": false
   },
   "outputs": [
    {
     "data": {
      "text/plain": [
       "arpu_6                0\n",
       "arpu_7                0\n",
       "arpu_8                0\n",
       "onnet_mou_6           0\n",
       "onnet_mou_7           0\n",
       "onnet_mou_8           0\n",
       "offnet_mou_6          0\n",
       "offnet_mou_7          0\n",
       "offnet_mou_8          0\n",
       "roam_ic_mou_6         0\n",
       "roam_ic_mou_7         0\n",
       "roam_ic_mou_8         0\n",
       "roam_og_mou_6         0\n",
       "roam_og_mou_7         0\n",
       "roam_og_mou_8         0\n",
       "loc_og_t2t_mou_6      0\n",
       "loc_og_t2t_mou_7      0\n",
       "loc_og_t2t_mou_8      0\n",
       "loc_og_t2m_mou_6      0\n",
       "loc_og_t2m_mou_7      0\n",
       "loc_og_t2m_mou_8      0\n",
       "loc_og_t2f_mou_6      0\n",
       "loc_og_t2f_mou_7      0\n",
       "loc_og_t2f_mou_8      0\n",
       "loc_og_t2c_mou_6      0\n",
       "loc_og_t2c_mou_7      0\n",
       "loc_og_t2c_mou_8      0\n",
       "loc_og_mou_6          0\n",
       "loc_og_mou_7          0\n",
       "loc_og_mou_8          0\n",
       "std_og_t2t_mou_6      0\n",
       "std_og_t2t_mou_7      0\n",
       "std_og_t2t_mou_8      0\n",
       "std_og_t2m_mou_6      0\n",
       "std_og_t2m_mou_7      0\n",
       "std_og_t2m_mou_8      0\n",
       "std_og_t2f_mou_6      0\n",
       "std_og_t2f_mou_7      0\n",
       "std_og_t2f_mou_8      0\n",
       "std_og_mou_6          0\n",
       "std_og_mou_7          0\n",
       "std_og_mou_8          0\n",
       "isd_og_mou_6          0\n",
       "isd_og_mou_7          0\n",
       "isd_og_mou_8          0\n",
       "spl_og_mou_6          0\n",
       "spl_og_mou_7          0\n",
       "spl_og_mou_8          0\n",
       "og_others_6           0\n",
       "og_others_7           0\n",
       "og_others_8           0\n",
       "total_og_mou_6        0\n",
       "total_og_mou_7        0\n",
       "total_og_mou_8        0\n",
       "loc_ic_t2t_mou_6      0\n",
       "loc_ic_t2t_mou_7      0\n",
       "loc_ic_t2t_mou_8      0\n",
       "loc_ic_t2m_mou_6      0\n",
       "loc_ic_t2m_mou_7      0\n",
       "loc_ic_t2m_mou_8      0\n",
       "loc_ic_t2f_mou_6      0\n",
       "loc_ic_t2f_mou_7      0\n",
       "loc_ic_t2f_mou_8      0\n",
       "loc_ic_mou_6          0\n",
       "loc_ic_mou_7          0\n",
       "loc_ic_mou_8          0\n",
       "std_ic_t2t_mou_6      0\n",
       "std_ic_t2t_mou_7      0\n",
       "std_ic_t2t_mou_8      0\n",
       "std_ic_t2m_mou_6      0\n",
       "std_ic_t2m_mou_7      0\n",
       "std_ic_t2m_mou_8      0\n",
       "std_ic_t2f_mou_6      0\n",
       "std_ic_t2f_mou_7      0\n",
       "std_ic_t2f_mou_8      0\n",
       "std_ic_mou_6          0\n",
       "std_ic_mou_7          0\n",
       "std_ic_mou_8          0\n",
       "total_ic_mou_6        0\n",
       "total_ic_mou_7        0\n",
       "total_ic_mou_8        0\n",
       "spl_ic_mou_6          0\n",
       "spl_ic_mou_7          0\n",
       "spl_ic_mou_8          0\n",
       "isd_ic_mou_6          0\n",
       "isd_ic_mou_7          0\n",
       "isd_ic_mou_8          0\n",
       "ic_others_6           0\n",
       "ic_others_7           0\n",
       "ic_others_8           0\n",
       "total_rech_num_6      0\n",
       "total_rech_num_7      0\n",
       "total_rech_num_8      0\n",
       "total_rech_amt_6      0\n",
       "total_rech_amt_7      0\n",
       "total_rech_amt_8      0\n",
       "max_rech_amt_6        0\n",
       "max_rech_amt_7        0\n",
       "max_rech_amt_8        0\n",
       "last_day_rch_amt_6    0\n",
       "last_day_rch_amt_7    0\n",
       "last_day_rch_amt_8    0\n",
       "vol_2g_mb_6           0\n",
       "vol_2g_mb_7           0\n",
       "vol_2g_mb_8           0\n",
       "vol_3g_mb_6           0\n",
       "vol_3g_mb_7           0\n",
       "vol_3g_mb_8           0\n",
       "monthly_2g_6          0\n",
       "monthly_2g_7          0\n",
       "monthly_2g_8          0\n",
       "sachet_2g_6           0\n",
       "sachet_2g_7           0\n",
       "sachet_2g_8           0\n",
       "monthly_3g_6          0\n",
       "monthly_3g_7          0\n",
       "monthly_3g_8          0\n",
       "sachet_3g_6           0\n",
       "sachet_3g_7           0\n",
       "sachet_3g_8           0\n",
       "aon                   0\n",
       "aug_vbc_3g            0\n",
       "jul_vbc_3g            0\n",
       "jun_vbc_3g            0\n",
       "churn_probability     0\n",
       "arpu_Gphase           0\n",
       "dtype: int64"
      ]
     },
     "execution_count": 20,
     "metadata": {},
     "output_type": "execute_result"
    }
   ],
   "source": [
    "df_high_val_cust.isnull().sum()"
   ]
  },
  {
   "cell_type": "markdown",
   "id": "3a6db7fe",
   "metadata": {},
   "source": [
    "# 3. Data Visualization"
   ]
  },
  {
   "cell_type": "code",
   "execution_count": 21,
   "id": "f7aab37f",
   "metadata": {},
   "outputs": [],
   "source": [
    "df_high_val_cust['churn_probability'] = df_high_val_cust['churn_probability'].astype(int)\n",
    "churned_customers = df_high_val_cust[df_high_val_cust['churn_probability'] == 1]\n",
    "non_churned_customers = df_high_val_cust[df_high_val_cust['churn_probability'] == 0]"
   ]
  },
  {
   "cell_type": "markdown",
   "id": "3d4dce2b",
   "metadata": {},
   "source": [
    "- __Age on Network V/s Churn Probability__"
   ]
  },
  {
   "cell_type": "code",
   "execution_count": 22,
   "id": "e5477557",
   "metadata": {},
   "outputs": [
    {
     "data": {
      "text/plain": [
       "<AxesSubplot:xlabel='churn_probability', ylabel='aon'>"
      ]
     },
     "execution_count": 22,
     "metadata": {},
     "output_type": "execute_result"
    },
    {
     "data": {
      "image/png": "[encoded data removed]",
      "text/plain": [
       "<Figure size 432x288 with 1 Axes>"
      ]
     },
     "metadata": {
      "needs_background": "light"
     },
     "output_type": "display_data"
    }
   ],
   "source": [
    "sns.boxplot(x='churn_probability', y ='aon', data=df_high_val_cust, hue ='churn_probability')"
   ]
  },
  {
   "cell_type": "code",
   "execution_count": 23,
   "id": "02608d7a",
   "metadata": {},
   "outputs": [],
   "source": [
    "def num_univariate_analysis(column_names,scale='linear') : \n",
    "    # boxplot for column vs target\n",
    "    \n",
    "    fig = plt.figure(figsize=(16,8))\n",
    "    ax1 = fig.add_subplot(1,3,1)\n",
    "    sns.boxplot(x='churn_probability', y = column_names[0], data = df_high_val_cust, ax=ax1)\n",
    "    title = ''.join(column_names[0]) +' vs Churn'\n",
    "    ax1.set(title=title)\n",
    "    if scale == 'log' :\n",
    "        plt.yscale('log')\n",
    "        ax1.set(ylabel= column_names[0] + '(Log Scale)')\n",
    "        \n",
    "    ax2 = fig.add_subplot(1,3,2)\n",
    "    sns.boxplot(x='churn_probability', y = column_names[1], data = df_high_val_cust, ax=ax2)\n",
    "    title = ''.join(column_names[1]) +' vs Churn'\n",
    "    ax2.set(title=title)\n",
    "    if scale == 'log' :\n",
    "        plt.yscale('log')\n",
    "        ax2.set(ylabel= column_names[1] + '(Log Scale)')\n",
    "    \n",
    "    ax3 = fig.add_subplot(1,3,3)\n",
    "    sns.boxplot(x='churn_probability', y = column_names[2], data = df_high_val_cust, ax=ax3)\n",
    "    title = ''.join(column_names[2]) +' vs Churn'\n",
    "    ax3.set(title=title)\n",
    "    if scale == 'log' :\n",
    "        plt.yscale('log')\n",
    "        ax3.set(ylabel= column_names[2] + '(Log Scale)')\n",
    "    \n",
    "    # summary statistic\n",
    "    \n",
    "    print('Customers who churned (Churn : 1)')\n",
    "    print(churned_customers[column_names].describe())\n",
    "    \n",
    "    print('\\nCustomers who did not churn (Churn : 0)')\n",
    "    print(non_churned_customers[column_names].describe(),'\\n')"
   ]
  },
  {
   "cell_type": "code",
   "execution_count": 24,
   "id": "a35e3f11",
   "metadata": {},
   "outputs": [],
   "source": [
    "# function for categorical variable univariate analysis\n",
    "def cat_univariate_analysis(column_names,figsize=(16,4)) : \n",
    "    \n",
    "    # column vs target count plot\n",
    "    fig = plt.figure(figsize=figsize)\n",
    "    \n",
    "    ax1 = fig.add_subplot(1,3,1)\n",
    "    sns.countplot(x=column_names[0],hue='churn_probability',data=df_high_val_cust, ax=ax1)\n",
    "    title = column_names[0] + ' vs No of Churned Customers'\n",
    "    ax1.set(title= title)\n",
    "    ax1.legend(loc='upper right')\n",
    "\n",
    "    \n",
    "    ax2 = fig.add_subplot(1,3,2)\n",
    "    sns.countplot(x=column_names[1],hue='churn_probability',data=df_high_val_cust, ax=ax2)\n",
    "    title = column_names[1] + ' vs No of Churned Customers'\n",
    "    ax2.set(title= title)\n",
    "    ax2.legend(loc='upper right')\n",
    "\n",
    "        \n",
    "    ax3 = fig.add_subplot(1,3,3)\n",
    "    sns.countplot(x=column_names[2],hue='churn_probability',data=df_high_val_cust, ax=ax3)\n",
    "    title = column_names[2] + ' vs No of Churned Customers'\n",
    "    ax3.set(title= title)\n",
    "    ax3.legend(loc='upper right')\n",
    "\n",
    "        \n",
    "    # Percentages \n",
    "    print('Customers who churned (Churn : 1)')\n",
    "    print(tabulate(pd.DataFrame(churned_customers.stb.freq([column_names[0]])), headers='keys', tablefmt='psql'),'\\n')\n",
    "    print(tabulate(pd.DataFrame(churned_customers.stb.freq([column_names[1]])), headers='keys', tablefmt='psql'),'\\n')\n",
    "    print(tabulate(pd.DataFrame(churned_customers.stb.freq([column_names[2]])), headers='keys', tablefmt='psql'),'\\n')\n",
    "\n",
    "    print('\\nCustomers who did not churn (Churn : 0)')\n",
    "    print(tabulate(pd.DataFrame(non_churned_customers.stb.freq([column_names[0]])), headers='keys', tablefmt='psql'),'\\n')\n",
    "    print(tabulate(pd.DataFrame(non_churned_customers.stb.freq([column_names[1]])), headers='keys', tablefmt='psql'),'\\n')\n",
    "    print(tabulate(pd.DataFrame(non_churned_customers.stb.freq([column_names[2]])), headers='keys', tablefmt='psql'),'\\n')"
   ]
  },
  {
   "cell_type": "markdown",
   "id": "38d83b34",
   "metadata": {},
   "source": [
    "- __ARPU v/s Churn Probability__"
   ]
  },
  {
   "cell_type": "code",
   "execution_count": 25,
   "id": "74669db4",
   "metadata": {},
   "outputs": [
    {
     "name": "stdout",
     "output_type": "stream",
     "text": [
      "Customers who churned (Churn : 1)\n",
      "             arpu_6       arpu_7       arpu_8\n",
      "count   1894.000000  1894.000000  1894.000000\n",
      "mean     682.663537   537.212616   230.230143\n",
      "std      564.423822   463.480550   366.259151\n",
      "min     -209.465000   -97.096000  -155.236000\n",
      "25%      412.924250   276.257500     0.000000\n",
      "50%      581.435000   456.185500    93.017500\n",
      "75%      817.295250   688.111000   328.919500\n",
      "max    11505.508000  6876.324000  5228.826000\n",
      "\n",
      "Customers who did not churn (Churn : 0)\n",
      "             arpu_6        arpu_7        arpu_8\n",
      "count  19106.000000  19106.000000  19106.000000\n",
      "mean     586.378550    595.866473    560.070144\n",
      "std      440.460639    479.694946    514.423203\n",
      "min    -2041.228000  -1077.191000   -945.808000\n",
      "25%      371.875250    373.823000    318.988750\n",
      "50%      495.421000    497.825500    471.357500\n",
      "75%      694.811750    703.107250    687.469250\n",
      "max    27731.088000  35145.834000  33543.624000 \n",
      "\n"
     ]
    },
    {
     "data": {
      "image/png": "[encoded data removed]",
      "text/plain": [
       "<Figure size 1152x576 with 3 Axes>"
      ]
     },
     "metadata": {
      "needs_background": "light"
     },
     "output_type": "display_data"
    }
   ],
   "source": [
    "columns = ['arpu_6','arpu_7','arpu_8']\n",
    "num_univariate_analysis(columns,'log')"
   ]
  },
  {
   "cell_type": "markdown",
   "id": "d0187af5",
   "metadata": {},
   "source": [
    "- 'total_ic_mou_6', 'total_ic_mou_7', 'total_ic_mou_8' v/s Churn Probability"
   ]
  },
  {
   "cell_type": "code",
   "execution_count": 26,
   "id": "399cea16",
   "metadata": {},
   "outputs": [
    {
     "name": "stdout",
     "output_type": "stream",
     "text": [
      "Customers who churned (Churn : 1)\n",
      "       total_ic_mou_6  total_ic_mou_7  total_ic_mou_8\n",
      "count     1894.000000     1894.000000     1894.000000\n",
      "mean       238.427386      183.709784       63.241214\n",
      "std        334.907019      295.087734      138.744735\n",
      "min          0.000000        0.000000        0.000000\n",
      "25%         49.585000       27.782500        0.000000\n",
      "50%        137.725000       95.775000        0.000000\n",
      "75%        288.967500      230.102500       64.412500\n",
      "max       3493.860000     5137.560000     1480.640000\n",
      "\n",
      "Customers who did not churn (Churn : 0)\n",
      "       total_ic_mou_6  total_ic_mou_7  total_ic_mou_8\n",
      "count    19106.000000    19106.000000    19106.000000\n",
      "mean       315.069291      325.849645      316.165969\n",
      "std        360.105430      368.364775      358.826210\n",
      "min          0.000000        0.000000        0.000000\n",
      "25%         95.872500      108.332500       99.340000\n",
      "50%        212.720000      222.635000      214.495000\n",
      "75%        404.595000      410.555000      401.602500\n",
      "max       7716.140000     7442.860000     6066.630000 \n",
      "\n"
     ]
    },
    {
     "data": {
      "image/png": "[encoded data removed]",
      "text/plain": [
       "<Figure size 1152x576 with 3 Axes>"
      ]
     },
     "metadata": {
      "needs_background": "light"
     },
     "output_type": "display_data"
    }
   ],
   "source": [
    "columns = ['total_ic_mou_6', 'total_ic_mou_7', 'total_ic_mou_8']\n",
    "num_univariate_analysis(columns)"
   ]
  },
  {
   "cell_type": "code",
   "execution_count": 27,
   "id": "380742df",
   "metadata": {
    "scrolled": true
   },
   "outputs": [
    {
     "name": "stdout",
     "output_type": "stream",
     "text": [
      "Customers who churned (Churn : 1)\n",
      "       total_og_mou_6  total_og_mou_7  total_og_mou_8\n",
      "count     1894.000000     1894.000000     1894.000000\n",
      "mean       868.470533      665.159894      225.827672\n",
      "std        838.691526      777.883721      480.197544\n",
      "min          0.000000        0.000000        0.000000\n",
      "25%        289.540000      102.877500        0.000000\n",
      "50%        674.335000      439.485000        0.000000\n",
      "75%       1208.870000      911.742500      239.117500\n",
      "max       8488.360000     8285.640000     5206.210000\n",
      "\n",
      "Customers who did not churn (Churn : 0)\n",
      "       total_og_mou_6  total_og_mou_7  total_og_mou_8\n",
      "count    19106.000000    19106.000000    19106.000000\n",
      "mean       677.671818      710.985224      659.045048\n",
      "std        637.996342      672.698965      689.128396\n",
      "min          0.000000        0.000000        0.000000\n",
      "25%        271.332500      283.995000      225.415000\n",
      "50%        509.245000      528.110000      467.525000\n",
      "75%        881.555000      928.002500      864.120000\n",
      "max      10674.030000     8224.160000    14043.060000 \n",
      "\n"
     ]
    },
    {
     "data": {
      "image/png": "[encoded data removed]",
      "text/plain": [
       "<Figure size 1152x576 with 3 Axes>"
      ]
     },
     "metadata": {
      "needs_background": "light"
     },
     "output_type": "display_data"
    }
   ],
   "source": [
    "columns = ['total_og_mou_6', 'total_og_mou_7', 'total_og_mou_8']\n",
    "num_univariate_analysis(columns)"
   ]
  },
  {
   "cell_type": "code",
   "execution_count": 28,
   "id": "457ace3e",
   "metadata": {},
   "outputs": [
    {
     "name": "stdout",
     "output_type": "stream",
     "text": [
      "Customers who churned (Churn : 1)\n",
      "       vol_2g_mb_6  vol_2g_mb_7  vol_2g_mb_8\n",
      "count  1894.000000  1894.000000  1894.000000\n",
      "mean     53.858659    44.480201    14.790560\n",
      "std     220.258474   197.191725   127.089568\n",
      "min       0.000000     0.000000     0.000000\n",
      "25%       0.000000     0.000000     0.000000\n",
      "50%       0.000000     0.000000     0.000000\n",
      "75%       0.000000     0.000000     0.000000\n",
      "max    4017.160000  3219.370000  3349.190000\n",
      "\n",
      "Customers who did not churn (Churn : 0)\n",
      "        vol_2g_mb_6   vol_2g_mb_7   vol_2g_mb_8\n",
      "count  19106.000000  19106.000000  19106.000000\n",
      "mean      80.685296     81.247796     75.301079\n",
      "std      281.137704    283.184187    281.315368\n",
      "min        0.000000      0.000000      0.000000\n",
      "25%        0.000000      0.000000      0.000000\n",
      "50%        0.000000      0.000000      0.000000\n",
      "75%       17.910000     19.080000     14.870000\n",
      "max    10285.900000   7873.550000  11117.610000 \n",
      "\n"
     ]
    },
    {
     "data": {
      "image/png": "[encoded data removed]",
      "text/plain": [
       "<Figure size 1152x576 with 3 Axes>"
      ]
     },
     "metadata": {
      "needs_background": "light"
     },
     "output_type": "display_data"
    }
   ],
   "source": [
    "columns = ['vol_2g_mb_6', 'vol_2g_mb_7', 'vol_2g_mb_8']\n",
    "num_univariate_analysis(columns, 'log')"
   ]
  },
  {
   "cell_type": "code",
   "execution_count": 29,
   "id": "685ed442",
   "metadata": {},
   "outputs": [
    {
     "name": "stdout",
     "output_type": "stream",
     "text": [
      "Customers who churned (Churn : 1)\n",
      "       vol_3g_mb_6   vol_3g_mb_7   vol_3g_mb_8\n",
      "count  1894.000000   1894.000000   1894.000000\n",
      "mean    201.917091    149.591457     57.966199\n",
      "std     770.400192    715.169367    482.153108\n",
      "min       0.000000      0.000000      0.000000\n",
      "25%       0.000000      0.000000      0.000000\n",
      "50%       0.000000      0.000000      0.000000\n",
      "75%       0.000000      0.000000      0.000000\n",
      "max    9400.120000  15115.510000  13440.720000\n",
      "\n",
      "Customers who did not churn (Churn : 0)\n",
      "        vol_3g_mb_6   vol_3g_mb_7   vol_3g_mb_8\n",
      "count  19106.000000  19106.000000  19106.000000\n",
      "mean     270.251722    295.063151    291.636295\n",
      "std      897.319191    899.029691    897.152947\n",
      "min        0.000000      0.000000      0.000000\n",
      "25%        0.000000      0.000000      0.000000\n",
      "50%        0.000000      0.000000      0.000000\n",
      "75%        0.277500     48.230000     40.837500\n",
      "max    45735.400000  28144.120000  30036.060000 \n",
      "\n"
     ]
    },
    {
     "data": {
      "image/png": "[encoded data removed]",
      "text/plain": [
       "<Figure size 1152x576 with 3 Axes>"
      ]
     },
     "metadata": {
      "needs_background": "light"
     },
     "output_type": "display_data"
    }
   ],
   "source": [
    "columns = ['vol_3g_mb_6', 'vol_3g_mb_7', 'vol_3g_mb_8']\n",
    "num_univariate_analysis(columns, 'log')"
   ]
  },
  {
   "cell_type": "code",
   "execution_count": 30,
   "id": "744c7e00",
   "metadata": {},
   "outputs": [
    {
     "name": "stdout",
     "output_type": "stream",
     "text": [
      "Customers who churned (Churn : 1)\n",
      "+----+----------------+---------+-----------+--------------------+----------------------+\n",
      "|    |   monthly_2g_6 |   count |   percent |   cumulative_count |   cumulative_percent |\n",
      "|----+----------------+---------+-----------+--------------------+----------------------|\n",
      "|  0 |              0 |    1799 | 94.9842   |               1799 |              94.9842 |\n",
      "|  1 |              1 |      86 |  4.54065  |               1885 |              99.5248 |\n",
      "|  2 |              2 |       7 |  0.369588 |               1892 |              99.8944 |\n",
      "|  3 |              4 |       2 |  0.105597 |               1894 |             100      |\n",
      "+----+----------------+---------+-----------+--------------------+----------------------+ \n",
      "\n",
      "+----+----------------+---------+-----------+--------------------+----------------------+\n",
      "|    |   monthly_2g_7 |   count |   percent |   cumulative_count |   cumulative_percent |\n",
      "|----+----------------+---------+-----------+--------------------+----------------------|\n",
      "|  0 |              0 |    1812 | 95.6705   |               1812 |              95.6705 |\n",
      "|  1 |              1 |      74 |  3.90707  |               1886 |              99.5776 |\n",
      "|  2 |              2 |       8 |  0.422386 |               1894 |             100      |\n",
      "+----+----------------+---------+-----------+--------------------+----------------------+ \n",
      "\n",
      "+----+----------------+---------+------------+--------------------+----------------------+\n",
      "|    |   monthly_2g_8 |   count |    percent |   cumulative_count |   cumulative_percent |\n",
      "|----+----------------+---------+------------+--------------------+----------------------|\n",
      "|  0 |              0 |    1871 | 98.7856    |               1871 |              98.7856 |\n",
      "|  1 |              1 |      22 |  1.16156   |               1893 |              99.9472 |\n",
      "|  2 |              2 |       1 |  0.0527983 |               1894 |             100      |\n",
      "+----+----------------+---------+------------+--------------------+----------------------+ \n",
      "\n",
      "\n",
      "Customers who did not churn (Churn : 0)\n",
      "+----+----------------+---------+------------+--------------------+----------------------+\n",
      "|    |   monthly_2g_6 |   count |    percent |   cumulative_count |   cumulative_percent |\n",
      "|----+----------------+---------+------------+--------------------+----------------------|\n",
      "|  0 |              0 |   16865 | 88.2707    |              16865 |              88.2707 |\n",
      "|  1 |              1 |    1995 | 10.4417    |              18860 |              98.7124 |\n",
      "|  2 |              2 |     224 |  1.17241   |              19084 |              99.8849 |\n",
      "|  3 |              3 |      18 |  0.0942112 |              19102 |              99.9791 |\n",
      "|  4 |              4 |       4 |  0.0209358 |              19106 |             100      |\n",
      "+----+----------------+---------+------------+--------------------+----------------------+ \n",
      "\n",
      "+----+----------------+---------+-------------+--------------------+----------------------+\n",
      "|    |   monthly_2g_7 |   count |     percent |   cumulative_count |   cumulative_percent |\n",
      "|----+----------------+---------+-------------+--------------------+----------------------|\n",
      "|  0 |              0 |   16743 | 87.6322     |              16743 |              87.6322 |\n",
      "|  1 |              1 |    2063 | 10.7977     |              18806 |              98.4298 |\n",
      "|  2 |              2 |     272 |  1.42364    |              19078 |              99.8534 |\n",
      "|  3 |              3 |      24 |  0.125615   |              19102 |              99.9791 |\n",
      "|  4 |              4 |       3 |  0.0157019  |              19105 |              99.9948 |\n",
      "|  5 |              5 |       1 |  0.00523396 |              19106 |             100      |\n",
      "+----+----------------+---------+-------------+--------------------+----------------------+ \n",
      "\n",
      "+----+----------------+---------+-------------+--------------------+----------------------+\n",
      "|    |   monthly_2g_8 |   count |     percent |   cumulative_count |   cumulative_percent |\n",
      "|----+----------------+---------+-------------+--------------------+----------------------|\n",
      "|  0 |              0 |   16971 | 88.8255     |              16971 |              88.8255 |\n",
      "|  1 |              1 |    1919 | 10.044      |              18890 |              98.8695 |\n",
      "|  2 |              2 |     196 |  1.02586    |              19086 |              99.8953 |\n",
      "|  3 |              3 |      16 |  0.0837433  |              19102 |              99.9791 |\n",
      "|  4 |              4 |       3 |  0.0157019  |              19105 |              99.9948 |\n",
      "|  5 |              5 |       1 |  0.00523396 |              19106 |             100      |\n",
      "+----+----------------+---------+-------------+--------------------+----------------------+ \n",
      "\n"
     ]
    },
    {
     "data": {
      "image/png": "[encoded data removed]",
      "text/plain": [
       "<Figure size 1152x288 with 3 Axes>"
      ]
     },
     "metadata": {
      "needs_background": "light"
     },
     "output_type": "display_data"
    }
   ],
   "source": [
    "columns = ['monthly_2g_6', 'monthly_2g_7', 'monthly_2g_8']\n",
    "cat_univariate_analysis(columns)"
   ]
  },
  {
   "cell_type": "code",
   "execution_count": 31,
   "id": "f665fee7",
   "metadata": {},
   "outputs": [
    {
     "name": "stdout",
     "output_type": "stream",
     "text": [
      "Customers who churned (Churn : 1)\n",
      "+----+----------------+---------+------------+--------------------+----------------------+\n",
      "|    |   monthly_3g_6 |   count |    percent |   cumulative_count |   cumulative_percent |\n",
      "|----+----------------+---------+------------+--------------------+----------------------|\n",
      "|  0 |              0 |    1711 | 90.3379    |               1711 |              90.3379 |\n",
      "|  1 |              1 |     132 |  6.96938   |               1843 |              97.3073 |\n",
      "|  2 |              2 |      34 |  1.79514   |               1877 |              99.1024 |\n",
      "|  3 |              3 |      10 |  0.527983  |               1887 |              99.6304 |\n",
      "|  4 |              5 |       3 |  0.158395  |               1890 |              99.7888 |\n",
      "|  5 |              4 |       3 |  0.158395  |               1893 |              99.9472 |\n",
      "|  6 |              6 |       1 |  0.0527983 |               1894 |             100      |\n",
      "+----+----------------+---------+------------+--------------------+----------------------+ \n",
      "\n",
      "+----+----------------+---------+-----------+--------------------+----------------------+\n",
      "|    |   monthly_3g_7 |   count |   percent |   cumulative_count |   cumulative_percent |\n",
      "|----+----------------+---------+-----------+--------------------+----------------------|\n",
      "|  0 |              0 |    1766 |  93.2418  |               1766 |              93.2418 |\n",
      "|  1 |              1 |      85 |   4.48786 |               1851 |              97.7297 |\n",
      "|  2 |              2 |      37 |   1.95354 |               1888 |              99.6832 |\n",
      "|  3 |              3 |       6 |   0.31679 |               1894 |             100      |\n",
      "+----+----------------+---------+-----------+--------------------+----------------------+ \n",
      "\n",
      "+----+----------------+---------+------------+--------------------+----------------------+\n",
      "|    |   monthly_3g_8 |   count |    percent |   cumulative_count |   cumulative_percent |\n",
      "|----+----------------+---------+------------+--------------------+----------------------|\n",
      "|  0 |              0 |    1840 | 97.1489    |               1840 |              97.1489 |\n",
      "|  1 |              1 |      44 |  2.32313   |               1884 |              99.472  |\n",
      "|  2 |              2 |       6 |  0.31679   |               1890 |              99.7888 |\n",
      "|  3 |              3 |       3 |  0.158395  |               1893 |              99.9472 |\n",
      "|  4 |              4 |       1 |  0.0527983 |               1894 |             100      |\n",
      "+----+----------------+---------+------------+--------------------+----------------------+ \n",
      "\n",
      "\n",
      "Customers who did not churn (Churn : 0)\n",
      "+----+----------------+---------+------------+--------------------+----------------------+\n",
      "|    |   monthly_3g_6 |   count |    percent |   cumulative_count |   cumulative_percent |\n",
      "|----+----------------+---------+------------+--------------------+----------------------|\n",
      "|  0 |              0 |   16748 | 87.6583    |              16748 |              87.6583 |\n",
      "|  1 |              1 |    1683 |  8.80875   |              18431 |              96.4671 |\n",
      "|  2 |              2 |     451 |  2.36052   |              18882 |              98.8276 |\n",
      "|  3 |              3 |     136 |  0.711818  |              19018 |              99.5394 |\n",
      "|  4 |              4 |      56 |  0.293102  |              19074 |              99.8325 |\n",
      "|  5 |              5 |      12 |  0.0628075 |              19086 |              99.8953 |\n",
      "|  6 |              7 |       8 |  0.0418717 |              19094 |              99.9372 |\n",
      "|  7 |              6 |       8 |  0.0418717 |              19102 |              99.9791 |\n",
      "|  8 |              9 |       2 |  0.0104679 |              19104 |              99.9895 |\n",
      "|  9 |              8 |       2 |  0.0104679 |              19106 |             100      |\n",
      "+----+----------------+---------+------------+--------------------+----------------------+ \n",
      "\n",
      "+----+----------------+---------+-------------+--------------------+----------------------+\n",
      "|    |   monthly_3g_7 |   count |     percent |   cumulative_count |   cumulative_percent |\n",
      "|----+----------------+---------+-------------+--------------------+----------------------|\n",
      "|  0 |              0 |   16672 | 87.2605     |              16672 |              87.2605 |\n",
      "|  1 |              1 |    1639 |  8.57846    |              18311 |              95.839  |\n",
      "|  2 |              2 |     549 |  2.87344    |              18860 |              98.7124 |\n",
      "|  3 |              3 |     143 |  0.748456   |              19003 |              99.4609 |\n",
      "|  4 |              4 |      45 |  0.235528   |              19048 |              99.6964 |\n",
      "|  5 |              5 |      25 |  0.130849   |              19073 |              99.8273 |\n",
      "|  6 |              6 |      17 |  0.0889773  |              19090 |              99.9163 |\n",
      "|  7 |              7 |       6 |  0.0314037  |              19096 |              99.9477 |\n",
      "|  8 |              8 |       4 |  0.0209358  |              19100 |              99.9686 |\n",
      "|  9 |              9 |       3 |  0.0157019  |              19103 |              99.9843 |\n",
      "| 10 |             16 |       1 |  0.00523396 |              19104 |              99.9895 |\n",
      "| 11 |             14 |       1 |  0.00523396 |              19105 |              99.9948 |\n",
      "| 12 |             10 |       1 |  0.00523396 |              19106 |             100      |\n",
      "+----+----------------+---------+-------------+--------------------+----------------------+ \n",
      "\n",
      "+----+----------------+---------+-------------+--------------------+----------------------+\n",
      "|    |   monthly_3g_8 |   count |     percent |   cumulative_count |   cumulative_percent |\n",
      "|----+----------------+---------+-------------+--------------------+----------------------|\n",
      "|  0 |              0 |   16727 | 87.5484     |              16727 |              87.5484 |\n",
      "|  1 |              1 |    1640 |  8.58369    |              18367 |              96.1321 |\n",
      "|  2 |              2 |     502 |  2.62745    |              18869 |              98.7596 |\n",
      "|  3 |              3 |     142 |  0.743222   |              19011 |              99.5028 |\n",
      "|  4 |              4 |      55 |  0.287868   |              19066 |              99.7906 |\n",
      "|  5 |              5 |      21 |  0.109913   |              19087 |              99.9006 |\n",
      "|  6 |              6 |       7 |  0.0366377  |              19094 |              99.9372 |\n",
      "|  7 |              7 |       5 |  0.0261698  |              19099 |              99.9634 |\n",
      "|  8 |              8 |       3 |  0.0157019  |              19102 |              99.9791 |\n",
      "|  9 |              9 |       2 |  0.0104679  |              19104 |              99.9895 |\n",
      "| 10 |             16 |       1 |  0.00523396 |              19105 |              99.9948 |\n",
      "| 11 |             10 |       1 |  0.00523396 |              19106 |             100      |\n",
      "+----+----------------+---------+-------------+--------------------+----------------------+ \n",
      "\n"
     ]
    },
    {
     "data": {
      "image/png": "[encoded data removed]",
      "text/plain": [
       "<Figure size 1152x288 with 3 Axes>"
      ]
     },
     "metadata": {
      "needs_background": "light"
     },
     "output_type": "display_data"
    }
   ],
   "source": [
    "columns = ['monthly_3g_6', 'monthly_3g_7', 'monthly_3g_8']\n",
    "cat_univariate_analysis(columns)"
   ]
  },
  {
   "cell_type": "markdown",
   "id": "b66721b5",
   "metadata": {
    "papermill": {
     "duration": 0.065563,
     "end_time": "2022-05-24T08:45:57.504519",
     "exception": false,
     "start_time": "2022-05-24T08:45:57.438956",
     "status": "completed"
    },
    "tags": []
   },
   "source": [
    "# 3. Data Preparation and Transformation"
   ]
  },
  {
   "cell_type": "markdown",
   "id": "4fd974d8",
   "metadata": {},
   "source": [
    "## 3.1 Derived Metrics"
   ]
  },
  {
   "cell_type": "code",
   "execution_count": 32,
   "id": "ccd95cac",
   "metadata": {},
   "outputs": [],
   "source": [
    "#Usage \n",
    "df_high_val_cust['delta_vol_2g'] = df_high_val_cust['vol_2g_mb_8'] - (df_high_val_cust['vol_2g_mb_6'].add(df_high_val_cust['vol_2g_mb_7'])).div(2)\n",
    "df_high_val_cust['delta_vol_3g'] = df_high_val_cust['vol_3g_mb_8'] - (df_high_val_cust['vol_3g_mb_6'].add(df_high_val_cust['vol_3g_mb_7'])).div(2)\n",
    "df_high_val_cust['delta_total_og_mou'] = df_high_val_cust['total_og_mou_8'] - (df_high_val_cust['total_og_mou_6'].add(df_high_val_cust['total_og_mou_7'])).div(2)\n",
    "df_high_val_cust['delta_total_ic_mou'] = df_high_val_cust['total_ic_mou_8'] - (df_high_val_cust['total_ic_mou_6'].add(df_high_val_cust['total_ic_mou_7'])).div(2)\n",
    "df_high_val_cust['delta_vbc_3g'] = df_high_val_cust['aug_vbc_3g'] - (df_high_val_cust['jun_vbc_3g'].add(df_high_val_cust['jul_vbc_3g'])).div(2)\n",
    "\n",
    "# Revenue \n",
    "df_high_val_cust['delta_arpu'] = df_high_val_cust['arpu_8'] - (df_high_val_cust['arpu_6'].add(df_high_val_cust['arpu_7'])).div(2)\n",
    "df_high_val_cust['delta_total_rech_amt'] = df_high_val_cust['total_rech_amt_8'] -(df_high_val_cust['total_rech_amt_6'].add(df_high_val_cust['total_rech_amt_7'])).div(2)"
   ]
  },
  {
   "cell_type": "code",
   "execution_count": 33,
   "id": "2850198a",
   "metadata": {},
   "outputs": [],
   "source": [
    "df_high_val_cust.drop(columns=[\n",
    " 'vol_2g_mb_8', 'vol_2g_mb_6', 'vol_2g_mb_7',\n",
    "  'vol_3g_mb_8'  , 'vol_3g_mb_6', 'vol_3g_mb_7' ,\n",
    "    'total_og_mou_8','total_og_mou_6', 'total_og_mou_7', \n",
    "    'total_ic_mou_8','total_ic_mou_6', 'total_ic_mou_7',\n",
    "    'aug_vbc_3g','jun_vbc_3g','jul_vbc_3g',\n",
    "    'arpu_8','arpu_6','arpu_7',\n",
    "    'total_rech_amt_8', 'total_rech_amt_6', 'total_rech_amt_7'\n",
    "    \n",
    "], inplace=True)"
   ]
  },
  {
   "cell_type": "code",
   "execution_count": 34,
   "id": "05f14fc0",
   "metadata": {
    "execution": {
     "iopub.execute_input": "2022-05-24T08:45:57.779846Z",
     "iopub.status.busy": "2022-05-24T08:45:57.779153Z",
     "iopub.status.idle": "2022-05-24T08:45:57.793568Z",
     "shell.execute_reply": "2022-05-24T08:45:57.792893Z"
    },
    "papermill": {
     "duration": 0.084414,
     "end_time": "2022-05-24T08:45:57.795438",
     "exception": false,
     "start_time": "2022-05-24T08:45:57.711024",
     "status": "completed"
    },
    "tags": []
   },
   "outputs": [
    {
     "data": {
      "text/plain": [
       "((21000, 111), (21000,))"
      ]
     },
     "execution_count": 34,
     "metadata": {},
     "output_type": "execute_result"
    }
   ],
   "source": [
    "#Split the data in X and y\n",
    "y = df_high_val_cust.pop('churn_probability').astype(int)\n",
    "X = df_high_val_cust\n",
    "\n",
    "X.shape, y.shape"
   ]
  },
  {
   "cell_type": "markdown",
   "id": "54e0d062",
   "metadata": {
    "papermill": {
     "duration": 0.064976,
     "end_time": "2022-05-24T08:45:57.926742",
     "exception": false,
     "start_time": "2022-05-24T08:45:57.861766",
     "status": "completed"
    },
    "tags": []
   },
   "source": [
    "Splitting train and test data to avoid any contamination of the test data"
   ]
  },
  {
   "cell_type": "code",
   "execution_count": 35,
   "id": "ac15e6c2",
   "metadata": {
    "execution": {
     "iopub.execute_input": "2022-05-24T08:45:58.064423Z",
     "iopub.status.busy": "2022-05-24T08:45:58.063960Z",
     "iopub.status.idle": "2022-05-24T08:45:58.085681Z",
     "shell.execute_reply": "2022-05-24T08:45:58.084800Z"
    },
    "papermill": {
     "duration": 0.092452,
     "end_time": "2022-05-24T08:45:58.087552",
     "exception": false,
     "start_time": "2022-05-24T08:45:57.995100",
     "status": "completed"
    },
    "tags": []
   },
   "outputs": [
    {
     "data": {
      "text/plain": [
       "((14700, 111), (6300, 111), (14700,), (6300,))"
      ]
     },
     "execution_count": 35,
     "metadata": {},
     "output_type": "execute_result"
    }
   ],
   "source": [
    "X_train, X_test, y_train, y_test = train_test_split(X, y, test_size=0.3, stratify=y, random_state =42)\n",
    "\n",
    "X_train.shape, X_test.shape, y_train.shape, y_test.shape"
   ]
  },
  {
   "cell_type": "code",
   "execution_count": 36,
   "id": "9523ffd9",
   "metadata": {
    "execution": {
     "iopub.execute_input": "2022-05-24T08:45:58.224337Z",
     "iopub.status.busy": "2022-05-24T08:45:58.223849Z",
     "iopub.status.idle": "2022-05-24T08:45:58.250053Z",
     "shell.execute_reply": "2022-05-24T08:45:58.249212Z"
    },
    "papermill": {
     "duration": 0.097122,
     "end_time": "2022-05-24T08:45:58.251938",
     "exception": false,
     "start_time": "2022-05-24T08:45:58.154816",
     "status": "completed"
    },
    "tags": []
   },
   "outputs": [
    {
     "data": {
      "text/html": [
       "<div>\n",
       "<style scoped>\n",
       "    .dataframe tbody tr th:only-of-type {\n",
       "        vertical-align: middle;\n",
       "    }\n",
       "\n",
       "    .dataframe tbody tr th {\n",
       "        vertical-align: top;\n",
       "    }\n",
       "\n",
       "    .dataframe thead th {\n",
       "        text-align: right;\n",
       "    }\n",
       "</style>\n",
       "<table border=\"1\" class=\"dataframe\">\n",
       "  <thead>\n",
       "    <tr style=\"text-align: right;\">\n",
       "      <th></th>\n",
       "      <th>onnet_mou_6</th>\n",
       "      <th>onnet_mou_7</th>\n",
       "      <th>onnet_mou_8</th>\n",
       "      <th>offnet_mou_6</th>\n",
       "      <th>offnet_mou_7</th>\n",
       "      <th>offnet_mou_8</th>\n",
       "      <th>roam_ic_mou_6</th>\n",
       "      <th>roam_ic_mou_7</th>\n",
       "      <th>roam_ic_mou_8</th>\n",
       "      <th>roam_og_mou_6</th>\n",
       "      <th>...</th>\n",
       "      <th>sachet_3g_8</th>\n",
       "      <th>aon</th>\n",
       "      <th>arpu_Gphase</th>\n",
       "      <th>delta_vol_2g</th>\n",
       "      <th>delta_vol_3g</th>\n",
       "      <th>delta_total_og_mou</th>\n",
       "      <th>delta_total_ic_mou</th>\n",
       "      <th>delta_vbc_3g</th>\n",
       "      <th>delta_arpu</th>\n",
       "      <th>delta_total_rech_amt</th>\n",
       "    </tr>\n",
       "  </thead>\n",
       "  <tbody>\n",
       "    <tr>\n",
       "      <th>50711</th>\n",
       "      <td>1188.63</td>\n",
       "      <td>795.16</td>\n",
       "      <td>1001.68</td>\n",
       "      <td>266.84</td>\n",
       "      <td>503.46</td>\n",
       "      <td>585.14</td>\n",
       "      <td>0.00</td>\n",
       "      <td>0.0</td>\n",
       "      <td>0.0</td>\n",
       "      <td>0.00</td>\n",
       "      <td>...</td>\n",
       "      <td>0.0</td>\n",
       "      <td>184.0</td>\n",
       "      <td>731.2670</td>\n",
       "      <td>0.000</td>\n",
       "      <td>0.000</td>\n",
       "      <td>216.430</td>\n",
       "      <td>-6.940</td>\n",
       "      <td>0.000</td>\n",
       "      <td>215.9490</td>\n",
       "      <td>281.5</td>\n",
       "    </tr>\n",
       "    <tr>\n",
       "      <th>61180</th>\n",
       "      <td>246.13</td>\n",
       "      <td>74.29</td>\n",
       "      <td>28.29</td>\n",
       "      <td>670.19</td>\n",
       "      <td>339.58</td>\n",
       "      <td>69.41</td>\n",
       "      <td>36.06</td>\n",
       "      <td>0.0</td>\n",
       "      <td>0.0</td>\n",
       "      <td>112.49</td>\n",
       "      <td>...</td>\n",
       "      <td>0.0</td>\n",
       "      <td>2108.0</td>\n",
       "      <td>719.0150</td>\n",
       "      <td>-0.010</td>\n",
       "      <td>416.675</td>\n",
       "      <td>-511.145</td>\n",
       "      <td>-7.680</td>\n",
       "      <td>-7.600</td>\n",
       "      <td>-142.2140</td>\n",
       "      <td>-74.0</td>\n",
       "    </tr>\n",
       "    <tr>\n",
       "      <th>26132</th>\n",
       "      <td>80.04</td>\n",
       "      <td>116.93</td>\n",
       "      <td>218.86</td>\n",
       "      <td>349.38</td>\n",
       "      <td>230.28</td>\n",
       "      <td>526.83</td>\n",
       "      <td>0.00</td>\n",
       "      <td>0.0</td>\n",
       "      <td>0.0</td>\n",
       "      <td>0.00</td>\n",
       "      <td>...</td>\n",
       "      <td>0.0</td>\n",
       "      <td>2418.0</td>\n",
       "      <td>969.1830</td>\n",
       "      <td>21.275</td>\n",
       "      <td>-1025.905</td>\n",
       "      <td>357.370</td>\n",
       "      <td>81.775</td>\n",
       "      <td>-306.070</td>\n",
       "      <td>-192.2670</td>\n",
       "      <td>-276.0</td>\n",
       "    </tr>\n",
       "    <tr>\n",
       "      <th>18564</th>\n",
       "      <td>41.18</td>\n",
       "      <td>61.08</td>\n",
       "      <td>25.96</td>\n",
       "      <td>226.73</td>\n",
       "      <td>283.66</td>\n",
       "      <td>245.76</td>\n",
       "      <td>0.00</td>\n",
       "      <td>0.0</td>\n",
       "      <td>0.0</td>\n",
       "      <td>0.00</td>\n",
       "      <td>...</td>\n",
       "      <td>0.0</td>\n",
       "      <td>391.0</td>\n",
       "      <td>352.1395</td>\n",
       "      <td>0.000</td>\n",
       "      <td>0.000</td>\n",
       "      <td>-34.595</td>\n",
       "      <td>-96.370</td>\n",
       "      <td>0.000</td>\n",
       "      <td>-83.5295</td>\n",
       "      <td>-53.5</td>\n",
       "    </tr>\n",
       "    <tr>\n",
       "      <th>62770</th>\n",
       "      <td>10.03</td>\n",
       "      <td>237.23</td>\n",
       "      <td>450.96</td>\n",
       "      <td>230.38</td>\n",
       "      <td>187.58</td>\n",
       "      <td>151.69</td>\n",
       "      <td>0.00</td>\n",
       "      <td>0.0</td>\n",
       "      <td>0.0</td>\n",
       "      <td>0.00</td>\n",
       "      <td>...</td>\n",
       "      <td>0.0</td>\n",
       "      <td>250.0</td>\n",
       "      <td>561.7200</td>\n",
       "      <td>-80.145</td>\n",
       "      <td>-714.180</td>\n",
       "      <td>268.990</td>\n",
       "      <td>233.015</td>\n",
       "      <td>-603.775</td>\n",
       "      <td>226.3070</td>\n",
       "      <td>340.0</td>\n",
       "    </tr>\n",
       "  </tbody>\n",
       "</table>\n",
       "<p>5 rows × 111 columns</p>\n",
       "</div>"
      ],
      "text/plain": [
       "       onnet_mou_6  onnet_mou_7  onnet_mou_8  offnet_mou_6  offnet_mou_7  \\\n",
       "50711      1188.63       795.16      1001.68        266.84        503.46   \n",
       "61180       246.13        74.29        28.29        670.19        339.58   \n",
       "26132        80.04       116.93       218.86        349.38        230.28   \n",
       "18564        41.18        61.08        25.96        226.73        283.66   \n",
       "62770        10.03       237.23       450.96        230.38        187.58   \n",
       "\n",
       "       offnet_mou_8  roam_ic_mou_6  roam_ic_mou_7  roam_ic_mou_8  \\\n",
       "50711        585.14           0.00            0.0            0.0   \n",
       "61180         69.41          36.06            0.0            0.0   \n",
       "26132        526.83           0.00            0.0            0.0   \n",
       "18564        245.76           0.00            0.0            0.0   \n",
       "62770        151.69           0.00            0.0            0.0   \n",
       "\n",
       "       roam_og_mou_6  ...  sachet_3g_8     aon  arpu_Gphase  delta_vol_2g  \\\n",
       "50711           0.00  ...          0.0   184.0     731.2670         0.000   \n",
       "61180         112.49  ...          0.0  2108.0     719.0150        -0.010   \n",
       "26132           0.00  ...          0.0  2418.0     969.1830        21.275   \n",
       "18564           0.00  ...          0.0   391.0     352.1395         0.000   \n",
       "62770           0.00  ...          0.0   250.0     561.7200       -80.145   \n",
       "\n",
       "       delta_vol_3g  delta_total_og_mou  delta_total_ic_mou  delta_vbc_3g  \\\n",
       "50711         0.000             216.430              -6.940         0.000   \n",
       "61180       416.675            -511.145              -7.680        -7.600   \n",
       "26132     -1025.905             357.370              81.775      -306.070   \n",
       "18564         0.000             -34.595             -96.370         0.000   \n",
       "62770      -714.180             268.990             233.015      -603.775   \n",
       "\n",
       "       delta_arpu  delta_total_rech_amt  \n",
       "50711    215.9490                 281.5  \n",
       "61180   -142.2140                 -74.0  \n",
       "26132   -192.2670                -276.0  \n",
       "18564    -83.5295                 -53.5  \n",
       "62770    226.3070                 340.0  \n",
       "\n",
       "[5 rows x 111 columns]"
      ]
     },
     "execution_count": 36,
     "metadata": {},
     "output_type": "execute_result"
    }
   ],
   "source": [
    "X_train.head()"
   ]
  },
  {
   "cell_type": "markdown",
   "id": "d9c2fda0",
   "metadata": {
    "papermill": {
     "duration": 0.077917,
     "end_time": "2022-05-24T08:46:03.426070",
     "exception": false,
     "start_time": "2022-05-24T08:46:03.348153",
     "status": "completed"
    },
    "tags": []
   },
   "source": [
    "## 3.2 Outlier Detection and Treatment"
   ]
  },
  {
   "cell_type": "code",
   "execution_count": 37,
   "id": "80293235",
   "metadata": {
    "execution": {
     "iopub.execute_input": "2022-05-24T08:46:03.587144Z",
     "iopub.status.busy": "2022-05-24T08:46:03.586657Z",
     "iopub.status.idle": "2022-05-24T08:46:04.199840Z",
     "shell.execute_reply": "2022-05-24T08:46:04.199031Z"
    },
    "papermill": {
     "duration": 0.698364,
     "end_time": "2022-05-24T08:46:04.201944",
     "exception": false,
     "start_time": "2022-05-24T08:46:03.503580",
     "status": "completed"
    },
    "tags": []
   },
   "outputs": [
    {
     "data": {
      "text/plain": [
       "<AxesSubplot:>"
      ]
     },
     "execution_count": 37,
     "metadata": {},
     "output_type": "execute_result"
    },
    {
     "data": {
      "image/png": "[encoded data removed]",
      "text/plain": [
       "<Figure size 1080x576 with 1 Axes>"
      ]
     },
     "metadata": {
      "needs_background": "light"
     },
     "output_type": "display_data"
    }
   ],
   "source": [
    "plt.figure(figsize=(15,8))\n",
    "plt.xticks(rotation=90)\n",
    "sns.boxplot(data = X_train)"
   ]
  },
  {
   "cell_type": "markdown",
   "id": "4b136448",
   "metadata": {
    "papermill": {
     "duration": 0.077936,
     "end_time": "2022-05-24T08:46:04.358511",
     "exception": false,
     "start_time": "2022-05-24T08:46:04.280575",
     "status": "completed"
    },
    "tags": []
   },
   "source": [
    "The box plots of these features show there a lot of outliers. These can be capped with k-sigma method."
   ]
  },
  {
   "cell_type": "code",
   "execution_count": 38,
   "id": "1f176c4f",
   "metadata": {
    "execution": {
     "iopub.execute_input": "2022-05-24T08:46:04.516605Z",
     "iopub.status.busy": "2022-05-24T08:46:04.515864Z",
     "iopub.status.idle": "2022-05-24T08:46:04.520339Z",
     "shell.execute_reply": "2022-05-24T08:46:04.519852Z"
    },
    "papermill": {
     "duration": 0.085093,
     "end_time": "2022-05-24T08:46:04.521913",
     "exception": false,
     "start_time": "2022-05-24T08:46:04.436820",
     "status": "completed"
    },
    "tags": []
   },
   "outputs": [],
   "source": [
    "def cap_outliers(array, k=3):\n",
    "    upper_limit = array.mean() + k*array.std()\n",
    "    lower_limit = array.mean() - k*array.std()\n",
    "    array[array<lower_limit] = lower_limit\n",
    "    array[array>upper_limit] = upper_limit\n",
    "    return array"
   ]
  },
  {
   "cell_type": "code",
   "execution_count": 39,
   "id": "824cf9c3",
   "metadata": {
    "execution": {
     "iopub.execute_input": "2022-05-24T08:46:04.679638Z",
     "iopub.status.busy": "2022-05-24T08:46:04.678783Z",
     "iopub.status.idle": "2022-05-24T08:46:05.372252Z",
     "shell.execute_reply": "2022-05-24T08:46:05.371363Z"
    },
    "papermill": {
     "duration": 0.773634,
     "end_time": "2022-05-24T08:46:05.374394",
     "exception": false,
     "start_time": "2022-05-24T08:46:04.600760",
     "status": "completed"
    },
    "tags": []
   },
   "outputs": [],
   "source": [
    "X_train_filtered = X_train.apply(cap_outliers, axis=0)"
   ]
  },
  {
   "cell_type": "code",
   "execution_count": 40,
   "id": "fae99434",
   "metadata": {},
   "outputs": [
    {
     "data": {
      "text/plain": [
       "<AxesSubplot:>"
      ]
     },
     "execution_count": 40,
     "metadata": {},
     "output_type": "execute_result"
    },
    {
     "data": {
      "image/png": "[encoded data removed]",
      "text/plain": [
       "<Figure size 1080x576 with 1 Axes>"
      ]
     },
     "metadata": {
      "needs_background": "light"
     },
     "output_type": "display_data"
    }
   ],
   "source": [
    "plt.figure(figsize=(15,8))\n",
    "plt.xticks(rotation=90)\n",
    "sns.boxplot(data = X_train_filtered)"
   ]
  },
  {
   "cell_type": "code",
   "execution_count": 41,
   "id": "87d5b3c1",
   "metadata": {},
   "outputs": [],
   "source": [
    "# function to correlate variables\n",
    "def correlation(dataframe) : \n",
    "    \n",
    "    columnsForAnalysis = set(dataframe.columns.values) - {'churn_probability'}\n",
    "    cor0=dataframe[columnsForAnalysis].corr()\n",
    "    type(cor0)\n",
    "    cor0.where(np.triu(np.ones(cor0.shape),k=1).astype(np.bool))\n",
    "    cor0=cor0.unstack().reset_index()\n",
    "    cor0.columns=['VAR1','VAR2','CORR']\n",
    "    cor0.dropna(subset=['CORR'], inplace=True)\n",
    "    cor0.CORR=round(cor0['CORR'],2)\n",
    "    cor0.CORR=cor0.CORR.abs()\n",
    "    cor0.sort_values(by=['CORR'],ascending=False)\n",
    "    cor0=cor0[~(cor0['VAR1']==cor0['VAR2'])]\n",
    "\n",
    "    # removing duplicate correlations\n",
    "    cor0['pair'] = cor0[['VAR1', 'VAR2']].apply(lambda x: '{}-{}'.format(*sorted((x[0], x[1]))), axis=1)\n",
    "    \n",
    "    cor0 = cor0.drop_duplicates(subset=['pair'], keep='first')\n",
    "    cor0 = cor0[['VAR1', 'VAR2','CORR']]\n",
    "    return pd.DataFrame(cor0.sort_values(by=['CORR'],ascending=False))"
   ]
  },
  {
   "cell_type": "code",
   "execution_count": 42,
   "id": "723c9373",
   "metadata": {
    "scrolled": false
   },
   "outputs": [
    {
     "data": {
      "text/html": [
       "<style type=\"text/css\">\n",
       "#T_f07fc_row0_col2, #T_f07fc_row1_col2, #T_f07fc_row2_col2, #T_f07fc_row3_col2 {\n",
       "  background-color: #084081;\n",
       "  color: #f1f1f1;\n",
       "}\n",
       "#T_f07fc_row4_col2 {\n",
       "  background-color: #084d8e;\n",
       "  color: #f1f1f1;\n",
       "}\n",
       "#T_f07fc_row5_col2 {\n",
       "  background-color: #08599c;\n",
       "  color: #f1f1f1;\n",
       "}\n",
       "#T_f07fc_row6_col2 {\n",
       "  background-color: #0866a9;\n",
       "  color: #f1f1f1;\n",
       "}\n",
       "#T_f07fc_row7_col2 {\n",
       "  background-color: #1171b1;\n",
       "  color: #f1f1f1;\n",
       "}\n",
       "#T_f07fc_row8_col2 {\n",
       "  background-color: #1d7eb7;\n",
       "  color: #f1f1f1;\n",
       "}\n",
       "#T_f07fc_row9_col2, #T_f07fc_row10_col2 {\n",
       "  background-color: #2889bc;\n",
       "  color: #f1f1f1;\n",
       "}\n",
       "#T_f07fc_row11_col2, #T_f07fc_row12_col2 {\n",
       "  background-color: #3395c3;\n",
       "  color: #f1f1f1;\n",
       "}\n",
       "#T_f07fc_row13_col2, #T_f07fc_row14_col2, #T_f07fc_row15_col2, #T_f07fc_row16_col2, #T_f07fc_row17_col2 {\n",
       "  background-color: #65c0cb;\n",
       "  color: #000000;\n",
       "}\n",
       "#T_f07fc_row18_col2, #T_f07fc_row19_col2, #T_f07fc_row20_col2, #T_f07fc_row21_col2, #T_f07fc_row22_col2, #T_f07fc_row23_col2 {\n",
       "  background-color: #73c8c7;\n",
       "  color: #000000;\n",
       "}\n",
       "#T_f07fc_row24_col2, #T_f07fc_row25_col2, #T_f07fc_row26_col2, #T_f07fc_row27_col2, #T_f07fc_row28_col2, #T_f07fc_row29_col2 {\n",
       "  background-color: #83cfc1;\n",
       "  color: #000000;\n",
       "}\n",
       "#T_f07fc_row30_col2, #T_f07fc_row31_col2, #T_f07fc_row32_col2, #T_f07fc_row33_col2, #T_f07fc_row34_col2, #T_f07fc_row35_col2 {\n",
       "  background-color: #91d4bd;\n",
       "  color: #000000;\n",
       "}\n",
       "#T_f07fc_row36_col2, #T_f07fc_row37_col2, #T_f07fc_row38_col2, #T_f07fc_row39_col2, #T_f07fc_row40_col2, #T_f07fc_row41_col2, #T_f07fc_row42_col2 {\n",
       "  background-color: #9fdab8;\n",
       "  color: #000000;\n",
       "}\n",
       "#T_f07fc_row43_col2, #T_f07fc_row44_col2, #T_f07fc_row45_col2 {\n",
       "  background-color: #acdfb7;\n",
       "  color: #000000;\n",
       "}\n",
       "#T_f07fc_row46_col2, #T_f07fc_row47_col2, #T_f07fc_row48_col2, #T_f07fc_row49_col2 {\n",
       "  background-color: #b9e3bc;\n",
       "  color: #000000;\n",
       "}\n",
       "#T_f07fc_row50_col2, #T_f07fc_row51_col2, #T_f07fc_row52_col2, #T_f07fc_row53_col2, #T_f07fc_row54_col2, #T_f07fc_row55_col2, #T_f07fc_row56_col2, #T_f07fc_row57_col2, #T_f07fc_row58_col2 {\n",
       "  background-color: #c4e8c1;\n",
       "  color: #000000;\n",
       "}\n",
       "#T_f07fc_row59_col2, #T_f07fc_row60_col2, #T_f07fc_row61_col2, #T_f07fc_row62_col2 {\n",
       "  background-color: #ceecc7;\n",
       "  color: #000000;\n",
       "}\n",
       "#T_f07fc_row63_col2, #T_f07fc_row64_col2, #T_f07fc_row65_col2, #T_f07fc_row66_col2, #T_f07fc_row67_col2, #T_f07fc_row68_col2, #T_f07fc_row69_col2, #T_f07fc_row70_col2, #T_f07fc_row71_col2, #T_f07fc_row72_col2, #T_f07fc_row73_col2, #T_f07fc_row74_col2 {\n",
       "  background-color: #d4eece;\n",
       "  color: #000000;\n",
       "}\n",
       "#T_f07fc_row75_col2, #T_f07fc_row76_col2, #T_f07fc_row77_col2, #T_f07fc_row78_col2 {\n",
       "  background-color: #dbf1d5;\n",
       "  color: #000000;\n",
       "}\n",
       "#T_f07fc_row79_col2, #T_f07fc_row80_col2, #T_f07fc_row81_col2, #T_f07fc_row82_col2, #T_f07fc_row83_col2, #T_f07fc_row84_col2, #T_f07fc_row85_col2, #T_f07fc_row86_col2, #T_f07fc_row87_col2, #T_f07fc_row88_col2, #T_f07fc_row89_col2, #T_f07fc_row90_col2, #T_f07fc_row91_col2, #T_f07fc_row92_col2 {\n",
       "  background-color: #e1f4dc;\n",
       "  color: #000000;\n",
       "}\n",
       "#T_f07fc_row93_col2, #T_f07fc_row94_col2, #T_f07fc_row95_col2, #T_f07fc_row96_col2, #T_f07fc_row97_col2, #T_f07fc_row98_col2 {\n",
       "  background-color: #e9f6e3;\n",
       "  color: #000000;\n",
       "}\n",
       "#T_f07fc_row99_col2, #T_f07fc_row100_col2, #T_f07fc_row101_col2, #T_f07fc_row102_col2, #T_f07fc_row103_col2, #T_f07fc_row104_col2, #T_f07fc_row105_col2 {\n",
       "  background-color: #f0f9e9;\n",
       "  color: #000000;\n",
       "}\n",
       "#T_f07fc_row106_col2, #T_f07fc_row107_col2, #T_f07fc_row108_col2, #T_f07fc_row109_col2, #T_f07fc_row110_col2, #T_f07fc_row111_col2, #T_f07fc_row112_col2, #T_f07fc_row113_col2, #T_f07fc_row114_col2, #T_f07fc_row115_col2 {\n",
       "  background-color: #f7fcf0;\n",
       "  color: #000000;\n",
       "}\n",
       "</style>\n",
       "<table id=\"T_f07fc\">\n",
       "  <thead>\n",
       "    <tr>\n",
       "      <th id=\"T_f07fc_level0_col0\" class=\"col_heading level0 col0\" >VAR1</th>\n",
       "      <th id=\"T_f07fc_level0_col1\" class=\"col_heading level0 col1\" >VAR2</th>\n",
       "      <th id=\"T_f07fc_level0_col2\" class=\"col_heading level0 col2\" >CORR</th>\n",
       "    </tr>\n",
       "  </thead>\n",
       "  <tbody>\n",
       "    <tr>\n",
       "      <td id=\"T_f07fc_row0_col0\" class=\"data row0 col0\" >total_rech_amt_8</td>\n",
       "      <td id=\"T_f07fc_row0_col1\" class=\"data row0 col1\" >arpu_8</td>\n",
       "      <td id=\"T_f07fc_row0_col2\" class=\"data row0 col2\" >0.960000</td>\n",
       "    </tr>\n",
       "    <tr>\n",
       "      <td id=\"T_f07fc_row1_col0\" class=\"data row1 col0\" >isd_og_mou_6</td>\n",
       "      <td id=\"T_f07fc_row1_col1\" class=\"data row1 col1\" >isd_og_mou_7</td>\n",
       "      <td id=\"T_f07fc_row1_col2\" class=\"data row1 col2\" >0.960000</td>\n",
       "    </tr>\n",
       "    <tr>\n",
       "      <td id=\"T_f07fc_row2_col0\" class=\"data row2 col0\" >isd_og_mou_8</td>\n",
       "      <td id=\"T_f07fc_row2_col1\" class=\"data row2 col1\" >isd_og_mou_6</td>\n",
       "      <td id=\"T_f07fc_row2_col2\" class=\"data row2 col2\" >0.960000</td>\n",
       "    </tr>\n",
       "    <tr>\n",
       "      <td id=\"T_f07fc_row3_col0\" class=\"data row3 col0\" >isd_og_mou_8</td>\n",
       "      <td id=\"T_f07fc_row3_col1\" class=\"data row3 col1\" >isd_og_mou_7</td>\n",
       "      <td id=\"T_f07fc_row3_col2\" class=\"data row3 col2\" >0.960000</td>\n",
       "    </tr>\n",
       "    <tr>\n",
       "      <td id=\"T_f07fc_row4_col0\" class=\"data row4 col0\" >arpu_7</td>\n",
       "      <td id=\"T_f07fc_row4_col1\" class=\"data row4 col1\" >total_rech_amt_7</td>\n",
       "      <td id=\"T_f07fc_row4_col2\" class=\"data row4 col2\" >0.950000</td>\n",
       "    </tr>\n",
       "    <tr>\n",
       "      <td id=\"T_f07fc_row5_col0\" class=\"data row5 col0\" >arpu_6</td>\n",
       "      <td id=\"T_f07fc_row5_col1\" class=\"data row5 col1\" >total_rech_amt_6</td>\n",
       "      <td id=\"T_f07fc_row5_col2\" class=\"data row5 col2\" >0.940000</td>\n",
       "    </tr>\n",
       "    <tr>\n",
       "      <td id=\"T_f07fc_row6_col0\" class=\"data row6 col0\" >arpu_7</td>\n",
       "      <td id=\"T_f07fc_row6_col1\" class=\"data row6 col1\" >arpu_Gphase</td>\n",
       "      <td id=\"T_f07fc_row6_col2\" class=\"data row6 col2\" >0.930000</td>\n",
       "    </tr>\n",
       "    <tr>\n",
       "      <td id=\"T_f07fc_row7_col0\" class=\"data row7 col0\" >arpu_Gphase</td>\n",
       "      <td id=\"T_f07fc_row7_col1\" class=\"data row7 col1\" >arpu_6</td>\n",
       "      <td id=\"T_f07fc_row7_col2\" class=\"data row7 col2\" >0.920000</td>\n",
       "    </tr>\n",
       "    <tr>\n",
       "      <td id=\"T_f07fc_row8_col0\" class=\"data row8 col0\" >total_ic_mou_6</td>\n",
       "      <td id=\"T_f07fc_row8_col1\" class=\"data row8 col1\" >loc_ic_mou_6</td>\n",
       "      <td id=\"T_f07fc_row8_col2\" class=\"data row8 col2\" >0.910000</td>\n",
       "    </tr>\n",
       "    <tr>\n",
       "      <td id=\"T_f07fc_row9_col0\" class=\"data row9 col0\" >total_rech_amt_7</td>\n",
       "      <td id=\"T_f07fc_row9_col1\" class=\"data row9 col1\" >arpu_Gphase</td>\n",
       "      <td id=\"T_f07fc_row9_col2\" class=\"data row9 col2\" >0.900000</td>\n",
       "    </tr>\n",
       "    <tr>\n",
       "      <td id=\"T_f07fc_row10_col0\" class=\"data row10 col0\" >loc_ic_mou_8</td>\n",
       "      <td id=\"T_f07fc_row10_col1\" class=\"data row10 col1\" >total_ic_mou_8</td>\n",
       "      <td id=\"T_f07fc_row10_col2\" class=\"data row10 col2\" >0.900000</td>\n",
       "    </tr>\n",
       "    <tr>\n",
       "      <td id=\"T_f07fc_row11_col0\" class=\"data row11 col0\" >arpu_Gphase</td>\n",
       "      <td id=\"T_f07fc_row11_col1\" class=\"data row11 col1\" >total_rech_amt_6</td>\n",
       "      <td id=\"T_f07fc_row11_col2\" class=\"data row11 col2\" >0.890000</td>\n",
       "    </tr>\n",
       "    <tr>\n",
       "      <td id=\"T_f07fc_row12_col0\" class=\"data row12 col0\" >loc_ic_mou_7</td>\n",
       "      <td id=\"T_f07fc_row12_col1\" class=\"data row12 col1\" >total_ic_mou_7</td>\n",
       "      <td id=\"T_f07fc_row12_col2\" class=\"data row12 col2\" >0.890000</td>\n",
       "    </tr>\n",
       "    <tr>\n",
       "      <td id=\"T_f07fc_row13_col0\" class=\"data row13 col0\" >offnet_mou_7</td>\n",
       "      <td id=\"T_f07fc_row13_col1\" class=\"data row13 col1\" >std_og_t2m_mou_7</td>\n",
       "      <td id=\"T_f07fc_row13_col2\" class=\"data row13 col2\" >0.850000</td>\n",
       "    </tr>\n",
       "    <tr>\n",
       "      <td id=\"T_f07fc_row14_col0\" class=\"data row14 col0\" >loc_ic_mou_7</td>\n",
       "      <td id=\"T_f07fc_row14_col1\" class=\"data row14 col1\" >loc_ic_mou_8</td>\n",
       "      <td id=\"T_f07fc_row14_col2\" class=\"data row14 col2\" >0.850000</td>\n",
       "    </tr>\n",
       "    <tr>\n",
       "      <td id=\"T_f07fc_row15_col0\" class=\"data row15 col0\" >onnet_mou_8</td>\n",
       "      <td id=\"T_f07fc_row15_col1\" class=\"data row15 col1\" >std_og_t2t_mou_8</td>\n",
       "      <td id=\"T_f07fc_row15_col2\" class=\"data row15 col2\" >0.850000</td>\n",
       "    </tr>\n",
       "    <tr>\n",
       "      <td id=\"T_f07fc_row16_col0\" class=\"data row16 col0\" >std_og_t2m_mou_8</td>\n",
       "      <td id=\"T_f07fc_row16_col1\" class=\"data row16 col1\" >offnet_mou_8</td>\n",
       "      <td id=\"T_f07fc_row16_col2\" class=\"data row16 col2\" >0.850000</td>\n",
       "    </tr>\n",
       "    <tr>\n",
       "      <td id=\"T_f07fc_row17_col0\" class=\"data row17 col0\" >loc_ic_mou_6</td>\n",
       "      <td id=\"T_f07fc_row17_col1\" class=\"data row17 col1\" >loc_ic_t2m_mou_6</td>\n",
       "      <td id=\"T_f07fc_row17_col2\" class=\"data row17 col2\" >0.850000</td>\n",
       "    </tr>\n",
       "    <tr>\n",
       "      <td id=\"T_f07fc_row18_col0\" class=\"data row18 col0\" >loc_og_mou_8</td>\n",
       "      <td id=\"T_f07fc_row18_col1\" class=\"data row18 col1\" >loc_og_mou_7</td>\n",
       "      <td id=\"T_f07fc_row18_col2\" class=\"data row18 col2\" >0.840000</td>\n",
       "    </tr>\n",
       "    <tr>\n",
       "      <td id=\"T_f07fc_row19_col0\" class=\"data row19 col0\" >std_og_t2t_mou_7</td>\n",
       "      <td id=\"T_f07fc_row19_col1\" class=\"data row19 col1\" >onnet_mou_7</td>\n",
       "      <td id=\"T_f07fc_row19_col2\" class=\"data row19 col2\" >0.840000</td>\n",
       "    </tr>\n",
       "    <tr>\n",
       "      <td id=\"T_f07fc_row20_col0\" class=\"data row20 col0\" >loc_ic_mou_8</td>\n",
       "      <td id=\"T_f07fc_row20_col1\" class=\"data row20 col1\" >loc_ic_t2m_mou_8</td>\n",
       "      <td id=\"T_f07fc_row20_col2\" class=\"data row20 col2\" >0.840000</td>\n",
       "    </tr>\n",
       "    <tr>\n",
       "      <td id=\"T_f07fc_row21_col0\" class=\"data row21 col0\" >total_og_mou_8</td>\n",
       "      <td id=\"T_f07fc_row21_col1\" class=\"data row21 col1\" >std_og_mou_8</td>\n",
       "      <td id=\"T_f07fc_row21_col2\" class=\"data row21 col2\" >0.840000</td>\n",
       "    </tr>\n",
       "    <tr>\n",
       "      <td id=\"T_f07fc_row22_col0\" class=\"data row22 col0\" >loc_og_t2t_mou_7</td>\n",
       "      <td id=\"T_f07fc_row22_col1\" class=\"data row22 col1\" >loc_og_t2t_mou_8</td>\n",
       "      <td id=\"T_f07fc_row22_col2\" class=\"data row22 col2\" >0.840000</td>\n",
       "    </tr>\n",
       "    <tr>\n",
       "      <td id=\"T_f07fc_row23_col0\" class=\"data row23 col0\" >onnet_mou_6</td>\n",
       "      <td id=\"T_f07fc_row23_col1\" class=\"data row23 col1\" >std_og_t2t_mou_6</td>\n",
       "      <td id=\"T_f07fc_row23_col2\" class=\"data row23 col2\" >0.840000</td>\n",
       "    </tr>\n",
       "    <tr>\n",
       "      <td id=\"T_f07fc_row24_col0\" class=\"data row24 col0\" >total_ic_mou_7</td>\n",
       "      <td id=\"T_f07fc_row24_col1\" class=\"data row24 col1\" >total_ic_mou_8</td>\n",
       "      <td id=\"T_f07fc_row24_col2\" class=\"data row24 col2\" >0.830000</td>\n",
       "    </tr>\n",
       "    <tr>\n",
       "      <td id=\"T_f07fc_row25_col0\" class=\"data row25 col0\" >loc_ic_mou_7</td>\n",
       "      <td id=\"T_f07fc_row25_col1\" class=\"data row25 col1\" >loc_ic_t2m_mou_7</td>\n",
       "      <td id=\"T_f07fc_row25_col2\" class=\"data row25 col2\" >0.830000</td>\n",
       "    </tr>\n",
       "    <tr>\n",
       "      <td id=\"T_f07fc_row26_col0\" class=\"data row26 col0\" >std_ic_mou_6</td>\n",
       "      <td id=\"T_f07fc_row26_col1\" class=\"data row26 col1\" >std_ic_t2m_mou_6</td>\n",
       "      <td id=\"T_f07fc_row26_col2\" class=\"data row26 col2\" >0.830000</td>\n",
       "    </tr>\n",
       "    <tr>\n",
       "      <td id=\"T_f07fc_row27_col0\" class=\"data row27 col0\" >total_og_mou_7</td>\n",
       "      <td id=\"T_f07fc_row27_col1\" class=\"data row27 col1\" >std_og_mou_7</td>\n",
       "      <td id=\"T_f07fc_row27_col2\" class=\"data row27 col2\" >0.830000</td>\n",
       "    </tr>\n",
       "    <tr>\n",
       "      <td id=\"T_f07fc_row28_col0\" class=\"data row28 col0\" >std_ic_t2m_mou_8</td>\n",
       "      <td id=\"T_f07fc_row28_col1\" class=\"data row28 col1\" >std_ic_mou_8</td>\n",
       "      <td id=\"T_f07fc_row28_col2\" class=\"data row28 col2\" >0.830000</td>\n",
       "    </tr>\n",
       "    <tr>\n",
       "      <td id=\"T_f07fc_row29_col0\" class=\"data row29 col0\" >loc_ic_t2m_mou_7</td>\n",
       "      <td id=\"T_f07fc_row29_col1\" class=\"data row29 col1\" >loc_ic_t2m_mou_8</td>\n",
       "      <td id=\"T_f07fc_row29_col2\" class=\"data row29 col2\" >0.830000</td>\n",
       "    </tr>\n",
       "    <tr>\n",
       "      <td id=\"T_f07fc_row30_col0\" class=\"data row30 col0\" >std_og_t2t_mou_8</td>\n",
       "      <td id=\"T_f07fc_row30_col1\" class=\"data row30 col1\" >std_og_t2t_mou_7</td>\n",
       "      <td id=\"T_f07fc_row30_col2\" class=\"data row30 col2\" >0.820000</td>\n",
       "    </tr>\n",
       "    <tr>\n",
       "      <td id=\"T_f07fc_row31_col0\" class=\"data row31 col0\" >loc_og_t2f_mou_8</td>\n",
       "      <td id=\"T_f07fc_row31_col1\" class=\"data row31 col1\" >loc_og_t2f_mou_7</td>\n",
       "      <td id=\"T_f07fc_row31_col2\" class=\"data row31 col2\" >0.820000</td>\n",
       "    </tr>\n",
       "    <tr>\n",
       "      <td id=\"T_f07fc_row32_col0\" class=\"data row32 col0\" >onnet_mou_8</td>\n",
       "      <td id=\"T_f07fc_row32_col1\" class=\"data row32 col1\" >onnet_mou_7</td>\n",
       "      <td id=\"T_f07fc_row32_col2\" class=\"data row32 col2\" >0.820000</td>\n",
       "    </tr>\n",
       "    <tr>\n",
       "      <td id=\"T_f07fc_row33_col0\" class=\"data row33 col0\" >loc_ic_mou_7</td>\n",
       "      <td id=\"T_f07fc_row33_col1\" class=\"data row33 col1\" >loc_ic_mou_6</td>\n",
       "      <td id=\"T_f07fc_row33_col2\" class=\"data row33 col2\" >0.820000</td>\n",
       "    </tr>\n",
       "    <tr>\n",
       "      <td id=\"T_f07fc_row34_col0\" class=\"data row34 col0\" >std_ic_mou_7</td>\n",
       "      <td id=\"T_f07fc_row34_col1\" class=\"data row34 col1\" >std_ic_t2m_mou_7</td>\n",
       "      <td id=\"T_f07fc_row34_col2\" class=\"data row34 col2\" >0.820000</td>\n",
       "    </tr>\n",
       "    <tr>\n",
       "      <td id=\"T_f07fc_row35_col0\" class=\"data row35 col0\" >loc_og_t2m_mou_8</td>\n",
       "      <td id=\"T_f07fc_row35_col1\" class=\"data row35 col1\" >loc_og_t2m_mou_7</td>\n",
       "      <td id=\"T_f07fc_row35_col2\" class=\"data row35 col2\" >0.820000</td>\n",
       "    </tr>\n",
       "    <tr>\n",
       "      <td id=\"T_f07fc_row36_col0\" class=\"data row36 col0\" >loc_ic_t2f_mou_7</td>\n",
       "      <td id=\"T_f07fc_row36_col1\" class=\"data row36 col1\" >loc_ic_t2f_mou_8</td>\n",
       "      <td id=\"T_f07fc_row36_col2\" class=\"data row36 col2\" >0.810000</td>\n",
       "    </tr>\n",
       "    <tr>\n",
       "      <td id=\"T_f07fc_row37_col0\" class=\"data row37 col0\" >total_ic_mou_6</td>\n",
       "      <td id=\"T_f07fc_row37_col1\" class=\"data row37 col1\" >total_ic_mou_7</td>\n",
       "      <td id=\"T_f07fc_row37_col2\" class=\"data row37 col2\" >0.810000</td>\n",
       "    </tr>\n",
       "    <tr>\n",
       "      <td id=\"T_f07fc_row38_col0\" class=\"data row38 col0\" >loc_og_t2f_mou_6</td>\n",
       "      <td id=\"T_f07fc_row38_col1\" class=\"data row38 col1\" >loc_og_t2f_mou_7</td>\n",
       "      <td id=\"T_f07fc_row38_col2\" class=\"data row38 col2\" >0.810000</td>\n",
       "    </tr>\n",
       "    <tr>\n",
       "      <td id=\"T_f07fc_row39_col0\" class=\"data row39 col0\" >std_og_mou_8</td>\n",
       "      <td id=\"T_f07fc_row39_col1\" class=\"data row39 col1\" >std_og_mou_7</td>\n",
       "      <td id=\"T_f07fc_row39_col2\" class=\"data row39 col2\" >0.810000</td>\n",
       "    </tr>\n",
       "    <tr>\n",
       "      <td id=\"T_f07fc_row40_col0\" class=\"data row40 col0\" >loc_og_t2t_mou_6</td>\n",
       "      <td id=\"T_f07fc_row40_col1\" class=\"data row40 col1\" >loc_og_t2t_mou_7</td>\n",
       "      <td id=\"T_f07fc_row40_col2\" class=\"data row40 col2\" >0.810000</td>\n",
       "    </tr>\n",
       "    <tr>\n",
       "      <td id=\"T_f07fc_row41_col0\" class=\"data row41 col0\" >loc_og_mou_6</td>\n",
       "      <td id=\"T_f07fc_row41_col1\" class=\"data row41 col1\" >loc_og_mou_7</td>\n",
       "      <td id=\"T_f07fc_row41_col2\" class=\"data row41 col2\" >0.810000</td>\n",
       "    </tr>\n",
       "    <tr>\n",
       "      <td id=\"T_f07fc_row42_col0\" class=\"data row42 col0\" >loc_ic_t2t_mou_7</td>\n",
       "      <td id=\"T_f07fc_row42_col1\" class=\"data row42 col1\" >loc_ic_t2t_mou_6</td>\n",
       "      <td id=\"T_f07fc_row42_col2\" class=\"data row42 col2\" >0.810000</td>\n",
       "    </tr>\n",
       "    <tr>\n",
       "      <td id=\"T_f07fc_row43_col0\" class=\"data row43 col0\" >total_og_mou_6</td>\n",
       "      <td id=\"T_f07fc_row43_col1\" class=\"data row43 col1\" >std_og_mou_6</td>\n",
       "      <td id=\"T_f07fc_row43_col2\" class=\"data row43 col2\" >0.800000</td>\n",
       "    </tr>\n",
       "    <tr>\n",
       "      <td id=\"T_f07fc_row44_col0\" class=\"data row44 col0\" >std_og_t2m_mou_6</td>\n",
       "      <td id=\"T_f07fc_row44_col1\" class=\"data row44 col1\" >offnet_mou_6</td>\n",
       "      <td id=\"T_f07fc_row44_col2\" class=\"data row44 col2\" >0.800000</td>\n",
       "    </tr>\n",
       "    <tr>\n",
       "      <td id=\"T_f07fc_row45_col0\" class=\"data row45 col0\" >loc_ic_t2t_mou_7</td>\n",
       "      <td id=\"T_f07fc_row45_col1\" class=\"data row45 col1\" >loc_ic_t2t_mou_8</td>\n",
       "      <td id=\"T_f07fc_row45_col2\" class=\"data row45 col2\" >0.800000</td>\n",
       "    </tr>\n",
       "    <tr>\n",
       "      <td id=\"T_f07fc_row46_col0\" class=\"data row46 col0\" >arpu_7</td>\n",
       "      <td id=\"T_f07fc_row46_col1\" class=\"data row46 col1\" >arpu_8</td>\n",
       "      <td id=\"T_f07fc_row46_col2\" class=\"data row46 col2\" >0.790000</td>\n",
       "    </tr>\n",
       "    <tr>\n",
       "      <td id=\"T_f07fc_row47_col0\" class=\"data row47 col0\" >loc_og_t2m_mou_6</td>\n",
       "      <td id=\"T_f07fc_row47_col1\" class=\"data row47 col1\" >loc_og_mou_6</td>\n",
       "      <td id=\"T_f07fc_row47_col2\" class=\"data row47 col2\" >0.790000</td>\n",
       "    </tr>\n",
       "    <tr>\n",
       "      <td id=\"T_f07fc_row48_col0\" class=\"data row48 col0\" >loc_ic_t2m_mou_7</td>\n",
       "      <td id=\"T_f07fc_row48_col1\" class=\"data row48 col1\" >loc_ic_t2m_mou_6</td>\n",
       "      <td id=\"T_f07fc_row48_col2\" class=\"data row48 col2\" >0.790000</td>\n",
       "    </tr>\n",
       "    <tr>\n",
       "      <td id=\"T_f07fc_row49_col0\" class=\"data row49 col0\" >arpu_Gphase</td>\n",
       "      <td id=\"T_f07fc_row49_col1\" class=\"data row49 col1\" >arpu_8</td>\n",
       "      <td id=\"T_f07fc_row49_col2\" class=\"data row49 col2\" >0.790000</td>\n",
       "    </tr>\n",
       "    <tr>\n",
       "      <td id=\"T_f07fc_row50_col0\" class=\"data row50 col0\" >loc_ic_t2f_mou_6</td>\n",
       "      <td id=\"T_f07fc_row50_col1\" class=\"data row50 col1\" >loc_ic_t2f_mou_7</td>\n",
       "      <td id=\"T_f07fc_row50_col2\" class=\"data row50 col2\" >0.780000</td>\n",
       "    </tr>\n",
       "    <tr>\n",
       "      <td id=\"T_f07fc_row51_col0\" class=\"data row51 col0\" >total_rech_amt_7</td>\n",
       "      <td id=\"T_f07fc_row51_col1\" class=\"data row51 col1\" >arpu_8</td>\n",
       "      <td id=\"T_f07fc_row51_col2\" class=\"data row51 col2\" >0.780000</td>\n",
       "    </tr>\n",
       "    <tr>\n",
       "      <td id=\"T_f07fc_row52_col0\" class=\"data row52 col0\" >total_ic_mou_6</td>\n",
       "      <td id=\"T_f07fc_row52_col1\" class=\"data row52 col1\" >loc_ic_t2m_mou_6</td>\n",
       "      <td id=\"T_f07fc_row52_col2\" class=\"data row52 col2\" >0.780000</td>\n",
       "    </tr>\n",
       "    <tr>\n",
       "      <td id=\"T_f07fc_row53_col0\" class=\"data row53 col0\" >total_rech_num_7</td>\n",
       "      <td id=\"T_f07fc_row53_col1\" class=\"data row53 col1\" >total_rech_num_8</td>\n",
       "      <td id=\"T_f07fc_row53_col2\" class=\"data row53 col2\" >0.780000</td>\n",
       "    </tr>\n",
       "    <tr>\n",
       "      <td id=\"T_f07fc_row54_col0\" class=\"data row54 col0\" >loc_og_mou_8</td>\n",
       "      <td id=\"T_f07fc_row54_col1\" class=\"data row54 col1\" >loc_og_t2t_mou_8</td>\n",
       "      <td id=\"T_f07fc_row54_col2\" class=\"data row54 col2\" >0.780000</td>\n",
       "    </tr>\n",
       "    <tr>\n",
       "      <td id=\"T_f07fc_row55_col0\" class=\"data row55 col0\" >total_rech_amt_8</td>\n",
       "      <td id=\"T_f07fc_row55_col1\" class=\"data row55 col1\" >arpu_Gphase</td>\n",
       "      <td id=\"T_f07fc_row55_col2\" class=\"data row55 col2\" >0.780000</td>\n",
       "    </tr>\n",
       "    <tr>\n",
       "      <td id=\"T_f07fc_row56_col0\" class=\"data row56 col0\" >loc_og_t2t_mou_7</td>\n",
       "      <td id=\"T_f07fc_row56_col1\" class=\"data row56 col1\" >loc_og_mou_7</td>\n",
       "      <td id=\"T_f07fc_row56_col2\" class=\"data row56 col2\" >0.780000</td>\n",
       "    </tr>\n",
       "    <tr>\n",
       "      <td id=\"T_f07fc_row57_col0\" class=\"data row57 col0\" >arpu_7</td>\n",
       "      <td id=\"T_f07fc_row57_col1\" class=\"data row57 col1\" >total_rech_amt_8</td>\n",
       "      <td id=\"T_f07fc_row57_col2\" class=\"data row57 col2\" >0.780000</td>\n",
       "    </tr>\n",
       "    <tr>\n",
       "      <td id=\"T_f07fc_row58_col0\" class=\"data row58 col0\" >std_og_t2m_mou_8</td>\n",
       "      <td id=\"T_f07fc_row58_col1\" class=\"data row58 col1\" >std_og_t2m_mou_7</td>\n",
       "      <td id=\"T_f07fc_row58_col2\" class=\"data row58 col2\" >0.780000</td>\n",
       "    </tr>\n",
       "    <tr>\n",
       "      <td id=\"T_f07fc_row59_col0\" class=\"data row59 col0\" >std_ic_mou_7</td>\n",
       "      <td id=\"T_f07fc_row59_col1\" class=\"data row59 col1\" >std_ic_mou_8</td>\n",
       "      <td id=\"T_f07fc_row59_col2\" class=\"data row59 col2\" >0.770000</td>\n",
       "    </tr>\n",
       "    <tr>\n",
       "      <td id=\"T_f07fc_row60_col0\" class=\"data row60 col0\" >loc_og_t2m_mou_6</td>\n",
       "      <td id=\"T_f07fc_row60_col1\" class=\"data row60 col1\" >loc_og_t2m_mou_7</td>\n",
       "      <td id=\"T_f07fc_row60_col2\" class=\"data row60 col2\" >0.770000</td>\n",
       "    </tr>\n",
       "    <tr>\n",
       "      <td id=\"T_f07fc_row61_col0\" class=\"data row61 col0\" >total_og_mou_8</td>\n",
       "      <td id=\"T_f07fc_row61_col1\" class=\"data row61 col1\" >total_og_mou_7</td>\n",
       "      <td id=\"T_f07fc_row61_col2\" class=\"data row61 col2\" >0.770000</td>\n",
       "    </tr>\n",
       "    <tr>\n",
       "      <td id=\"T_f07fc_row62_col0\" class=\"data row62 col0\" >offnet_mou_7</td>\n",
       "      <td id=\"T_f07fc_row62_col1\" class=\"data row62 col1\" >offnet_mou_8</td>\n",
       "      <td id=\"T_f07fc_row62_col2\" class=\"data row62 col2\" >0.770000</td>\n",
       "    </tr>\n",
       "    <tr>\n",
       "      <td id=\"T_f07fc_row63_col0\" class=\"data row63 col0\" >isd_ic_mou_7</td>\n",
       "      <td id=\"T_f07fc_row63_col1\" class=\"data row63 col1\" >isd_ic_mou_6</td>\n",
       "      <td id=\"T_f07fc_row63_col2\" class=\"data row63 col2\" >0.760000</td>\n",
       "    </tr>\n",
       "    <tr>\n",
       "      <td id=\"T_f07fc_row64_col0\" class=\"data row64 col0\" >isd_ic_mou_7</td>\n",
       "      <td id=\"T_f07fc_row64_col1\" class=\"data row64 col1\" >isd_ic_mou_8</td>\n",
       "      <td id=\"T_f07fc_row64_col2\" class=\"data row64 col2\" >0.760000</td>\n",
       "    </tr>\n",
       "    <tr>\n",
       "      <td id=\"T_f07fc_row65_col0\" class=\"data row65 col0\" >ic_others_8</td>\n",
       "      <td id=\"T_f07fc_row65_col1\" class=\"data row65 col1\" >ic_others_7</td>\n",
       "      <td id=\"T_f07fc_row65_col2\" class=\"data row65 col2\" >0.760000</td>\n",
       "    </tr>\n",
       "    <tr>\n",
       "      <td id=\"T_f07fc_row66_col0\" class=\"data row66 col0\" >loc_og_t2m_mou_8</td>\n",
       "      <td id=\"T_f07fc_row66_col1\" class=\"data row66 col1\" >loc_og_mou_8</td>\n",
       "      <td id=\"T_f07fc_row66_col2\" class=\"data row66 col2\" >0.760000</td>\n",
       "    </tr>\n",
       "    <tr>\n",
       "      <td id=\"T_f07fc_row67_col0\" class=\"data row67 col0\" >loc_ic_mou_6</td>\n",
       "      <td id=\"T_f07fc_row67_col1\" class=\"data row67 col1\" >loc_ic_mou_8</td>\n",
       "      <td id=\"T_f07fc_row67_col2\" class=\"data row67 col2\" >0.760000</td>\n",
       "    </tr>\n",
       "    <tr>\n",
       "      <td id=\"T_f07fc_row68_col0\" class=\"data row68 col0\" >loc_ic_mou_8</td>\n",
       "      <td id=\"T_f07fc_row68_col1\" class=\"data row68 col1\" >total_ic_mou_7</td>\n",
       "      <td id=\"T_f07fc_row68_col2\" class=\"data row68 col2\" >0.760000</td>\n",
       "    </tr>\n",
       "    <tr>\n",
       "      <td id=\"T_f07fc_row69_col0\" class=\"data row69 col0\" >loc_og_t2t_mou_6</td>\n",
       "      <td id=\"T_f07fc_row69_col1\" class=\"data row69 col1\" >loc_og_mou_6</td>\n",
       "      <td id=\"T_f07fc_row69_col2\" class=\"data row69 col2\" >0.760000</td>\n",
       "    </tr>\n",
       "    <tr>\n",
       "      <td id=\"T_f07fc_row70_col0\" class=\"data row70 col0\" >std_ic_t2f_mou_7</td>\n",
       "      <td id=\"T_f07fc_row70_col1\" class=\"data row70 col1\" >std_ic_t2f_mou_8</td>\n",
       "      <td id=\"T_f07fc_row70_col2\" class=\"data row70 col2\" >0.760000</td>\n",
       "    </tr>\n",
       "    <tr>\n",
       "      <td id=\"T_f07fc_row71_col0\" class=\"data row71 col0\" >loc_ic_mou_7</td>\n",
       "      <td id=\"T_f07fc_row71_col1\" class=\"data row71 col1\" >total_ic_mou_8</td>\n",
       "      <td id=\"T_f07fc_row71_col2\" class=\"data row71 col2\" >0.760000</td>\n",
       "    </tr>\n",
       "    <tr>\n",
       "      <td id=\"T_f07fc_row72_col0\" class=\"data row72 col0\" >std_og_t2f_mou_8</td>\n",
       "      <td id=\"T_f07fc_row72_col1\" class=\"data row72 col1\" >std_og_t2f_mou_7</td>\n",
       "      <td id=\"T_f07fc_row72_col2\" class=\"data row72 col2\" >0.760000</td>\n",
       "    </tr>\n",
       "    <tr>\n",
       "      <td id=\"T_f07fc_row73_col0\" class=\"data row73 col0\" >total_ic_mou_8</td>\n",
       "      <td id=\"T_f07fc_row73_col1\" class=\"data row73 col1\" >loc_ic_t2m_mou_8</td>\n",
       "      <td id=\"T_f07fc_row73_col2\" class=\"data row73 col2\" >0.760000</td>\n",
       "    </tr>\n",
       "    <tr>\n",
       "      <td id=\"T_f07fc_row74_col0\" class=\"data row74 col0\" >std_ic_t2m_mou_8</td>\n",
       "      <td id=\"T_f07fc_row74_col1\" class=\"data row74 col1\" >std_ic_t2m_mou_7</td>\n",
       "      <td id=\"T_f07fc_row74_col2\" class=\"data row74 col2\" >0.760000</td>\n",
       "    </tr>\n",
       "    <tr>\n",
       "      <td id=\"T_f07fc_row75_col0\" class=\"data row75 col0\" >total_rech_amt_7</td>\n",
       "      <td id=\"T_f07fc_row75_col1\" class=\"data row75 col1\" >total_rech_amt_8</td>\n",
       "      <td id=\"T_f07fc_row75_col2\" class=\"data row75 col2\" >0.750000</td>\n",
       "    </tr>\n",
       "    <tr>\n",
       "      <td id=\"T_f07fc_row76_col0\" class=\"data row76 col0\" >loc_og_t2f_mou_6</td>\n",
       "      <td id=\"T_f07fc_row76_col1\" class=\"data row76 col1\" >loc_og_t2f_mou_8</td>\n",
       "      <td id=\"T_f07fc_row76_col2\" class=\"data row76 col2\" >0.750000</td>\n",
       "    </tr>\n",
       "    <tr>\n",
       "      <td id=\"T_f07fc_row77_col0\" class=\"data row77 col0\" >vol_3g_mb_8</td>\n",
       "      <td id=\"T_f07fc_row77_col1\" class=\"data row77 col1\" >vol_3g_mb_7</td>\n",
       "      <td id=\"T_f07fc_row77_col2\" class=\"data row77 col2\" >0.750000</td>\n",
       "    </tr>\n",
       "    <tr>\n",
       "      <td id=\"T_f07fc_row78_col0\" class=\"data row78 col0\" >total_ic_mou_6</td>\n",
       "      <td id=\"T_f07fc_row78_col1\" class=\"data row78 col1\" >loc_ic_mou_7</td>\n",
       "      <td id=\"T_f07fc_row78_col2\" class=\"data row78 col2\" >0.750000</td>\n",
       "    </tr>\n",
       "    <tr>\n",
       "      <td id=\"T_f07fc_row79_col0\" class=\"data row79 col0\" >std_og_t2m_mou_6</td>\n",
       "      <td id=\"T_f07fc_row79_col1\" class=\"data row79 col1\" >std_og_t2m_mou_7</td>\n",
       "      <td id=\"T_f07fc_row79_col2\" class=\"data row79 col2\" >0.740000</td>\n",
       "    </tr>\n",
       "    <tr>\n",
       "      <td id=\"T_f07fc_row80_col0\" class=\"data row80 col0\" >std_og_t2t_mou_7</td>\n",
       "      <td id=\"T_f07fc_row80_col1\" class=\"data row80 col1\" >std_og_t2t_mou_6</td>\n",
       "      <td id=\"T_f07fc_row80_col2\" class=\"data row80 col2\" >0.740000</td>\n",
       "    </tr>\n",
       "    <tr>\n",
       "      <td id=\"T_f07fc_row81_col0\" class=\"data row81 col0\" >loc_og_mou_8</td>\n",
       "      <td id=\"T_f07fc_row81_col1\" class=\"data row81 col1\" >loc_og_mou_6</td>\n",
       "      <td id=\"T_f07fc_row81_col2\" class=\"data row81 col2\" >0.740000</td>\n",
       "    </tr>\n",
       "    <tr>\n",
       "      <td id=\"T_f07fc_row82_col0\" class=\"data row82 col0\" >loc_ic_t2m_mou_7</td>\n",
       "      <td id=\"T_f07fc_row82_col1\" class=\"data row82 col1\" >total_ic_mou_7</td>\n",
       "      <td id=\"T_f07fc_row82_col2\" class=\"data row82 col2\" >0.740000</td>\n",
       "    </tr>\n",
       "    <tr>\n",
       "      <td id=\"T_f07fc_row83_col0\" class=\"data row83 col0\" >loc_og_t2t_mou_6</td>\n",
       "      <td id=\"T_f07fc_row83_col1\" class=\"data row83 col1\" >loc_og_t2t_mou_8</td>\n",
       "      <td id=\"T_f07fc_row83_col2\" class=\"data row83 col2\" >0.740000</td>\n",
       "    </tr>\n",
       "    <tr>\n",
       "      <td id=\"T_f07fc_row84_col0\" class=\"data row84 col0\" >std_og_t2m_mou_7</td>\n",
       "      <td id=\"T_f07fc_row84_col1\" class=\"data row84 col1\" >std_og_mou_7</td>\n",
       "      <td id=\"T_f07fc_row84_col2\" class=\"data row84 col2\" >0.740000</td>\n",
       "    </tr>\n",
       "    <tr>\n",
       "      <td id=\"T_f07fc_row85_col0\" class=\"data row85 col0\" >std_ic_t2f_mou_7</td>\n",
       "      <td id=\"T_f07fc_row85_col1\" class=\"data row85 col1\" >std_ic_t2f_mou_6</td>\n",
       "      <td id=\"T_f07fc_row85_col2\" class=\"data row85 col2\" >0.740000</td>\n",
       "    </tr>\n",
       "    <tr>\n",
       "      <td id=\"T_f07fc_row86_col0\" class=\"data row86 col0\" >std_og_t2m_mou_8</td>\n",
       "      <td id=\"T_f07fc_row86_col1\" class=\"data row86 col1\" >std_og_mou_8</td>\n",
       "      <td id=\"T_f07fc_row86_col2\" class=\"data row86 col2\" >0.740000</td>\n",
       "    </tr>\n",
       "    <tr>\n",
       "      <td id=\"T_f07fc_row87_col0\" class=\"data row87 col0\" >std_og_t2t_mou_8</td>\n",
       "      <td id=\"T_f07fc_row87_col1\" class=\"data row87 col1\" >std_og_mou_8</td>\n",
       "      <td id=\"T_f07fc_row87_col2\" class=\"data row87 col2\" >0.740000</td>\n",
       "    </tr>\n",
       "    <tr>\n",
       "      <td id=\"T_f07fc_row88_col0\" class=\"data row88 col0\" >onnet_mou_6</td>\n",
       "      <td id=\"T_f07fc_row88_col1\" class=\"data row88 col1\" >onnet_mou_7</td>\n",
       "      <td id=\"T_f07fc_row88_col2\" class=\"data row88 col2\" >0.740000</td>\n",
       "    </tr>\n",
       "    <tr>\n",
       "      <td id=\"T_f07fc_row89_col0\" class=\"data row89 col0\" >std_og_mou_6</td>\n",
       "      <td id=\"T_f07fc_row89_col1\" class=\"data row89 col1\" >std_og_t2t_mou_6</td>\n",
       "      <td id=\"T_f07fc_row89_col2\" class=\"data row89 col2\" >0.740000</td>\n",
       "    </tr>\n",
       "    <tr>\n",
       "      <td id=\"T_f07fc_row90_col0\" class=\"data row90 col0\" >loc_og_mou_7</td>\n",
       "      <td id=\"T_f07fc_row90_col1\" class=\"data row90 col1\" >loc_og_t2m_mou_7</td>\n",
       "      <td id=\"T_f07fc_row90_col2\" class=\"data row90 col2\" >0.740000</td>\n",
       "    </tr>\n",
       "    <tr>\n",
       "      <td id=\"T_f07fc_row91_col0\" class=\"data row91 col0\" >std_ic_mou_7</td>\n",
       "      <td id=\"T_f07fc_row91_col1\" class=\"data row91 col1\" >std_ic_mou_6</td>\n",
       "      <td id=\"T_f07fc_row91_col2\" class=\"data row91 col2\" >0.740000</td>\n",
       "    </tr>\n",
       "    <tr>\n",
       "      <td id=\"T_f07fc_row92_col0\" class=\"data row92 col0\" >std_og_t2m_mou_6</td>\n",
       "      <td id=\"T_f07fc_row92_col1\" class=\"data row92 col1\" >std_og_mou_6</td>\n",
       "      <td id=\"T_f07fc_row92_col2\" class=\"data row92 col2\" >0.740000</td>\n",
       "    </tr>\n",
       "    <tr>\n",
       "      <td id=\"T_f07fc_row93_col0\" class=\"data row93 col0\" >loc_ic_mou_6</td>\n",
       "      <td id=\"T_f07fc_row93_col1\" class=\"data row93 col1\" >total_ic_mou_7</td>\n",
       "      <td id=\"T_f07fc_row93_col2\" class=\"data row93 col2\" >0.730000</td>\n",
       "    </tr>\n",
       "    <tr>\n",
       "      <td id=\"T_f07fc_row94_col0\" class=\"data row94 col0\" >std_og_t2t_mou_7</td>\n",
       "      <td id=\"T_f07fc_row94_col1\" class=\"data row94 col1\" >std_og_mou_7</td>\n",
       "      <td id=\"T_f07fc_row94_col2\" class=\"data row94 col2\" >0.730000</td>\n",
       "    </tr>\n",
       "    <tr>\n",
       "      <td id=\"T_f07fc_row95_col0\" class=\"data row95 col0\" >std_og_mou_6</td>\n",
       "      <td id=\"T_f07fc_row95_col1\" class=\"data row95 col1\" >std_og_mou_7</td>\n",
       "      <td id=\"T_f07fc_row95_col2\" class=\"data row95 col2\" >0.730000</td>\n",
       "    </tr>\n",
       "    <tr>\n",
       "      <td id=\"T_f07fc_row96_col0\" class=\"data row96 col0\" >loc_ic_t2m_mou_6</td>\n",
       "      <td id=\"T_f07fc_row96_col1\" class=\"data row96 col1\" >loc_ic_t2m_mou_8</td>\n",
       "      <td id=\"T_f07fc_row96_col2\" class=\"data row96 col2\" >0.730000</td>\n",
       "    </tr>\n",
       "    <tr>\n",
       "      <td id=\"T_f07fc_row97_col0\" class=\"data row97 col0\" >total_ic_mou_6</td>\n",
       "      <td id=\"T_f07fc_row97_col1\" class=\"data row97 col1\" >total_ic_mou_8</td>\n",
       "      <td id=\"T_f07fc_row97_col2\" class=\"data row97 col2\" >0.730000</td>\n",
       "    </tr>\n",
       "    <tr>\n",
       "      <td id=\"T_f07fc_row98_col0\" class=\"data row98 col0\" >std_ic_t2t_mou_6</td>\n",
       "      <td id=\"T_f07fc_row98_col1\" class=\"data row98 col1\" >std_ic_t2t_mou_7</td>\n",
       "      <td id=\"T_f07fc_row98_col2\" class=\"data row98 col2\" >0.730000</td>\n",
       "    </tr>\n",
       "    <tr>\n",
       "      <td id=\"T_f07fc_row99_col0\" class=\"data row99 col0\" >onnet_mou_8</td>\n",
       "      <td id=\"T_f07fc_row99_col1\" class=\"data row99 col1\" >total_og_mou_8</td>\n",
       "      <td id=\"T_f07fc_row99_col2\" class=\"data row99 col2\" >0.720000</td>\n",
       "    </tr>\n",
       "    <tr>\n",
       "      <td id=\"T_f07fc_row100_col0\" class=\"data row100 col0\" >sachet_3g_7</td>\n",
       "      <td id=\"T_f07fc_row100_col1\" class=\"data row100 col1\" >sachet_3g_8</td>\n",
       "      <td id=\"T_f07fc_row100_col2\" class=\"data row100 col2\" >0.720000</td>\n",
       "    </tr>\n",
       "    <tr>\n",
       "      <td id=\"T_f07fc_row101_col0\" class=\"data row101 col0\" >ic_others_6</td>\n",
       "      <td id=\"T_f07fc_row101_col1\" class=\"data row101 col1\" >ic_others_7</td>\n",
       "      <td id=\"T_f07fc_row101_col2\" class=\"data row101 col2\" >0.720000</td>\n",
       "    </tr>\n",
       "    <tr>\n",
       "      <td id=\"T_f07fc_row102_col0\" class=\"data row102 col0\" >arpu_7</td>\n",
       "      <td id=\"T_f07fc_row102_col1\" class=\"data row102 col1\" >total_rech_amt_6</td>\n",
       "      <td id=\"T_f07fc_row102_col2\" class=\"data row102 col2\" >0.720000</td>\n",
       "    </tr>\n",
       "    <tr>\n",
       "      <td id=\"T_f07fc_row103_col0\" class=\"data row103 col0\" >arpu_7</td>\n",
       "      <td id=\"T_f07fc_row103_col1\" class=\"data row103 col1\" >arpu_6</td>\n",
       "      <td id=\"T_f07fc_row103_col2\" class=\"data row103 col2\" >0.720000</td>\n",
       "    </tr>\n",
       "    <tr>\n",
       "      <td id=\"T_f07fc_row104_col0\" class=\"data row104 col0\" >vol_3g_mb_7</td>\n",
       "      <td id=\"T_f07fc_row104_col1\" class=\"data row104 col1\" >vol_3g_mb_6</td>\n",
       "      <td id=\"T_f07fc_row104_col2\" class=\"data row104 col2\" >0.720000</td>\n",
       "    </tr>\n",
       "    <tr>\n",
       "      <td id=\"T_f07fc_row105_col0\" class=\"data row105 col0\" >sachet_2g_7</td>\n",
       "      <td id=\"T_f07fc_row105_col1\" class=\"data row105 col1\" >sachet_2g_6</td>\n",
       "      <td id=\"T_f07fc_row105_col2\" class=\"data row105 col2\" >0.720000</td>\n",
       "    </tr>\n",
       "    <tr>\n",
       "      <td id=\"T_f07fc_row106_col0\" class=\"data row106 col0\" >total_og_mou_8</td>\n",
       "      <td id=\"T_f07fc_row106_col1\" class=\"data row106 col1\" >offnet_mou_8</td>\n",
       "      <td id=\"T_f07fc_row106_col2\" class=\"data row106 col2\" >0.710000</td>\n",
       "    </tr>\n",
       "    <tr>\n",
       "      <td id=\"T_f07fc_row107_col0\" class=\"data row107 col0\" >loc_ic_t2m_mou_7</td>\n",
       "      <td id=\"T_f07fc_row107_col1\" class=\"data row107 col1\" >loc_ic_mou_8</td>\n",
       "      <td id=\"T_f07fc_row107_col2\" class=\"data row107 col2\" >0.710000</td>\n",
       "    </tr>\n",
       "    <tr>\n",
       "      <td id=\"T_f07fc_row108_col0\" class=\"data row108 col0\" >std_ic_mou_7</td>\n",
       "      <td id=\"T_f07fc_row108_col1\" class=\"data row108 col1\" >std_ic_t2t_mou_7</td>\n",
       "      <td id=\"T_f07fc_row108_col2\" class=\"data row108 col2\" >0.710000</td>\n",
       "    </tr>\n",
       "    <tr>\n",
       "      <td id=\"T_f07fc_row109_col0\" class=\"data row109 col0\" >ic_others_8</td>\n",
       "      <td id=\"T_f07fc_row109_col1\" class=\"data row109 col1\" >ic_others_6</td>\n",
       "      <td id=\"T_f07fc_row109_col2\" class=\"data row109 col2\" >0.710000</td>\n",
       "    </tr>\n",
       "    <tr>\n",
       "      <td id=\"T_f07fc_row110_col0\" class=\"data row110 col0\" >aug_vbc_3g</td>\n",
       "      <td id=\"T_f07fc_row110_col1\" class=\"data row110 col1\" >jul_vbc_3g</td>\n",
       "      <td id=\"T_f07fc_row110_col2\" class=\"data row110 col2\" >0.710000</td>\n",
       "    </tr>\n",
       "    <tr>\n",
       "      <td id=\"T_f07fc_row111_col0\" class=\"data row111 col0\" >offnet_mou_7</td>\n",
       "      <td id=\"T_f07fc_row111_col1\" class=\"data row111 col1\" >offnet_mou_6</td>\n",
       "      <td id=\"T_f07fc_row111_col2\" class=\"data row111 col2\" >0.710000</td>\n",
       "    </tr>\n",
       "    <tr>\n",
       "      <td id=\"T_f07fc_row112_col0\" class=\"data row112 col0\" >loc_ic_mou_7</td>\n",
       "      <td id=\"T_f07fc_row112_col1\" class=\"data row112 col1\" >loc_ic_t2m_mou_8</td>\n",
       "      <td id=\"T_f07fc_row112_col2\" class=\"data row112 col2\" >0.710000</td>\n",
       "    </tr>\n",
       "    <tr>\n",
       "      <td id=\"T_f07fc_row113_col0\" class=\"data row113 col0\" >std_ic_t2m_mou_7</td>\n",
       "      <td id=\"T_f07fc_row113_col1\" class=\"data row113 col1\" >std_ic_t2m_mou_6</td>\n",
       "      <td id=\"T_f07fc_row113_col2\" class=\"data row113 col2\" >0.710000</td>\n",
       "    </tr>\n",
       "    <tr>\n",
       "      <td id=\"T_f07fc_row114_col0\" class=\"data row114 col0\" >total_og_mou_7</td>\n",
       "      <td id=\"T_f07fc_row114_col1\" class=\"data row114 col1\" >onnet_mou_7</td>\n",
       "      <td id=\"T_f07fc_row114_col2\" class=\"data row114 col2\" >0.710000</td>\n",
       "    </tr>\n",
       "    <tr>\n",
       "      <td id=\"T_f07fc_row115_col0\" class=\"data row115 col0\" >total_rech_num_7</td>\n",
       "      <td id=\"T_f07fc_row115_col1\" class=\"data row115 col1\" >total_rech_num_6</td>\n",
       "      <td id=\"T_f07fc_row115_col2\" class=\"data row115 col2\" >0.710000</td>\n",
       "    </tr>\n",
       "  </tbody>\n",
       "</table>\n"
      ],
      "text/plain": [
       "<pandas.io.formats.style.Styler at 0x21507d55880>"
      ]
     },
     "execution_count": 42,
     "metadata": {},
     "output_type": "execute_result"
    }
   ],
   "source": [
    "# Correlations for Churn : 0  - non churn customers\n",
    "# Absolute values are reported \n",
    "#pd.set_option('precision', 2)\n",
    "cor_0 = correlation(non_churned_customers)\n",
    "\n",
    "# filtering for correlations >= 70%\n",
    "condition = cor_0['CORR'] > 0.7\n",
    "cor_0 = cor_0[condition]\n",
    "cor_0.style.background_gradient(cmap='GnBu').hide_index()"
   ]
  },
  {
   "cell_type": "code",
   "execution_count": 43,
   "id": "f9cce2ed",
   "metadata": {},
   "outputs": [
    {
     "data": {
      "text/html": [
       "<style type=\"text/css\">\n",
       "#T_efaed_row0_col2 {\n",
       "  background-color: #084081;\n",
       "  color: #f1f1f1;\n",
       "}\n",
       "#T_efaed_row1_col2, #T_efaed_row2_col2 {\n",
       "  background-color: #084d8e;\n",
       "  color: #f1f1f1;\n",
       "}\n",
       "#T_efaed_row3_col2, #T_efaed_row4_col2 {\n",
       "  background-color: #08599c;\n",
       "  color: #f1f1f1;\n",
       "}\n",
       "#T_efaed_row5_col2, #T_efaed_row6_col2, #T_efaed_row7_col2 {\n",
       "  background-color: #0866a9;\n",
       "  color: #f1f1f1;\n",
       "}\n",
       "#T_efaed_row8_col2, #T_efaed_row9_col2, #T_efaed_row10_col2 {\n",
       "  background-color: #1171b1;\n",
       "  color: #f1f1f1;\n",
       "}\n",
       "#T_efaed_row11_col2 {\n",
       "  background-color: #1d7eb7;\n",
       "  color: #f1f1f1;\n",
       "}\n",
       "#T_efaed_row12_col2, #T_efaed_row13_col2 {\n",
       "  background-color: #3395c3;\n",
       "  color: #f1f1f1;\n",
       "}\n",
       "#T_efaed_row14_col2 {\n",
       "  background-color: #4aafd1;\n",
       "  color: #f1f1f1;\n",
       "}\n",
       "#T_efaed_row15_col2 {\n",
       "  background-color: #57b8d0;\n",
       "  color: #000000;\n",
       "}\n",
       "#T_efaed_row16_col2 {\n",
       "  background-color: #73c8c7;\n",
       "  color: #000000;\n",
       "}\n",
       "#T_efaed_row17_col2, #T_efaed_row18_col2 {\n",
       "  background-color: #83cfc1;\n",
       "  color: #000000;\n",
       "}\n",
       "#T_efaed_row19_col2, #T_efaed_row20_col2 {\n",
       "  background-color: #91d4bd;\n",
       "  color: #000000;\n",
       "}\n",
       "#T_efaed_row21_col2 {\n",
       "  background-color: #9fdab8;\n",
       "  color: #000000;\n",
       "}\n",
       "#T_efaed_row22_col2, #T_efaed_row23_col2, #T_efaed_row24_col2 {\n",
       "  background-color: #acdfb7;\n",
       "  color: #000000;\n",
       "}\n",
       "#T_efaed_row25_col2, #T_efaed_row26_col2 {\n",
       "  background-color: #c4e8c1;\n",
       "  color: #000000;\n",
       "}\n",
       "#T_efaed_row27_col2 {\n",
       "  background-color: #ceecc7;\n",
       "  color: #000000;\n",
       "}\n",
       "#T_efaed_row28_col2, #T_efaed_row29_col2, #T_efaed_row30_col2 {\n",
       "  background-color: #d4eece;\n",
       "  color: #000000;\n",
       "}\n",
       "#T_efaed_row31_col2, #T_efaed_row32_col2 {\n",
       "  background-color: #dbf1d5;\n",
       "  color: #000000;\n",
       "}\n",
       "#T_efaed_row33_col2, #T_efaed_row34_col2 {\n",
       "  background-color: #e1f4dc;\n",
       "  color: #000000;\n",
       "}\n",
       "#T_efaed_row35_col2, #T_efaed_row36_col2, #T_efaed_row37_col2, #T_efaed_row38_col2, #T_efaed_row39_col2, #T_efaed_row40_col2, #T_efaed_row41_col2 {\n",
       "  background-color: #e9f6e3;\n",
       "  color: #000000;\n",
       "}\n",
       "#T_efaed_row42_col2, #T_efaed_row43_col2, #T_efaed_row44_col2 {\n",
       "  background-color: #f0f9e9;\n",
       "  color: #000000;\n",
       "}\n",
       "#T_efaed_row45_col2 {\n",
       "  background-color: #f7fcf0;\n",
       "  color: #000000;\n",
       "}\n",
       "</style>\n",
       "<table id=\"T_efaed\">\n",
       "  <thead>\n",
       "    <tr>\n",
       "      <th id=\"T_efaed_level0_col0\" class=\"col_heading level0 col0\" >VAR1</th>\n",
       "      <th id=\"T_efaed_level0_col1\" class=\"col_heading level0 col1\" >VAR2</th>\n",
       "      <th id=\"T_efaed_level0_col2\" class=\"col_heading level0 col2\" >CORR</th>\n",
       "    </tr>\n",
       "  </thead>\n",
       "  <tbody>\n",
       "    <tr>\n",
       "      <td id=\"T_efaed_row0_col0\" class=\"data row0 col0\" >std_og_t2t_mou_7</td>\n",
       "      <td id=\"T_efaed_row0_col1\" class=\"data row0 col1\" >onnet_mou_7</td>\n",
       "      <td id=\"T_efaed_row0_col2\" class=\"data row0 col2\" >0.960000</td>\n",
       "    </tr>\n",
       "    <tr>\n",
       "      <td id=\"T_efaed_row1_col0\" class=\"data row1 col0\" >total_rech_amt_8</td>\n",
       "      <td id=\"T_efaed_row1_col1\" class=\"data row1 col1\" >arpu_8</td>\n",
       "      <td id=\"T_efaed_row1_col2\" class=\"data row1 col2\" >0.950000</td>\n",
       "    </tr>\n",
       "    <tr>\n",
       "      <td id=\"T_efaed_row2_col0\" class=\"data row2 col0\" >total_og_mou_7</td>\n",
       "      <td id=\"T_efaed_row2_col1\" class=\"data row2 col1\" >std_og_mou_7</td>\n",
       "      <td id=\"T_efaed_row2_col2\" class=\"data row2 col2\" >0.950000</td>\n",
       "    </tr>\n",
       "    <tr>\n",
       "      <td id=\"T_efaed_row3_col0\" class=\"data row3 col0\" >arpu_7</td>\n",
       "      <td id=\"T_efaed_row3_col1\" class=\"data row3 col1\" >total_rech_amt_7</td>\n",
       "      <td id=\"T_efaed_row3_col2\" class=\"data row3 col2\" >0.940000</td>\n",
       "    </tr>\n",
       "    <tr>\n",
       "      <td id=\"T_efaed_row4_col0\" class=\"data row4 col0\" >total_og_mou_8</td>\n",
       "      <td id=\"T_efaed_row4_col1\" class=\"data row4 col1\" >std_og_mou_8</td>\n",
       "      <td id=\"T_efaed_row4_col2\" class=\"data row4 col2\" >0.940000</td>\n",
       "    </tr>\n",
       "    <tr>\n",
       "      <td id=\"T_efaed_row5_col0\" class=\"data row5 col0\" >offnet_mou_7</td>\n",
       "      <td id=\"T_efaed_row5_col1\" class=\"data row5 col1\" >std_og_t2m_mou_7</td>\n",
       "      <td id=\"T_efaed_row5_col2\" class=\"data row5 col2\" >0.930000</td>\n",
       "    </tr>\n",
       "    <tr>\n",
       "      <td id=\"T_efaed_row6_col0\" class=\"data row6 col0\" >total_og_mou_6</td>\n",
       "      <td id=\"T_efaed_row6_col1\" class=\"data row6 col1\" >std_og_mou_6</td>\n",
       "      <td id=\"T_efaed_row6_col2\" class=\"data row6 col2\" >0.930000</td>\n",
       "    </tr>\n",
       "    <tr>\n",
       "      <td id=\"T_efaed_row7_col0\" class=\"data row7 col0\" >std_og_t2m_mou_6</td>\n",
       "      <td id=\"T_efaed_row7_col1\" class=\"data row7 col1\" >offnet_mou_6</td>\n",
       "      <td id=\"T_efaed_row7_col2\" class=\"data row7 col2\" >0.930000</td>\n",
       "    </tr>\n",
       "    <tr>\n",
       "      <td id=\"T_efaed_row8_col0\" class=\"data row8 col0\" >onnet_mou_6</td>\n",
       "      <td id=\"T_efaed_row8_col1\" class=\"data row8 col1\" >std_og_t2t_mou_6</td>\n",
       "      <td id=\"T_efaed_row8_col2\" class=\"data row8 col2\" >0.920000</td>\n",
       "    </tr>\n",
       "    <tr>\n",
       "      <td id=\"T_efaed_row9_col0\" class=\"data row9 col0\" >onnet_mou_8</td>\n",
       "      <td id=\"T_efaed_row9_col1\" class=\"data row9 col1\" >std_og_t2t_mou_8</td>\n",
       "      <td id=\"T_efaed_row9_col2\" class=\"data row9 col2\" >0.920000</td>\n",
       "    </tr>\n",
       "    <tr>\n",
       "      <td id=\"T_efaed_row10_col0\" class=\"data row10 col0\" >arpu_6</td>\n",
       "      <td id=\"T_efaed_row10_col1\" class=\"data row10 col1\" >total_rech_amt_6</td>\n",
       "      <td id=\"T_efaed_row10_col2\" class=\"data row10 col2\" >0.920000</td>\n",
       "    </tr>\n",
       "    <tr>\n",
       "      <td id=\"T_efaed_row11_col0\" class=\"data row11 col0\" >loc_ic_mou_8</td>\n",
       "      <td id=\"T_efaed_row11_col1\" class=\"data row11 col1\" >loc_ic_t2m_mou_8</td>\n",
       "      <td id=\"T_efaed_row11_col2\" class=\"data row11 col2\" >0.910000</td>\n",
       "    </tr>\n",
       "    <tr>\n",
       "      <td id=\"T_efaed_row12_col0\" class=\"data row12 col0\" >std_ic_t2m_mou_8</td>\n",
       "      <td id=\"T_efaed_row12_col1\" class=\"data row12 col1\" >std_ic_mou_8</td>\n",
       "      <td id=\"T_efaed_row12_col2\" class=\"data row12 col2\" >0.890000</td>\n",
       "    </tr>\n",
       "    <tr>\n",
       "      <td id=\"T_efaed_row13_col0\" class=\"data row13 col0\" >std_og_t2m_mou_8</td>\n",
       "      <td id=\"T_efaed_row13_col1\" class=\"data row13 col1\" >offnet_mou_8</td>\n",
       "      <td id=\"T_efaed_row13_col2\" class=\"data row13 col2\" >0.890000</td>\n",
       "    </tr>\n",
       "    <tr>\n",
       "      <td id=\"T_efaed_row14_col0\" class=\"data row14 col0\" >loc_ic_mou_6</td>\n",
       "      <td id=\"T_efaed_row14_col1\" class=\"data row14 col1\" >loc_ic_t2m_mou_6</td>\n",
       "      <td id=\"T_efaed_row14_col2\" class=\"data row14 col2\" >0.870000</td>\n",
       "    </tr>\n",
       "    <tr>\n",
       "      <td id=\"T_efaed_row15_col0\" class=\"data row15 col0\" >loc_og_t2m_mou_8</td>\n",
       "      <td id=\"T_efaed_row15_col1\" class=\"data row15 col1\" >loc_og_mou_8</td>\n",
       "      <td id=\"T_efaed_row15_col2\" class=\"data row15 col2\" >0.860000</td>\n",
       "    </tr>\n",
       "    <tr>\n",
       "      <td id=\"T_efaed_row16_col0\" class=\"data row16 col0\" >loc_og_mou_7</td>\n",
       "      <td id=\"T_efaed_row16_col1\" class=\"data row16 col1\" >loc_og_t2m_mou_7</td>\n",
       "      <td id=\"T_efaed_row16_col2\" class=\"data row16 col2\" >0.840000</td>\n",
       "    </tr>\n",
       "    <tr>\n",
       "      <td id=\"T_efaed_row17_col0\" class=\"data row17 col0\" >std_ic_mou_7</td>\n",
       "      <td id=\"T_efaed_row17_col1\" class=\"data row17 col1\" >std_ic_t2m_mou_7</td>\n",
       "      <td id=\"T_efaed_row17_col2\" class=\"data row17 col2\" >0.830000</td>\n",
       "    </tr>\n",
       "    <tr>\n",
       "      <td id=\"T_efaed_row18_col0\" class=\"data row18 col0\" >total_ic_mou_6</td>\n",
       "      <td id=\"T_efaed_row18_col1\" class=\"data row18 col1\" >loc_ic_mou_6</td>\n",
       "      <td id=\"T_efaed_row18_col2\" class=\"data row18 col2\" >0.830000</td>\n",
       "    </tr>\n",
       "    <tr>\n",
       "      <td id=\"T_efaed_row19_col0\" class=\"data row19 col0\" >arpu_Gphase</td>\n",
       "      <td id=\"T_efaed_row19_col1\" class=\"data row19 col1\" >arpu_6</td>\n",
       "      <td id=\"T_efaed_row19_col2\" class=\"data row19 col2\" >0.820000</td>\n",
       "    </tr>\n",
       "    <tr>\n",
       "      <td id=\"T_efaed_row20_col0\" class=\"data row20 col0\" >loc_ic_mou_7</td>\n",
       "      <td id=\"T_efaed_row20_col1\" class=\"data row20 col1\" >total_ic_mou_7</td>\n",
       "      <td id=\"T_efaed_row20_col2\" class=\"data row20 col2\" >0.820000</td>\n",
       "    </tr>\n",
       "    <tr>\n",
       "      <td id=\"T_efaed_row21_col0\" class=\"data row21 col0\" >std_og_t2t_mou_8</td>\n",
       "      <td id=\"T_efaed_row21_col1\" class=\"data row21 col1\" >std_og_mou_8</td>\n",
       "      <td id=\"T_efaed_row21_col2\" class=\"data row21 col2\" >0.810000</td>\n",
       "    </tr>\n",
       "    <tr>\n",
       "      <td id=\"T_efaed_row22_col0\" class=\"data row22 col0\" >loc_ic_t2t_mou_7</td>\n",
       "      <td id=\"T_efaed_row22_col1\" class=\"data row22 col1\" >loc_ic_mou_7</td>\n",
       "      <td id=\"T_efaed_row22_col2\" class=\"data row22 col2\" >0.800000</td>\n",
       "    </tr>\n",
       "    <tr>\n",
       "      <td id=\"T_efaed_row23_col0\" class=\"data row23 col0\" >std_ic_mou_6</td>\n",
       "      <td id=\"T_efaed_row23_col1\" class=\"data row23 col1\" >std_ic_t2m_mou_6</td>\n",
       "      <td id=\"T_efaed_row23_col2\" class=\"data row23 col2\" >0.800000</td>\n",
       "    </tr>\n",
       "    <tr>\n",
       "      <td id=\"T_efaed_row24_col0\" class=\"data row24 col0\" >arpu_Gphase</td>\n",
       "      <td id=\"T_efaed_row24_col1\" class=\"data row24 col1\" >total_rech_amt_6</td>\n",
       "      <td id=\"T_efaed_row24_col2\" class=\"data row24 col2\" >0.800000</td>\n",
       "    </tr>\n",
       "    <tr>\n",
       "      <td id=\"T_efaed_row25_col0\" class=\"data row25 col0\" >loc_og_t2t_mou_6</td>\n",
       "      <td id=\"T_efaed_row25_col1\" class=\"data row25 col1\" >loc_og_mou_6</td>\n",
       "      <td id=\"T_efaed_row25_col2\" class=\"data row25 col2\" >0.780000</td>\n",
       "    </tr>\n",
       "    <tr>\n",
       "      <td id=\"T_efaed_row26_col0\" class=\"data row26 col0\" >std_ic_t2t_mou_6</td>\n",
       "      <td id=\"T_efaed_row26_col1\" class=\"data row26 col1\" >std_ic_t2t_mou_7</td>\n",
       "      <td id=\"T_efaed_row26_col2\" class=\"data row26 col2\" >0.780000</td>\n",
       "    </tr>\n",
       "    <tr>\n",
       "      <td id=\"T_efaed_row27_col0\" class=\"data row27 col0\" >loc_og_t2t_mou_7</td>\n",
       "      <td id=\"T_efaed_row27_col1\" class=\"data row27 col1\" >loc_og_t2t_mou_8</td>\n",
       "      <td id=\"T_efaed_row27_col2\" class=\"data row27 col2\" >0.770000</td>\n",
       "    </tr>\n",
       "    <tr>\n",
       "      <td id=\"T_efaed_row28_col0\" class=\"data row28 col0\" >sachet_3g_6</td>\n",
       "      <td id=\"T_efaed_row28_col1\" class=\"data row28 col1\" >sachet_3g_7</td>\n",
       "      <td id=\"T_efaed_row28_col2\" class=\"data row28 col2\" >0.760000</td>\n",
       "    </tr>\n",
       "    <tr>\n",
       "      <td id=\"T_efaed_row29_col0\" class=\"data row29 col0\" >loc_ic_mou_8</td>\n",
       "      <td id=\"T_efaed_row29_col1\" class=\"data row29 col1\" >loc_ic_t2t_mou_8</td>\n",
       "      <td id=\"T_efaed_row29_col2\" class=\"data row29 col2\" >0.760000</td>\n",
       "    </tr>\n",
       "    <tr>\n",
       "      <td id=\"T_efaed_row30_col0\" class=\"data row30 col0\" >loc_ic_mou_7</td>\n",
       "      <td id=\"T_efaed_row30_col1\" class=\"data row30 col1\" >loc_ic_t2m_mou_7</td>\n",
       "      <td id=\"T_efaed_row30_col2\" class=\"data row30 col2\" >0.760000</td>\n",
       "    </tr>\n",
       "    <tr>\n",
       "      <td id=\"T_efaed_row31_col0\" class=\"data row31 col0\" >onnet_mou_8</td>\n",
       "      <td id=\"T_efaed_row31_col1\" class=\"data row31 col1\" >std_og_mou_8</td>\n",
       "      <td id=\"T_efaed_row31_col2\" class=\"data row31 col2\" >0.750000</td>\n",
       "    </tr>\n",
       "    <tr>\n",
       "      <td id=\"T_efaed_row32_col0\" class=\"data row32 col0\" >std_og_t2t_mou_8</td>\n",
       "      <td id=\"T_efaed_row32_col1\" class=\"data row32 col1\" >total_og_mou_8</td>\n",
       "      <td id=\"T_efaed_row32_col2\" class=\"data row32 col2\" >0.750000</td>\n",
       "    </tr>\n",
       "    <tr>\n",
       "      <td id=\"T_efaed_row33_col0\" class=\"data row33 col0\" >onnet_mou_8</td>\n",
       "      <td id=\"T_efaed_row33_col1\" class=\"data row33 col1\" >total_og_mou_8</td>\n",
       "      <td id=\"T_efaed_row33_col2\" class=\"data row33 col2\" >0.740000</td>\n",
       "    </tr>\n",
       "    <tr>\n",
       "      <td id=\"T_efaed_row34_col0\" class=\"data row34 col0\" >spl_og_mou_7</td>\n",
       "      <td id=\"T_efaed_row34_col1\" class=\"data row34 col1\" >loc_og_t2c_mou_7</td>\n",
       "      <td id=\"T_efaed_row34_col2\" class=\"data row34 col2\" >0.740000</td>\n",
       "    </tr>\n",
       "    <tr>\n",
       "      <td id=\"T_efaed_row35_col0\" class=\"data row35 col0\" >total_ic_mou_6</td>\n",
       "      <td id=\"T_efaed_row35_col1\" class=\"data row35 col1\" >loc_ic_t2m_mou_6</td>\n",
       "      <td id=\"T_efaed_row35_col2\" class=\"data row35 col2\" >0.730000</td>\n",
       "    </tr>\n",
       "    <tr>\n",
       "      <td id=\"T_efaed_row36_col0\" class=\"data row36 col0\" >loc_og_mou_8</td>\n",
       "      <td id=\"T_efaed_row36_col1\" class=\"data row36 col1\" >loc_og_t2t_mou_8</td>\n",
       "      <td id=\"T_efaed_row36_col2\" class=\"data row36 col2\" >0.730000</td>\n",
       "    </tr>\n",
       "    <tr>\n",
       "      <td id=\"T_efaed_row37_col0\" class=\"data row37 col0\" >std_og_t2t_mou_7</td>\n",
       "      <td id=\"T_efaed_row37_col1\" class=\"data row37 col1\" >std_og_mou_7</td>\n",
       "      <td id=\"T_efaed_row37_col2\" class=\"data row37 col2\" >0.730000</td>\n",
       "    </tr>\n",
       "    <tr>\n",
       "      <td id=\"T_efaed_row38_col0\" class=\"data row38 col0\" >loc_ic_mou_8</td>\n",
       "      <td id=\"T_efaed_row38_col1\" class=\"data row38 col1\" >total_ic_mou_8</td>\n",
       "      <td id=\"T_efaed_row38_col2\" class=\"data row38 col2\" >0.730000</td>\n",
       "    </tr>\n",
       "    <tr>\n",
       "      <td id=\"T_efaed_row39_col0\" class=\"data row39 col0\" >sachet_2g_7</td>\n",
       "      <td id=\"T_efaed_row39_col1\" class=\"data row39 col1\" >sachet_2g_6</td>\n",
       "      <td id=\"T_efaed_row39_col2\" class=\"data row39 col2\" >0.730000</td>\n",
       "    </tr>\n",
       "    <tr>\n",
       "      <td id=\"T_efaed_row40_col0\" class=\"data row40 col0\" >max_rech_amt_6</td>\n",
       "      <td id=\"T_efaed_row40_col1\" class=\"data row40 col1\" >last_day_rch_amt_6</td>\n",
       "      <td id=\"T_efaed_row40_col2\" class=\"data row40 col2\" >0.730000</td>\n",
       "    </tr>\n",
       "    <tr>\n",
       "      <td id=\"T_efaed_row41_col0\" class=\"data row41 col0\" >loc_og_t2m_mou_6</td>\n",
       "      <td id=\"T_efaed_row41_col1\" class=\"data row41 col1\" >loc_og_mou_6</td>\n",
       "      <td id=\"T_efaed_row41_col2\" class=\"data row41 col2\" >0.730000</td>\n",
       "    </tr>\n",
       "    <tr>\n",
       "      <td id=\"T_efaed_row42_col0\" class=\"data row42 col0\" >vol_3g_mb_8</td>\n",
       "      <td id=\"T_efaed_row42_col1\" class=\"data row42 col1\" >monthly_3g_8</td>\n",
       "      <td id=\"T_efaed_row42_col2\" class=\"data row42 col2\" >0.720000</td>\n",
       "    </tr>\n",
       "    <tr>\n",
       "      <td id=\"T_efaed_row43_col0\" class=\"data row43 col0\" >vol_3g_mb_8</td>\n",
       "      <td id=\"T_efaed_row43_col1\" class=\"data row43 col1\" >vol_3g_mb_7</td>\n",
       "      <td id=\"T_efaed_row43_col2\" class=\"data row43 col2\" >0.720000</td>\n",
       "    </tr>\n",
       "    <tr>\n",
       "      <td id=\"T_efaed_row44_col0\" class=\"data row44 col0\" >arpu_7</td>\n",
       "      <td id=\"T_efaed_row44_col1\" class=\"data row44 col1\" >arpu_Gphase</td>\n",
       "      <td id=\"T_efaed_row44_col2\" class=\"data row44 col2\" >0.720000</td>\n",
       "    </tr>\n",
       "    <tr>\n",
       "      <td id=\"T_efaed_row45_col0\" class=\"data row45 col0\" >loc_og_t2t_mou_7</td>\n",
       "      <td id=\"T_efaed_row45_col1\" class=\"data row45 col1\" >loc_og_mou_7</td>\n",
       "      <td id=\"T_efaed_row45_col2\" class=\"data row45 col2\" >0.710000</td>\n",
       "    </tr>\n",
       "  </tbody>\n",
       "</table>\n"
      ],
      "text/plain": [
       "<pandas.io.formats.style.Styler at 0x21506b3a100>"
      ]
     },
     "execution_count": 43,
     "metadata": {},
     "output_type": "execute_result"
    }
   ],
   "source": [
    "# Correlations for Churn : 1  - churned customers\n",
    "# Absolute values are reported \n",
    "#pd.set_option('precision', 2)\n",
    "cor_1 = correlation(churned_customers)\n",
    "\n",
    "# filtering for correlations >= 70%\n",
    "condition = cor_1['CORR'] > 0.7\n",
    "cor_1 = cor_1[condition]\n",
    "cor_1.style.background_gradient(cmap='GnBu').hide_index()"
   ]
  },
  {
   "cell_type": "markdown",
   "id": "a93c957c",
   "metadata": {
    "papermill": {
     "duration": 0.082075,
     "end_time": "2022-05-24T08:46:05.537123",
     "exception": false,
     "start_time": "2022-05-24T08:46:05.455048",
     "status": "completed"
    },
    "tags": []
   },
   "source": [
    "## 3.3 Feature scaling\n",
    "\n",
    "Lets also scale the features by scaling them with Standard scaler (few other alternates are min-max scaling and Z-scaling)."
   ]
  },
  {
   "cell_type": "code",
   "execution_count": 44,
   "id": "2d9a551f",
   "metadata": {
    "execution": {
     "iopub.execute_input": "2022-05-24T08:46:05.696811Z",
     "iopub.status.busy": "2022-05-24T08:46:05.696317Z",
     "iopub.status.idle": "2022-05-24T08:46:05.713113Z",
     "shell.execute_reply": "2022-05-24T08:46:05.712437Z"
    },
    "papermill": {
     "duration": 0.098726,
     "end_time": "2022-05-24T08:46:05.715046",
     "exception": false,
     "start_time": "2022-05-24T08:46:05.616320",
     "status": "completed"
    },
    "tags": []
   },
   "outputs": [],
   "source": [
    "#X_train_filtered = X_train\n",
    "scale = StandardScaler()\n",
    "X_train_scaled = scale.fit_transform(X_train_filtered)"
   ]
  },
  {
   "cell_type": "code",
   "execution_count": 45,
   "id": "16fb61af",
   "metadata": {
    "execution": {
     "iopub.execute_input": "2022-05-24T08:46:07.413713Z",
     "iopub.status.busy": "2022-05-24T08:46:07.413446Z",
     "iopub.status.idle": "2022-05-24T08:46:07.618818Z",
     "shell.execute_reply": "2022-05-24T08:46:07.618056Z"
    },
    "papermill": {
     "duration": 0.291101,
     "end_time": "2022-05-24T08:46:07.620964",
     "exception": false,
     "start_time": "2022-05-24T08:46:07.329863",
     "status": "completed"
    },
    "tags": []
   },
   "outputs": [
    {
     "data": {
      "text/plain": [
       "<AxesSubplot:xlabel='churn_probability', ylabel='Count'>"
      ]
     },
     "execution_count": 45,
     "metadata": {},
     "output_type": "execute_result"
    },
    {
     "data": {
      "image/png": "[encoded data removed]",
      "text/plain": [
       "<Figure size 432x288 with 1 Axes>"
      ]
     },
     "metadata": {
      "needs_background": "light"
     },
     "output_type": "display_data"
    }
   ],
   "source": [
    "#Distribution for the churn probability\n",
    "sns.histplot(y_train)"
   ]
  },
  {
   "cell_type": "markdown",
   "id": "ec740574",
   "metadata": {},
   "source": [
    "## 3.4 SMOTE Transformation\n",
    "As there is high imbalance in the churn_probability classes, we will perform SMOTE transformation for oversampling."
   ]
  },
  {
   "cell_type": "code",
   "execution_count": 46,
   "id": "7981ba65",
   "metadata": {},
   "outputs": [
    {
     "data": {
      "text/plain": [
       "(26748, 111)"
      ]
     },
     "execution_count": 46,
     "metadata": {},
     "output_type": "execute_result"
    }
   ],
   "source": [
    "smote = SMOTE(random_state = 42)\n",
    "X_train_samp, y_train_samp = smote.fit_resample(X_train_scaled, y_train)\n",
    "X_train_samp.shape"
   ]
  },
  {
   "cell_type": "markdown",
   "id": "2079c604",
   "metadata": {},
   "source": [
    "## 3.5 PCA Transformation"
   ]
  },
  {
   "cell_type": "code",
   "execution_count": 47,
   "id": "a527dba2",
   "metadata": {
    "execution": {
     "iopub.execute_input": "2022-05-24T08:46:15.542344Z",
     "iopub.status.busy": "2022-05-24T08:46:15.541489Z",
     "iopub.status.idle": "2022-05-24T08:46:17.243777Z",
     "shell.execute_reply": "2022-05-24T08:46:17.243164Z"
    },
    "papermill": {
     "duration": 1.791722,
     "end_time": "2022-05-24T08:46:17.247020",
     "exception": false,
     "start_time": "2022-05-24T08:46:15.455298",
     "status": "completed"
    },
    "tags": []
   },
   "outputs": [
    {
     "data": {
      "text/plain": [
       "<AxesSubplot:>"
      ]
     },
     "execution_count": 47,
     "metadata": {},
     "output_type": "execute_result"
    },
    {
     "data": {
      "image/png": "[encoded data removed]",
      "text/plain": [
       "<Figure size 432x288 with 1 Axes>"
      ]
     },
     "metadata": {
      "needs_background": "light"
     },
     "output_type": "display_data"
    }
   ],
   "source": [
    "pca = PCA(random_state=42)\n",
    "pca_components = pca.fit_transform(X_train_samp)\n",
    "sns.scatterplot(x=pca_components[:,0], y=pca_components[:,1], hue=y_train_samp)"
   ]
  },
  {
   "cell_type": "code",
   "execution_count": 48,
   "id": "883b3c3f",
   "metadata": {
    "execution": {
     "iopub.execute_input": "2022-05-24T08:46:17.430107Z",
     "iopub.status.busy": "2022-05-24T08:46:17.429690Z",
     "iopub.status.idle": "2022-05-24T08:46:19.001689Z",
     "shell.execute_reply": "2022-05-24T08:46:19.000907Z"
    },
    "papermill": {
     "duration": 1.667342,
     "end_time": "2022-05-24T08:46:19.004559",
     "exception": false,
     "start_time": "2022-05-24T08:46:17.337217",
     "status": "completed"
    },
    "tags": []
   },
   "outputs": [
    {
     "data": {
      "text/plain": [
       "<AxesSubplot:>"
      ]
     },
     "execution_count": 48,
     "metadata": {},
     "output_type": "execute_result"
    },
    {
     "data": {
      "image/png": "[encoded data removed]",
      "text/plain": [
       "<Figure size 432x288 with 1 Axes>"
      ]
     },
     "metadata": {
      "needs_background": "light"
     },
     "output_type": "display_data"
    }
   ],
   "source": [
    "sns.scatterplot(x=pca_components[:,1], y=pca_components[:,2], hue=y_train_samp)"
   ]
  },
  {
   "cell_type": "code",
   "execution_count": 49,
   "id": "f1c816e1",
   "metadata": {},
   "outputs": [
    {
     "name": "stdout",
     "output_type": "stream",
     "text": [
      "[0.11826971 0.19386432 0.25355171 0.30838966 0.35756356 0.40050054\n",
      " 0.43805607 0.47055918 0.49663133 0.51934955 0.53912214 0.55839025\n",
      " 0.57714776 0.59466107 0.61161495 0.62714307 0.64229972 0.65637491\n",
      " 0.66979513 0.68264049 0.69455385 0.7062984  0.71776777 0.72868218\n",
      " 0.73884633 0.74849316 0.75767545 0.76667371 0.7754351  0.78395241\n",
      " 0.79235393 0.8005814  0.80864218 0.81614059 0.82348242 0.83065028\n",
      " 0.83739699 0.84407187 0.85037814 0.85637788 0.86216676 0.86772132\n",
      " 0.8731518  0.87844578 0.88336171 0.88794208 0.8924664  0.89661524\n",
      " 0.90058581 0.90443554 0.90825514 0.91201261 0.91567344 0.91927469\n",
      " 0.92277779 0.92616838 0.92942698 0.93258081 0.93568917 0.93871663\n",
      " 0.94167209 0.9445967  0.94742166 0.95015865 0.9528217  0.95535954\n",
      " 0.95785343 0.96025355 0.96264219 0.96492122 0.96710632 0.96926134\n",
      " 0.97139018 0.9734852  0.97542014 0.97727175 0.9790738  0.98070734\n",
      " 0.98230506 0.98384438 0.98529728 0.9867169  0.98808975 0.98934613\n",
      " 0.99055029 0.99170309 0.99280305 0.99385384 0.99486522 0.99563053\n",
      " 0.99632583 0.99694646 0.99740554 0.9977968  0.99812348 0.99844417\n",
      " 0.99868983 0.99890441 0.99905168 0.99919671 0.99932517 0.99943333\n",
      " 0.99952546 0.99961444 0.99968958 0.99975952 0.99982083 0.99987545\n",
      " 0.99992099 0.99996599 1.        ]\n"
     ]
    }
   ],
   "source": [
    "variance_cumu = np.cumsum(pca.explained_variance_ratio_)\n",
    "print(variance_cumu)"
   ]
  },
  {
   "cell_type": "code",
   "execution_count": 50,
   "id": "a31ab5e3",
   "metadata": {},
   "outputs": [
    {
     "data": {
      "text/plain": [
       "Text(0, 0.5, 'Cumulative Variance')"
      ]
     },
     "execution_count": 50,
     "metadata": {},
     "output_type": "execute_result"
    },
    {
     "data": {
      "image/png": "[encoded data removed]",
      "text/plain": [
       "<Figure size 720x432 with 1 Axes>"
      ]
     },
     "metadata": {
      "needs_background": "light"
     },
     "output_type": "display_data"
    }
   ],
   "source": [
    "# Plotting scree plot\n",
    "fig = plt.figure(figsize = (10,6))\n",
    "plt.plot(variance_cumu)\n",
    "plt.xlabel('Number of Components')\n",
    "plt.ylabel('Cumulative Variance')"
   ]
  },
  {
   "cell_type": "markdown",
   "id": "faff6840",
   "metadata": {},
   "source": [
    "*As 90% of the variance is explained by almost 60 features, we will select the optimal value for n_components = 60*"
   ]
  },
  {
   "cell_type": "code",
   "execution_count": 51,
   "id": "c17a2cdd",
   "metadata": {},
   "outputs": [],
   "source": [
    "# Instantiate PCA with 60 components\n",
    "pca_final = IncrementalPCA(n_components=60)"
   ]
  },
  {
   "cell_type": "code",
   "execution_count": 52,
   "id": "2a42d37d",
   "metadata": {},
   "outputs": [
    {
     "data": {
      "text/plain": [
       "(26748, 60)"
      ]
     },
     "execution_count": 52,
     "metadata": {},
     "output_type": "execute_result"
    }
   ],
   "source": [
    "# Fit and transform the X_train\n",
    "X_train_pca = pca_final.fit_transform(X_train_samp)\n",
    "X_train_pca.shape"
   ]
  },
  {
   "cell_type": "markdown",
   "id": "7ce0c932",
   "metadata": {
    "papermill": {
     "duration": 0.08539,
     "end_time": "2022-05-24T08:46:07.791658",
     "exception": false,
     "start_time": "2022-05-24T08:46:07.706268",
     "status": "completed"
    },
    "tags": []
   },
   "source": [
    "# 4. Model Building and Evaluation"
   ]
  },
  {
   "cell_type": "markdown",
   "id": "c8156540",
   "metadata": {},
   "source": [
    "## 4.1 Logistics Regression with PCA"
   ]
  },
  {
   "cell_type": "code",
   "execution_count": 53,
   "id": "0c143bf3",
   "metadata": {},
   "outputs": [],
   "source": [
    "def evaluate_train_data(classifier, X_train, y_train):\n",
    "    y_train_pred = classifier.predict(X_train) \n",
    "    print(\"Train set Performance\")\n",
    "    print('-------------Accuracy------------')\n",
    "    print(accuracy_score(y_train, y_train_pred))\n",
    "    print('-------------Precision------------')\n",
    "    print(precision_score(y_train, y_train_pred))\n",
    "    print('-------------Recall------------')\n",
    "    print(recall_score(y_train, y_train_pred))\n",
    "    print('-------------Confusion Matrix------------')\n",
    "    print(confusion_matrix(y_train, y_train_pred)) \n",
    "    "
   ]
  },
  {
   "cell_type": "code",
   "execution_count": 54,
   "id": "de9ae013",
   "metadata": {},
   "outputs": [],
   "source": [
    "def evaluate_test_data(classifier, X_test, y_test):\n",
    "    y_test_pred = classifier.predict(X_test) \n",
    "    print(\"Test set Performance\")\n",
    "    print('-------------Accuracy------------')\n",
    "    print(accuracy_score(y_test, y_test_pred))\n",
    "    print('-------------Precision------------')\n",
    "    print(precision_score(y_test, y_test_pred))\n",
    "    print('-------------Recall------------')\n",
    "    print(recall_score(y_test, y_test_pred))\n",
    "    print('-------------Confusion Matrix------------')\n",
    "    print(confusion_matrix(y_test, y_test_pred)) "
   ]
  },
  {
   "cell_type": "code",
   "execution_count": 55,
   "id": "0d9745a0",
   "metadata": {},
   "outputs": [],
   "source": [
    "X_train_resamp = X_train_pca\n",
    "y_train_resamp = y_train_samp"
   ]
  },
  {
   "cell_type": "code",
   "execution_count": 56,
   "id": "2a5feb0c",
   "metadata": {},
   "outputs": [],
   "source": [
    "X_test_scaled = scale.transform(X_test)\n",
    "X_test_pca = pca_final.transform(X_test_scaled)"
   ]
  },
  {
   "cell_type": "code",
   "execution_count": 57,
   "id": "abb8de0a",
   "metadata": {},
   "outputs": [
    {
     "data": {
      "text/html": [
       "<style>#sk-container-id-1 {color: black;background-color: white;}#sk-container-id-1 pre{padding: 0;}#sk-container-id-1 div.sk-toggleable {background-color: white;}#sk-container-id-1 label.sk-toggleable__label {cursor: pointer;display: block;width: 100%;margin-bottom: 0;padding: 0.3em;box-sizing: border-box;text-align: center;}#sk-container-id-1 label.sk-toggleable__label-arrow:before {content: \"▸\";float: left;margin-right: 0.25em;color: #696969;}#sk-container-id-1 label.sk-toggleable__label-arrow:hover:before {color: black;}#sk-container-id-1 div.sk-estimator:hover label.sk-toggleable__label-arrow:before {color: black;}#sk-container-id-1 div.sk-toggleable__content {max-height: 0;max-width: 0;overflow: hidden;text-align: left;background-color: #f0f8ff;}#sk-container-id-1 div.sk-toggleable__content pre {margin: 0.2em;color: black;border-radius: 0.25em;background-color: #f0f8ff;}#sk-container-id-1 input.sk-toggleable__control:checked~div.sk-toggleable__content {max-height: 200px;max-width: 100%;overflow: auto;}#sk-container-id-1 input.sk-toggleable__control:checked~label.sk-toggleable__label-arrow:before {content: \"▾\";}#sk-container-id-1 div.sk-estimator input.sk-toggleable__control:checked~label.sk-toggleable__label {background-color: #d4ebff;}#sk-container-id-1 div.sk-label input.sk-toggleable__control:checked~label.sk-toggleable__label {background-color: #d4ebff;}#sk-container-id-1 input.sk-hidden--visually {border: 0;clip: rect(1px 1px 1px 1px);clip: rect(1px, 1px, 1px, 1px);height: 1px;margin: -1px;overflow: hidden;padding: 0;position: absolute;width: 1px;}#sk-container-id-1 div.sk-estimator {font-family: monospace;background-color: #f0f8ff;border: 1px dotted black;border-radius: 0.25em;box-sizing: border-box;margin-bottom: 0.5em;}#sk-container-id-1 div.sk-estimator:hover {background-color: #d4ebff;}#sk-container-id-1 div.sk-parallel-item::after {content: \"\";width: 100%;border-bottom: 1px solid gray;flex-grow: 1;}#sk-container-id-1 div.sk-label:hover label.sk-toggleable__label {background-color: #d4ebff;}#sk-container-id-1 div.sk-serial::before {content: \"\";position: absolute;border-left: 1px solid gray;box-sizing: border-box;top: 0;bottom: 0;left: 50%;z-index: 0;}#sk-container-id-1 div.sk-serial {display: flex;flex-direction: column;align-items: center;background-color: white;padding-right: 0.2em;padding-left: 0.2em;position: relative;}#sk-container-id-1 div.sk-item {position: relative;z-index: 1;}#sk-container-id-1 div.sk-parallel {display: flex;align-items: stretch;justify-content: center;background-color: white;position: relative;}#sk-container-id-1 div.sk-item::before, #sk-container-id-1 div.sk-parallel-item::before {content: \"\";position: absolute;border-left: 1px solid gray;box-sizing: border-box;top: 0;bottom: 0;left: 50%;z-index: -1;}#sk-container-id-1 div.sk-parallel-item {display: flex;flex-direction: column;z-index: 1;position: relative;background-color: white;}#sk-container-id-1 div.sk-parallel-item:first-child::after {align-self: flex-end;width: 50%;}#sk-container-id-1 div.sk-parallel-item:last-child::after {align-self: flex-start;width: 50%;}#sk-container-id-1 div.sk-parallel-item:only-child::after {width: 0;}#sk-container-id-1 div.sk-dashed-wrapped {border: 1px dashed gray;margin: 0 0.4em 0.5em 0.4em;box-sizing: border-box;padding-bottom: 0.4em;background-color: white;}#sk-container-id-1 div.sk-label label {font-family: monospace;font-weight: bold;display: inline-block;line-height: 1.2em;}#sk-container-id-1 div.sk-label-container {text-align: center;}#sk-container-id-1 div.sk-container {/* jupyter's `normalize.less` sets `[hidden] { display: none; }` but bootstrap.min.css set `[hidden] { display: none !important; }` so we also need the `!important` here to be able to override the default hidden behavior on the sphinx rendered scikit-learn.org. See: https://github.com/scikit-learn/scikit-learn/issues/21755 */display: inline-block !important;position: relative;}#sk-container-id-1 div.sk-text-repr-fallback {display: none;}</style><div id=\"sk-container-id-1\" class=\"sk-top-container\"><div class=\"sk-text-repr-fallback\"><pre>LogisticRegression(max_iter=1000, solver=&#x27;sag&#x27;, tol=0.001)</pre><b>In a Jupyter environment, please rerun this cell to show the HTML representation or trust the notebook. <br />On GitHub, the HTML representation is unable to render, please try loading this page with nbviewer.org.</b></div><div class=\"sk-container\" hidden><div class=\"sk-item\"><div class=\"sk-estimator sk-toggleable\"><input class=\"sk-toggleable__control sk-hidden--visually\" id=\"sk-estimator-id-1\" type=\"checkbox\" checked><label for=\"sk-estimator-id-1\" class=\"sk-toggleable__label sk-toggleable__label-arrow\">LogisticRegression</label><div class=\"sk-toggleable__content\"><pre>LogisticRegression(max_iter=1000, solver=&#x27;sag&#x27;, tol=0.001)</pre></div></div></div></div></div>"
      ],
      "text/plain": [
       "LogisticRegression(max_iter=1000, solver='sag', tol=0.001)"
      ]
     },
     "execution_count": 57,
     "metadata": {},
     "output_type": "execute_result"
    }
   ],
   "source": [
    "lr = LogisticRegression(max_iter=1000, tol=0.001, solver='sag')\n",
    "lr.fit(X_train_resamp, y_train_resamp)"
   ]
  },
  {
   "cell_type": "code",
   "execution_count": 58,
   "id": "be719158",
   "metadata": {},
   "outputs": [
    {
     "name": "stdout",
     "output_type": "stream",
     "text": [
      "Train set Performance\n",
      "-------------Accuracy------------\n",
      "0.8535217586361598\n",
      "-------------Precision------------\n",
      "0.8407321994811184\n",
      "-------------Recall------------\n",
      "0.8722895169732316\n",
      "-------------Confusion Matrix------------\n",
      "[[11164  2210]\n",
      " [ 1708 11666]]\n"
     ]
    }
   ],
   "source": [
    "evaluate_train_data(lr, X_train_resamp, y_train_resamp)"
   ]
  },
  {
   "cell_type": "code",
   "execution_count": 59,
   "id": "dda35606",
   "metadata": {},
   "outputs": [
    {
     "name": "stdout",
     "output_type": "stream",
     "text": [
      "Test set Performance\n",
      "-------------Accuracy------------\n",
      "0.8250793650793651\n",
      "-------------Precision------------\n",
      "0.31636863823933975\n",
      "-------------Recall------------\n",
      "0.8098591549295775\n",
      "-------------Confusion Matrix------------\n",
      "[[4738  994]\n",
      " [ 108  460]]\n"
     ]
    }
   ],
   "source": [
    "evaluate_test_data(lr, X_test_pca, y_test )"
   ]
  },
  {
   "cell_type": "markdown",
   "id": "d78cb21c",
   "metadata": {},
   "source": [
    "## 4.2 Random Forest with PCA"
   ]
  },
  {
   "cell_type": "code",
   "execution_count": 60,
   "id": "4e6d2c6e",
   "metadata": {
    "execution": {
     "iopub.execute_input": "2022-05-24T08:46:19.380422Z",
     "iopub.status.busy": "2022-05-24T08:46:19.380192Z",
     "iopub.status.idle": "2022-05-24T08:46:30.898158Z",
     "shell.execute_reply": "2022-05-24T08:46:30.897382Z"
    },
    "papermill": {
     "duration": 11.616056,
     "end_time": "2022-05-24T08:46:30.900073",
     "exception": false,
     "start_time": "2022-05-24T08:46:19.284017",
     "status": "completed"
    },
    "tags": []
   },
   "outputs": [],
   "source": [
    "rf = RandomForestClassifier(random_state=42, n_jobs=-1)"
   ]
  },
  {
   "cell_type": "code",
   "execution_count": 61,
   "id": "01fccf4d",
   "metadata": {},
   "outputs": [],
   "source": [
    "param_grid = {\n",
    "    'max_depth': [10,15,20,25],\n",
    "    'max_features': [20, 30, 40],\n",
    "    'min_samples_leaf': [10,20, 50],\n",
    "    'min_samples_split': [10,20,50]\n",
    "}"
   ]
  },
  {
   "cell_type": "code",
   "execution_count": 62,
   "id": "858ee0a6",
   "metadata": {},
   "outputs": [],
   "source": [
    "grid_search = GridSearchCV(estimator= rf, param_grid = param_grid,\n",
    "                          cv=3, n_jobs=-1, verbose=1, scoring = 'accuracy' )"
   ]
  },
  {
   "cell_type": "code",
   "execution_count": 63,
   "id": "dc5cfa4b",
   "metadata": {},
   "outputs": [],
   "source": [
    "grid_search.fit(X_train_resamp , y_train_resamp)"
   ]
  },
  {
   "cell_type": "code",
   "execution_count": 64,
   "id": "bdce0aa4",
   "metadata": {},
   "outputs": [],
   "source": [
    "rf_best = grid_search.best_estimator_\n",
    "rf_best"
   ]
  },
  {
   "cell_type": "code",
   "execution_count": 65,
   "id": "b589c164",
   "metadata": {},
   "outputs": [
    {
     "data": {
      "text/html": [
       "<style>#sk-container-id-2 {color: black;background-color: white;}#sk-container-id-2 pre{padding: 0;}#sk-container-id-2 div.sk-toggleable {background-color: white;}#sk-container-id-2 label.sk-toggleable__label {cursor: pointer;display: block;width: 100%;margin-bottom: 0;padding: 0.3em;box-sizing: border-box;text-align: center;}#sk-container-id-2 label.sk-toggleable__label-arrow:before {content: \"▸\";float: left;margin-right: 0.25em;color: #696969;}#sk-container-id-2 label.sk-toggleable__label-arrow:hover:before {color: black;}#sk-container-id-2 div.sk-estimator:hover label.sk-toggleable__label-arrow:before {color: black;}#sk-container-id-2 div.sk-toggleable__content {max-height: 0;max-width: 0;overflow: hidden;text-align: left;background-color: #f0f8ff;}#sk-container-id-2 div.sk-toggleable__content pre {margin: 0.2em;color: black;border-radius: 0.25em;background-color: #f0f8ff;}#sk-container-id-2 input.sk-toggleable__control:checked~div.sk-toggleable__content {max-height: 200px;max-width: 100%;overflow: auto;}#sk-container-id-2 input.sk-toggleable__control:checked~label.sk-toggleable__label-arrow:before {content: \"▾\";}#sk-container-id-2 div.sk-estimator input.sk-toggleable__control:checked~label.sk-toggleable__label {background-color: #d4ebff;}#sk-container-id-2 div.sk-label input.sk-toggleable__control:checked~label.sk-toggleable__label {background-color: #d4ebff;}#sk-container-id-2 input.sk-hidden--visually {border: 0;clip: rect(1px 1px 1px 1px);clip: rect(1px, 1px, 1px, 1px);height: 1px;margin: -1px;overflow: hidden;padding: 0;position: absolute;width: 1px;}#sk-container-id-2 div.sk-estimator {font-family: monospace;background-color: #f0f8ff;border: 1px dotted black;border-radius: 0.25em;box-sizing: border-box;margin-bottom: 0.5em;}#sk-container-id-2 div.sk-estimator:hover {background-color: #d4ebff;}#sk-container-id-2 div.sk-parallel-item::after {content: \"\";width: 100%;border-bottom: 1px solid gray;flex-grow: 1;}#sk-container-id-2 div.sk-label:hover label.sk-toggleable__label {background-color: #d4ebff;}#sk-container-id-2 div.sk-serial::before {content: \"\";position: absolute;border-left: 1px solid gray;box-sizing: border-box;top: 0;bottom: 0;left: 50%;z-index: 0;}#sk-container-id-2 div.sk-serial {display: flex;flex-direction: column;align-items: center;background-color: white;padding-right: 0.2em;padding-left: 0.2em;position: relative;}#sk-container-id-2 div.sk-item {position: relative;z-index: 1;}#sk-container-id-2 div.sk-parallel {display: flex;align-items: stretch;justify-content: center;background-color: white;position: relative;}#sk-container-id-2 div.sk-item::before, #sk-container-id-2 div.sk-parallel-item::before {content: \"\";position: absolute;border-left: 1px solid gray;box-sizing: border-box;top: 0;bottom: 0;left: 50%;z-index: -1;}#sk-container-id-2 div.sk-parallel-item {display: flex;flex-direction: column;z-index: 1;position: relative;background-color: white;}#sk-container-id-2 div.sk-parallel-item:first-child::after {align-self: flex-end;width: 50%;}#sk-container-id-2 div.sk-parallel-item:last-child::after {align-self: flex-start;width: 50%;}#sk-container-id-2 div.sk-parallel-item:only-child::after {width: 0;}#sk-container-id-2 div.sk-dashed-wrapped {border: 1px dashed gray;margin: 0 0.4em 0.5em 0.4em;box-sizing: border-box;padding-bottom: 0.4em;background-color: white;}#sk-container-id-2 div.sk-label label {font-family: monospace;font-weight: bold;display: inline-block;line-height: 1.2em;}#sk-container-id-2 div.sk-label-container {text-align: center;}#sk-container-id-2 div.sk-container {/* jupyter's `normalize.less` sets `[hidden] { display: none; }` but bootstrap.min.css set `[hidden] { display: none !important; }` so we also need the `!important` here to be able to override the default hidden behavior on the sphinx rendered scikit-learn.org. See: https://github.com/scikit-learn/scikit-learn/issues/21755 */display: inline-block !important;position: relative;}#sk-container-id-2 div.sk-text-repr-fallback {display: none;}</style><div id=\"sk-container-id-2\" class=\"sk-top-container\"><div class=\"sk-text-repr-fallback\"><pre>RandomForestClassifier(max_depth=20, max_features=40, n_estimators=200,\n",
       "                       n_jobs=-1, random_state=42)</pre><b>In a Jupyter environment, please rerun this cell to show the HTML representation or trust the notebook. <br />On GitHub, the HTML representation is unable to render, please try loading this page with nbviewer.org.</b></div><div class=\"sk-container\" hidden><div class=\"sk-item\"><div class=\"sk-estimator sk-toggleable\"><input class=\"sk-toggleable__control sk-hidden--visually\" id=\"sk-estimator-id-2\" type=\"checkbox\" checked><label for=\"sk-estimator-id-2\" class=\"sk-toggleable__label sk-toggleable__label-arrow\">RandomForestClassifier</label><div class=\"sk-toggleable__content\"><pre>RandomForestClassifier(max_depth=20, max_features=40, n_estimators=200,\n",
       "                       n_jobs=-1, random_state=42)</pre></div></div></div></div></div>"
      ],
      "text/plain": [
       "RandomForestClassifier(max_depth=20, max_features=40, n_estimators=200,\n",
       "                       n_jobs=-1, random_state=42)"
      ]
     },
     "execution_count": 65,
     "metadata": {},
     "output_type": "execute_result"
    }
   ],
   "source": [
    "rf_final = RandomForestClassifier(max_depth=20, max_features=40,\n",
    "                       n_estimators=200, n_jobs=-1, random_state=42)\n",
    "rf_final.fit(X_train_resamp, y_train_resamp)"
   ]
  },
  {
   "cell_type": "code",
   "execution_count": 66,
   "id": "c33ad954",
   "metadata": {},
   "outputs": [
    {
     "name": "stdout",
     "output_type": "stream",
     "text": [
      "Train set Performance\n",
      "-------------Accuracy------------\n",
      "0.9848960669956632\n",
      "-------------Precision------------\n",
      "0.9706778922920598\n",
      "-------------Recall------------\n",
      "1.0\n",
      "-------------Confusion Matrix------------\n",
      "[[12970   404]\n",
      " [    0 13374]]\n"
     ]
    }
   ],
   "source": [
    "evaluate_train_data(rf_final, X_train_resamp, y_train_resamp)"
   ]
  },
  {
   "cell_type": "code",
   "execution_count": 67,
   "id": "6ec43637",
   "metadata": {},
   "outputs": [
    {
     "name": "stdout",
     "output_type": "stream",
     "text": [
      "Test set Performance\n",
      "-------------Accuracy------------\n",
      "0.9017460317460317\n",
      "-------------Precision------------\n",
      "0.46153846153846156\n",
      "-------------Recall------------\n",
      "0.5387323943661971\n",
      "-------------Confusion Matrix------------\n",
      "[[5375  357]\n",
      " [ 262  306]]\n"
     ]
    }
   ],
   "source": [
    "evaluate_test_data(rf_final, X_test_pca, y_test )"
   ]
  },
  {
   "cell_type": "markdown",
   "id": "0c77358b",
   "metadata": {},
   "source": [
    "## 4.3 SVM with PCA"
   ]
  },
  {
   "cell_type": "code",
   "execution_count": 68,
   "id": "44029685",
   "metadata": {},
   "outputs": [],
   "source": [
    "folds = KFold(n_splits = 5, shuffle = True, random_state = 42)\n",
    "\n",
    "# Set the parameters by cross-validation\n",
    "hyper_params = [ {'gamma': [1e-1,1e-2, 1e-3], 'C': [1, 10, 100]}]\n",
    "\n",
    "# specify model\n",
    "model = svm.SVC(kernel=\"rbf\")\n",
    "\n",
    "# set up GridSearchCV()\n",
    "model_cv_svm = GridSearchCV(estimator = model, \n",
    "                        param_grid = hyper_params, \n",
    "                        scoring= 'accuracy', \n",
    "                        cv = folds, \n",
    "                        n_jobs = -1,\n",
    "                        verbose = 1,\n",
    "                        return_train_score=True) "
   ]
  },
  {
   "cell_type": "code",
   "execution_count": 69,
   "id": "754d7814",
   "metadata": {},
   "outputs": [],
   "source": [
    "# fit the model\n",
    "model_cv_svm.fit(X_train_resamp, y_train_resamp)"
   ]
  },
  {
   "cell_type": "code",
   "execution_count": 70,
   "id": "4c956b0d",
   "metadata": {},
   "outputs": [],
   "source": [
    "best_score = model_cv_svm.best_score_\n",
    "best_hyperparams = model_cv_svm.best_params_"
   ]
  },
  {
   "cell_type": "code",
   "execution_count": 71,
   "id": "e36c7616",
   "metadata": {},
   "outputs": [
    {
     "data": {
      "text/html": [
       "<style>#sk-container-id-3 {color: black;background-color: white;}#sk-container-id-3 pre{padding: 0;}#sk-container-id-3 div.sk-toggleable {background-color: white;}#sk-container-id-3 label.sk-toggleable__label {cursor: pointer;display: block;width: 100%;margin-bottom: 0;padding: 0.3em;box-sizing: border-box;text-align: center;}#sk-container-id-3 label.sk-toggleable__label-arrow:before {content: \"▸\";float: left;margin-right: 0.25em;color: #696969;}#sk-container-id-3 label.sk-toggleable__label-arrow:hover:before {color: black;}#sk-container-id-3 div.sk-estimator:hover label.sk-toggleable__label-arrow:before {color: black;}#sk-container-id-3 div.sk-toggleable__content {max-height: 0;max-width: 0;overflow: hidden;text-align: left;background-color: #f0f8ff;}#sk-container-id-3 div.sk-toggleable__content pre {margin: 0.2em;color: black;border-radius: 0.25em;background-color: #f0f8ff;}#sk-container-id-3 input.sk-toggleable__control:checked~div.sk-toggleable__content {max-height: 200px;max-width: 100%;overflow: auto;}#sk-container-id-3 input.sk-toggleable__control:checked~label.sk-toggleable__label-arrow:before {content: \"▾\";}#sk-container-id-3 div.sk-estimator input.sk-toggleable__control:checked~label.sk-toggleable__label {background-color: #d4ebff;}#sk-container-id-3 div.sk-label input.sk-toggleable__control:checked~label.sk-toggleable__label {background-color: #d4ebff;}#sk-container-id-3 input.sk-hidden--visually {border: 0;clip: rect(1px 1px 1px 1px);clip: rect(1px, 1px, 1px, 1px);height: 1px;margin: -1px;overflow: hidden;padding: 0;position: absolute;width: 1px;}#sk-container-id-3 div.sk-estimator {font-family: monospace;background-color: #f0f8ff;border: 1px dotted black;border-radius: 0.25em;box-sizing: border-box;margin-bottom: 0.5em;}#sk-container-id-3 div.sk-estimator:hover {background-color: #d4ebff;}#sk-container-id-3 div.sk-parallel-item::after {content: \"\";width: 100%;border-bottom: 1px solid gray;flex-grow: 1;}#sk-container-id-3 div.sk-label:hover label.sk-toggleable__label {background-color: #d4ebff;}#sk-container-id-3 div.sk-serial::before {content: \"\";position: absolute;border-left: 1px solid gray;box-sizing: border-box;top: 0;bottom: 0;left: 50%;z-index: 0;}#sk-container-id-3 div.sk-serial {display: flex;flex-direction: column;align-items: center;background-color: white;padding-right: 0.2em;padding-left: 0.2em;position: relative;}#sk-container-id-3 div.sk-item {position: relative;z-index: 1;}#sk-container-id-3 div.sk-parallel {display: flex;align-items: stretch;justify-content: center;background-color: white;position: relative;}#sk-container-id-3 div.sk-item::before, #sk-container-id-3 div.sk-parallel-item::before {content: \"\";position: absolute;border-left: 1px solid gray;box-sizing: border-box;top: 0;bottom: 0;left: 50%;z-index: -1;}#sk-container-id-3 div.sk-parallel-item {display: flex;flex-direction: column;z-index: 1;position: relative;background-color: white;}#sk-container-id-3 div.sk-parallel-item:first-child::after {align-self: flex-end;width: 50%;}#sk-container-id-3 div.sk-parallel-item:last-child::after {align-self: flex-start;width: 50%;}#sk-container-id-3 div.sk-parallel-item:only-child::after {width: 0;}#sk-container-id-3 div.sk-dashed-wrapped {border: 1px dashed gray;margin: 0 0.4em 0.5em 0.4em;box-sizing: border-box;padding-bottom: 0.4em;background-color: white;}#sk-container-id-3 div.sk-label label {font-family: monospace;font-weight: bold;display: inline-block;line-height: 1.2em;}#sk-container-id-3 div.sk-label-container {text-align: center;}#sk-container-id-3 div.sk-container {/* jupyter's `normalize.less` sets `[hidden] { display: none; }` but bootstrap.min.css set `[hidden] { display: none !important; }` so we also need the `!important` here to be able to override the default hidden behavior on the sphinx rendered scikit-learn.org. See: https://github.com/scikit-learn/scikit-learn/issues/21755 */display: inline-block !important;position: relative;}#sk-container-id-3 div.sk-text-repr-fallback {display: none;}</style><div id=\"sk-container-id-3\" class=\"sk-top-container\"><div class=\"sk-text-repr-fallback\"><pre>SVC(C=10, gamma=0.1)</pre><b>In a Jupyter environment, please rerun this cell to show the HTML representation or trust the notebook. <br />On GitHub, the HTML representation is unable to render, please try loading this page with nbviewer.org.</b></div><div class=\"sk-container\" hidden><div class=\"sk-item\"><div class=\"sk-estimator sk-toggleable\"><input class=\"sk-toggleable__control sk-hidden--visually\" id=\"sk-estimator-id-3\" type=\"checkbox\" checked><label for=\"sk-estimator-id-3\" class=\"sk-toggleable__label sk-toggleable__label-arrow\">SVC</label><div class=\"sk-toggleable__content\"><pre>SVC(C=10, gamma=0.1)</pre></div></div></div></div></div>"
      ],
      "text/plain": [
       "SVC(C=10, gamma=0.1)"
      ]
     },
     "execution_count": 71,
     "metadata": {},
     "output_type": "execute_result"
    }
   ],
   "source": [
    "final_svm_model = svm.SVC(C=10, gamma=0.1, kernel=\"rbf\")\n",
    "final_svm_model.fit(X_train_resamp, y_train_resamp)"
   ]
  },
  {
   "cell_type": "code",
   "execution_count": 72,
   "id": "613acc44",
   "metadata": {},
   "outputs": [
    {
     "name": "stdout",
     "output_type": "stream",
     "text": [
      "Train set Performance\n",
      "-------------Accuracy------------\n",
      "0.999925228054434\n",
      "-------------Precision------------\n",
      "0.9998504784688995\n",
      "-------------Recall------------\n",
      "1.0\n",
      "-------------Confusion Matrix------------\n",
      "[[13372     2]\n",
      " [    0 13374]]\n"
     ]
    }
   ],
   "source": [
    "evaluate_train_data(final_svm_model,X_train_resamp, y_train_resamp)"
   ]
  },
  {
   "cell_type": "code",
   "execution_count": 73,
   "id": "9a8b4f7d",
   "metadata": {},
   "outputs": [
    {
     "name": "stdout",
     "output_type": "stream",
     "text": [
      "Test set Performance\n",
      "-------------Accuracy------------\n",
      "0.9128571428571428\n",
      "-------------Precision------------\n",
      "0.54337899543379\n",
      "-------------Recall------------\n",
      "0.20950704225352113\n",
      "-------------Confusion Matrix------------\n",
      "[[5632  100]\n",
      " [ 449  119]]\n"
     ]
    }
   ],
   "source": [
    "evaluate_test_data(final_svm_model,X_test_pca, y_test)"
   ]
  },
  {
   "cell_type": "markdown",
   "id": "d740e9eb",
   "metadata": {},
   "source": [
    "## 4.4 XGBoost with PCA"
   ]
  },
  {
   "cell_type": "code",
   "execution_count": 74,
   "id": "1fbe7db4",
   "metadata": {},
   "outputs": [],
   "source": [
    "# hyperparameter tuning with XGBoost\n",
    "\n",
    "# creating a KFold object \n",
    "folds = 5\n",
    "\n",
    "# specify range of hyperparameters\n",
    "param_grid = {'learning_rate': [0.1,0.2,0.3], \n",
    "             'subsample': [0.3,0.4,0.5]}          \n",
    "\n",
    "\n",
    "# specify model\n",
    "xgb_model = XGBClassifier(max_depth=2, n_estimators=200)\n",
    "\n",
    "# set up GridSearchCV()\n",
    "model_cv = GridSearchCV(estimator = xgb_model, \n",
    "                        param_grid = param_grid, \n",
    "                        scoring= 'accuracy', # accuracy\n",
    "                        cv = folds, \n",
    "                        n_jobs = -1,\n",
    "                        verbose = 1,\n",
    "                        return_train_score=True) "
   ]
  },
  {
   "cell_type": "code",
   "execution_count": 75,
   "id": "924c6e21",
   "metadata": {},
   "outputs": [],
   "source": [
    "# fit the model\n",
    "model_cv.fit(X_train_resamp, y_train_resamp) "
   ]
  },
  {
   "cell_type": "code",
   "execution_count": 76,
   "id": "a7636346",
   "metadata": {},
   "outputs": [],
   "source": [
    "best_hyperparams = model_cv.best_params_\n",
    "best_hyperparams"
   ]
  },
  {
   "cell_type": "code",
   "execution_count": 77,
   "id": "95c5d9b1",
   "metadata": {},
   "outputs": [
    {
     "name": "stdout",
     "output_type": "stream",
     "text": [
      "[23:24:51] WARNING: C:/Users/Administrator/workspace/xgboost-win64_release_1.6.0/src/learner.cc:627: \n",
      "Parameters: { \"params\" } might not be used.\n",
      "\n",
      "  This could be a false alarm, with some parameters getting used by language bindings but\n",
      "  then being mistakenly passed down to XGBoost core, or some parameter actually being used\n",
      "  but getting flagged wrongly here. Please open an issue if you find any such cases.\n",
      "\n",
      "\n"
     ]
    },
    {
     "data": {
      "text/html": [
       "<style>#sk-container-id-4 {color: black;background-color: white;}#sk-container-id-4 pre{padding: 0;}#sk-container-id-4 div.sk-toggleable {background-color: white;}#sk-container-id-4 label.sk-toggleable__label {cursor: pointer;display: block;width: 100%;margin-bottom: 0;padding: 0.3em;box-sizing: border-box;text-align: center;}#sk-container-id-4 label.sk-toggleable__label-arrow:before {content: \"▸\";float: left;margin-right: 0.25em;color: #696969;}#sk-container-id-4 label.sk-toggleable__label-arrow:hover:before {color: black;}#sk-container-id-4 div.sk-estimator:hover label.sk-toggleable__label-arrow:before {color: black;}#sk-container-id-4 div.sk-toggleable__content {max-height: 0;max-width: 0;overflow: hidden;text-align: left;background-color: #f0f8ff;}#sk-container-id-4 div.sk-toggleable__content pre {margin: 0.2em;color: black;border-radius: 0.25em;background-color: #f0f8ff;}#sk-container-id-4 input.sk-toggleable__control:checked~div.sk-toggleable__content {max-height: 200px;max-width: 100%;overflow: auto;}#sk-container-id-4 input.sk-toggleable__control:checked~label.sk-toggleable__label-arrow:before {content: \"▾\";}#sk-container-id-4 div.sk-estimator input.sk-toggleable__control:checked~label.sk-toggleable__label {background-color: #d4ebff;}#sk-container-id-4 div.sk-label input.sk-toggleable__control:checked~label.sk-toggleable__label {background-color: #d4ebff;}#sk-container-id-4 input.sk-hidden--visually {border: 0;clip: rect(1px 1px 1px 1px);clip: rect(1px, 1px, 1px, 1px);height: 1px;margin: -1px;overflow: hidden;padding: 0;position: absolute;width: 1px;}#sk-container-id-4 div.sk-estimator {font-family: monospace;background-color: #f0f8ff;border: 1px dotted black;border-radius: 0.25em;box-sizing: border-box;margin-bottom: 0.5em;}#sk-container-id-4 div.sk-estimator:hover {background-color: #d4ebff;}#sk-container-id-4 div.sk-parallel-item::after {content: \"\";width: 100%;border-bottom: 1px solid gray;flex-grow: 1;}#sk-container-id-4 div.sk-label:hover label.sk-toggleable__label {background-color: #d4ebff;}#sk-container-id-4 div.sk-serial::before {content: \"\";position: absolute;border-left: 1px solid gray;box-sizing: border-box;top: 0;bottom: 0;left: 50%;z-index: 0;}#sk-container-id-4 div.sk-serial {display: flex;flex-direction: column;align-items: center;background-color: white;padding-right: 0.2em;padding-left: 0.2em;position: relative;}#sk-container-id-4 div.sk-item {position: relative;z-index: 1;}#sk-container-id-4 div.sk-parallel {display: flex;align-items: stretch;justify-content: center;background-color: white;position: relative;}#sk-container-id-4 div.sk-item::before, #sk-container-id-4 div.sk-parallel-item::before {content: \"\";position: absolute;border-left: 1px solid gray;box-sizing: border-box;top: 0;bottom: 0;left: 50%;z-index: -1;}#sk-container-id-4 div.sk-parallel-item {display: flex;flex-direction: column;z-index: 1;position: relative;background-color: white;}#sk-container-id-4 div.sk-parallel-item:first-child::after {align-self: flex-end;width: 50%;}#sk-container-id-4 div.sk-parallel-item:last-child::after {align-self: flex-start;width: 50%;}#sk-container-id-4 div.sk-parallel-item:only-child::after {width: 0;}#sk-container-id-4 div.sk-dashed-wrapped {border: 1px dashed gray;margin: 0 0.4em 0.5em 0.4em;box-sizing: border-box;padding-bottom: 0.4em;background-color: white;}#sk-container-id-4 div.sk-label label {font-family: monospace;font-weight: bold;display: inline-block;line-height: 1.2em;}#sk-container-id-4 div.sk-label-container {text-align: center;}#sk-container-id-4 div.sk-container {/* jupyter's `normalize.less` sets `[hidden] { display: none; }` but bootstrap.min.css set `[hidden] { display: none !important; }` so we also need the `!important` here to be able to override the default hidden behavior on the sphinx rendered scikit-learn.org. See: https://github.com/scikit-learn/scikit-learn/issues/21755 */display: inline-block !important;position: relative;}#sk-container-id-4 div.sk-text-repr-fallback {display: none;}</style><div id=\"sk-container-id-4\" class=\"sk-top-container\"><div class=\"sk-text-repr-fallback\"><pre>XGBClassifier(base_score=0.5, booster=&#x27;gbtree&#x27;, callbacks=None,\n",
       "              colsample_bylevel=1, colsample_bynode=1, colsample_bytree=1,\n",
       "              early_stopping_rounds=None, enable_categorical=False,\n",
       "              eval_metric=None, gamma=0, gpu_id=-1, grow_policy=&#x27;depthwise&#x27;,\n",
       "              importance_type=None, interaction_constraints=&#x27;&#x27;,\n",
       "              learning_rate=0.300000012, max_bin=256, max_cat_to_onehot=4,\n",
       "              max_delta_step=0, max_depth=12, max_leaves=0, min_child_weight=1,\n",
       "              missing=nan, monotone_constraints=&#x27;()&#x27;, n_estimators=200,\n",
       "              n_jobs=0, num_parallel_tree=1,\n",
       "              params={&#x27;learning_rate&#x27;: 0.3, &#x27;objective&#x27;: &#x27;binary:logistic&#x27;,\n",
       "                      &#x27;subsample&#x27;: 0.5},\n",
       "              predictor=&#x27;auto&#x27;, random_state=0, reg_alpha=0, ...)</pre><b>In a Jupyter environment, please rerun this cell to show the HTML representation or trust the notebook. <br />On GitHub, the HTML representation is unable to render, please try loading this page with nbviewer.org.</b></div><div class=\"sk-container\" hidden><div class=\"sk-item\"><div class=\"sk-estimator sk-toggleable\"><input class=\"sk-toggleable__control sk-hidden--visually\" id=\"sk-estimator-id-4\" type=\"checkbox\" checked><label for=\"sk-estimator-id-4\" class=\"sk-toggleable__label sk-toggleable__label-arrow\">XGBClassifier</label><div class=\"sk-toggleable__content\"><pre>XGBClassifier(base_score=0.5, booster=&#x27;gbtree&#x27;, callbacks=None,\n",
       "              colsample_bylevel=1, colsample_bynode=1, colsample_bytree=1,\n",
       "              early_stopping_rounds=None, enable_categorical=False,\n",
       "              eval_metric=None, gamma=0, gpu_id=-1, grow_policy=&#x27;depthwise&#x27;,\n",
       "              importance_type=None, interaction_constraints=&#x27;&#x27;,\n",
       "              learning_rate=0.300000012, max_bin=256, max_cat_to_onehot=4,\n",
       "              max_delta_step=0, max_depth=12, max_leaves=0, min_child_weight=1,\n",
       "              missing=nan, monotone_constraints=&#x27;()&#x27;, n_estimators=200,\n",
       "              n_jobs=0, num_parallel_tree=1,\n",
       "              params={&#x27;learning_rate&#x27;: 0.3, &#x27;objective&#x27;: &#x27;binary:logistic&#x27;,\n",
       "                      &#x27;subsample&#x27;: 0.5},\n",
       "              predictor=&#x27;auto&#x27;, random_state=0, reg_alpha=0, ...)</pre></div></div></div></div></div>"
      ],
      "text/plain": [
       "XGBClassifier(base_score=0.5, booster='gbtree', callbacks=None,\n",
       "              colsample_bylevel=1, colsample_bynode=1, colsample_bytree=1,\n",
       "              early_stopping_rounds=None, enable_categorical=False,\n",
       "              eval_metric=None, gamma=0, gpu_id=-1, grow_policy='depthwise',\n",
       "              importance_type=None, interaction_constraints='',\n",
       "              learning_rate=0.300000012, max_bin=256, max_cat_to_onehot=4,\n",
       "              max_delta_step=0, max_depth=12, max_leaves=0, min_child_weight=1,\n",
       "              missing=nan, monotone_constraints='()', n_estimators=200,\n",
       "              n_jobs=0, num_parallel_tree=1,\n",
       "              params={'learning_rate': 0.3, 'objective': 'binary:logistic',\n",
       "                      'subsample': 0.5},\n",
       "              predictor='auto', random_state=0, reg_alpha=0, ...)"
      ]
     },
     "execution_count": 77,
     "metadata": {},
     "output_type": "execute_result"
    }
   ],
   "source": [
    "params = {'learning_rate': 0.3,\n",
    "          'subsample':0.5,\n",
    "         'objective':'binary:logistic'}\n",
    "\n",
    "# fit model on training data\n",
    "xgb_model = XGBClassifier(params = params,max_depth=12, n_estimators=200)\n",
    "xgb_model.fit(X_train_resamp, y_train_resamp)"
   ]
  },
  {
   "cell_type": "code",
   "execution_count": 78,
   "id": "5ceec61d",
   "metadata": {},
   "outputs": [
    {
     "name": "stdout",
     "output_type": "stream",
     "text": [
      "Train set Performance\n",
      "-------------Accuracy------------\n",
      "1.0\n",
      "-------------Precision------------\n",
      "1.0\n",
      "-------------Recall------------\n",
      "1.0\n",
      "-------------Confusion Matrix------------\n",
      "[[13374     0]\n",
      " [    0 13374]]\n"
     ]
    }
   ],
   "source": [
    "evaluate_train_data(xgb_model,X_train_resamp, y_train_resamp)"
   ]
  },
  {
   "cell_type": "code",
   "execution_count": 79,
   "id": "ab547736",
   "metadata": {},
   "outputs": [
    {
     "name": "stdout",
     "output_type": "stream",
     "text": [
      "Test set Performance\n",
      "-------------Accuracy------------\n",
      "0.9157142857142857\n",
      "-------------Precision------------\n",
      "0.5352380952380953\n",
      "-------------Recall------------\n",
      "0.49471830985915494\n",
      "-------------Confusion Matrix------------\n",
      "[[5488  244]\n",
      " [ 287  281]]\n"
     ]
    }
   ],
   "source": [
    "evaluate_test_data(xgb_model,X_test_pca, y_test)"
   ]
  },
  {
   "cell_type": "markdown",
   "id": "dc7f8cfa",
   "metadata": {
    "papermill": {
     "duration": 0.098675,
     "end_time": "2022-05-24T08:46:35.097778",
     "exception": false,
     "start_time": "2022-05-24T08:46:34.999103",
     "status": "completed"
    },
    "tags": []
   },
   "source": [
    "# 5. Creating submission file\n",
    "\n",
    "For submission, we need to make sure that the format is exactly the same as the sample.csv file. It contains 2 columns, id and churn_probability"
   ]
  },
  {
   "cell_type": "code",
   "execution_count": 80,
   "id": "2f6cd189",
   "metadata": {
    "execution": {
     "iopub.execute_input": "2022-05-24T08:46:35.297808Z",
     "iopub.status.busy": "2022-05-24T08:46:35.297047Z",
     "iopub.status.idle": "2022-05-24T08:46:35.306119Z",
     "shell.execute_reply": "2022-05-24T08:46:35.305382Z"
    },
    "papermill": {
     "duration": 0.113425,
     "end_time": "2022-05-24T08:46:35.308307",
     "exception": false,
     "start_time": "2022-05-24T08:46:35.194882",
     "status": "completed"
    },
    "tags": []
   },
   "outputs": [
    {
     "data": {
      "text/html": [
       "<div>\n",
       "<style scoped>\n",
       "    .dataframe tbody tr th:only-of-type {\n",
       "        vertical-align: middle;\n",
       "    }\n",
       "\n",
       "    .dataframe tbody tr th {\n",
       "        vertical-align: top;\n",
       "    }\n",
       "\n",
       "    .dataframe thead th {\n",
       "        text-align: right;\n",
       "    }\n",
       "</style>\n",
       "<table border=\"1\" class=\"dataframe\">\n",
       "  <thead>\n",
       "    <tr style=\"text-align: right;\">\n",
       "      <th></th>\n",
       "      <th>id</th>\n",
       "      <th>churn_probability</th>\n",
       "    </tr>\n",
       "  </thead>\n",
       "  <tbody>\n",
       "    <tr>\n",
       "      <th>0</th>\n",
       "      <td>69999</td>\n",
       "      <td>0</td>\n",
       "    </tr>\n",
       "    <tr>\n",
       "      <th>1</th>\n",
       "      <td>70000</td>\n",
       "      <td>0</td>\n",
       "    </tr>\n",
       "    <tr>\n",
       "      <th>2</th>\n",
       "      <td>70001</td>\n",
       "      <td>0</td>\n",
       "    </tr>\n",
       "    <tr>\n",
       "      <th>3</th>\n",
       "      <td>70002</td>\n",
       "      <td>0</td>\n",
       "    </tr>\n",
       "    <tr>\n",
       "      <th>4</th>\n",
       "      <td>70003</td>\n",
       "      <td>0</td>\n",
       "    </tr>\n",
       "  </tbody>\n",
       "</table>\n",
       "</div>"
      ],
      "text/plain": [
       "      id  churn_probability\n",
       "0  69999                  0\n",
       "1  70000                  0\n",
       "2  70001                  0\n",
       "3  70002                  0\n",
       "4  70003                  0"
      ]
     },
     "execution_count": 80,
     "metadata": {},
     "output_type": "execute_result"
    }
   ],
   "source": [
    "sample.head()"
   ]
  },
  {
   "cell_type": "markdown",
   "id": "e28db5e3",
   "metadata": {
    "papermill": {
     "duration": 0.098932,
     "end_time": "2022-05-24T08:46:35.516995",
     "exception": false,
     "start_time": "2022-05-24T08:46:35.418063",
     "status": "completed"
    },
    "tags": []
   },
   "source": [
    "The submission file should contain churn_probability values that have to be predicted for the unseen data provided (test.csv)"
   ]
  },
  {
   "cell_type": "code",
   "execution_count": 81,
   "id": "7864bf0f",
   "metadata": {
    "execution": {
     "iopub.execute_input": "2022-05-24T08:46:35.714384Z",
     "iopub.status.busy": "2022-05-24T08:46:35.713874Z",
     "iopub.status.idle": "2022-05-24T08:46:35.736201Z",
     "shell.execute_reply": "2022-05-24T08:46:35.735688Z"
    },
    "papermill": {
     "duration": 0.122035,
     "end_time": "2022-05-24T08:46:35.737891",
     "exception": false,
     "start_time": "2022-05-24T08:46:35.615856",
     "status": "completed"
    },
    "tags": []
   },
   "outputs": [
    {
     "data": {
      "text/html": [
       "<div>\n",
       "<style scoped>\n",
       "    .dataframe tbody tr th:only-of-type {\n",
       "        vertical-align: middle;\n",
       "    }\n",
       "\n",
       "    .dataframe tbody tr th {\n",
       "        vertical-align: top;\n",
       "    }\n",
       "\n",
       "    .dataframe thead th {\n",
       "        text-align: right;\n",
       "    }\n",
       "</style>\n",
       "<table border=\"1\" class=\"dataframe\">\n",
       "  <thead>\n",
       "    <tr style=\"text-align: right;\">\n",
       "      <th></th>\n",
       "      <th>id</th>\n",
       "      <th>circle_id</th>\n",
       "      <th>loc_og_t2o_mou</th>\n",
       "      <th>std_og_t2o_mou</th>\n",
       "      <th>loc_ic_t2o_mou</th>\n",
       "      <th>last_date_of_month_6</th>\n",
       "      <th>last_date_of_month_7</th>\n",
       "      <th>last_date_of_month_8</th>\n",
       "      <th>arpu_6</th>\n",
       "      <th>arpu_7</th>\n",
       "      <th>...</th>\n",
       "      <th>sachet_3g_6</th>\n",
       "      <th>sachet_3g_7</th>\n",
       "      <th>sachet_3g_8</th>\n",
       "      <th>fb_user_6</th>\n",
       "      <th>fb_user_7</th>\n",
       "      <th>fb_user_8</th>\n",
       "      <th>aon</th>\n",
       "      <th>aug_vbc_3g</th>\n",
       "      <th>jul_vbc_3g</th>\n",
       "      <th>jun_vbc_3g</th>\n",
       "    </tr>\n",
       "  </thead>\n",
       "  <tbody>\n",
       "    <tr>\n",
       "      <th>0</th>\n",
       "      <td>69999</td>\n",
       "      <td>109</td>\n",
       "      <td>0.0</td>\n",
       "      <td>0.0</td>\n",
       "      <td>0.0</td>\n",
       "      <td>6/30/2014</td>\n",
       "      <td>7/31/2014</td>\n",
       "      <td>8/31/2014</td>\n",
       "      <td>91.882</td>\n",
       "      <td>65.330</td>\n",
       "      <td>...</td>\n",
       "      <td>0</td>\n",
       "      <td>0</td>\n",
       "      <td>0</td>\n",
       "      <td>NaN</td>\n",
       "      <td>NaN</td>\n",
       "      <td>NaN</td>\n",
       "      <td>1692</td>\n",
       "      <td>0.00</td>\n",
       "      <td>0.00</td>\n",
       "      <td>0.00</td>\n",
       "    </tr>\n",
       "    <tr>\n",
       "      <th>1</th>\n",
       "      <td>70000</td>\n",
       "      <td>109</td>\n",
       "      <td>0.0</td>\n",
       "      <td>0.0</td>\n",
       "      <td>0.0</td>\n",
       "      <td>6/30/2014</td>\n",
       "      <td>7/31/2014</td>\n",
       "      <td>8/31/2014</td>\n",
       "      <td>414.168</td>\n",
       "      <td>515.568</td>\n",
       "      <td>...</td>\n",
       "      <td>0</td>\n",
       "      <td>0</td>\n",
       "      <td>0</td>\n",
       "      <td>NaN</td>\n",
       "      <td>NaN</td>\n",
       "      <td>NaN</td>\n",
       "      <td>2533</td>\n",
       "      <td>0.00</td>\n",
       "      <td>0.00</td>\n",
       "      <td>0.00</td>\n",
       "    </tr>\n",
       "    <tr>\n",
       "      <th>2</th>\n",
       "      <td>70001</td>\n",
       "      <td>109</td>\n",
       "      <td>0.0</td>\n",
       "      <td>0.0</td>\n",
       "      <td>0.0</td>\n",
       "      <td>6/30/2014</td>\n",
       "      <td>7/31/2014</td>\n",
       "      <td>8/31/2014</td>\n",
       "      <td>329.844</td>\n",
       "      <td>434.884</td>\n",
       "      <td>...</td>\n",
       "      <td>0</td>\n",
       "      <td>0</td>\n",
       "      <td>0</td>\n",
       "      <td>NaN</td>\n",
       "      <td>NaN</td>\n",
       "      <td>NaN</td>\n",
       "      <td>277</td>\n",
       "      <td>525.61</td>\n",
       "      <td>758.41</td>\n",
       "      <td>241.84</td>\n",
       "    </tr>\n",
       "    <tr>\n",
       "      <th>3</th>\n",
       "      <td>70002</td>\n",
       "      <td>109</td>\n",
       "      <td>0.0</td>\n",
       "      <td>0.0</td>\n",
       "      <td>0.0</td>\n",
       "      <td>6/30/2014</td>\n",
       "      <td>7/31/2014</td>\n",
       "      <td>8/31/2014</td>\n",
       "      <td>43.550</td>\n",
       "      <td>171.390</td>\n",
       "      <td>...</td>\n",
       "      <td>0</td>\n",
       "      <td>0</td>\n",
       "      <td>0</td>\n",
       "      <td>NaN</td>\n",
       "      <td>NaN</td>\n",
       "      <td>NaN</td>\n",
       "      <td>1244</td>\n",
       "      <td>0.00</td>\n",
       "      <td>0.00</td>\n",
       "      <td>0.00</td>\n",
       "    </tr>\n",
       "    <tr>\n",
       "      <th>4</th>\n",
       "      <td>70003</td>\n",
       "      <td>109</td>\n",
       "      <td>0.0</td>\n",
       "      <td>0.0</td>\n",
       "      <td>0.0</td>\n",
       "      <td>6/30/2014</td>\n",
       "      <td>7/31/2014</td>\n",
       "      <td>8/31/2014</td>\n",
       "      <td>306.854</td>\n",
       "      <td>406.289</td>\n",
       "      <td>...</td>\n",
       "      <td>0</td>\n",
       "      <td>0</td>\n",
       "      <td>0</td>\n",
       "      <td>NaN</td>\n",
       "      <td>NaN</td>\n",
       "      <td>NaN</td>\n",
       "      <td>462</td>\n",
       "      <td>0.00</td>\n",
       "      <td>0.00</td>\n",
       "      <td>0.00</td>\n",
       "    </tr>\n",
       "  </tbody>\n",
       "</table>\n",
       "<p>5 rows × 171 columns</p>\n",
       "</div>"
      ],
      "text/plain": [
       "      id  circle_id  loc_og_t2o_mou  std_og_t2o_mou  loc_ic_t2o_mou  \\\n",
       "0  69999        109             0.0             0.0             0.0   \n",
       "1  70000        109             0.0             0.0             0.0   \n",
       "2  70001        109             0.0             0.0             0.0   \n",
       "3  70002        109             0.0             0.0             0.0   \n",
       "4  70003        109             0.0             0.0             0.0   \n",
       "\n",
       "  last_date_of_month_6 last_date_of_month_7 last_date_of_month_8   arpu_6  \\\n",
       "0            6/30/2014            7/31/2014            8/31/2014   91.882   \n",
       "1            6/30/2014            7/31/2014            8/31/2014  414.168   \n",
       "2            6/30/2014            7/31/2014            8/31/2014  329.844   \n",
       "3            6/30/2014            7/31/2014            8/31/2014   43.550   \n",
       "4            6/30/2014            7/31/2014            8/31/2014  306.854   \n",
       "\n",
       "    arpu_7  ...  sachet_3g_6  sachet_3g_7  sachet_3g_8  fb_user_6  fb_user_7  \\\n",
       "0   65.330  ...            0            0            0        NaN        NaN   \n",
       "1  515.568  ...            0            0            0        NaN        NaN   \n",
       "2  434.884  ...            0            0            0        NaN        NaN   \n",
       "3  171.390  ...            0            0            0        NaN        NaN   \n",
       "4  406.289  ...            0            0            0        NaN        NaN   \n",
       "\n",
       "   fb_user_8   aon  aug_vbc_3g  jul_vbc_3g  jun_vbc_3g  \n",
       "0        NaN  1692        0.00        0.00        0.00  \n",
       "1        NaN  2533        0.00        0.00        0.00  \n",
       "2        NaN   277      525.61      758.41      241.84  \n",
       "3        NaN  1244        0.00        0.00        0.00  \n",
       "4        NaN   462        0.00        0.00        0.00  \n",
       "\n",
       "[5 rows x 171 columns]"
      ]
     },
     "execution_count": 81,
     "metadata": {},
     "output_type": "execute_result"
    }
   ],
   "source": [
    "unseen.head()"
   ]
  },
  {
   "cell_type": "code",
   "execution_count": 82,
   "id": "e1bd43a9",
   "metadata": {},
   "outputs": [],
   "source": [
    "unseen['arpu_Gphase'] = (unseen['arpu_6'] + unseen['arpu_7'])/2"
   ]
  },
  {
   "cell_type": "code",
   "execution_count": 83,
   "id": "f46b86bc",
   "metadata": {},
   "outputs": [],
   "source": [
    "# Calling the Scaling function\n",
    "scalar = MinMaxScaler()\n",
    "\n",
    "# Scaling and transforming the data for the columns that are numerical\n",
    "unseen[num_col]=scalar.fit_transform(unseen[num_col])\n",
    "\n",
    "# Calling the KNN Imputer function\n",
    "knn=KNNImputer(n_neighbors=3)\n",
    "\n",
    "# Imputing the NaN values using KNN Imputer\n",
    "unseen_knn = pd.DataFrame(knn.fit_transform(unseen[num_col]))\n"
   ]
  },
  {
   "cell_type": "code",
   "execution_count": 84,
   "id": "126a8c8d",
   "metadata": {},
   "outputs": [],
   "source": [
    "unseen[num_col]=scalar.inverse_transform(unseen_knn)"
   ]
  },
  {
   "cell_type": "code",
   "execution_count": 85,
   "id": "bb6826c8",
   "metadata": {},
   "outputs": [],
   "source": [
    "\n",
    "#Usage \n",
    "unseen['delta_vol_2g'] = unseen['vol_2g_mb_8'] - (unseen['vol_2g_mb_6'].add(unseen['vol_2g_mb_7'])).div(2)\n",
    "unseen['delta_vol_3g'] = unseen['vol_3g_mb_8'] - (unseen['vol_3g_mb_6'].add(unseen['vol_3g_mb_7'])).div(2)\n",
    "unseen['delta_total_og_mou'] = unseen['total_og_mou_8'] - (unseen['total_og_mou_6'].add(unseen['total_og_mou_7'])).div(2)\n",
    "unseen['delta_total_ic_mou'] = unseen['total_ic_mou_8'] - (unseen['total_ic_mou_6'].add(unseen['total_ic_mou_7'])).div(2)\n",
    "unseen['delta_vbc_3g'] = unseen['aug_vbc_3g'] - (unseen['jun_vbc_3g'].add(unseen['jul_vbc_3g'])).div(2)\n",
    "\n",
    "# Revenue\n",
    "unseen['delta_arpu'] = unseen['arpu_8'] - (unseen['arpu_6'].add(unseen['arpu_7'])).div(2)\n",
    "unseen['delta_total_rech_amt'] = unseen['total_rech_amt_8'] -(unseen['total_rech_amt_6'].add(unseen['total_rech_amt_7'])).div(2)"
   ]
  },
  {
   "cell_type": "code",
   "execution_count": 86,
   "id": "376f74ef",
   "metadata": {
    "execution": {
     "iopub.execute_input": "2022-05-24T08:46:36.152620Z",
     "iopub.status.busy": "2022-05-24T08:46:36.152178Z",
     "iopub.status.idle": "2022-05-24T08:46:36.203052Z",
     "shell.execute_reply": "2022-05-24T08:46:36.202497Z"
    },
    "papermill": {
     "duration": 0.164458,
     "end_time": "2022-05-24T08:46:36.204666",
     "exception": false,
     "start_time": "2022-05-24T08:46:36.040208",
     "status": "completed"
    },
    "tags": []
   },
   "outputs": [
    {
     "data": {
      "text/plain": [
       "(30000, 111)"
      ]
     },
     "execution_count": 86,
     "metadata": {},
     "output_type": "execute_result"
    }
   ],
   "source": [
    "new_vars = X_train.columns\n",
    "submission_data = unseen.set_index('id')[new_vars]\n",
    "submission_data.shape"
   ]
  },
  {
   "cell_type": "code",
   "execution_count": 87,
   "id": "86b7546c",
   "metadata": {},
   "outputs": [],
   "source": [
    "test_scaled = scale.transform(submission_data)"
   ]
  },
  {
   "cell_type": "code",
   "execution_count": 88,
   "id": "b2057226",
   "metadata": {},
   "outputs": [
    {
     "data": {
      "text/plain": [
       "(30000, 60)"
      ]
     },
     "execution_count": 88,
     "metadata": {},
     "output_type": "execute_result"
    }
   ],
   "source": [
    "test_pca = pca_final.transform(test_scaled)\n",
    "test_pca.shape"
   ]
  },
  {
   "cell_type": "markdown",
   "id": "09cc3f19",
   "metadata": {},
   "source": [
    "__As XG Boost gives the highest accuracy on test data, we will perform the prediction for unseen data on XGBClassifier model__"
   ]
  },
  {
   "cell_type": "code",
   "execution_count": 89,
   "id": "53f323c0",
   "metadata": {},
   "outputs": [],
   "source": [
    "unseen['churn_probability'] = xgb_model.predict(test_pca)"
   ]
  },
  {
   "cell_type": "markdown",
   "id": "24dbce0b",
   "metadata": {
    "papermill": {
     "duration": 0.099943,
     "end_time": "2022-05-24T08:46:35.935317",
     "exception": false,
     "start_time": "2022-05-24T08:46:35.835374",
     "status": "completed"
    },
    "tags": []
   },
   "source": [
    "Lets first select the columns that we want to work with (or create them, if you have done any feature engineering)"
   ]
  },
  {
   "cell_type": "markdown",
   "id": "ed5bd2ab",
   "metadata": {
    "papermill": {
     "duration": 0.097352,
     "end_time": "2022-05-24T08:46:36.401664",
     "exception": false,
     "start_time": "2022-05-24T08:46:36.304312",
     "status": "completed"
    },
    "tags": []
   },
   "source": [
    "Next, lets create a new column in the unseen dataset called churn_probability and use the model pipeline to predict the probabilities for this data"
   ]
  },
  {
   "cell_type": "code",
   "execution_count": 90,
   "id": "30926e2b",
   "metadata": {
    "execution": {
     "iopub.execute_input": "2022-05-24T08:46:36.601339Z",
     "iopub.status.busy": "2022-05-24T08:46:36.600892Z",
     "iopub.status.idle": "2022-05-24T08:46:36.637208Z",
     "shell.execute_reply": "2022-05-24T08:46:36.636154Z"
    },
    "papermill": {
     "duration": 0.140554,
     "end_time": "2022-05-24T08:46:36.640138",
     "exception": false,
     "start_time": "2022-05-24T08:46:36.499584",
     "status": "completed"
    },
    "tags": []
   },
   "outputs": [
    {
     "data": {
      "text/html": [
       "<div>\n",
       "<style scoped>\n",
       "    .dataframe tbody tr th:only-of-type {\n",
       "        vertical-align: middle;\n",
       "    }\n",
       "\n",
       "    .dataframe tbody tr th {\n",
       "        vertical-align: top;\n",
       "    }\n",
       "\n",
       "    .dataframe thead th {\n",
       "        text-align: right;\n",
       "    }\n",
       "</style>\n",
       "<table border=\"1\" class=\"dataframe\">\n",
       "  <thead>\n",
       "    <tr style=\"text-align: right;\">\n",
       "      <th></th>\n",
       "      <th>id</th>\n",
       "      <th>churn_probability</th>\n",
       "    </tr>\n",
       "  </thead>\n",
       "  <tbody>\n",
       "    <tr>\n",
       "      <th>0</th>\n",
       "      <td>69999</td>\n",
       "      <td>0</td>\n",
       "    </tr>\n",
       "    <tr>\n",
       "      <th>1</th>\n",
       "      <td>70000</td>\n",
       "      <td>0</td>\n",
       "    </tr>\n",
       "    <tr>\n",
       "      <th>2</th>\n",
       "      <td>70001</td>\n",
       "      <td>1</td>\n",
       "    </tr>\n",
       "    <tr>\n",
       "      <th>3</th>\n",
       "      <td>70002</td>\n",
       "      <td>0</td>\n",
       "    </tr>\n",
       "    <tr>\n",
       "      <th>4</th>\n",
       "      <td>70003</td>\n",
       "      <td>0</td>\n",
       "    </tr>\n",
       "  </tbody>\n",
       "</table>\n",
       "</div>"
      ],
      "text/plain": [
       "      id  churn_probability\n",
       "0  69999                  0\n",
       "1  70000                  0\n",
       "2  70001                  1\n",
       "3  70002                  0\n",
       "4  70003                  0"
      ]
     },
     "execution_count": 90,
     "metadata": {},
     "output_type": "execute_result"
    }
   ],
   "source": [
    "output = unseen[['id','churn_probability']]\n",
    "output.head()"
   ]
  },
  {
   "cell_type": "markdown",
   "id": "c3b0c584",
   "metadata": {
    "papermill": {
     "duration": 0.099349,
     "end_time": "2022-05-24T08:46:36.888450",
     "exception": false,
     "start_time": "2022-05-24T08:46:36.789101",
     "status": "completed"
    },
    "tags": []
   },
   "source": [
    "Finally, lets create a csv file out of this dataset, ensuring to set index=False to avoid an addition column in the csv."
   ]
  },
  {
   "cell_type": "code",
   "execution_count": 91,
   "id": "ce44afde",
   "metadata": {
    "execution": {
     "iopub.execute_input": "2022-05-24T08:46:37.092289Z",
     "iopub.status.busy": "2022-05-24T08:46:37.091583Z",
     "iopub.status.idle": "2022-05-24T08:46:37.142002Z",
     "shell.execute_reply": "2022-05-24T08:46:37.141131Z"
    },
    "papermill": {
     "duration": 0.155849,
     "end_time": "2022-05-24T08:46:37.144070",
     "exception": false,
     "start_time": "2022-05-24T08:46:36.988221",
     "status": "completed"
    },
    "tags": []
   },
   "outputs": [],
   "source": [
    "output.to_csv('submission.csv',index=False)"
   ]
  },
  {
   "cell_type": "markdown",
   "id": "50c6ed53",
   "metadata": {
    "papermill": {
     "duration": 0.097433,
     "end_time": "2022-05-24T08:46:37.340875",
     "exception": false,
     "start_time": "2022-05-24T08:46:37.243442",
     "status": "completed"
    },
    "tags": []
   },
   "source": [
    "You can now take this file and upload it as a submission on Kaggle."
   ]
  },
  {
   "cell_type": "markdown",
   "id": "7ce196aa",
   "metadata": {},
   "source": [
    "# 6. Feature selection and Recommendations"
   ]
  },
  {
   "cell_type": "code",
   "execution_count": 92,
   "id": "84cee2b0",
   "metadata": {},
   "outputs": [
    {
     "data": {
      "text/html": [
       "<style>#sk-container-id-5 {color: black;background-color: white;}#sk-container-id-5 pre{padding: 0;}#sk-container-id-5 div.sk-toggleable {background-color: white;}#sk-container-id-5 label.sk-toggleable__label {cursor: pointer;display: block;width: 100%;margin-bottom: 0;padding: 0.3em;box-sizing: border-box;text-align: center;}#sk-container-id-5 label.sk-toggleable__label-arrow:before {content: \"▸\";float: left;margin-right: 0.25em;color: #696969;}#sk-container-id-5 label.sk-toggleable__label-arrow:hover:before {color: black;}#sk-container-id-5 div.sk-estimator:hover label.sk-toggleable__label-arrow:before {color: black;}#sk-container-id-5 div.sk-toggleable__content {max-height: 0;max-width: 0;overflow: hidden;text-align: left;background-color: #f0f8ff;}#sk-container-id-5 div.sk-toggleable__content pre {margin: 0.2em;color: black;border-radius: 0.25em;background-color: #f0f8ff;}#sk-container-id-5 input.sk-toggleable__control:checked~div.sk-toggleable__content {max-height: 200px;max-width: 100%;overflow: auto;}#sk-container-id-5 input.sk-toggleable__control:checked~label.sk-toggleable__label-arrow:before {content: \"▾\";}#sk-container-id-5 div.sk-estimator input.sk-toggleable__control:checked~label.sk-toggleable__label {background-color: #d4ebff;}#sk-container-id-5 div.sk-label input.sk-toggleable__control:checked~label.sk-toggleable__label {background-color: #d4ebff;}#sk-container-id-5 input.sk-hidden--visually {border: 0;clip: rect(1px 1px 1px 1px);clip: rect(1px, 1px, 1px, 1px);height: 1px;margin: -1px;overflow: hidden;padding: 0;position: absolute;width: 1px;}#sk-container-id-5 div.sk-estimator {font-family: monospace;background-color: #f0f8ff;border: 1px dotted black;border-radius: 0.25em;box-sizing: border-box;margin-bottom: 0.5em;}#sk-container-id-5 div.sk-estimator:hover {background-color: #d4ebff;}#sk-container-id-5 div.sk-parallel-item::after {content: \"\";width: 100%;border-bottom: 1px solid gray;flex-grow: 1;}#sk-container-id-5 div.sk-label:hover label.sk-toggleable__label {background-color: #d4ebff;}#sk-container-id-5 div.sk-serial::before {content: \"\";position: absolute;border-left: 1px solid gray;box-sizing: border-box;top: 0;bottom: 0;left: 50%;z-index: 0;}#sk-container-id-5 div.sk-serial {display: flex;flex-direction: column;align-items: center;background-color: white;padding-right: 0.2em;padding-left: 0.2em;position: relative;}#sk-container-id-5 div.sk-item {position: relative;z-index: 1;}#sk-container-id-5 div.sk-parallel {display: flex;align-items: stretch;justify-content: center;background-color: white;position: relative;}#sk-container-id-5 div.sk-item::before, #sk-container-id-5 div.sk-parallel-item::before {content: \"\";position: absolute;border-left: 1px solid gray;box-sizing: border-box;top: 0;bottom: 0;left: 50%;z-index: -1;}#sk-container-id-5 div.sk-parallel-item {display: flex;flex-direction: column;z-index: 1;position: relative;background-color: white;}#sk-container-id-5 div.sk-parallel-item:first-child::after {align-self: flex-end;width: 50%;}#sk-container-id-5 div.sk-parallel-item:last-child::after {align-self: flex-start;width: 50%;}#sk-container-id-5 div.sk-parallel-item:only-child::after {width: 0;}#sk-container-id-5 div.sk-dashed-wrapped {border: 1px dashed gray;margin: 0 0.4em 0.5em 0.4em;box-sizing: border-box;padding-bottom: 0.4em;background-color: white;}#sk-container-id-5 div.sk-label label {font-family: monospace;font-weight: bold;display: inline-block;line-height: 1.2em;}#sk-container-id-5 div.sk-label-container {text-align: center;}#sk-container-id-5 div.sk-container {/* jupyter's `normalize.less` sets `[hidden] { display: none; }` but bootstrap.min.css set `[hidden] { display: none !important; }` so we also need the `!important` here to be able to override the default hidden behavior on the sphinx rendered scikit-learn.org. See: https://github.com/scikit-learn/scikit-learn/issues/21755 */display: inline-block !important;position: relative;}#sk-container-id-5 div.sk-text-repr-fallback {display: none;}</style><div id=\"sk-container-id-5\" class=\"sk-top-container\"><div class=\"sk-text-repr-fallback\"><pre>RandomForestClassifier(max_depth=20, max_features=40, n_estimators=200,\n",
       "                       n_jobs=-1, random_state=42)</pre><b>In a Jupyter environment, please rerun this cell to show the HTML representation or trust the notebook. <br />On GitHub, the HTML representation is unable to render, please try loading this page with nbviewer.org.</b></div><div class=\"sk-container\" hidden><div class=\"sk-item\"><div class=\"sk-estimator sk-toggleable\"><input class=\"sk-toggleable__control sk-hidden--visually\" id=\"sk-estimator-id-5\" type=\"checkbox\" checked><label for=\"sk-estimator-id-5\" class=\"sk-toggleable__label sk-toggleable__label-arrow\">RandomForestClassifier</label><div class=\"sk-toggleable__content\"><pre>RandomForestClassifier(max_depth=20, max_features=40, n_estimators=200,\n",
       "                       n_jobs=-1, random_state=42)</pre></div></div></div></div></div>"
      ],
      "text/plain": [
       "RandomForestClassifier(max_depth=20, max_features=40, n_estimators=200,\n",
       "                       n_jobs=-1, random_state=42)"
      ]
     },
     "execution_count": 92,
     "metadata": {},
     "output_type": "execute_result"
    }
   ],
   "source": [
    "rf_imp = rf_final\n",
    "rf_imp.fit(X_train_scaled, y_train)"
   ]
  },
  {
   "cell_type": "code",
   "execution_count": 93,
   "id": "78bcfce6",
   "metadata": {},
   "outputs": [],
   "source": [
    "feature_importances = pd.DataFrame({'col':new_vars, 'importance':rf_imp.feature_importances_})\n",
    "feature_importances = feature_importances.nlargest(10, 'importance')"
   ]
  },
  {
   "cell_type": "code",
   "execution_count": 94,
   "id": "d09aba01",
   "metadata": {},
   "outputs": [
    {
     "data": {
      "text/plain": [
       "<BarContainer object of 10 artists>"
      ]
     },
     "execution_count": 94,
     "metadata": {},
     "output_type": "execute_result"
    },
    {
     "data": {
      "image/png": "[encoded data removed]",
      "text/plain": [
       "<Figure size 1080x576 with 1 Axes>"
      ]
     },
     "metadata": {
      "needs_background": "light"
     },
     "output_type": "display_data"
    }
   ],
   "source": [
    "plt.figure(figsize=(15,8))\n",
    "plt.xticks(rotation=45)\n",
    "plt.bar(feature_importances['col'], feature_importances['importance'])"
   ]
  },
  {
   "cell_type": "markdown",
   "id": "92ed22a6",
   "metadata": {},
   "source": [
    "## Recommentations"
   ]
  },
  {
   "cell_type": "markdown",
   "id": "d9d3ed5d",
   "metadata": {},
   "source": [
    "#### Business Insights\n",
    "- Customers with around 4 years of tenure are more likely to churn and company should concentrate more on that segment by rolling out new schems to that group.\n",
    "\n",
    "- Average revenue per user seems to be most important feature in determining churn prediction.\n",
    "\n",
    "- Incoming and Outgoing Calls on romaing and local in action phase are strong indicators of churn behaviour\n",
    "\n",
    "- Total incoming calls from any network provides a strong indicator of churn behaviour.\n",
    "\n",
    "- Better 2G/3G area coverage where 2G/3G services are not good, it's strong indicator of churn behaviour.\n",
    "\n",
    "#### Following features should be monitored closely to predict whether a high-value customer will churn or not \n",
    "- Recharge amout in action phase \n",
    "- Decline in the ARPU (Average Revenue Per User) from good phase to action phase.\n",
    "- Decline in Total recharge amount from good phase to action phase.\n",
    "- Decline in minute of usage of any incoming calls(Roaming, local) and outgoing calls in action phase."
   ]
  }
 ],
 "metadata": {
  "kernelspec": {
   "display_name": "Python 3 (ipykernel)",
   "language": "python",
   "name": "python3"
  },
  "language_info": {
   "codemirror_mode": {
    "name": "ipython",
    "version": 3
   },
   "file_extension": ".py",
   "mimetype": "text/x-python",
   "name": "python",
   "nbconvert_exporter": "python",
   "pygments_lexer": "ipython3",
   "version": "3.9.12"
  },
  "papermill": {
   "default_parameters": {},
   "duration": 56.535965,
   "end_time": "2022-05-24T08:46:38.360346",
   "environment_variables": {},
   "exception": null,
   "input_path": "__notebook__.ipynb",
   "output_path": "__notebook__.ipynb",
   "parameters": {},
   "start_time": "2022-05-24T08:45:41.824381",
   "version": "2.3.4"
  }
 },
 "nbformat": 4,
 "nbformat_minor": 5
}
