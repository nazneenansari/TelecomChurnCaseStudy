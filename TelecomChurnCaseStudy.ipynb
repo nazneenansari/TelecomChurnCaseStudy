{
 "cells": [
  {
   "cell_type": "markdown",
   "id": "13a2d4e8",
   "metadata": {
    "papermill": {
     "duration": 0.072196,
     "end_time": "2022-05-24T08:45:50.833987",
     "exception": false,
     "start_time": "2022-05-24T08:45:50.761791",
     "status": "completed"
    },
    "tags": []
   },
   "source": [
    "# Telecom Churn Prediction - Starter Notebook"
   ]
  },
  {
   "cell_type": "markdown",
   "id": "c8f1e43a",
   "metadata": {
    "papermill": {
     "duration": 0.066283,
     "end_time": "2022-05-24T08:45:50.969526",
     "exception": false,
     "start_time": "2022-05-24T08:45:50.903243",
     "status": "completed"
    },
    "tags": []
   },
   "source": [
    "The goal of this notebook is to provide an overview of how write a notebook and create a submission file that successfully solves the churn prediction problem. Please download the datasets, unzip and place them in the same folder as this notebook.\n",
    "\n",
    "We are going to follow the process called CRISP-DM.\n",
    "\n",
    "<img src=\"https://upload.wikimedia.org/wikipedia/commons/thumb/b/b9/CRISP-DM_Process_Diagram.png/639px-CRISP-DM_Process_Diagram.png\" style=\"height: 400px; width:400px;\"/>\n",
    "\n",
    "After Business and Data Understanding via EDA, we want to prepare data for modelling. Then evaluate and submit our predictions."
   ]
  },
  {
   "cell_type": "markdown",
   "id": "e787bdaf",
   "metadata": {
    "papermill": {
     "duration": 0.065074,
     "end_time": "2022-05-24T08:45:51.101404",
     "exception": false,
     "start_time": "2022-05-24T08:45:51.036330",
     "status": "completed"
    },
    "tags": []
   },
   "source": [
    "# 0. Problem statement\n",
    "\n",
    "In the telecom industry, customers are able to choose from multiple service providers and actively switch from one operator to another. In this highly competitive market, the telecommunications industry experiences an average of 15-25% annual churn rate. Given the fact that it costs 5-10 times more to acquire a new customer than to retain an existing one, customer retention has now become even more important than customer acquisition.\n",
    "\n",
    "For many incumbent operators, retaining high profitable customers is the number one business\n",
    "goal. To reduce customer churn, telecom companies need to predict which customers are at high risk of churn. In this project, you will analyze customer-level data of a leading telecom firm, build predictive models to identify customers at high risk of churn, and identify the main indicators of churn.\n",
    "\n",
    "In this competition, your goal is *to build a machine learning model that is able to predict churning customers based on the features provided for their usage.*\n",
    "\n",
    "**Customer behaviour during churn:**\n",
    "\n",
    "Customers usually do not decide to switch to another competitor instantly, but rather over a\n",
    "period of time (this is especially applicable to high-value customers). In churn prediction, we\n",
    "assume that there are three phases of customer lifecycle :\n",
    "\n",
    "1. <u>The ‘good’ phase:</u> In this phase, the customer is happy with the service and behaves as usual.\n",
    "\n",
    "2. <u>The ‘action’ phase:</u> The customer experience starts to sore in this phase, for e.g. he/she gets a compelling offer from a competitor, faces unjust charges, becomes unhappy with service quality etc. In this phase, the customer usually shows different behaviour than the ‘good’ months. It is crucial to identify high-churn-risk customers in this phase, since some corrective actions can be taken at this point (such as matching the competitor’s offer/improving the service quality etc.)\n",
    "\n",
    "3. <u>The ‘churn’ phase:</u> In this phase, the customer is said to have churned. In this case, since you are working over a four-month window, the first two months are the ‘good’ phase, the third month is the ‘action’ phase, while the fourth month (September) is the ‘churn’ phase."
   ]
  },
  {
   "cell_type": "markdown",
   "id": "c79a7193",
   "metadata": {
    "papermill": {
     "duration": 0.063524,
     "end_time": "2022-05-24T08:45:51.228858",
     "exception": false,
     "start_time": "2022-05-24T08:45:51.165334",
     "status": "completed"
    },
    "tags": []
   },
   "source": [
    "# 1. Loading dependencies & datasets\n",
    "\n",
    "Lets start by loading our dependencies. We can keep adding any imports to this cell block, as we write mode and mode code."
   ]
  },
  {
   "cell_type": "code",
   "execution_count": 1,
   "id": "1bd0d2e9",
   "metadata": {
    "execution": {
     "iopub.execute_input": "2022-05-24T08:45:51.381899Z",
     "iopub.status.busy": "2022-05-24T08:45:51.380830Z",
     "iopub.status.idle": "2022-05-24T08:45:52.753968Z",
     "shell.execute_reply": "2022-05-24T08:45:52.753206Z"
    },
    "papermill": {
     "duration": 1.454938,
     "end_time": "2022-05-24T08:45:52.756157",
     "exception": false,
     "start_time": "2022-05-24T08:45:51.301219",
     "status": "completed"
    },
    "tags": []
   },
   "outputs": [],
   "source": [
    "#Data Structures\n",
    "import pandas as pd\n",
    "import numpy as np\n",
    "import re\n",
    "import os\n",
    "\n",
    "### For installing missingno library, type this command in terminal\n",
    "#pip install missingno\n",
    "#pip install imblearn\n",
    "\n",
    "import missingno as msno\n",
    "\n",
    "#Sklearn\n",
    "from sklearn.impute import SimpleImputer\n",
    "from sklearn.preprocessing import StandardScaler\n",
    "from sklearn.model_selection import train_test_split\n",
    "from sklearn.ensemble import RandomForestClassifier\n",
    "from sklearn.decomposition import PCA\n",
    "from sklearn.manifold import TSNE\n",
    "from sklearn.linear_model import LogisticRegression\n",
    "from sklearn.pipeline import Pipeline\n",
    "from sklearn.model_selection import GridSearchCV\n",
    "from sklearn.metrics import confusion_matrix, precision_score, recall_score, accuracy_score\n",
    "from sklearn.feature_selection import VarianceThreshold\n",
    "from imblearn.over_sampling import SMOTE\n",
    "from imblearn.pipeline import Pipeline as imbpipeline\n",
    "\n",
    "#Plotting\n",
    "import matplotlib.pyplot as plt\n",
    "from mpl_toolkits.mplot3d import Axes3D\n",
    "import seaborn as sns\n",
    "\n",
    "#Others\n",
    "import warnings\n",
    "warnings.filterwarnings('ignore')\n",
    "\n",
    "%matplotlib inline\n",
    "#pd.set_option('display.max_rows', None)"
   ]
  },
  {
   "cell_type": "markdown",
   "id": "907dd34e",
   "metadata": {
    "papermill": {
     "duration": 0.061065,
     "end_time": "2022-05-24T08:45:52.879192",
     "exception": false,
     "start_time": "2022-05-24T08:45:52.818127",
     "status": "completed"
    },
    "tags": []
   },
   "source": [
    "Next, we load our datasets and the data dictionary file.\n",
    "\n",
    "The **train.csv** file contains both dependent and independent features, while the **test.csv** contains only the independent variables. \n",
    "\n",
    "So, for model selection, I will create our own train/test dataset from the **train.csv** and use the model to predict the solution using the features in unseen test.csv data for submission."
   ]
  },
  {
   "cell_type": "code",
   "execution_count": 2,
   "id": "20371590",
   "metadata": {
    "execution": {
     "iopub.execute_input": "2022-05-24T08:45:53.144706Z",
     "iopub.status.busy": "2022-05-24T08:45:53.144434Z",
     "iopub.status.idle": "2022-05-24T08:45:55.961977Z",
     "shell.execute_reply": "2022-05-24T08:45:55.961070Z"
    },
    "papermill": {
     "duration": 2.885197,
     "end_time": "2022-05-24T08:45:55.963763",
     "exception": false,
     "start_time": "2022-05-24T08:45:53.078566",
     "status": "completed"
    },
    "tags": []
   },
   "outputs": [
    {
     "name": "stdout",
     "output_type": "stream",
     "text": [
      "(69999, 172)\n",
      "(30000, 171)\n",
      "(30000, 2)\n",
      "(36, 2)\n"
     ]
    }
   ],
   "source": [
    "#INCASE RUNNING THIS LOCALLY, PASS THE RELATIVE PATH OF THE CSV FILES BELOW\n",
    "#(e.g. if files are in same folder as notebook, simple write \"train.csv\" as path)\n",
    "\n",
    "data = pd.read_csv(\"train.csv\")\n",
    "unseen = pd.read_csv(\"test.csv\")\n",
    "sample = pd.read_csv(\"sample.csv\")\n",
    "data_dict = pd.read_csv(\"data_dictionary.csv\")\n",
    "\n",
    "print(data.shape)\n",
    "print(unseen.shape)\n",
    "print(sample.shape)\n",
    "print(data_dict.shape)"
   ]
  },
  {
   "cell_type": "markdown",
   "id": "1760a542",
   "metadata": {
    "papermill": {
     "duration": 0.062721,
     "end_time": "2022-05-24T08:45:56.092421",
     "exception": false,
     "start_time": "2022-05-24T08:45:56.029700",
     "status": "completed"
    },
    "tags": []
   },
   "source": [
    "1. Lets analyze the data dictionary versus the churn dataset.\n",
    "2. The data dictonary contains a list of abbrevations which provide you all the information you need to understand what a specific feature/variable in the churn dataset represents\n",
    "3. Example: \n",
    "\n",
    "> \"arpu_7\" -> Average revenue per user + KPI for the month of July\n",
    ">\n",
    "> \"onnet_mou_6\" ->  All kind of calls within the same operator network + Minutes of usage voice calls + KPI for the month of June\n",
    ">\n",
    ">\"night_pck_user_8\" -> Scheme to use during specific night hours only + Prepaid service schemes called PACKS + KPI for the month of August\n",
    ">\n",
    ">\"max_rech_data_7\" -> Maximum + Recharge + Mobile internet + KPI for the month of July\n",
    "\n",
    "Its important to understand the definitions of each feature that you are working with, take notes on which feature you think might impact the churn rate of a user, and what sort of analysis could you do to understand the distribution of the feature better."
   ]
  },
  {
   "cell_type": "code",
   "execution_count": 3,
   "id": "a0b707d6",
   "metadata": {
    "execution": {
     "iopub.execute_input": "2022-05-24T08:45:56.220637Z",
     "iopub.status.busy": "2022-05-24T08:45:56.220362Z",
     "iopub.status.idle": "2022-05-24T08:45:56.237901Z",
     "shell.execute_reply": "2022-05-24T08:45:56.237212Z"
    },
    "papermill": {
     "duration": 0.085045,
     "end_time": "2022-05-24T08:45:56.240638",
     "exception": false,
     "start_time": "2022-05-24T08:45:56.155593",
     "status": "completed"
    },
    "tags": []
   },
   "outputs": [],
   "source": [
    "#data_dict"
   ]
  },
  {
   "cell_type": "code",
   "execution_count": 4,
   "id": "a278baa6",
   "metadata": {},
   "outputs": [
    {
     "data": {
      "text/html": [
       "<div>\n",
       "<style scoped>\n",
       "    .dataframe tbody tr th:only-of-type {\n",
       "        vertical-align: middle;\n",
       "    }\n",
       "\n",
       "    .dataframe tbody tr th {\n",
       "        vertical-align: top;\n",
       "    }\n",
       "\n",
       "    .dataframe thead th {\n",
       "        text-align: right;\n",
       "    }\n",
       "</style>\n",
       "<table border=\"1\" class=\"dataframe\">\n",
       "  <thead>\n",
       "    <tr style=\"text-align: right;\">\n",
       "      <th></th>\n",
       "      <th>id</th>\n",
       "      <th>circle_id</th>\n",
       "      <th>loc_og_t2o_mou</th>\n",
       "      <th>std_og_t2o_mou</th>\n",
       "      <th>loc_ic_t2o_mou</th>\n",
       "      <th>last_date_of_month_6</th>\n",
       "      <th>last_date_of_month_7</th>\n",
       "      <th>last_date_of_month_8</th>\n",
       "      <th>arpu_6</th>\n",
       "      <th>arpu_7</th>\n",
       "      <th>...</th>\n",
       "      <th>sachet_3g_7</th>\n",
       "      <th>sachet_3g_8</th>\n",
       "      <th>fb_user_6</th>\n",
       "      <th>fb_user_7</th>\n",
       "      <th>fb_user_8</th>\n",
       "      <th>aon</th>\n",
       "      <th>aug_vbc_3g</th>\n",
       "      <th>jul_vbc_3g</th>\n",
       "      <th>jun_vbc_3g</th>\n",
       "      <th>churn_probability</th>\n",
       "    </tr>\n",
       "  </thead>\n",
       "  <tbody>\n",
       "    <tr>\n",
       "      <th>0</th>\n",
       "      <td>0</td>\n",
       "      <td>109</td>\n",
       "      <td>0.0</td>\n",
       "      <td>0.0</td>\n",
       "      <td>0.0</td>\n",
       "      <td>6/30/2014</td>\n",
       "      <td>7/31/2014</td>\n",
       "      <td>8/31/2014</td>\n",
       "      <td>31.277</td>\n",
       "      <td>87.009</td>\n",
       "      <td>...</td>\n",
       "      <td>0</td>\n",
       "      <td>0</td>\n",
       "      <td>NaN</td>\n",
       "      <td>NaN</td>\n",
       "      <td>NaN</td>\n",
       "      <td>1958</td>\n",
       "      <td>0.0</td>\n",
       "      <td>0.0</td>\n",
       "      <td>0.0</td>\n",
       "      <td>0</td>\n",
       "    </tr>\n",
       "    <tr>\n",
       "      <th>1</th>\n",
       "      <td>1</td>\n",
       "      <td>109</td>\n",
       "      <td>0.0</td>\n",
       "      <td>0.0</td>\n",
       "      <td>0.0</td>\n",
       "      <td>6/30/2014</td>\n",
       "      <td>7/31/2014</td>\n",
       "      <td>8/31/2014</td>\n",
       "      <td>0.000</td>\n",
       "      <td>122.787</td>\n",
       "      <td>...</td>\n",
       "      <td>0</td>\n",
       "      <td>0</td>\n",
       "      <td>NaN</td>\n",
       "      <td>1.0</td>\n",
       "      <td>NaN</td>\n",
       "      <td>710</td>\n",
       "      <td>0.0</td>\n",
       "      <td>0.0</td>\n",
       "      <td>0.0</td>\n",
       "      <td>0</td>\n",
       "    </tr>\n",
       "    <tr>\n",
       "      <th>2</th>\n",
       "      <td>2</td>\n",
       "      <td>109</td>\n",
       "      <td>0.0</td>\n",
       "      <td>0.0</td>\n",
       "      <td>0.0</td>\n",
       "      <td>6/30/2014</td>\n",
       "      <td>7/31/2014</td>\n",
       "      <td>8/31/2014</td>\n",
       "      <td>60.806</td>\n",
       "      <td>103.176</td>\n",
       "      <td>...</td>\n",
       "      <td>0</td>\n",
       "      <td>0</td>\n",
       "      <td>NaN</td>\n",
       "      <td>NaN</td>\n",
       "      <td>NaN</td>\n",
       "      <td>882</td>\n",
       "      <td>0.0</td>\n",
       "      <td>0.0</td>\n",
       "      <td>0.0</td>\n",
       "      <td>0</td>\n",
       "    </tr>\n",
       "    <tr>\n",
       "      <th>3</th>\n",
       "      <td>3</td>\n",
       "      <td>109</td>\n",
       "      <td>0.0</td>\n",
       "      <td>0.0</td>\n",
       "      <td>0.0</td>\n",
       "      <td>6/30/2014</td>\n",
       "      <td>7/31/2014</td>\n",
       "      <td>8/31/2014</td>\n",
       "      <td>156.362</td>\n",
       "      <td>205.260</td>\n",
       "      <td>...</td>\n",
       "      <td>0</td>\n",
       "      <td>0</td>\n",
       "      <td>NaN</td>\n",
       "      <td>NaN</td>\n",
       "      <td>NaN</td>\n",
       "      <td>982</td>\n",
       "      <td>0.0</td>\n",
       "      <td>0.0</td>\n",
       "      <td>0.0</td>\n",
       "      <td>0</td>\n",
       "    </tr>\n",
       "    <tr>\n",
       "      <th>4</th>\n",
       "      <td>4</td>\n",
       "      <td>109</td>\n",
       "      <td>0.0</td>\n",
       "      <td>0.0</td>\n",
       "      <td>0.0</td>\n",
       "      <td>6/30/2014</td>\n",
       "      <td>7/31/2014</td>\n",
       "      <td>8/31/2014</td>\n",
       "      <td>240.708</td>\n",
       "      <td>128.191</td>\n",
       "      <td>...</td>\n",
       "      <td>1</td>\n",
       "      <td>0</td>\n",
       "      <td>1.0</td>\n",
       "      <td>1.0</td>\n",
       "      <td>1.0</td>\n",
       "      <td>647</td>\n",
       "      <td>0.0</td>\n",
       "      <td>0.0</td>\n",
       "      <td>0.0</td>\n",
       "      <td>0</td>\n",
       "    </tr>\n",
       "  </tbody>\n",
       "</table>\n",
       "<p>5 rows × 172 columns</p>\n",
       "</div>"
      ],
      "text/plain": [
       "   id  circle_id  loc_og_t2o_mou  std_og_t2o_mou  loc_ic_t2o_mou  \\\n",
       "0   0        109             0.0             0.0             0.0   \n",
       "1   1        109             0.0             0.0             0.0   \n",
       "2   2        109             0.0             0.0             0.0   \n",
       "3   3        109             0.0             0.0             0.0   \n",
       "4   4        109             0.0             0.0             0.0   \n",
       "\n",
       "  last_date_of_month_6 last_date_of_month_7 last_date_of_month_8   arpu_6  \\\n",
       "0            6/30/2014            7/31/2014            8/31/2014   31.277   \n",
       "1            6/30/2014            7/31/2014            8/31/2014    0.000   \n",
       "2            6/30/2014            7/31/2014            8/31/2014   60.806   \n",
       "3            6/30/2014            7/31/2014            8/31/2014  156.362   \n",
       "4            6/30/2014            7/31/2014            8/31/2014  240.708   \n",
       "\n",
       "    arpu_7  ...  sachet_3g_7  sachet_3g_8  fb_user_6  fb_user_7  fb_user_8  \\\n",
       "0   87.009  ...            0            0        NaN        NaN        NaN   \n",
       "1  122.787  ...            0            0        NaN        1.0        NaN   \n",
       "2  103.176  ...            0            0        NaN        NaN        NaN   \n",
       "3  205.260  ...            0            0        NaN        NaN        NaN   \n",
       "4  128.191  ...            1            0        1.0        1.0        1.0   \n",
       "\n",
       "    aon  aug_vbc_3g  jul_vbc_3g  jun_vbc_3g  churn_probability  \n",
       "0  1958         0.0         0.0         0.0                  0  \n",
       "1   710         0.0         0.0         0.0                  0  \n",
       "2   882         0.0         0.0         0.0                  0  \n",
       "3   982         0.0         0.0         0.0                  0  \n",
       "4   647         0.0         0.0         0.0                  0  \n",
       "\n",
       "[5 rows x 172 columns]"
      ]
     },
     "execution_count": 4,
     "metadata": {},
     "output_type": "execute_result"
    }
   ],
   "source": [
    "df = data.copy()\n",
    "df.head()"
   ]
  },
  {
   "cell_type": "code",
   "execution_count": 5,
   "id": "80879d61",
   "metadata": {
    "scrolled": false
   },
   "outputs": [],
   "source": [
    "percent_missing = (df.isnull().sum()/df.shape[0]) *100\n",
    "percent_missing.sort_values(inplace=True,ascending=False)\n",
    "#percent_missing"
   ]
  },
  {
   "cell_type": "code",
   "execution_count": 6,
   "id": "7892b867",
   "metadata": {},
   "outputs": [],
   "source": [
    "# Below code gives list of columns having more than 60% null\n",
    "col_to_drop = percent_missing[percent_missing > 60].keys()"
   ]
  },
  {
   "cell_type": "code",
   "execution_count": 7,
   "id": "1161084c",
   "metadata": {},
   "outputs": [],
   "source": [
    "for col in col_to_drop:\n",
    "    del df[col]"
   ]
  },
  {
   "cell_type": "code",
   "execution_count": 8,
   "id": "d881140b",
   "metadata": {
    "scrolled": false
   },
   "outputs": [
    {
     "data": {
      "text/plain": [
       "['circle_id',\n",
       " 'loc_og_t2o_mou',\n",
       " 'std_og_t2o_mou',\n",
       " 'loc_ic_t2o_mou',\n",
       " 'last_date_of_month_6',\n",
       " 'last_date_of_month_7',\n",
       " 'last_date_of_month_8',\n",
       " 'std_og_t2c_mou_6',\n",
       " 'std_og_t2c_mou_7',\n",
       " 'std_og_t2c_mou_8',\n",
       " 'std_ic_t2o_mou_6',\n",
       " 'std_ic_t2o_mou_7',\n",
       " 'std_ic_t2o_mou_8',\n",
       " 'monthly_2g_6',\n",
       " 'monthly_2g_7',\n",
       " 'monthly_2g_8',\n",
       " 'churn_probability']"
      ]
     },
     "execution_count": 8,
     "metadata": {},
     "output_type": "execute_result"
    }
   ],
   "source": [
    "#Get least distinctive /less varaince feature\n",
    "leastdisc= []\n",
    "for col in df:\n",
    "    if df[col].unique().size < 10:\n",
    "        leastdisc.append(col)\n",
    "leastdisc"
   ]
  },
  {
   "cell_type": "code",
   "execution_count": 9,
   "id": "87344104",
   "metadata": {},
   "outputs": [
    {
     "name": "stdout",
     "output_type": "stream",
     "text": [
      "109    69999\n",
      "Name: circle_id, dtype: int64\n",
      "0.0    69297\n",
      "Name: loc_og_t2o_mou, dtype: int64\n",
      "0.0    69297\n",
      "Name: std_og_t2o_mou, dtype: int64\n",
      "0.0    69297\n",
      "Name: loc_ic_t2o_mou, dtype: int64\n",
      "6/30/2014    69999\n",
      "Name: last_date_of_month_6, dtype: int64\n",
      "7/31/2014    69600\n",
      "Name: last_date_of_month_7, dtype: int64\n",
      "8/31/2014    69266\n",
      "Name: last_date_of_month_8, dtype: int64\n",
      "0.0    67231\n",
      "Name: std_og_t2c_mou_6, dtype: int64\n",
      "0.0    67312\n",
      "Name: std_og_t2c_mou_7, dtype: int64\n",
      "0.0    66296\n",
      "Name: std_og_t2c_mou_8, dtype: int64\n",
      "0.0    67231\n",
      "Name: std_ic_t2o_mou_6, dtype: int64\n",
      "0.0    67312\n",
      "Name: std_ic_t2o_mou_7, dtype: int64\n",
      "0.0    66296\n",
      "Name: std_ic_t2o_mou_8, dtype: int64\n",
      "0    64896\n",
      "1     4688\n",
      "2      389\n",
      "3       20\n",
      "4        6\n",
      "Name: monthly_2g_6, dtype: int64\n",
      "0    64695\n",
      "1     4806\n",
      "2      467\n",
      "3       27\n",
      "4        3\n",
      "5        1\n",
      "Name: monthly_2g_7, dtype: int64\n",
      "0    64817\n",
      "1     4738\n",
      "2      413\n",
      "3       24\n",
      "4        6\n",
      "5        1\n",
      "Name: monthly_2g_8, dtype: int64\n",
      "0    62867\n",
      "1     7132\n",
      "Name: churn_probability, dtype: int64\n"
     ]
    }
   ],
   "source": [
    "for col in leastdisc:\n",
    "    print(df[col].value_counts())  "
   ]
  },
  {
   "cell_type": "code",
   "execution_count": 10,
   "id": "9381b7b6",
   "metadata": {},
   "outputs": [],
   "source": [
    "# drop least distinctive columns \n",
    "col_to_drop= ['circle_id', 'loc_og_t2o_mou', 'std_og_t2o_mou', 'loc_ic_t2o_mou', 'last_date_of_month_6', 'last_date_of_month_7',\n",
    "              'last_date_of_month_8', 'std_og_t2c_mou_6', 'std_og_t2c_mou_7', 'std_og_t2c_mou_8', 'std_ic_t2o_mou_6',\n",
    "              'std_ic_t2o_mou_7', 'std_ic_t2o_mou_8']\n",
    "\n",
    "for col in col_to_drop:\n",
    "    del df[col]"
   ]
  },
  {
   "cell_type": "code",
   "execution_count": 11,
   "id": "c0dd8f2c",
   "metadata": {
    "scrolled": false
   },
   "outputs": [
    {
     "data": {
      "text/plain": [
       "std_og_t2f_mou_8      5.290076\n",
       "loc_og_mou_8          5.290076\n",
       "loc_og_t2c_mou_8      5.290076\n",
       "loc_ic_t2m_mou_8      5.290076\n",
       "og_others_8           5.290076\n",
       "                        ...   \n",
       "max_rech_amt_6        0.000000\n",
       "max_rech_amt_7        0.000000\n",
       "max_rech_amt_8        0.000000\n",
       "last_day_rch_amt_6    0.000000\n",
       "churn_probability     0.000000\n",
       "Length: 129, dtype: float64"
      ]
     },
     "execution_count": 11,
     "metadata": {},
     "output_type": "execute_result"
    }
   ],
   "source": [
    "percent_missing = (df.isnull().sum()/df.shape[0]) *100\n",
    "percent_missing.sort_values(inplace=True,ascending=False)\n",
    "percent_missing"
   ]
  },
  {
   "cell_type": "code",
   "execution_count": 12,
   "id": "c6d76492",
   "metadata": {},
   "outputs": [
    {
     "data": {
      "text/html": [
       "<div>\n",
       "<style scoped>\n",
       "    .dataframe tbody tr th:only-of-type {\n",
       "        vertical-align: middle;\n",
       "    }\n",
       "\n",
       "    .dataframe tbody tr th {\n",
       "        vertical-align: top;\n",
       "    }\n",
       "\n",
       "    .dataframe thead th {\n",
       "        text-align: right;\n",
       "    }\n",
       "</style>\n",
       "<table border=\"1\" class=\"dataframe\">\n",
       "  <thead>\n",
       "    <tr style=\"text-align: right;\">\n",
       "      <th></th>\n",
       "      <th>id</th>\n",
       "      <th>arpu_6</th>\n",
       "      <th>arpu_7</th>\n",
       "      <th>arpu_8</th>\n",
       "      <th>onnet_mou_6</th>\n",
       "      <th>onnet_mou_7</th>\n",
       "      <th>onnet_mou_8</th>\n",
       "      <th>offnet_mou_6</th>\n",
       "      <th>offnet_mou_7</th>\n",
       "      <th>offnet_mou_8</th>\n",
       "      <th>...</th>\n",
       "      <th>monthly_3g_7</th>\n",
       "      <th>monthly_3g_8</th>\n",
       "      <th>sachet_3g_6</th>\n",
       "      <th>sachet_3g_7</th>\n",
       "      <th>sachet_3g_8</th>\n",
       "      <th>aon</th>\n",
       "      <th>aug_vbc_3g</th>\n",
       "      <th>jul_vbc_3g</th>\n",
       "      <th>jun_vbc_3g</th>\n",
       "      <th>churn_probability</th>\n",
       "    </tr>\n",
       "  </thead>\n",
       "  <tbody>\n",
       "    <tr>\n",
       "      <th>0</th>\n",
       "      <td>0</td>\n",
       "      <td>31.277</td>\n",
       "      <td>87.009</td>\n",
       "      <td>7.527</td>\n",
       "      <td>48.58</td>\n",
       "      <td>124.38</td>\n",
       "      <td>1.29</td>\n",
       "      <td>32.24</td>\n",
       "      <td>96.68</td>\n",
       "      <td>2.33</td>\n",
       "      <td>...</td>\n",
       "      <td>0</td>\n",
       "      <td>0</td>\n",
       "      <td>0</td>\n",
       "      <td>0</td>\n",
       "      <td>0</td>\n",
       "      <td>1958</td>\n",
       "      <td>0.0</td>\n",
       "      <td>0.0</td>\n",
       "      <td>0.0</td>\n",
       "      <td>0</td>\n",
       "    </tr>\n",
       "    <tr>\n",
       "      <th>1</th>\n",
       "      <td>1</td>\n",
       "      <td>0.000</td>\n",
       "      <td>122.787</td>\n",
       "      <td>42.953</td>\n",
       "      <td>0.00</td>\n",
       "      <td>0.00</td>\n",
       "      <td>0.00</td>\n",
       "      <td>0.00</td>\n",
       "      <td>25.99</td>\n",
       "      <td>30.89</td>\n",
       "      <td>...</td>\n",
       "      <td>1</td>\n",
       "      <td>0</td>\n",
       "      <td>0</td>\n",
       "      <td>0</td>\n",
       "      <td>0</td>\n",
       "      <td>710</td>\n",
       "      <td>0.0</td>\n",
       "      <td>0.0</td>\n",
       "      <td>0.0</td>\n",
       "      <td>0</td>\n",
       "    </tr>\n",
       "    <tr>\n",
       "      <th>2</th>\n",
       "      <td>2</td>\n",
       "      <td>60.806</td>\n",
       "      <td>103.176</td>\n",
       "      <td>0.000</td>\n",
       "      <td>0.53</td>\n",
       "      <td>15.93</td>\n",
       "      <td>0.00</td>\n",
       "      <td>53.99</td>\n",
       "      <td>82.05</td>\n",
       "      <td>0.00</td>\n",
       "      <td>...</td>\n",
       "      <td>0</td>\n",
       "      <td>0</td>\n",
       "      <td>0</td>\n",
       "      <td>0</td>\n",
       "      <td>0</td>\n",
       "      <td>882</td>\n",
       "      <td>0.0</td>\n",
       "      <td>0.0</td>\n",
       "      <td>0.0</td>\n",
       "      <td>0</td>\n",
       "    </tr>\n",
       "    <tr>\n",
       "      <th>3</th>\n",
       "      <td>3</td>\n",
       "      <td>156.362</td>\n",
       "      <td>205.260</td>\n",
       "      <td>111.095</td>\n",
       "      <td>7.26</td>\n",
       "      <td>16.01</td>\n",
       "      <td>0.00</td>\n",
       "      <td>68.76</td>\n",
       "      <td>78.48</td>\n",
       "      <td>50.23</td>\n",
       "      <td>...</td>\n",
       "      <td>0</td>\n",
       "      <td>0</td>\n",
       "      <td>0</td>\n",
       "      <td>0</td>\n",
       "      <td>0</td>\n",
       "      <td>982</td>\n",
       "      <td>0.0</td>\n",
       "      <td>0.0</td>\n",
       "      <td>0.0</td>\n",
       "      <td>0</td>\n",
       "    </tr>\n",
       "    <tr>\n",
       "      <th>4</th>\n",
       "      <td>4</td>\n",
       "      <td>240.708</td>\n",
       "      <td>128.191</td>\n",
       "      <td>101.565</td>\n",
       "      <td>21.28</td>\n",
       "      <td>4.83</td>\n",
       "      <td>6.13</td>\n",
       "      <td>56.99</td>\n",
       "      <td>38.11</td>\n",
       "      <td>9.63</td>\n",
       "      <td>...</td>\n",
       "      <td>0</td>\n",
       "      <td>0</td>\n",
       "      <td>0</td>\n",
       "      <td>1</td>\n",
       "      <td>0</td>\n",
       "      <td>647</td>\n",
       "      <td>0.0</td>\n",
       "      <td>0.0</td>\n",
       "      <td>0.0</td>\n",
       "      <td>0</td>\n",
       "    </tr>\n",
       "  </tbody>\n",
       "</table>\n",
       "<p>5 rows × 129 columns</p>\n",
       "</div>"
      ],
      "text/plain": [
       "   id   arpu_6   arpu_7   arpu_8  onnet_mou_6  onnet_mou_7  onnet_mou_8  \\\n",
       "0   0   31.277   87.009    7.527        48.58       124.38         1.29   \n",
       "1   1    0.000  122.787   42.953         0.00         0.00         0.00   \n",
       "2   2   60.806  103.176    0.000         0.53        15.93         0.00   \n",
       "3   3  156.362  205.260  111.095         7.26        16.01         0.00   \n",
       "4   4  240.708  128.191  101.565        21.28         4.83         6.13   \n",
       "\n",
       "   offnet_mou_6  offnet_mou_7  offnet_mou_8  ...  monthly_3g_7  monthly_3g_8  \\\n",
       "0         32.24         96.68          2.33  ...             0             0   \n",
       "1          0.00         25.99         30.89  ...             1             0   \n",
       "2         53.99         82.05          0.00  ...             0             0   \n",
       "3         68.76         78.48         50.23  ...             0             0   \n",
       "4         56.99         38.11          9.63  ...             0             0   \n",
       "\n",
       "   sachet_3g_6  sachet_3g_7  sachet_3g_8   aon  aug_vbc_3g  jul_vbc_3g  \\\n",
       "0            0            0            0  1958         0.0         0.0   \n",
       "1            0            0            0   710         0.0         0.0   \n",
       "2            0            0            0   882         0.0         0.0   \n",
       "3            0            0            0   982         0.0         0.0   \n",
       "4            0            1            0   647         0.0         0.0   \n",
       "\n",
       "   jun_vbc_3g  churn_probability  \n",
       "0         0.0                  0  \n",
       "1         0.0                  0  \n",
       "2         0.0                  0  \n",
       "3         0.0                  0  \n",
       "4         0.0                  0  \n",
       "\n",
       "[5 rows x 129 columns]"
      ]
     },
     "execution_count": 12,
     "metadata": {},
     "output_type": "execute_result"
    }
   ],
   "source": [
    "df.head()"
   ]
  },
  {
   "cell_type": "markdown",
   "id": "5a7ee1f1",
   "metadata": {
    "papermill": {
     "duration": 0.063247,
     "end_time": "2022-05-24T08:45:56.366720",
     "exception": false,
     "start_time": "2022-05-24T08:45:56.303473",
     "status": "completed"
    },
    "tags": []
   },
   "source": [
    "For the purpose of this **starter notebook**, we I will restrict the dataset to only a small set of variables. \n",
    "\n",
    "The approach I use here is to understand each Acronym, figure our what variable might be important and filter out variable names based on the combinations of acrynoms using REGEX. So, if I want the total minutes a person has spent on outgoing calls, I need acronyms, TOTAL, OG and MOU. So corresponding regex is ```total.+og.+mou```"
   ]
  },
  {
   "cell_type": "markdown",
   "id": "744d6251",
   "metadata": {
    "papermill": {
     "duration": 0.064977,
     "end_time": "2022-05-24T08:45:56.812217",
     "exception": false,
     "start_time": "2022-05-24T08:45:56.747240",
     "status": "completed"
    },
    "tags": []
   },
   "source": [
    "Let's look at each variable's datatype:"
   ]
  },
  {
   "cell_type": "code",
   "execution_count": 13,
   "id": "7dba15d5",
   "metadata": {
    "execution": {
     "iopub.execute_input": "2022-05-24T08:45:56.946961Z",
     "iopub.status.busy": "2022-05-24T08:45:56.946686Z",
     "iopub.status.idle": "2022-05-24T08:45:56.968837Z",
     "shell.execute_reply": "2022-05-24T08:45:56.967570Z"
    },
    "papermill": {
     "duration": 0.091325,
     "end_time": "2022-05-24T08:45:56.970720",
     "exception": false,
     "start_time": "2022-05-24T08:45:56.879395",
     "status": "completed"
    },
    "scrolled": false,
    "tags": []
   },
   "outputs": [
    {
     "name": "stdout",
     "output_type": "stream",
     "text": [
      "<class 'pandas.core.frame.DataFrame'>\n",
      "RangeIndex: 69999 entries, 0 to 69998\n",
      "Data columns (total 129 columns):\n",
      " #    Column               Dtype  \n",
      "---   ------               -----  \n",
      " 0    id                   int64  \n",
      " 1    arpu_6               float64\n",
      " 2    arpu_7               float64\n",
      " 3    arpu_8               float64\n",
      " 4    onnet_mou_6          float64\n",
      " 5    onnet_mou_7          float64\n",
      " 6    onnet_mou_8          float64\n",
      " 7    offnet_mou_6         float64\n",
      " 8    offnet_mou_7         float64\n",
      " 9    offnet_mou_8         float64\n",
      " 10   roam_ic_mou_6        float64\n",
      " 11   roam_ic_mou_7        float64\n",
      " 12   roam_ic_mou_8        float64\n",
      " 13   roam_og_mou_6        float64\n",
      " 14   roam_og_mou_7        float64\n",
      " 15   roam_og_mou_8        float64\n",
      " 16   loc_og_t2t_mou_6     float64\n",
      " 17   loc_og_t2t_mou_7     float64\n",
      " 18   loc_og_t2t_mou_8     float64\n",
      " 19   loc_og_t2m_mou_6     float64\n",
      " 20   loc_og_t2m_mou_7     float64\n",
      " 21   loc_og_t2m_mou_8     float64\n",
      " 22   loc_og_t2f_mou_6     float64\n",
      " 23   loc_og_t2f_mou_7     float64\n",
      " 24   loc_og_t2f_mou_8     float64\n",
      " 25   loc_og_t2c_mou_6     float64\n",
      " 26   loc_og_t2c_mou_7     float64\n",
      " 27   loc_og_t2c_mou_8     float64\n",
      " 28   loc_og_mou_6         float64\n",
      " 29   loc_og_mou_7         float64\n",
      " 30   loc_og_mou_8         float64\n",
      " 31   std_og_t2t_mou_6     float64\n",
      " 32   std_og_t2t_mou_7     float64\n",
      " 33   std_og_t2t_mou_8     float64\n",
      " 34   std_og_t2m_mou_6     float64\n",
      " 35   std_og_t2m_mou_7     float64\n",
      " 36   std_og_t2m_mou_8     float64\n",
      " 37   std_og_t2f_mou_6     float64\n",
      " 38   std_og_t2f_mou_7     float64\n",
      " 39   std_og_t2f_mou_8     float64\n",
      " 40   std_og_mou_6         float64\n",
      " 41   std_og_mou_7         float64\n",
      " 42   std_og_mou_8         float64\n",
      " 43   isd_og_mou_6         float64\n",
      " 44   isd_og_mou_7         float64\n",
      " 45   isd_og_mou_8         float64\n",
      " 46   spl_og_mou_6         float64\n",
      " 47   spl_og_mou_7         float64\n",
      " 48   spl_og_mou_8         float64\n",
      " 49   og_others_6          float64\n",
      " 50   og_others_7          float64\n",
      " 51   og_others_8          float64\n",
      " 52   total_og_mou_6       float64\n",
      " 53   total_og_mou_7       float64\n",
      " 54   total_og_mou_8       float64\n",
      " 55   loc_ic_t2t_mou_6     float64\n",
      " 56   loc_ic_t2t_mou_7     float64\n",
      " 57   loc_ic_t2t_mou_8     float64\n",
      " 58   loc_ic_t2m_mou_6     float64\n",
      " 59   loc_ic_t2m_mou_7     float64\n",
      " 60   loc_ic_t2m_mou_8     float64\n",
      " 61   loc_ic_t2f_mou_6     float64\n",
      " 62   loc_ic_t2f_mou_7     float64\n",
      " 63   loc_ic_t2f_mou_8     float64\n",
      " 64   loc_ic_mou_6         float64\n",
      " 65   loc_ic_mou_7         float64\n",
      " 66   loc_ic_mou_8         float64\n",
      " 67   std_ic_t2t_mou_6     float64\n",
      " 68   std_ic_t2t_mou_7     float64\n",
      " 69   std_ic_t2t_mou_8     float64\n",
      " 70   std_ic_t2m_mou_6     float64\n",
      " 71   std_ic_t2m_mou_7     float64\n",
      " 72   std_ic_t2m_mou_8     float64\n",
      " 73   std_ic_t2f_mou_6     float64\n",
      " 74   std_ic_t2f_mou_7     float64\n",
      " 75   std_ic_t2f_mou_8     float64\n",
      " 76   std_ic_mou_6         float64\n",
      " 77   std_ic_mou_7         float64\n",
      " 78   std_ic_mou_8         float64\n",
      " 79   total_ic_mou_6       float64\n",
      " 80   total_ic_mou_7       float64\n",
      " 81   total_ic_mou_8       float64\n",
      " 82   spl_ic_mou_6         float64\n",
      " 83   spl_ic_mou_7         float64\n",
      " 84   spl_ic_mou_8         float64\n",
      " 85   isd_ic_mou_6         float64\n",
      " 86   isd_ic_mou_7         float64\n",
      " 87   isd_ic_mou_8         float64\n",
      " 88   ic_others_6          float64\n",
      " 89   ic_others_7          float64\n",
      " 90   ic_others_8          float64\n",
      " 91   total_rech_num_6     int64  \n",
      " 92   total_rech_num_7     int64  \n",
      " 93   total_rech_num_8     int64  \n",
      " 94   total_rech_amt_6     int64  \n",
      " 95   total_rech_amt_7     int64  \n",
      " 96   total_rech_amt_8     int64  \n",
      " 97   max_rech_amt_6       int64  \n",
      " 98   max_rech_amt_7       int64  \n",
      " 99   max_rech_amt_8       int64  \n",
      " 100  date_of_last_rech_6  object \n",
      " 101  date_of_last_rech_7  object \n",
      " 102  date_of_last_rech_8  object \n",
      " 103  last_day_rch_amt_6   int64  \n",
      " 104  last_day_rch_amt_7   int64  \n",
      " 105  last_day_rch_amt_8   int64  \n",
      " 106  vol_2g_mb_6          float64\n",
      " 107  vol_2g_mb_7          float64\n",
      " 108  vol_2g_mb_8          float64\n",
      " 109  vol_3g_mb_6          float64\n",
      " 110  vol_3g_mb_7          float64\n",
      " 111  vol_3g_mb_8          float64\n",
      " 112  monthly_2g_6         int64  \n",
      " 113  monthly_2g_7         int64  \n",
      " 114  monthly_2g_8         int64  \n",
      " 115  sachet_2g_6          int64  \n",
      " 116  sachet_2g_7          int64  \n",
      " 117  sachet_2g_8          int64  \n",
      " 118  monthly_3g_6         int64  \n",
      " 119  monthly_3g_7         int64  \n",
      " 120  monthly_3g_8         int64  \n",
      " 121  sachet_3g_6          int64  \n",
      " 122  sachet_3g_7          int64  \n",
      " 123  sachet_3g_8          int64  \n",
      " 124  aon                  int64  \n",
      " 125  aug_vbc_3g           float64\n",
      " 126  jul_vbc_3g           float64\n",
      " 127  jun_vbc_3g           float64\n",
      " 128  churn_probability    int64  \n",
      "dtypes: float64(99), int64(27), object(3)\n",
      "memory usage: 68.9+ MB\n"
     ]
    }
   ],
   "source": [
    "df.info(verbose=1)"
   ]
  },
  {
   "cell_type": "markdown",
   "id": "a7fced65",
   "metadata": {
    "papermill": {
     "duration": 0.064727,
     "end_time": "2022-05-24T08:45:57.103300",
     "exception": false,
     "start_time": "2022-05-24T08:45:57.038573",
     "status": "completed"
    },
    "tags": []
   },
   "source": [
    "Let's also summarize the features using the df.describe method:"
   ]
  },
  {
   "cell_type": "code",
   "execution_count": 14,
   "id": "84d66d43",
   "metadata": {
    "execution": {
     "iopub.execute_input": "2022-05-24T08:45:57.237625Z",
     "iopub.status.busy": "2022-05-24T08:45:57.237062Z",
     "iopub.status.idle": "2022-05-24T08:45:57.369464Z",
     "shell.execute_reply": "2022-05-24T08:45:57.368665Z"
    },
    "papermill": {
     "duration": 0.201272,
     "end_time": "2022-05-24T08:45:57.371563",
     "exception": false,
     "start_time": "2022-05-24T08:45:57.170291",
     "status": "completed"
    },
    "tags": []
   },
   "outputs": [
    {
     "data": {
      "text/html": [
       "<div>\n",
       "<style scoped>\n",
       "    .dataframe tbody tr th:only-of-type {\n",
       "        vertical-align: middle;\n",
       "    }\n",
       "\n",
       "    .dataframe tbody tr th {\n",
       "        vertical-align: top;\n",
       "    }\n",
       "\n",
       "    .dataframe thead th {\n",
       "        text-align: right;\n",
       "    }\n",
       "</style>\n",
       "<table border=\"1\" class=\"dataframe\">\n",
       "  <thead>\n",
       "    <tr style=\"text-align: right;\">\n",
       "      <th></th>\n",
       "      <th>id</th>\n",
       "      <th>arpu_6</th>\n",
       "      <th>arpu_7</th>\n",
       "      <th>arpu_8</th>\n",
       "      <th>onnet_mou_6</th>\n",
       "      <th>onnet_mou_7</th>\n",
       "      <th>onnet_mou_8</th>\n",
       "      <th>offnet_mou_6</th>\n",
       "      <th>offnet_mou_7</th>\n",
       "      <th>offnet_mou_8</th>\n",
       "      <th>...</th>\n",
       "      <th>monthly_3g_7</th>\n",
       "      <th>monthly_3g_8</th>\n",
       "      <th>sachet_3g_6</th>\n",
       "      <th>sachet_3g_7</th>\n",
       "      <th>sachet_3g_8</th>\n",
       "      <th>aon</th>\n",
       "      <th>aug_vbc_3g</th>\n",
       "      <th>jul_vbc_3g</th>\n",
       "      <th>jun_vbc_3g</th>\n",
       "      <th>churn_probability</th>\n",
       "    </tr>\n",
       "  </thead>\n",
       "  <tbody>\n",
       "    <tr>\n",
       "      <th>count</th>\n",
       "      <td>69999.000000</td>\n",
       "      <td>69999.000000</td>\n",
       "      <td>69999.000000</td>\n",
       "      <td>69999.000000</td>\n",
       "      <td>67231.000000</td>\n",
       "      <td>67312.000000</td>\n",
       "      <td>66296.000000</td>\n",
       "      <td>67231.000000</td>\n",
       "      <td>67312.000000</td>\n",
       "      <td>66296.000000</td>\n",
       "      <td>...</td>\n",
       "      <td>69999.000000</td>\n",
       "      <td>69999.000000</td>\n",
       "      <td>69999.000000</td>\n",
       "      <td>69999.000000</td>\n",
       "      <td>69999.000000</td>\n",
       "      <td>69999.000000</td>\n",
       "      <td>69999.000000</td>\n",
       "      <td>69999.000000</td>\n",
       "      <td>69999.00000</td>\n",
       "      <td>69999.000000</td>\n",
       "    </tr>\n",
       "    <tr>\n",
       "      <th>unique</th>\n",
       "      <td>NaN</td>\n",
       "      <td>NaN</td>\n",
       "      <td>NaN</td>\n",
       "      <td>NaN</td>\n",
       "      <td>NaN</td>\n",
       "      <td>NaN</td>\n",
       "      <td>NaN</td>\n",
       "      <td>NaN</td>\n",
       "      <td>NaN</td>\n",
       "      <td>NaN</td>\n",
       "      <td>...</td>\n",
       "      <td>NaN</td>\n",
       "      <td>NaN</td>\n",
       "      <td>NaN</td>\n",
       "      <td>NaN</td>\n",
       "      <td>NaN</td>\n",
       "      <td>NaN</td>\n",
       "      <td>NaN</td>\n",
       "      <td>NaN</td>\n",
       "      <td>NaN</td>\n",
       "      <td>NaN</td>\n",
       "    </tr>\n",
       "    <tr>\n",
       "      <th>top</th>\n",
       "      <td>NaN</td>\n",
       "      <td>NaN</td>\n",
       "      <td>NaN</td>\n",
       "      <td>NaN</td>\n",
       "      <td>NaN</td>\n",
       "      <td>NaN</td>\n",
       "      <td>NaN</td>\n",
       "      <td>NaN</td>\n",
       "      <td>NaN</td>\n",
       "      <td>NaN</td>\n",
       "      <td>...</td>\n",
       "      <td>NaN</td>\n",
       "      <td>NaN</td>\n",
       "      <td>NaN</td>\n",
       "      <td>NaN</td>\n",
       "      <td>NaN</td>\n",
       "      <td>NaN</td>\n",
       "      <td>NaN</td>\n",
       "      <td>NaN</td>\n",
       "      <td>NaN</td>\n",
       "      <td>NaN</td>\n",
       "    </tr>\n",
       "    <tr>\n",
       "      <th>freq</th>\n",
       "      <td>NaN</td>\n",
       "      <td>NaN</td>\n",
       "      <td>NaN</td>\n",
       "      <td>NaN</td>\n",
       "      <td>NaN</td>\n",
       "      <td>NaN</td>\n",
       "      <td>NaN</td>\n",
       "      <td>NaN</td>\n",
       "      <td>NaN</td>\n",
       "      <td>NaN</td>\n",
       "      <td>...</td>\n",
       "      <td>NaN</td>\n",
       "      <td>NaN</td>\n",
       "      <td>NaN</td>\n",
       "      <td>NaN</td>\n",
       "      <td>NaN</td>\n",
       "      <td>NaN</td>\n",
       "      <td>NaN</td>\n",
       "      <td>NaN</td>\n",
       "      <td>NaN</td>\n",
       "      <td>NaN</td>\n",
       "    </tr>\n",
       "    <tr>\n",
       "      <th>mean</th>\n",
       "      <td>34999.000000</td>\n",
       "      <td>283.134365</td>\n",
       "      <td>278.185912</td>\n",
       "      <td>278.858826</td>\n",
       "      <td>133.153275</td>\n",
       "      <td>133.894438</td>\n",
       "      <td>132.978257</td>\n",
       "      <td>198.874771</td>\n",
       "      <td>197.153383</td>\n",
       "      <td>196.543577</td>\n",
       "      <td>...</td>\n",
       "      <td>0.077730</td>\n",
       "      <td>0.081958</td>\n",
       "      <td>0.075344</td>\n",
       "      <td>0.081444</td>\n",
       "      <td>0.085487</td>\n",
       "      <td>1220.639709</td>\n",
       "      <td>68.108597</td>\n",
       "      <td>65.935830</td>\n",
       "      <td>60.07674</td>\n",
       "      <td>0.101887</td>\n",
       "    </tr>\n",
       "    <tr>\n",
       "      <th>std</th>\n",
       "      <td>20207.115084</td>\n",
       "      <td>334.213918</td>\n",
       "      <td>344.366927</td>\n",
       "      <td>351.924315</td>\n",
       "      <td>299.963093</td>\n",
       "      <td>311.277193</td>\n",
       "      <td>311.896596</td>\n",
       "      <td>316.818355</td>\n",
       "      <td>322.482226</td>\n",
       "      <td>324.089234</td>\n",
       "      <td>...</td>\n",
       "      <td>0.383189</td>\n",
       "      <td>0.381821</td>\n",
       "      <td>0.573003</td>\n",
       "      <td>0.634547</td>\n",
       "      <td>0.680035</td>\n",
       "      <td>952.426321</td>\n",
       "      <td>269.328659</td>\n",
       "      <td>267.899034</td>\n",
       "      <td>257.22681</td>\n",
       "      <td>0.302502</td>\n",
       "    </tr>\n",
       "    <tr>\n",
       "      <th>min</th>\n",
       "      <td>0.000000</td>\n",
       "      <td>-2258.709000</td>\n",
       "      <td>-1289.715000</td>\n",
       "      <td>-945.808000</td>\n",
       "      <td>0.000000</td>\n",
       "      <td>0.000000</td>\n",
       "      <td>0.000000</td>\n",
       "      <td>0.000000</td>\n",
       "      <td>0.000000</td>\n",
       "      <td>0.000000</td>\n",
       "      <td>...</td>\n",
       "      <td>0.000000</td>\n",
       "      <td>0.000000</td>\n",
       "      <td>0.000000</td>\n",
       "      <td>0.000000</td>\n",
       "      <td>0.000000</td>\n",
       "      <td>180.000000</td>\n",
       "      <td>0.000000</td>\n",
       "      <td>0.000000</td>\n",
       "      <td>0.00000</td>\n",
       "      <td>0.000000</td>\n",
       "    </tr>\n",
       "    <tr>\n",
       "      <th>25%</th>\n",
       "      <td>17499.500000</td>\n",
       "      <td>93.581000</td>\n",
       "      <td>86.714000</td>\n",
       "      <td>84.095000</td>\n",
       "      <td>7.410000</td>\n",
       "      <td>6.675000</td>\n",
       "      <td>6.410000</td>\n",
       "      <td>34.860000</td>\n",
       "      <td>32.240000</td>\n",
       "      <td>31.575000</td>\n",
       "      <td>...</td>\n",
       "      <td>0.000000</td>\n",
       "      <td>0.000000</td>\n",
       "      <td>0.000000</td>\n",
       "      <td>0.000000</td>\n",
       "      <td>0.000000</td>\n",
       "      <td>468.000000</td>\n",
       "      <td>0.000000</td>\n",
       "      <td>0.000000</td>\n",
       "      <td>0.00000</td>\n",
       "      <td>0.000000</td>\n",
       "    </tr>\n",
       "    <tr>\n",
       "      <th>50%</th>\n",
       "      <td>34999.000000</td>\n",
       "      <td>197.484000</td>\n",
       "      <td>191.588000</td>\n",
       "      <td>192.234000</td>\n",
       "      <td>34.110000</td>\n",
       "      <td>32.280000</td>\n",
       "      <td>32.100000</td>\n",
       "      <td>96.480000</td>\n",
       "      <td>91.885000</td>\n",
       "      <td>91.800000</td>\n",
       "      <td>...</td>\n",
       "      <td>0.000000</td>\n",
       "      <td>0.000000</td>\n",
       "      <td>0.000000</td>\n",
       "      <td>0.000000</td>\n",
       "      <td>0.000000</td>\n",
       "      <td>868.000000</td>\n",
       "      <td>0.000000</td>\n",
       "      <td>0.000000</td>\n",
       "      <td>0.00000</td>\n",
       "      <td>0.000000</td>\n",
       "    </tr>\n",
       "    <tr>\n",
       "      <th>75%</th>\n",
       "      <td>52498.500000</td>\n",
       "      <td>370.791000</td>\n",
       "      <td>365.369500</td>\n",
       "      <td>369.909000</td>\n",
       "      <td>119.390000</td>\n",
       "      <td>115.837500</td>\n",
       "      <td>115.060000</td>\n",
       "      <td>232.990000</td>\n",
       "      <td>227.630000</td>\n",
       "      <td>229.345000</td>\n",
       "      <td>...</td>\n",
       "      <td>0.000000</td>\n",
       "      <td>0.000000</td>\n",
       "      <td>0.000000</td>\n",
       "      <td>0.000000</td>\n",
       "      <td>0.000000</td>\n",
       "      <td>1813.000000</td>\n",
       "      <td>0.000000</td>\n",
       "      <td>0.000000</td>\n",
       "      <td>0.00000</td>\n",
       "      <td>0.000000</td>\n",
       "    </tr>\n",
       "    <tr>\n",
       "      <th>max</th>\n",
       "      <td>69998.000000</td>\n",
       "      <td>27731.088000</td>\n",
       "      <td>35145.834000</td>\n",
       "      <td>33543.624000</td>\n",
       "      <td>7376.710000</td>\n",
       "      <td>8157.780000</td>\n",
       "      <td>10752.560000</td>\n",
       "      <td>8362.360000</td>\n",
       "      <td>7043.980000</td>\n",
       "      <td>14007.340000</td>\n",
       "      <td>...</td>\n",
       "      <td>16.000000</td>\n",
       "      <td>16.000000</td>\n",
       "      <td>29.000000</td>\n",
       "      <td>33.000000</td>\n",
       "      <td>41.000000</td>\n",
       "      <td>4337.000000</td>\n",
       "      <td>12916.220000</td>\n",
       "      <td>9165.600000</td>\n",
       "      <td>11166.21000</td>\n",
       "      <td>1.000000</td>\n",
       "    </tr>\n",
       "  </tbody>\n",
       "</table>\n",
       "<p>11 rows × 129 columns</p>\n",
       "</div>"
      ],
      "text/plain": [
       "                  id        arpu_6        arpu_7        arpu_8   onnet_mou_6  \\\n",
       "count   69999.000000  69999.000000  69999.000000  69999.000000  67231.000000   \n",
       "unique           NaN           NaN           NaN           NaN           NaN   \n",
       "top              NaN           NaN           NaN           NaN           NaN   \n",
       "freq             NaN           NaN           NaN           NaN           NaN   \n",
       "mean    34999.000000    283.134365    278.185912    278.858826    133.153275   \n",
       "std     20207.115084    334.213918    344.366927    351.924315    299.963093   \n",
       "min         0.000000  -2258.709000  -1289.715000   -945.808000      0.000000   \n",
       "25%     17499.500000     93.581000     86.714000     84.095000      7.410000   \n",
       "50%     34999.000000    197.484000    191.588000    192.234000     34.110000   \n",
       "75%     52498.500000    370.791000    365.369500    369.909000    119.390000   \n",
       "max     69998.000000  27731.088000  35145.834000  33543.624000   7376.710000   \n",
       "\n",
       "         onnet_mou_7   onnet_mou_8  offnet_mou_6  offnet_mou_7  offnet_mou_8  \\\n",
       "count   67312.000000  66296.000000  67231.000000  67312.000000  66296.000000   \n",
       "unique           NaN           NaN           NaN           NaN           NaN   \n",
       "top              NaN           NaN           NaN           NaN           NaN   \n",
       "freq             NaN           NaN           NaN           NaN           NaN   \n",
       "mean      133.894438    132.978257    198.874771    197.153383    196.543577   \n",
       "std       311.277193    311.896596    316.818355    322.482226    324.089234   \n",
       "min         0.000000      0.000000      0.000000      0.000000      0.000000   \n",
       "25%         6.675000      6.410000     34.860000     32.240000     31.575000   \n",
       "50%        32.280000     32.100000     96.480000     91.885000     91.800000   \n",
       "75%       115.837500    115.060000    232.990000    227.630000    229.345000   \n",
       "max      8157.780000  10752.560000   8362.360000   7043.980000  14007.340000   \n",
       "\n",
       "        ...  monthly_3g_7  monthly_3g_8   sachet_3g_6   sachet_3g_7  \\\n",
       "count   ...  69999.000000  69999.000000  69999.000000  69999.000000   \n",
       "unique  ...           NaN           NaN           NaN           NaN   \n",
       "top     ...           NaN           NaN           NaN           NaN   \n",
       "freq    ...           NaN           NaN           NaN           NaN   \n",
       "mean    ...      0.077730      0.081958      0.075344      0.081444   \n",
       "std     ...      0.383189      0.381821      0.573003      0.634547   \n",
       "min     ...      0.000000      0.000000      0.000000      0.000000   \n",
       "25%     ...      0.000000      0.000000      0.000000      0.000000   \n",
       "50%     ...      0.000000      0.000000      0.000000      0.000000   \n",
       "75%     ...      0.000000      0.000000      0.000000      0.000000   \n",
       "max     ...     16.000000     16.000000     29.000000     33.000000   \n",
       "\n",
       "         sachet_3g_8           aon    aug_vbc_3g    jul_vbc_3g   jun_vbc_3g  \\\n",
       "count   69999.000000  69999.000000  69999.000000  69999.000000  69999.00000   \n",
       "unique           NaN           NaN           NaN           NaN          NaN   \n",
       "top              NaN           NaN           NaN           NaN          NaN   \n",
       "freq             NaN           NaN           NaN           NaN          NaN   \n",
       "mean        0.085487   1220.639709     68.108597     65.935830     60.07674   \n",
       "std         0.680035    952.426321    269.328659    267.899034    257.22681   \n",
       "min         0.000000    180.000000      0.000000      0.000000      0.00000   \n",
       "25%         0.000000    468.000000      0.000000      0.000000      0.00000   \n",
       "50%         0.000000    868.000000      0.000000      0.000000      0.00000   \n",
       "75%         0.000000   1813.000000      0.000000      0.000000      0.00000   \n",
       "max        41.000000   4337.000000  12916.220000   9165.600000  11166.21000   \n",
       "\n",
       "        churn_probability  \n",
       "count        69999.000000  \n",
       "unique                NaN  \n",
       "top                   NaN  \n",
       "freq                  NaN  \n",
       "mean             0.101887  \n",
       "std              0.302502  \n",
       "min              0.000000  \n",
       "25%              0.000000  \n",
       "50%              0.000000  \n",
       "75%              0.000000  \n",
       "max              1.000000  \n",
       "\n",
       "[11 rows x 129 columns]"
      ]
     },
     "execution_count": 14,
     "metadata": {},
     "output_type": "execute_result"
    }
   ],
   "source": [
    "df.describe(include=\"all\")"
   ]
  },
  {
   "cell_type": "code",
   "execution_count": 15,
   "id": "42f311ed",
   "metadata": {},
   "outputs": [],
   "source": [
    "df = df.drop(['date_of_last_rech_6', 'date_of_last_rech_7', 'date_of_last_rech_8', 'id'], axis=1) "
   ]
  },
  {
   "cell_type": "code",
   "execution_count": 16,
   "id": "49b2cd86",
   "metadata": {},
   "outputs": [],
   "source": [
    "## Imputations :: TODO"
   ]
  },
  {
   "cell_type": "code",
   "execution_count": 17,
   "id": "56285444",
   "metadata": {},
   "outputs": [
    {
     "data": {
      "text/plain": [
       "Index(['onnet_mou_6', 'onnet_mou_7', 'onnet_mou_8', 'offnet_mou_6',\n",
       "       'offnet_mou_7', 'offnet_mou_8', 'roam_ic_mou_6', 'roam_ic_mou_7',\n",
       "       'roam_ic_mou_8', 'roam_og_mou_6', 'roam_og_mou_7', 'roam_og_mou_8',\n",
       "       'loc_og_t2t_mou_6', 'loc_og_t2t_mou_7', 'loc_og_t2t_mou_8',\n",
       "       'loc_og_t2m_mou_6', 'loc_og_t2m_mou_7', 'loc_og_t2m_mou_8',\n",
       "       'loc_og_t2f_mou_6', 'loc_og_t2f_mou_7', 'loc_og_t2f_mou_8',\n",
       "       'loc_og_t2c_mou_6', 'loc_og_t2c_mou_7', 'loc_og_t2c_mou_8',\n",
       "       'loc_og_mou_6', 'loc_og_mou_7', 'loc_og_mou_8', 'std_og_t2t_mou_6',\n",
       "       'std_og_t2t_mou_7', 'std_og_t2t_mou_8', 'std_og_t2m_mou_6',\n",
       "       'std_og_t2m_mou_7', 'std_og_t2m_mou_8', 'std_og_t2f_mou_6',\n",
       "       'std_og_t2f_mou_7', 'std_og_t2f_mou_8', 'std_og_mou_6', 'std_og_mou_7',\n",
       "       'std_og_mou_8', 'isd_og_mou_6', 'isd_og_mou_7', 'isd_og_mou_8',\n",
       "       'spl_og_mou_6', 'spl_og_mou_7', 'spl_og_mou_8', 'og_others_6',\n",
       "       'og_others_7', 'og_others_8', 'loc_ic_t2t_mou_6', 'loc_ic_t2t_mou_7',\n",
       "       'loc_ic_t2t_mou_8', 'loc_ic_t2m_mou_6', 'loc_ic_t2m_mou_7',\n",
       "       'loc_ic_t2m_mou_8', 'loc_ic_t2f_mou_6', 'loc_ic_t2f_mou_7',\n",
       "       'loc_ic_t2f_mou_8', 'loc_ic_mou_6', 'loc_ic_mou_7', 'loc_ic_mou_8',\n",
       "       'std_ic_t2t_mou_6', 'std_ic_t2t_mou_7', 'std_ic_t2t_mou_8',\n",
       "       'std_ic_t2m_mou_6', 'std_ic_t2m_mou_7', 'std_ic_t2m_mou_8',\n",
       "       'std_ic_t2f_mou_6', 'std_ic_t2f_mou_7', 'std_ic_t2f_mou_8',\n",
       "       'std_ic_mou_6', 'std_ic_mou_7', 'std_ic_mou_8', 'spl_ic_mou_6',\n",
       "       'spl_ic_mou_7', 'spl_ic_mou_8', 'isd_ic_mou_6', 'isd_ic_mou_7',\n",
       "       'isd_ic_mou_8', 'ic_others_6', 'ic_others_7', 'ic_others_8'],\n",
       "      dtype='object')"
      ]
     },
     "execution_count": 17,
     "metadata": {},
     "output_type": "execute_result"
    }
   ],
   "source": [
    "missing_data_percent = df.isnull().any()\n",
    "impute_cols = missing_data_percent[missing_data_percent.gt(0)].index\n",
    "impute_cols"
   ]
  },
  {
   "cell_type": "code",
   "execution_count": 18,
   "id": "b582b1fd",
   "metadata": {},
   "outputs": [],
   "source": [
    "imp = SimpleImputer(strategy='constant', fill_value=0)\n",
    "df[impute_cols] = imp.fit_transform(df[impute_cols])"
   ]
  },
  {
   "cell_type": "code",
   "execution_count": 19,
   "id": "9a2cb723",
   "metadata": {},
   "outputs": [
    {
     "data": {
      "text/plain": [
       "arpu_6               0\n",
       "arpu_7               0\n",
       "arpu_8               0\n",
       "onnet_mou_6          0\n",
       "onnet_mou_7          0\n",
       "                    ..\n",
       "aon                  0\n",
       "aug_vbc_3g           0\n",
       "jul_vbc_3g           0\n",
       "jun_vbc_3g           0\n",
       "churn_probability    0\n",
       "Length: 125, dtype: int64"
      ]
     },
     "execution_count": 19,
     "metadata": {},
     "output_type": "execute_result"
    }
   ],
   "source": [
    "df.isnull().sum()"
   ]
  },
  {
   "cell_type": "markdown",
   "id": "b66721b5",
   "metadata": {
    "papermill": {
     "duration": 0.065563,
     "end_time": "2022-05-24T08:45:57.504519",
     "exception": false,
     "start_time": "2022-05-24T08:45:57.438956",
     "status": "completed"
    },
    "tags": []
   },
   "source": [
    "# 2. Create X, y and then Train test split\n",
    "\n",
    "Lets create X and y datasets and skip \"circle_id\" since it has only 1 unique value"
   ]
  },
  {
   "cell_type": "code",
   "execution_count": 20,
   "id": "05f14fc0",
   "metadata": {
    "execution": {
     "iopub.execute_input": "2022-05-24T08:45:57.779846Z",
     "iopub.status.busy": "2022-05-24T08:45:57.779153Z",
     "iopub.status.idle": "2022-05-24T08:45:57.793568Z",
     "shell.execute_reply": "2022-05-24T08:45:57.792893Z"
    },
    "papermill": {
     "duration": 0.084414,
     "end_time": "2022-05-24T08:45:57.795438",
     "exception": false,
     "start_time": "2022-05-24T08:45:57.711024",
     "status": "completed"
    },
    "tags": []
   },
   "outputs": [
    {
     "data": {
      "text/plain": [
       "((69999, 124), (69999,))"
      ]
     },
     "execution_count": 20,
     "metadata": {},
     "output_type": "execute_result"
    }
   ],
   "source": [
    "X = df.iloc[:,:-1]\n",
    "y = df.iloc[:,-1]\n",
    "\n",
    "X.shape, y.shape"
   ]
  },
  {
   "cell_type": "markdown",
   "id": "54e0d062",
   "metadata": {
    "papermill": {
     "duration": 0.064976,
     "end_time": "2022-05-24T08:45:57.926742",
     "exception": false,
     "start_time": "2022-05-24T08:45:57.861766",
     "status": "completed"
    },
    "tags": []
   },
   "source": [
    "Splitting train and test data to avoid any contamination of the test data"
   ]
  },
  {
   "cell_type": "code",
   "execution_count": 21,
   "id": "ac15e6c2",
   "metadata": {
    "execution": {
     "iopub.execute_input": "2022-05-24T08:45:58.064423Z",
     "iopub.status.busy": "2022-05-24T08:45:58.063960Z",
     "iopub.status.idle": "2022-05-24T08:45:58.085681Z",
     "shell.execute_reply": "2022-05-24T08:45:58.084800Z"
    },
    "papermill": {
     "duration": 0.092452,
     "end_time": "2022-05-24T08:45:58.087552",
     "exception": false,
     "start_time": "2022-05-24T08:45:57.995100",
     "status": "completed"
    },
    "tags": []
   },
   "outputs": [
    {
     "data": {
      "text/plain": [
       "((55999, 124), (14000, 124), (55999,), (14000,))"
      ]
     },
     "execution_count": 21,
     "metadata": {},
     "output_type": "execute_result"
    }
   ],
   "source": [
    "X_train, X_test, y_train, y_test = train_test_split(X, y, test_size=0.2 , stratify=y, random_state =42)\n",
    "\n",
    "X_train.shape, X_test.shape, y_train.shape, y_test.shape"
   ]
  },
  {
   "cell_type": "code",
   "execution_count": 22,
   "id": "9523ffd9",
   "metadata": {
    "execution": {
     "iopub.execute_input": "2022-05-24T08:45:58.224337Z",
     "iopub.status.busy": "2022-05-24T08:45:58.223849Z",
     "iopub.status.idle": "2022-05-24T08:45:58.250053Z",
     "shell.execute_reply": "2022-05-24T08:45:58.249212Z"
    },
    "papermill": {
     "duration": 0.097122,
     "end_time": "2022-05-24T08:45:58.251938",
     "exception": false,
     "start_time": "2022-05-24T08:45:58.154816",
     "status": "completed"
    },
    "tags": []
   },
   "outputs": [
    {
     "data": {
      "text/html": [
       "<div>\n",
       "<style scoped>\n",
       "    .dataframe tbody tr th:only-of-type {\n",
       "        vertical-align: middle;\n",
       "    }\n",
       "\n",
       "    .dataframe tbody tr th {\n",
       "        vertical-align: top;\n",
       "    }\n",
       "\n",
       "    .dataframe thead th {\n",
       "        text-align: right;\n",
       "    }\n",
       "</style>\n",
       "<table border=\"1\" class=\"dataframe\">\n",
       "  <thead>\n",
       "    <tr style=\"text-align: right;\">\n",
       "      <th></th>\n",
       "      <th>arpu_6</th>\n",
       "      <th>arpu_7</th>\n",
       "      <th>arpu_8</th>\n",
       "      <th>onnet_mou_6</th>\n",
       "      <th>onnet_mou_7</th>\n",
       "      <th>onnet_mou_8</th>\n",
       "      <th>offnet_mou_6</th>\n",
       "      <th>offnet_mou_7</th>\n",
       "      <th>offnet_mou_8</th>\n",
       "      <th>roam_ic_mou_6</th>\n",
       "      <th>...</th>\n",
       "      <th>monthly_3g_6</th>\n",
       "      <th>monthly_3g_7</th>\n",
       "      <th>monthly_3g_8</th>\n",
       "      <th>sachet_3g_6</th>\n",
       "      <th>sachet_3g_7</th>\n",
       "      <th>sachet_3g_8</th>\n",
       "      <th>aon</th>\n",
       "      <th>aug_vbc_3g</th>\n",
       "      <th>jul_vbc_3g</th>\n",
       "      <th>jun_vbc_3g</th>\n",
       "    </tr>\n",
       "  </thead>\n",
       "  <tbody>\n",
       "    <tr>\n",
       "      <th>38032</th>\n",
       "      <td>92.610</td>\n",
       "      <td>320.271</td>\n",
       "      <td>391.980</td>\n",
       "      <td>97.56</td>\n",
       "      <td>445.04</td>\n",
       "      <td>519.78</td>\n",
       "      <td>15.68</td>\n",
       "      <td>63.61</td>\n",
       "      <td>155.69</td>\n",
       "      <td>1.55</td>\n",
       "      <td>...</td>\n",
       "      <td>0</td>\n",
       "      <td>0</td>\n",
       "      <td>0</td>\n",
       "      <td>0</td>\n",
       "      <td>0</td>\n",
       "      <td>0</td>\n",
       "      <td>846</td>\n",
       "      <td>0.00</td>\n",
       "      <td>0.0</td>\n",
       "      <td>0.0</td>\n",
       "    </tr>\n",
       "    <tr>\n",
       "      <th>69689</th>\n",
       "      <td>298.625</td>\n",
       "      <td>45.560</td>\n",
       "      <td>0.000</td>\n",
       "      <td>90.74</td>\n",
       "      <td>35.68</td>\n",
       "      <td>0.00</td>\n",
       "      <td>272.79</td>\n",
       "      <td>22.88</td>\n",
       "      <td>0.00</td>\n",
       "      <td>0.00</td>\n",
       "      <td>...</td>\n",
       "      <td>1</td>\n",
       "      <td>0</td>\n",
       "      <td>0</td>\n",
       "      <td>0</td>\n",
       "      <td>0</td>\n",
       "      <td>0</td>\n",
       "      <td>462</td>\n",
       "      <td>0.00</td>\n",
       "      <td>0.0</td>\n",
       "      <td>0.0</td>\n",
       "    </tr>\n",
       "    <tr>\n",
       "      <th>8224</th>\n",
       "      <td>196.111</td>\n",
       "      <td>203.800</td>\n",
       "      <td>486.918</td>\n",
       "      <td>209.59</td>\n",
       "      <td>346.81</td>\n",
       "      <td>816.51</td>\n",
       "      <td>108.43</td>\n",
       "      <td>225.09</td>\n",
       "      <td>77.71</td>\n",
       "      <td>9.64</td>\n",
       "      <td>...</td>\n",
       "      <td>1</td>\n",
       "      <td>0</td>\n",
       "      <td>0</td>\n",
       "      <td>0</td>\n",
       "      <td>0</td>\n",
       "      <td>0</td>\n",
       "      <td>1006</td>\n",
       "      <td>0.00</td>\n",
       "      <td>0.0</td>\n",
       "      <td>0.0</td>\n",
       "    </tr>\n",
       "    <tr>\n",
       "      <th>40850</th>\n",
       "      <td>139.321</td>\n",
       "      <td>157.021</td>\n",
       "      <td>159.608</td>\n",
       "      <td>91.54</td>\n",
       "      <td>72.31</td>\n",
       "      <td>82.14</td>\n",
       "      <td>7.41</td>\n",
       "      <td>34.83</td>\n",
       "      <td>31.93</td>\n",
       "      <td>0.00</td>\n",
       "      <td>...</td>\n",
       "      <td>0</td>\n",
       "      <td>0</td>\n",
       "      <td>0</td>\n",
       "      <td>0</td>\n",
       "      <td>0</td>\n",
       "      <td>0</td>\n",
       "      <td>502</td>\n",
       "      <td>0.00</td>\n",
       "      <td>0.0</td>\n",
       "      <td>0.0</td>\n",
       "    </tr>\n",
       "    <tr>\n",
       "      <th>69476</th>\n",
       "      <td>210.940</td>\n",
       "      <td>183.400</td>\n",
       "      <td>198.260</td>\n",
       "      <td>7.94</td>\n",
       "      <td>14.93</td>\n",
       "      <td>8.76</td>\n",
       "      <td>194.64</td>\n",
       "      <td>145.86</td>\n",
       "      <td>145.98</td>\n",
       "      <td>0.00</td>\n",
       "      <td>...</td>\n",
       "      <td>0</td>\n",
       "      <td>0</td>\n",
       "      <td>0</td>\n",
       "      <td>0</td>\n",
       "      <td>0</td>\n",
       "      <td>0</td>\n",
       "      <td>2305</td>\n",
       "      <td>5.35</td>\n",
       "      <td>0.0</td>\n",
       "      <td>0.0</td>\n",
       "    </tr>\n",
       "  </tbody>\n",
       "</table>\n",
       "<p>5 rows × 124 columns</p>\n",
       "</div>"
      ],
      "text/plain": [
       "        arpu_6   arpu_7   arpu_8  onnet_mou_6  onnet_mou_7  onnet_mou_8  \\\n",
       "38032   92.610  320.271  391.980        97.56       445.04       519.78   \n",
       "69689  298.625   45.560    0.000        90.74        35.68         0.00   \n",
       "8224   196.111  203.800  486.918       209.59       346.81       816.51   \n",
       "40850  139.321  157.021  159.608        91.54        72.31        82.14   \n",
       "69476  210.940  183.400  198.260         7.94        14.93         8.76   \n",
       "\n",
       "       offnet_mou_6  offnet_mou_7  offnet_mou_8  roam_ic_mou_6  ...  \\\n",
       "38032         15.68         63.61        155.69           1.55  ...   \n",
       "69689        272.79         22.88          0.00           0.00  ...   \n",
       "8224         108.43        225.09         77.71           9.64  ...   \n",
       "40850          7.41         34.83         31.93           0.00  ...   \n",
       "69476        194.64        145.86        145.98           0.00  ...   \n",
       "\n",
       "       monthly_3g_6  monthly_3g_7  monthly_3g_8  sachet_3g_6  sachet_3g_7  \\\n",
       "38032             0             0             0            0            0   \n",
       "69689             1             0             0            0            0   \n",
       "8224              1             0             0            0            0   \n",
       "40850             0             0             0            0            0   \n",
       "69476             0             0             0            0            0   \n",
       "\n",
       "       sachet_3g_8   aon  aug_vbc_3g  jul_vbc_3g  jun_vbc_3g  \n",
       "38032            0   846        0.00         0.0         0.0  \n",
       "69689            0   462        0.00         0.0         0.0  \n",
       "8224             0  1006        0.00         0.0         0.0  \n",
       "40850            0   502        0.00         0.0         0.0  \n",
       "69476            0  2305        5.35         0.0         0.0  \n",
       "\n",
       "[5 rows x 124 columns]"
      ]
     },
     "execution_count": 22,
     "metadata": {},
     "output_type": "execute_result"
    }
   ],
   "source": [
    "X_train.head()"
   ]
  },
  {
   "cell_type": "markdown",
   "id": "04b7a685",
   "metadata": {
    "papermill": {
     "duration": 0.067226,
     "end_time": "2022-05-24T08:45:58.387309",
     "exception": false,
     "start_time": "2022-05-24T08:45:58.320083",
     "status": "completed"
    },
    "tags": []
   },
   "source": [
    "# 3. Handling Missing data\n",
    "\n",
    "First lets analyse the missing data. We can use missingno library for quick visualizations."
   ]
  },
  {
   "cell_type": "code",
   "execution_count": 23,
   "id": "cfc44ce2",
   "metadata": {
    "execution": {
     "iopub.execute_input": "2022-05-24T08:45:58.525636Z",
     "iopub.status.busy": "2022-05-24T08:45:58.525057Z",
     "iopub.status.idle": "2022-05-24T08:45:59.946729Z",
     "shell.execute_reply": "2022-05-24T08:45:59.945928Z"
    },
    "papermill": {
     "duration": 1.494304,
     "end_time": "2022-05-24T08:45:59.949512",
     "exception": false,
     "start_time": "2022-05-24T08:45:58.455208",
     "status": "completed"
    },
    "scrolled": false,
    "tags": []
   },
   "outputs": [],
   "source": [
    "#msno.bar(X_train)"
   ]
  },
  {
   "cell_type": "code",
   "execution_count": 24,
   "id": "08383201",
   "metadata": {
    "execution": {
     "iopub.execute_input": "2022-05-24T08:46:00.096682Z",
     "iopub.status.busy": "2022-05-24T08:46:00.095999Z",
     "iopub.status.idle": "2022-05-24T08:46:00.804157Z",
     "shell.execute_reply": "2022-05-24T08:46:00.803458Z"
    },
    "papermill": {
     "duration": 0.78342,
     "end_time": "2022-05-24T08:46:00.806618",
     "exception": false,
     "start_time": "2022-05-24T08:46:00.023198",
     "status": "completed"
    },
    "tags": []
   },
   "outputs": [],
   "source": [
    "#msno.matrix(X_train)"
   ]
  },
  {
   "cell_type": "markdown",
   "id": "3909b16a",
   "metadata": {
    "papermill": {
     "duration": 0.072948,
     "end_time": "2022-05-24T08:46:00.952690",
     "exception": false,
     "start_time": "2022-05-24T08:46:00.879742",
     "status": "completed"
    },
    "tags": []
   },
   "source": [
    "Lets also calculate the % missing data for each column:"
   ]
  },
  {
   "cell_type": "markdown",
   "id": "8e0412b3",
   "metadata": {
    "papermill": {
     "duration": 0.073593,
     "end_time": "2022-05-24T08:46:01.722267",
     "exception": false,
     "start_time": "2022-05-24T08:46:01.648674",
     "status": "completed"
    },
    "tags": []
   },
   "source": [
    "Next, we try imputation on variables with any amount of missing data still left. There are multiple ways of imputing data, and each will require a good business understanding of what the missing data is and how you may handle it.\n",
    "\n",
    "Some tips while working with missing data - \n",
    "\n",
    "1. Can simply replace missing values directly with a constant value such as 0\n",
    "2. In certain cases you may want to replace it with the average value for each column respectively\n",
    "3. For timeseries data, you may consider using linear or spline interplolation between a set of points, if you have data available for some of the months, and missing for the others.\n",
    "4. You can consider more advance methods for imputation such as MICE.\n",
    "\n",
    "In our case, I will just demostrate a simple imputation with constant values as zeros."
   ]
  },
  {
   "cell_type": "code",
   "execution_count": 25,
   "id": "eaf62714",
   "metadata": {
    "execution": {
     "iopub.execute_input": "2022-05-24T08:46:01.873183Z",
     "iopub.status.busy": "2022-05-24T08:46:01.872744Z",
     "iopub.status.idle": "2022-05-24T08:46:01.881170Z",
     "shell.execute_reply": "2022-05-24T08:46:01.880360Z"
    },
    "papermill": {
     "duration": 0.085208,
     "end_time": "2022-05-24T08:46:01.882855",
     "exception": false,
     "start_time": "2022-05-24T08:46:01.797647",
     "status": "completed"
    },
    "tags": []
   },
   "outputs": [
    {
     "data": {
      "text/plain": [
       "\"'missing_data_percent = X_train.isnull().any()\\nimpute_cols = missing_data_percent[missing_data_percent.gt(0)].index\\nimpute_cols\""
      ]
     },
     "execution_count": 25,
     "metadata": {},
     "output_type": "execute_result"
    }
   ],
   "source": [
    "''''missing_data_percent = X_train.isnull().any()\n",
    "impute_cols = missing_data_percent[missing_data_percent.gt(0)].index\n",
    "impute_cols'''"
   ]
  },
  {
   "cell_type": "code",
   "execution_count": 26,
   "id": "915e664c",
   "metadata": {
    "execution": {
     "iopub.execute_input": "2022-05-24T08:46:02.032137Z",
     "iopub.status.busy": "2022-05-24T08:46:02.031845Z",
     "iopub.status.idle": "2022-05-24T08:46:02.042792Z",
     "shell.execute_reply": "2022-05-24T08:46:02.042162Z"
    },
    "papermill": {
     "duration": 0.088081,
     "end_time": "2022-05-24T08:46:02.044642",
     "exception": false,
     "start_time": "2022-05-24T08:46:01.956561",
     "status": "completed"
    },
    "tags": []
   },
   "outputs": [
    {
     "data": {
      "text/plain": [
       "\"imp = SimpleImputer(strategy='constant', fill_value=0)\\nX_train[impute_cols] = imp.fit_transform(X_train[impute_cols])\""
      ]
     },
     "execution_count": 26,
     "metadata": {},
     "output_type": "execute_result"
    }
   ],
   "source": [
    "'''imp = SimpleImputer(strategy='constant', fill_value=0)\n",
    "X_train[impute_cols] = imp.fit_transform(X_train[impute_cols])'''"
   ]
  },
  {
   "cell_type": "code",
   "execution_count": 27,
   "id": "0fcb99c9",
   "metadata": {
    "execution": {
     "iopub.execute_input": "2022-05-24T08:46:02.193813Z",
     "iopub.status.busy": "2022-05-24T08:46:02.193553Z",
     "iopub.status.idle": "2022-05-24T08:46:03.024787Z",
     "shell.execute_reply": "2022-05-24T08:46:03.024021Z"
    },
    "papermill": {
     "duration": 0.906901,
     "end_time": "2022-05-24T08:46:03.026790",
     "exception": false,
     "start_time": "2022-05-24T08:46:02.119889",
     "status": "completed"
    },
    "scrolled": false,
    "tags": []
   },
   "outputs": [],
   "source": [
    "#msno.bar(X_train)"
   ]
  },
  {
   "cell_type": "code",
   "execution_count": 28,
   "id": "813393b9",
   "metadata": {
    "execution": {
     "iopub.execute_input": "2022-05-24T08:46:03.185997Z",
     "iopub.status.busy": "2022-05-24T08:46:03.185423Z",
     "iopub.status.idle": "2022-05-24T08:46:03.269446Z",
     "shell.execute_reply": "2022-05-24T08:46:03.268636Z"
    },
    "papermill": {
     "duration": 0.165285,
     "end_time": "2022-05-24T08:46:03.271646",
     "exception": false,
     "start_time": "2022-05-24T08:46:03.106361",
     "status": "completed"
    },
    "tags": []
   },
   "outputs": [
    {
     "data": {
      "text/html": [
       "<div>\n",
       "<style scoped>\n",
       "    .dataframe tbody tr th:only-of-type {\n",
       "        vertical-align: middle;\n",
       "    }\n",
       "\n",
       "    .dataframe tbody tr th {\n",
       "        vertical-align: top;\n",
       "    }\n",
       "\n",
       "    .dataframe thead th {\n",
       "        text-align: right;\n",
       "    }\n",
       "</style>\n",
       "<table border=\"1\" class=\"dataframe\">\n",
       "  <thead>\n",
       "    <tr style=\"text-align: right;\">\n",
       "      <th></th>\n",
       "      <th>arpu_6</th>\n",
       "      <th>arpu_7</th>\n",
       "      <th>arpu_8</th>\n",
       "      <th>onnet_mou_6</th>\n",
       "      <th>onnet_mou_7</th>\n",
       "      <th>onnet_mou_8</th>\n",
       "      <th>offnet_mou_6</th>\n",
       "      <th>offnet_mou_7</th>\n",
       "      <th>offnet_mou_8</th>\n",
       "      <th>roam_ic_mou_6</th>\n",
       "      <th>...</th>\n",
       "      <th>monthly_3g_6</th>\n",
       "      <th>monthly_3g_7</th>\n",
       "      <th>monthly_3g_8</th>\n",
       "      <th>sachet_3g_6</th>\n",
       "      <th>sachet_3g_7</th>\n",
       "      <th>sachet_3g_8</th>\n",
       "      <th>aon</th>\n",
       "      <th>aug_vbc_3g</th>\n",
       "      <th>jul_vbc_3g</th>\n",
       "      <th>jun_vbc_3g</th>\n",
       "    </tr>\n",
       "  </thead>\n",
       "  <tbody>\n",
       "    <tr>\n",
       "      <th>count</th>\n",
       "      <td>55999.000000</td>\n",
       "      <td>55999.000000</td>\n",
       "      <td>55999.000000</td>\n",
       "      <td>55999.000000</td>\n",
       "      <td>55999.000000</td>\n",
       "      <td>55999.000000</td>\n",
       "      <td>55999.000000</td>\n",
       "      <td>55999.000000</td>\n",
       "      <td>55999.000000</td>\n",
       "      <td>55999.000000</td>\n",
       "      <td>...</td>\n",
       "      <td>55999.000000</td>\n",
       "      <td>55999.000000</td>\n",
       "      <td>55999.000000</td>\n",
       "      <td>55999.000000</td>\n",
       "      <td>55999.000000</td>\n",
       "      <td>55999.000000</td>\n",
       "      <td>55999.000000</td>\n",
       "      <td>55999.000000</td>\n",
       "      <td>55999.000000</td>\n",
       "      <td>55999.000000</td>\n",
       "    </tr>\n",
       "    <tr>\n",
       "      <th>mean</th>\n",
       "      <td>283.289565</td>\n",
       "      <td>277.942606</td>\n",
       "      <td>277.812549</td>\n",
       "      <td>127.392096</td>\n",
       "      <td>127.985636</td>\n",
       "      <td>125.186763</td>\n",
       "      <td>191.421571</td>\n",
       "      <td>189.369167</td>\n",
       "      <td>186.128604</td>\n",
       "      <td>9.424553</td>\n",
       "      <td>...</td>\n",
       "      <td>0.076626</td>\n",
       "      <td>0.078555</td>\n",
       "      <td>0.082073</td>\n",
       "      <td>0.072805</td>\n",
       "      <td>0.078662</td>\n",
       "      <td>0.085644</td>\n",
       "      <td>1220.828711</td>\n",
       "      <td>67.948789</td>\n",
       "      <td>65.501282</td>\n",
       "      <td>59.718041</td>\n",
       "    </tr>\n",
       "    <tr>\n",
       "      <th>std</th>\n",
       "      <td>342.411676</td>\n",
       "      <td>352.642365</td>\n",
       "      <td>351.334025</td>\n",
       "      <td>294.088933</td>\n",
       "      <td>304.504564</td>\n",
       "      <td>305.501177</td>\n",
       "      <td>316.196645</td>\n",
       "      <td>317.798191</td>\n",
       "      <td>319.925221</td>\n",
       "      <td>56.503464</td>\n",
       "      <td>...</td>\n",
       "      <td>0.363379</td>\n",
       "      <td>0.389957</td>\n",
       "      <td>0.385568</td>\n",
       "      <td>0.543579</td>\n",
       "      <td>0.595327</td>\n",
       "      <td>0.681911</td>\n",
       "      <td>953.436926</td>\n",
       "      <td>271.715732</td>\n",
       "      <td>264.802536</td>\n",
       "      <td>255.285624</td>\n",
       "    </tr>\n",
       "    <tr>\n",
       "      <th>min</th>\n",
       "      <td>-2041.228000</td>\n",
       "      <td>-1289.715000</td>\n",
       "      <td>-945.808000</td>\n",
       "      <td>0.000000</td>\n",
       "      <td>0.000000</td>\n",
       "      <td>0.000000</td>\n",
       "      <td>0.000000</td>\n",
       "      <td>0.000000</td>\n",
       "      <td>0.000000</td>\n",
       "      <td>0.000000</td>\n",
       "      <td>...</td>\n",
       "      <td>0.000000</td>\n",
       "      <td>0.000000</td>\n",
       "      <td>0.000000</td>\n",
       "      <td>0.000000</td>\n",
       "      <td>0.000000</td>\n",
       "      <td>0.000000</td>\n",
       "      <td>180.000000</td>\n",
       "      <td>0.000000</td>\n",
       "      <td>0.000000</td>\n",
       "      <td>0.000000</td>\n",
       "    </tr>\n",
       "    <tr>\n",
       "      <th>25%</th>\n",
       "      <td>93.318000</td>\n",
       "      <td>86.336500</td>\n",
       "      <td>83.596000</td>\n",
       "      <td>5.390000</td>\n",
       "      <td>4.910000</td>\n",
       "      <td>4.080000</td>\n",
       "      <td>28.580000</td>\n",
       "      <td>26.790000</td>\n",
       "      <td>23.610000</td>\n",
       "      <td>0.000000</td>\n",
       "      <td>...</td>\n",
       "      <td>0.000000</td>\n",
       "      <td>0.000000</td>\n",
       "      <td>0.000000</td>\n",
       "      <td>0.000000</td>\n",
       "      <td>0.000000</td>\n",
       "      <td>0.000000</td>\n",
       "      <td>468.000000</td>\n",
       "      <td>0.000000</td>\n",
       "      <td>0.000000</td>\n",
       "      <td>0.000000</td>\n",
       "    </tr>\n",
       "    <tr>\n",
       "      <th>50%</th>\n",
       "      <td>197.007000</td>\n",
       "      <td>191.421000</td>\n",
       "      <td>191.374000</td>\n",
       "      <td>30.930000</td>\n",
       "      <td>29.140000</td>\n",
       "      <td>27.630000</td>\n",
       "      <td>89.660000</td>\n",
       "      <td>85.790000</td>\n",
       "      <td>82.710000</td>\n",
       "      <td>0.000000</td>\n",
       "      <td>...</td>\n",
       "      <td>0.000000</td>\n",
       "      <td>0.000000</td>\n",
       "      <td>0.000000</td>\n",
       "      <td>0.000000</td>\n",
       "      <td>0.000000</td>\n",
       "      <td>0.000000</td>\n",
       "      <td>869.000000</td>\n",
       "      <td>0.000000</td>\n",
       "      <td>0.000000</td>\n",
       "      <td>0.000000</td>\n",
       "    </tr>\n",
       "    <tr>\n",
       "      <th>75%</th>\n",
       "      <td>369.921000</td>\n",
       "      <td>364.384500</td>\n",
       "      <td>368.924000</td>\n",
       "      <td>113.435000</td>\n",
       "      <td>108.625000</td>\n",
       "      <td>105.085000</td>\n",
       "      <td>222.885000</td>\n",
       "      <td>218.130000</td>\n",
       "      <td>215.745000</td>\n",
       "      <td>0.000000</td>\n",
       "      <td>...</td>\n",
       "      <td>0.000000</td>\n",
       "      <td>0.000000</td>\n",
       "      <td>0.000000</td>\n",
       "      <td>0.000000</td>\n",
       "      <td>0.000000</td>\n",
       "      <td>0.000000</td>\n",
       "      <td>1811.000000</td>\n",
       "      <td>0.000000</td>\n",
       "      <td>0.000000</td>\n",
       "      <td>0.000000</td>\n",
       "    </tr>\n",
       "    <tr>\n",
       "      <th>max</th>\n",
       "      <td>27731.088000</td>\n",
       "      <td>35145.834000</td>\n",
       "      <td>33543.624000</td>\n",
       "      <td>7376.710000</td>\n",
       "      <td>8157.780000</td>\n",
       "      <td>10752.560000</td>\n",
       "      <td>8362.360000</td>\n",
       "      <td>7043.980000</td>\n",
       "      <td>14007.340000</td>\n",
       "      <td>2850.980000</td>\n",
       "      <td>...</td>\n",
       "      <td>9.000000</td>\n",
       "      <td>16.000000</td>\n",
       "      <td>16.000000</td>\n",
       "      <td>29.000000</td>\n",
       "      <td>24.000000</td>\n",
       "      <td>41.000000</td>\n",
       "      <td>4337.000000</td>\n",
       "      <td>12916.220000</td>\n",
       "      <td>9165.600000</td>\n",
       "      <td>11166.210000</td>\n",
       "    </tr>\n",
       "  </tbody>\n",
       "</table>\n",
       "<p>8 rows × 124 columns</p>\n",
       "</div>"
      ],
      "text/plain": [
       "             arpu_6        arpu_7        arpu_8   onnet_mou_6   onnet_mou_7  \\\n",
       "count  55999.000000  55999.000000  55999.000000  55999.000000  55999.000000   \n",
       "mean     283.289565    277.942606    277.812549    127.392096    127.985636   \n",
       "std      342.411676    352.642365    351.334025    294.088933    304.504564   \n",
       "min    -2041.228000  -1289.715000   -945.808000      0.000000      0.000000   \n",
       "25%       93.318000     86.336500     83.596000      5.390000      4.910000   \n",
       "50%      197.007000    191.421000    191.374000     30.930000     29.140000   \n",
       "75%      369.921000    364.384500    368.924000    113.435000    108.625000   \n",
       "max    27731.088000  35145.834000  33543.624000   7376.710000   8157.780000   \n",
       "\n",
       "        onnet_mou_8  offnet_mou_6  offnet_mou_7  offnet_mou_8  roam_ic_mou_6  \\\n",
       "count  55999.000000  55999.000000  55999.000000  55999.000000   55999.000000   \n",
       "mean     125.186763    191.421571    189.369167    186.128604       9.424553   \n",
       "std      305.501177    316.196645    317.798191    319.925221      56.503464   \n",
       "min        0.000000      0.000000      0.000000      0.000000       0.000000   \n",
       "25%        4.080000     28.580000     26.790000     23.610000       0.000000   \n",
       "50%       27.630000     89.660000     85.790000     82.710000       0.000000   \n",
       "75%      105.085000    222.885000    218.130000    215.745000       0.000000   \n",
       "max    10752.560000   8362.360000   7043.980000  14007.340000    2850.980000   \n",
       "\n",
       "       ...  monthly_3g_6  monthly_3g_7  monthly_3g_8   sachet_3g_6  \\\n",
       "count  ...  55999.000000  55999.000000  55999.000000  55999.000000   \n",
       "mean   ...      0.076626      0.078555      0.082073      0.072805   \n",
       "std    ...      0.363379      0.389957      0.385568      0.543579   \n",
       "min    ...      0.000000      0.000000      0.000000      0.000000   \n",
       "25%    ...      0.000000      0.000000      0.000000      0.000000   \n",
       "50%    ...      0.000000      0.000000      0.000000      0.000000   \n",
       "75%    ...      0.000000      0.000000      0.000000      0.000000   \n",
       "max    ...      9.000000     16.000000     16.000000     29.000000   \n",
       "\n",
       "        sachet_3g_7   sachet_3g_8           aon    aug_vbc_3g    jul_vbc_3g  \\\n",
       "count  55999.000000  55999.000000  55999.000000  55999.000000  55999.000000   \n",
       "mean       0.078662      0.085644   1220.828711     67.948789     65.501282   \n",
       "std        0.595327      0.681911    953.436926    271.715732    264.802536   \n",
       "min        0.000000      0.000000    180.000000      0.000000      0.000000   \n",
       "25%        0.000000      0.000000    468.000000      0.000000      0.000000   \n",
       "50%        0.000000      0.000000    869.000000      0.000000      0.000000   \n",
       "75%        0.000000      0.000000   1811.000000      0.000000      0.000000   \n",
       "max       24.000000     41.000000   4337.000000  12916.220000   9165.600000   \n",
       "\n",
       "         jun_vbc_3g  \n",
       "count  55999.000000  \n",
       "mean      59.718041  \n",
       "std      255.285624  \n",
       "min        0.000000  \n",
       "25%        0.000000  \n",
       "50%        0.000000  \n",
       "75%        0.000000  \n",
       "max    11166.210000  \n",
       "\n",
       "[8 rows x 124 columns]"
      ]
     },
     "execution_count": 28,
     "metadata": {},
     "output_type": "execute_result"
    }
   ],
   "source": [
    "X_train.describe()"
   ]
  },
  {
   "cell_type": "markdown",
   "id": "d9c2fda0",
   "metadata": {
    "papermill": {
     "duration": 0.077917,
     "end_time": "2022-05-24T08:46:03.426070",
     "exception": false,
     "start_time": "2022-05-24T08:46:03.348153",
     "status": "completed"
    },
    "tags": []
   },
   "source": [
    "# 4. Exploratory Data Analysis & Preprocessing\n",
    "\n",
    "Lets start by analysing the univariate distributions of each feature."
   ]
  },
  {
   "cell_type": "code",
   "execution_count": 29,
   "id": "80293235",
   "metadata": {
    "execution": {
     "iopub.execute_input": "2022-05-24T08:46:03.587144Z",
     "iopub.status.busy": "2022-05-24T08:46:03.586657Z",
     "iopub.status.idle": "2022-05-24T08:46:04.199840Z",
     "shell.execute_reply": "2022-05-24T08:46:04.199031Z"
    },
    "papermill": {
     "duration": 0.698364,
     "end_time": "2022-05-24T08:46:04.201944",
     "exception": false,
     "start_time": "2022-05-24T08:46:03.503580",
     "status": "completed"
    },
    "tags": []
   },
   "outputs": [
    {
     "data": {
      "text/plain": [
       "<AxesSubplot:>"
      ]
     },
     "execution_count": 29,
     "metadata": {},
     "output_type": "execute_result"
    },
    {
     "data": {
      "image/png": "[encoded data removed]",
      "text/plain": [
       "<Figure size 1080x576 with 1 Axes>"
      ]
     },
     "metadata": {
      "needs_background": "light"
     },
     "output_type": "display_data"
    }
   ],
   "source": [
    "plt.figure(figsize=(15,8))\n",
    "plt.xticks(rotation=90)\n",
    "sns.boxplot(data = X_train)"
   ]
  },
  {
   "cell_type": "markdown",
   "id": "4b136448",
   "metadata": {
    "papermill": {
     "duration": 0.077936,
     "end_time": "2022-05-24T08:46:04.358511",
     "exception": false,
     "start_time": "2022-05-24T08:46:04.280575",
     "status": "completed"
    },
    "tags": []
   },
   "source": [
    "### 4.1 Handling outliers\n",
    "\n",
    "The box plots of these features show there a lot of outliers. These can be capped with k-sigma method."
   ]
  },
  {
   "cell_type": "code",
   "execution_count": 30,
   "id": "1f176c4f",
   "metadata": {
    "execution": {
     "iopub.execute_input": "2022-05-24T08:46:04.516605Z",
     "iopub.status.busy": "2022-05-24T08:46:04.515864Z",
     "iopub.status.idle": "2022-05-24T08:46:04.520339Z",
     "shell.execute_reply": "2022-05-24T08:46:04.519852Z"
    },
    "papermill": {
     "duration": 0.085093,
     "end_time": "2022-05-24T08:46:04.521913",
     "exception": false,
     "start_time": "2022-05-24T08:46:04.436820",
     "status": "completed"
    },
    "tags": []
   },
   "outputs": [],
   "source": [
    "def cap_outliers(array, k=3):\n",
    "    upper_limit = array.mean() + k*array.std()\n",
    "    lower_limit = array.mean() - k*array.std()\n",
    "    array[array<lower_limit] = lower_limit\n",
    "    array[array>upper_limit] = upper_limit\n",
    "    return array"
   ]
  },
  {
   "cell_type": "code",
   "execution_count": 31,
   "id": "824cf9c3",
   "metadata": {
    "execution": {
     "iopub.execute_input": "2022-05-24T08:46:04.679638Z",
     "iopub.status.busy": "2022-05-24T08:46:04.678783Z",
     "iopub.status.idle": "2022-05-24T08:46:05.372252Z",
     "shell.execute_reply": "2022-05-24T08:46:05.371363Z"
    },
    "papermill": {
     "duration": 0.773634,
     "end_time": "2022-05-24T08:46:05.374394",
     "exception": false,
     "start_time": "2022-05-24T08:46:04.600760",
     "status": "completed"
    },
    "tags": []
   },
   "outputs": [
    {
     "data": {
      "text/plain": [
       "<AxesSubplot:>"
      ]
     },
     "execution_count": 31,
     "metadata": {},
     "output_type": "execute_result"
    },
    {
     "data": {
      "image/png": "[encoded data removed]",
      "text/plain": [
       "<Figure size 1080x576 with 1 Axes>"
      ]
     },
     "metadata": {
      "needs_background": "light"
     },
     "output_type": "display_data"
    }
   ],
   "source": [
    "X_train_filtered = X_train.apply(cap_outliers, axis=0)\n",
    "\n",
    "plt.figure(figsize=(15,8))\n",
    "plt.xticks(rotation=90)\n",
    "sns.boxplot(data = X_train_filtered)"
   ]
  },
  {
   "cell_type": "markdown",
   "id": "a93c957c",
   "metadata": {
    "papermill": {
     "duration": 0.082075,
     "end_time": "2022-05-24T08:46:05.537123",
     "exception": false,
     "start_time": "2022-05-24T08:46:05.455048",
     "status": "completed"
    },
    "tags": []
   },
   "source": [
    "### 4.2 Feature scaling\n",
    "\n",
    "Lets also scale the features by scaling them with Standard scaler (few other alternates are min-max scaling and Z-scaling)."
   ]
  },
  {
   "cell_type": "code",
   "execution_count": 32,
   "id": "2d9a551f",
   "metadata": {
    "execution": {
     "iopub.execute_input": "2022-05-24T08:46:05.696811Z",
     "iopub.status.busy": "2022-05-24T08:46:05.696317Z",
     "iopub.status.idle": "2022-05-24T08:46:05.713113Z",
     "shell.execute_reply": "2022-05-24T08:46:05.712437Z"
    },
    "papermill": {
     "duration": 0.098726,
     "end_time": "2022-05-24T08:46:05.715046",
     "exception": false,
     "start_time": "2022-05-24T08:46:05.616320",
     "status": "completed"
    },
    "tags": []
   },
   "outputs": [],
   "source": [
    "#X_train_filtered = X_train\n",
    "scale = StandardScaler()\n",
    "X_train_scaled = scale.fit_transform(X_train_filtered)"
   ]
  },
  {
   "cell_type": "code",
   "execution_count": 33,
   "id": "167346b4",
   "metadata": {
    "execution": {
     "iopub.execute_input": "2022-05-24T08:46:05.874770Z",
     "iopub.status.busy": "2022-05-24T08:46:05.874046Z",
     "iopub.status.idle": "2022-05-24T08:46:06.477538Z",
     "shell.execute_reply": "2022-05-24T08:46:06.476761Z"
    },
    "papermill": {
     "duration": 0.685313,
     "end_time": "2022-05-24T08:46:06.480124",
     "exception": false,
     "start_time": "2022-05-24T08:46:05.794811",
     "status": "completed"
    },
    "tags": []
   },
   "outputs": [
    {
     "data": {
      "text/plain": [
       "<AxesSubplot:>"
      ]
     },
     "execution_count": 33,
     "metadata": {},
     "output_type": "execute_result"
    },
    {
     "data": {
      "image/png": "[encoded data removed]",
      "text/plain": [
       "<Figure size 1080x576 with 1 Axes>"
      ]
     },
     "metadata": {
      "needs_background": "light"
     },
     "output_type": "display_data"
    }
   ],
   "source": [
    "plt.figure(figsize=(15,8))\n",
    "plt.xticks(rotation=90)\n",
    "sns.boxplot(data = pd.DataFrame(X_train_scaled, columns=X_train.columns))"
   ]
  },
  {
   "cell_type": "markdown",
   "id": "23e89aac",
   "metadata": {
    "papermill": {
     "duration": 0.080947,
     "end_time": "2022-05-24T08:46:06.646926",
     "exception": false,
     "start_time": "2022-05-24T08:46:06.565979",
     "status": "completed"
    },
    "tags": []
   },
   "source": [
    "You can perform feature transformations at this stage. \n",
    "\n",
    "1. **Positively skewed:** Common transformations of this data include square root, cube root, and log.\n",
    "2. **Negatively skewed:** Common transformations include square, cube root and logarithmic.\n",
    "\n",
    "Please read the following link to understand how to perform feature scaling and preprocessing : https://scikit-learn.org/stable/modules/preprocessing.html\n",
    " \n",
    "Lets also plot the correlations for each feature for bivariate analysis."
   ]
  },
  {
   "cell_type": "code",
   "execution_count": 34,
   "id": "e2283522",
   "metadata": {
    "execution": {
     "iopub.execute_input": "2022-05-24T08:46:06.812044Z",
     "iopub.status.busy": "2022-05-24T08:46:06.811514Z",
     "iopub.status.idle": "2022-05-24T08:46:07.244310Z",
     "shell.execute_reply": "2022-05-24T08:46:07.243605Z"
    },
    "papermill": {
     "duration": 0.518564,
     "end_time": "2022-05-24T08:46:07.246252",
     "exception": false,
     "start_time": "2022-05-24T08:46:06.727688",
     "status": "completed"
    },
    "tags": []
   },
   "outputs": [
    {
     "data": {
      "text/plain": [
       "<AxesSubplot:>"
      ]
     },
     "execution_count": 34,
     "metadata": {},
     "output_type": "execute_result"
    },
    {
     "data": {
      "image/png": "[encoded data removed]",
      "text/plain": [
       "<Figure size 720x576 with 2 Axes>"
      ]
     },
     "metadata": {
      "needs_background": "light"
     },
     "output_type": "display_data"
    }
   ],
   "source": [
    "plt.figure(figsize=(10,8))\n",
    "sns.heatmap(pd.DataFrame(X_train_scaled, columns=X_train.columns).corr())"
   ]
  },
  {
   "cell_type": "code",
   "execution_count": 35,
   "id": "16fb61af",
   "metadata": {
    "execution": {
     "iopub.execute_input": "2022-05-24T08:46:07.413713Z",
     "iopub.status.busy": "2022-05-24T08:46:07.413446Z",
     "iopub.status.idle": "2022-05-24T08:46:07.618818Z",
     "shell.execute_reply": "2022-05-24T08:46:07.618056Z"
    },
    "papermill": {
     "duration": 0.291101,
     "end_time": "2022-05-24T08:46:07.620964",
     "exception": false,
     "start_time": "2022-05-24T08:46:07.329863",
     "status": "completed"
    },
    "tags": []
   },
   "outputs": [
    {
     "data": {
      "text/plain": [
       "<AxesSubplot:xlabel='churn_probability', ylabel='Count'>"
      ]
     },
     "execution_count": 35,
     "metadata": {},
     "output_type": "execute_result"
    },
    {
     "data": {
      "image/png": "[encoded data removed]",
      "text/plain": [
       "<Figure size 432x288 with 1 Axes>"
      ]
     },
     "metadata": {
      "needs_background": "light"
     },
     "output_type": "display_data"
    }
   ],
   "source": [
    "#Distribution for the churn probability\n",
    "sns.histplot(y_train)"
   ]
  },
  {
   "cell_type": "markdown",
   "id": "7ce0c932",
   "metadata": {
    "papermill": {
     "duration": 0.08539,
     "end_time": "2022-05-24T08:46:07.791658",
     "exception": false,
     "start_time": "2022-05-24T08:46:07.706268",
     "status": "completed"
    },
    "tags": []
   },
   "source": [
    "# 5. Feature engineering and selection\n",
    "\n",
    "Let's understand feature importances for raw features as well as components to decide top features for modelling."
   ]
  },
  {
   "cell_type": "code",
   "execution_count": 36,
   "id": "a4e30f3a",
   "metadata": {
    "execution": {
     "iopub.execute_input": "2022-05-24T08:46:07.963351Z",
     "iopub.status.busy": "2022-05-24T08:46:07.962688Z",
     "iopub.status.idle": "2022-05-24T08:46:14.537334Z",
     "shell.execute_reply": "2022-05-24T08:46:14.536500Z"
    },
    "papermill": {
     "duration": 6.663461,
     "end_time": "2022-05-24T08:46:14.539302",
     "exception": false,
     "start_time": "2022-05-24T08:46:07.875841",
     "status": "completed"
    },
    "tags": []
   },
   "outputs": [],
   "source": [
    "#rf = RandomForestClassifier(n_estimators=100, n_jobs=-1)\n",
    "#rf.fit(X_train_scaled, y_train)"
   ]
  },
  {
   "cell_type": "code",
   "execution_count": 37,
   "id": "56fe1e5a",
   "metadata": {
    "execution": {
     "iopub.execute_input": "2022-05-24T08:46:14.710581Z",
     "iopub.status.busy": "2022-05-24T08:46:14.710280Z",
     "iopub.status.idle": "2022-05-24T08:46:14.817551Z",
     "shell.execute_reply": "2022-05-24T08:46:14.816940Z"
    },
    "papermill": {
     "duration": 0.194118,
     "end_time": "2022-05-24T08:46:14.819697",
     "exception": false,
     "start_time": "2022-05-24T08:46:14.625579",
     "status": "completed"
    },
    "tags": []
   },
   "outputs": [],
   "source": [
    "#feature_importances = pd.DataFrame({'col':X_train.columns, 'importance':rf.feature_importances_})\n",
    "#feature_importances.nlargest(10, 'importance')"
   ]
  },
  {
   "cell_type": "code",
   "execution_count": 38,
   "id": "2d07be6b",
   "metadata": {
    "execution": {
     "iopub.execute_input": "2022-05-24T08:46:14.991873Z",
     "iopub.status.busy": "2022-05-24T08:46:14.991332Z",
     "iopub.status.idle": "2022-05-24T08:46:15.198239Z",
     "shell.execute_reply": "2022-05-24T08:46:15.197736Z"
    },
    "papermill": {
     "duration": 0.295093,
     "end_time": "2022-05-24T08:46:15.199925",
     "exception": false,
     "start_time": "2022-05-24T08:46:14.904832",
     "status": "completed"
    },
    "tags": []
   },
   "outputs": [],
   "source": [
    "#plt.figure(figsize=(15,8))\n",
    "#plt.xticks(rotation=90)\n",
    "#plt.bar(feature_importances['col'], feature_importances['importance'])"
   ]
  },
  {
   "cell_type": "markdown",
   "id": "83957f35",
   "metadata": {
    "papermill": {
     "duration": 0.084654,
     "end_time": "2022-05-24T08:46:15.369772",
     "exception": false,
     "start_time": "2022-05-24T08:46:15.285118",
     "status": "completed"
    },
    "tags": []
   },
   "source": [
    "At this step, you can create a bunch of features based on business understanding, such as \n",
    "1. \"average % gain of 3g volume from month 6 to 8\" - (growth or decline of 3g usage month over month?)\n",
    "2. \"ratio of total outgoing amount and age of user on network\" - (average daily usage of a user?)\n",
    "3. \"standard deviation of the total amount paid by user for all services\" - (too much variability in charges?)\n",
    "4. etc..\n",
    "\n",
    "Another way of finding good features would be to project them into a lower dimensional space using PCA. PCA creates components which are a linear combination of the features. This then allows you to select components which explain the highest amount of variance.\n",
    "\n",
    "Lets try to project the data onto 2D space and plot. **Note:** you can try TSNE, which is another dimensionality reduction approach as well. Check https://scikit-learn.org/stable/modules/generated/sklearn.manifold.TSNE.html for moree details."
   ]
  },
  {
   "cell_type": "code",
   "execution_count": 71,
   "id": "a527dba2",
   "metadata": {
    "execution": {
     "iopub.execute_input": "2022-05-24T08:46:15.542344Z",
     "iopub.status.busy": "2022-05-24T08:46:15.541489Z",
     "iopub.status.idle": "2022-05-24T08:46:17.243777Z",
     "shell.execute_reply": "2022-05-24T08:46:17.243164Z"
    },
    "papermill": {
     "duration": 1.791722,
     "end_time": "2022-05-24T08:46:17.247020",
     "exception": false,
     "start_time": "2022-05-24T08:46:15.455298",
     "status": "completed"
    },
    "tags": []
   },
   "outputs": [
    {
     "data": {
      "text/plain": [
       "<AxesSubplot:>"
      ]
     },
     "execution_count": 71,
     "metadata": {},
     "output_type": "execute_result"
    },
    {
     "data": {
      "image/png": "[encoded data removed]",
      "text/plain": [
       "<Figure size 432x288 with 1 Axes>"
      ]
     },
     "metadata": {
      "needs_background": "light"
     },
     "output_type": "display_data"
    }
   ],
   "source": [
    "pca = PCA(random_state=42)\n",
    "pca_components = pca.fit_transform(X_train_scaled)\n",
    "sns.scatterplot(x=pca_components[:,0], y=pca_components[:,1], hue=y_train)"
   ]
  },
  {
   "cell_type": "code",
   "execution_count": 40,
   "id": "883b3c3f",
   "metadata": {
    "execution": {
     "iopub.execute_input": "2022-05-24T08:46:17.430107Z",
     "iopub.status.busy": "2022-05-24T08:46:17.429690Z",
     "iopub.status.idle": "2022-05-24T08:46:19.001689Z",
     "shell.execute_reply": "2022-05-24T08:46:19.000907Z"
    },
    "papermill": {
     "duration": 1.667342,
     "end_time": "2022-05-24T08:46:19.004559",
     "exception": false,
     "start_time": "2022-05-24T08:46:17.337217",
     "status": "completed"
    },
    "tags": []
   },
   "outputs": [
    {
     "data": {
      "text/plain": [
       "<AxesSubplot:>"
      ]
     },
     "execution_count": 40,
     "metadata": {},
     "output_type": "execute_result"
    },
    {
     "data": {
      "image/png": "[encoded data removed]",
      "text/plain": [
       "<Figure size 432x288 with 1 Axes>"
      ]
     },
     "metadata": {
      "needs_background": "light"
     },
     "output_type": "display_data"
    }
   ],
   "source": [
    "sns.scatterplot(x=pca_components[:,1], y=pca_components[:,2], hue=y_train)"
   ]
  },
  {
   "cell_type": "code",
   "execution_count": 72,
   "id": "f1c816e1",
   "metadata": {},
   "outputs": [
    {
     "name": "stdout",
     "output_type": "stream",
     "text": [
      "[0.16074551 0.24786055 0.30335821 0.35036383 0.38765125 0.41735953\n",
      " 0.44580591 0.47172617 0.49651392 0.52036545 0.5416943  0.56281457\n",
      " 0.5816453  0.5991743  0.61603124 0.63118954 0.6447284  0.65753483\n",
      " 0.66982919 0.68177996 0.69360482 0.70496075 0.71609188 0.72647858\n",
      " 0.73606212 0.74532076 0.75432282 0.76298449 0.77081563 0.7784258\n",
      " 0.78589664 0.79295692 0.79988106 0.80671139 0.8133132  0.81959923\n",
      " 0.82560991 0.83161637 0.83743653 0.84310017 0.84844446 0.85367125\n",
      " 0.85883937 0.86386689 0.86857362 0.87312353 0.87759405 0.88201127\n",
      " 0.88632137 0.89060057 0.89477123 0.89882423 0.90265624 0.9064548\n",
      " 0.91021166 0.91368564 0.91709538 0.92038718 0.92366851 0.92687881\n",
      " 0.9297784  0.93254749 0.93527204 0.93796901 0.94062912 0.94325525\n",
      " 0.94582672 0.94830061 0.95072327 0.95309584 0.95541339 0.95762656\n",
      " 0.95982838 0.96198136 0.96406149 0.96610186 0.96812695 0.97003676\n",
      " 0.9719146  0.97373959 0.975527   0.97728057 0.97895646 0.98056059\n",
      " 0.98215584 0.98364573 0.9850905  0.98639817 0.98759673 0.9887624\n",
      " 0.98990868 0.99102704 0.99194929 0.99272556 0.99348953 0.99424028\n",
      " 0.99496444 0.99558094 0.99618732 0.99658873 0.99695245 0.99729494\n",
      " 0.99760486 0.99789103 0.99809822 0.99830376 0.99850059 0.99868037\n",
      " 0.9988423  0.99897526 0.99910535 0.9992277  0.99934553 0.99944556\n",
      " 0.99953495 0.99962119 0.9996974  0.99976031 0.99981868 0.99986868\n",
      " 0.99991192 0.99994659 0.99997743 1.        ]\n"
     ]
    }
   ],
   "source": [
    "variance_cumu = np.cumsum(pca.explained_variance_ratio_)\n",
    "print(variance_cumu)"
   ]
  },
  {
   "cell_type": "code",
   "execution_count": 73,
   "id": "a31ab5e3",
   "metadata": {},
   "outputs": [
    {
     "data": {
      "text/plain": [
       "Text(0, 0.5, 'Cumulative Variance')"
      ]
     },
     "execution_count": 73,
     "metadata": {},
     "output_type": "execute_result"
    },
    {
     "data": {
      "image/png": "[encoded data removed]",
      "text/plain": [
       "<Figure size 720x432 with 1 Axes>"
      ]
     },
     "metadata": {
      "needs_background": "light"
     },
     "output_type": "display_data"
    }
   ],
   "source": [
    "# Plotting scree plot\n",
    "fig = plt.figure(figsize = (10,6))\n",
    "plt.plot(variance_cumu)\n",
    "plt.xlabel('Number of Components')\n",
    "plt.ylabel('Cumulative Variance')"
   ]
  },
  {
   "cell_type": "code",
   "execution_count": 74,
   "id": "551ba2ab",
   "metadata": {},
   "outputs": [],
   "source": [
    "# Importing incremental PCA\n",
    "from sklearn.decomposition import IncrementalPCA"
   ]
  },
  {
   "cell_type": "code",
   "execution_count": 75,
   "id": "c17a2cdd",
   "metadata": {},
   "outputs": [],
   "source": [
    "# Instantiate PCA with 60 components\n",
    "pca_final = IncrementalPCA(n_components=60)"
   ]
  },
  {
   "cell_type": "code",
   "execution_count": 76,
   "id": "2a42d37d",
   "metadata": {},
   "outputs": [],
   "source": [
    "# Fit and transform the X_train\n",
    "X_train_pca = pca_final.fit_transform(X_train)"
   ]
  },
  {
   "cell_type": "code",
   "execution_count": 77,
   "id": "7981ba65",
   "metadata": {},
   "outputs": [
    {
     "data": {
      "text/plain": [
       "(100586, 60)"
      ]
     },
     "execution_count": 77,
     "metadata": {},
     "output_type": "execute_result"
    }
   ],
   "source": [
    "#smote = SMOTE(random_state = 42)\n",
    "X_train_resamp, y_train_resamp = smote.fit_resample(X_train_pca, y_train)\n",
    "X_train_resamp.shape"
   ]
  },
  {
   "cell_type": "markdown",
   "id": "2cfd3725",
   "metadata": {
    "papermill": {
     "duration": 0.091136,
     "end_time": "2022-05-24T08:46:19.189553",
     "exception": false,
     "start_time": "2022-05-24T08:46:19.098417",
     "status": "completed"
    },
    "tags": []
   },
   "source": [
    "Let's also check which of the components have high feature importances towards the end goal of churn prediction."
   ]
  },
  {
   "cell_type": "code",
   "execution_count": 78,
   "id": "4e6d2c6e",
   "metadata": {
    "execution": {
     "iopub.execute_input": "2022-05-24T08:46:19.380422Z",
     "iopub.status.busy": "2022-05-24T08:46:19.380192Z",
     "iopub.status.idle": "2022-05-24T08:46:30.898158Z",
     "shell.execute_reply": "2022-05-24T08:46:30.897382Z"
    },
    "papermill": {
     "duration": 11.616056,
     "end_time": "2022-05-24T08:46:30.900073",
     "exception": false,
     "start_time": "2022-05-24T08:46:19.284017",
     "status": "completed"
    },
    "tags": []
   },
   "outputs": [
    {
     "data": {
      "text/html": [
       "<style>#sk-container-id-3 {color: black;background-color: white;}#sk-container-id-3 pre{padding: 0;}#sk-container-id-3 div.sk-toggleable {background-color: white;}#sk-container-id-3 label.sk-toggleable__label {cursor: pointer;display: block;width: 100%;margin-bottom: 0;padding: 0.3em;box-sizing: border-box;text-align: center;}#sk-container-id-3 label.sk-toggleable__label-arrow:before {content: \"▸\";float: left;margin-right: 0.25em;color: #696969;}#sk-container-id-3 label.sk-toggleable__label-arrow:hover:before {color: black;}#sk-container-id-3 div.sk-estimator:hover label.sk-toggleable__label-arrow:before {color: black;}#sk-container-id-3 div.sk-toggleable__content {max-height: 0;max-width: 0;overflow: hidden;text-align: left;background-color: #f0f8ff;}#sk-container-id-3 div.sk-toggleable__content pre {margin: 0.2em;color: black;border-radius: 0.25em;background-color: #f0f8ff;}#sk-container-id-3 input.sk-toggleable__control:checked~div.sk-toggleable__content {max-height: 200px;max-width: 100%;overflow: auto;}#sk-container-id-3 input.sk-toggleable__control:checked~label.sk-toggleable__label-arrow:before {content: \"▾\";}#sk-container-id-3 div.sk-estimator input.sk-toggleable__control:checked~label.sk-toggleable__label {background-color: #d4ebff;}#sk-container-id-3 div.sk-label input.sk-toggleable__control:checked~label.sk-toggleable__label {background-color: #d4ebff;}#sk-container-id-3 input.sk-hidden--visually {border: 0;clip: rect(1px 1px 1px 1px);clip: rect(1px, 1px, 1px, 1px);height: 1px;margin: -1px;overflow: hidden;padding: 0;position: absolute;width: 1px;}#sk-container-id-3 div.sk-estimator {font-family: monospace;background-color: #f0f8ff;border: 1px dotted black;border-radius: 0.25em;box-sizing: border-box;margin-bottom: 0.5em;}#sk-container-id-3 div.sk-estimator:hover {background-color: #d4ebff;}#sk-container-id-3 div.sk-parallel-item::after {content: \"\";width: 100%;border-bottom: 1px solid gray;flex-grow: 1;}#sk-container-id-3 div.sk-label:hover label.sk-toggleable__label {background-color: #d4ebff;}#sk-container-id-3 div.sk-serial::before {content: \"\";position: absolute;border-left: 1px solid gray;box-sizing: border-box;top: 0;bottom: 0;left: 50%;z-index: 0;}#sk-container-id-3 div.sk-serial {display: flex;flex-direction: column;align-items: center;background-color: white;padding-right: 0.2em;padding-left: 0.2em;position: relative;}#sk-container-id-3 div.sk-item {position: relative;z-index: 1;}#sk-container-id-3 div.sk-parallel {display: flex;align-items: stretch;justify-content: center;background-color: white;position: relative;}#sk-container-id-3 div.sk-item::before, #sk-container-id-3 div.sk-parallel-item::before {content: \"\";position: absolute;border-left: 1px solid gray;box-sizing: border-box;top: 0;bottom: 0;left: 50%;z-index: -1;}#sk-container-id-3 div.sk-parallel-item {display: flex;flex-direction: column;z-index: 1;position: relative;background-color: white;}#sk-container-id-3 div.sk-parallel-item:first-child::after {align-self: flex-end;width: 50%;}#sk-container-id-3 div.sk-parallel-item:last-child::after {align-self: flex-start;width: 50%;}#sk-container-id-3 div.sk-parallel-item:only-child::after {width: 0;}#sk-container-id-3 div.sk-dashed-wrapped {border: 1px dashed gray;margin: 0 0.4em 0.5em 0.4em;box-sizing: border-box;padding-bottom: 0.4em;background-color: white;}#sk-container-id-3 div.sk-label label {font-family: monospace;font-weight: bold;display: inline-block;line-height: 1.2em;}#sk-container-id-3 div.sk-label-container {text-align: center;}#sk-container-id-3 div.sk-container {/* jupyter's `normalize.less` sets `[hidden] { display: none; }` but bootstrap.min.css set `[hidden] { display: none !important; }` so we also need the `!important` here to be able to override the default hidden behavior on the sphinx rendered scikit-learn.org. See: https://github.com/scikit-learn/scikit-learn/issues/21755 */display: inline-block !important;position: relative;}#sk-container-id-3 div.sk-text-repr-fallback {display: none;}</style><div id=\"sk-container-id-3\" class=\"sk-top-container\"><div class=\"sk-text-repr-fallback\"><pre>RandomForestClassifier(max_depth=5, n_estimators=10, n_jobs=-1, oob_score=True,\n",
       "                       random_state=42)</pre><b>In a Jupyter environment, please rerun this cell to show the HTML representation or trust the notebook. <br />On GitHub, the HTML representation is unable to render, please try loading this page with nbviewer.org.</b></div><div class=\"sk-container\" hidden><div class=\"sk-item\"><div class=\"sk-estimator sk-toggleable\"><input class=\"sk-toggleable__control sk-hidden--visually\" id=\"sk-estimator-id-7\" type=\"checkbox\" checked><label for=\"sk-estimator-id-7\" class=\"sk-toggleable__label sk-toggleable__label-arrow\">RandomForestClassifier</label><div class=\"sk-toggleable__content\"><pre>RandomForestClassifier(max_depth=5, n_estimators=10, n_jobs=-1, oob_score=True,\n",
       "                       random_state=42)</pre></div></div></div></div></div>"
      ],
      "text/plain": [
       "RandomForestClassifier(max_depth=5, n_estimators=10, n_jobs=-1, oob_score=True,\n",
       "                       random_state=42)"
      ]
     },
     "execution_count": 78,
     "metadata": {},
     "output_type": "execute_result"
    }
   ],
   "source": [
    "rf = RandomForestClassifier(random_state=42,n_estimators=10, n_jobs=-1, max_depth=5, oob_score = True)\n",
    "rf.fit(X_train_resamp, y_train_resamp)"
   ]
  },
  {
   "cell_type": "code",
   "execution_count": 43,
   "id": "01fccf4d",
   "metadata": {},
   "outputs": [],
   "source": [
    "params = {\n",
    "    'max_depth': [5, 10, 20],\n",
    "    #'min_samples_leaf': [20, 50, 100],\n",
    "   # 'max_features': [5, 10, 15, 20],\n",
    "    'n_estimators': [10, 50, 100, 200]\n",
    "}"
   ]
  },
  {
   "cell_type": "code",
   "execution_count": 44,
   "id": "858ee0a6",
   "metadata": {},
   "outputs": [],
   "source": [
    "grid_search = GridSearchCV(estimator= rf, param_grid = params,\n",
    "                          cv=4, n_jobs=-1, verbose=1, scoring = 'accuracy' )"
   ]
  },
  {
   "cell_type": "code",
   "execution_count": 45,
   "id": "dc5cfa4b",
   "metadata": {},
   "outputs": [],
   "source": [
    "#grid_search.fit(pca_components , y_train_resamp)"
   ]
  },
  {
   "cell_type": "code",
   "execution_count": 46,
   "id": "bdce0aa4",
   "metadata": {},
   "outputs": [],
   "source": [
    "#rf_best = grid_search.best_estimator_"
   ]
  },
  {
   "cell_type": "code",
   "execution_count": 47,
   "id": "c7cd267d",
   "metadata": {},
   "outputs": [
    {
     "data": {
      "text/plain": [
       "0.9066411900212504"
      ]
     },
     "execution_count": 47,
     "metadata": {},
     "output_type": "execute_result"
    }
   ],
   "source": [
    "rf.oob_score_"
   ]
  },
  {
   "cell_type": "code",
   "execution_count": 48,
   "id": "b589c164",
   "metadata": {},
   "outputs": [],
   "source": [
    "#plot_roc_curve()\n"
   ]
  },
  {
   "cell_type": "code",
   "execution_count": 79,
   "id": "0c143bf3",
   "metadata": {},
   "outputs": [],
   "source": [
    "def evaluate_model(rf_classifier):\n",
    "    y_train_pred = rf_classifier.predict(X_train_resamp) \n",
    "    print(\"Train set Performance\")\n",
    "    print(accuracy_score(y_train_resamp, y_train_pred))\n",
    "    print(confusion_matrix(y_train_resamp, y_train_pred)) \n",
    "    "
   ]
  },
  {
   "cell_type": "code",
   "execution_count": 80,
   "id": "c33ad954",
   "metadata": {},
   "outputs": [
    {
     "name": "stdout",
     "output_type": "stream",
     "text": [
      "Train set Performance\n",
      "0.8100232636748653\n",
      "[[40359  9934]\n",
      " [ 9175 41118]]\n"
     ]
    }
   ],
   "source": [
    "evaluate_model(rf)"
   ]
  },
  {
   "cell_type": "code",
   "execution_count": 51,
   "id": "62654afb",
   "metadata": {},
   "outputs": [
    {
     "data": {
      "text/plain": [
       "\"feature_importances = pd.DataFrame({'col':['component_'+str(i) for i in range(124)], \\n                                    'importance':rf.feature_importances_})\\n\\nplt.figure(figsize=(15,8))\\nplt.xticks(rotation=90)\\nplt.bar(feature_importances['col'], feature_importances['importance'])\""
      ]
     },
     "execution_count": 51,
     "metadata": {},
     "output_type": "execute_result"
    }
   ],
   "source": [
    "'''feature_importances = pd.DataFrame({'col':['component_'+str(i) for i in range(124)], \n",
    "                                    'importance':rf.feature_importances_})\n",
    "\n",
    "plt.figure(figsize=(15,8))\n",
    "plt.xticks(rotation=90)\n",
    "plt.bar(feature_importances['col'], feature_importances['importance'])'''"
   ]
  },
  {
   "cell_type": "code",
   "execution_count": 52,
   "id": "b052807a",
   "metadata": {},
   "outputs": [],
   "source": [
    "X_test_scaled = scale.transform(X_test)"
   ]
  },
  {
   "cell_type": "code",
   "execution_count": 53,
   "id": "1f6e9960",
   "metadata": {},
   "outputs": [],
   "source": [
    "pca_test_components = pca.transform(X_test_scaled)"
   ]
  },
  {
   "cell_type": "code",
   "execution_count": 55,
   "id": "370b3df0",
   "metadata": {},
   "outputs": [],
   "source": [
    "X_test_resamp, y_test_resamp = smote.fit_resample(pca_test_components, y_test)"
   ]
  },
  {
   "cell_type": "code",
   "execution_count": 56,
   "id": "de9ae013",
   "metadata": {},
   "outputs": [],
   "source": [
    "def evaluate_test_data(rf_classifier):\n",
    "    y_test_pred = rf_classifier.predict(X_test_resamp) \n",
    "    print(\"Test set Performance\")\n",
    "    print(accuracy_score(y_test_resamp, y_test_pred))\n",
    "    print(confusion_matrix(y_test_resamp, y_test_pred)) "
   ]
  },
  {
   "cell_type": "code",
   "execution_count": 57,
   "id": "6ec43637",
   "metadata": {},
   "outputs": [
    {
     "name": "stdout",
     "output_type": "stream",
     "text": [
      "Test set Performance\n",
      "0.9057142857142857\n",
      "[[12518    56]\n",
      " [ 1264   162]]\n"
     ]
    }
   ],
   "source": [
    "evaluate_test_data(rf)"
   ]
  },
  {
   "cell_type": "code",
   "execution_count": 58,
   "id": "c461a241",
   "metadata": {},
   "outputs": [],
   "source": [
    "imp = SimpleImputer(strategy='constant', fill_value=0)\n",
    "scale = StandardScaler()\n",
    "pca = PCA(n_components=10)\n",
    "smote = SMOTE(random_state = 42)\n",
    "rf = RandomForestClassifier(random_state=42,n_estimators=10, n_jobs=-1, max_depth=5, oob_score = True)"
   ]
  },
  {
   "cell_type": "code",
   "execution_count": 59,
   "id": "f5b37b81",
   "metadata": {},
   "outputs": [],
   "source": [
    "pipeline = imbpipeline(steps = [('imputation',imp),\n",
    "                             ('scaling',scale),\n",
    "                             ('pca',pca),\n",
    "                             ('smt', smote),\n",
    "                             ('model',rf)])"
   ]
  },
  {
   "cell_type": "code",
   "execution_count": 60,
   "id": "e161e9d5",
   "metadata": {},
   "outputs": [
    {
     "data": {
      "text/html": [
       "<style>#sk-container-id-2 {color: black;background-color: white;}#sk-container-id-2 pre{padding: 0;}#sk-container-id-2 div.sk-toggleable {background-color: white;}#sk-container-id-2 label.sk-toggleable__label {cursor: pointer;display: block;width: 100%;margin-bottom: 0;padding: 0.3em;box-sizing: border-box;text-align: center;}#sk-container-id-2 label.sk-toggleable__label-arrow:before {content: \"▸\";float: left;margin-right: 0.25em;color: #696969;}#sk-container-id-2 label.sk-toggleable__label-arrow:hover:before {color: black;}#sk-container-id-2 div.sk-estimator:hover label.sk-toggleable__label-arrow:before {color: black;}#sk-container-id-2 div.sk-toggleable__content {max-height: 0;max-width: 0;overflow: hidden;text-align: left;background-color: #f0f8ff;}#sk-container-id-2 div.sk-toggleable__content pre {margin: 0.2em;color: black;border-radius: 0.25em;background-color: #f0f8ff;}#sk-container-id-2 input.sk-toggleable__control:checked~div.sk-toggleable__content {max-height: 200px;max-width: 100%;overflow: auto;}#sk-container-id-2 input.sk-toggleable__control:checked~label.sk-toggleable__label-arrow:before {content: \"▾\";}#sk-container-id-2 div.sk-estimator input.sk-toggleable__control:checked~label.sk-toggleable__label {background-color: #d4ebff;}#sk-container-id-2 div.sk-label input.sk-toggleable__control:checked~label.sk-toggleable__label {background-color: #d4ebff;}#sk-container-id-2 input.sk-hidden--visually {border: 0;clip: rect(1px 1px 1px 1px);clip: rect(1px, 1px, 1px, 1px);height: 1px;margin: -1px;overflow: hidden;padding: 0;position: absolute;width: 1px;}#sk-container-id-2 div.sk-estimator {font-family: monospace;background-color: #f0f8ff;border: 1px dotted black;border-radius: 0.25em;box-sizing: border-box;margin-bottom: 0.5em;}#sk-container-id-2 div.sk-estimator:hover {background-color: #d4ebff;}#sk-container-id-2 div.sk-parallel-item::after {content: \"\";width: 100%;border-bottom: 1px solid gray;flex-grow: 1;}#sk-container-id-2 div.sk-label:hover label.sk-toggleable__label {background-color: #d4ebff;}#sk-container-id-2 div.sk-serial::before {content: \"\";position: absolute;border-left: 1px solid gray;box-sizing: border-box;top: 0;bottom: 0;left: 50%;z-index: 0;}#sk-container-id-2 div.sk-serial {display: flex;flex-direction: column;align-items: center;background-color: white;padding-right: 0.2em;padding-left: 0.2em;position: relative;}#sk-container-id-2 div.sk-item {position: relative;z-index: 1;}#sk-container-id-2 div.sk-parallel {display: flex;align-items: stretch;justify-content: center;background-color: white;position: relative;}#sk-container-id-2 div.sk-item::before, #sk-container-id-2 div.sk-parallel-item::before {content: \"\";position: absolute;border-left: 1px solid gray;box-sizing: border-box;top: 0;bottom: 0;left: 50%;z-index: -1;}#sk-container-id-2 div.sk-parallel-item {display: flex;flex-direction: column;z-index: 1;position: relative;background-color: white;}#sk-container-id-2 div.sk-parallel-item:first-child::after {align-self: flex-end;width: 50%;}#sk-container-id-2 div.sk-parallel-item:last-child::after {align-self: flex-start;width: 50%;}#sk-container-id-2 div.sk-parallel-item:only-child::after {width: 0;}#sk-container-id-2 div.sk-dashed-wrapped {border: 1px dashed gray;margin: 0 0.4em 0.5em 0.4em;box-sizing: border-box;padding-bottom: 0.4em;background-color: white;}#sk-container-id-2 div.sk-label label {font-family: monospace;font-weight: bold;display: inline-block;line-height: 1.2em;}#sk-container-id-2 div.sk-label-container {text-align: center;}#sk-container-id-2 div.sk-container {/* jupyter's `normalize.less` sets `[hidden] { display: none; }` but bootstrap.min.css set `[hidden] { display: none !important; }` so we also need the `!important` here to be able to override the default hidden behavior on the sphinx rendered scikit-learn.org. See: https://github.com/scikit-learn/scikit-learn/issues/21755 */display: inline-block !important;position: relative;}#sk-container-id-2 div.sk-text-repr-fallback {display: none;}</style><div id=\"sk-container-id-2\" class=\"sk-top-container\"><div class=\"sk-text-repr-fallback\"><pre>Pipeline(steps=[(&#x27;imputation&#x27;,\n",
       "                 SimpleImputer(fill_value=0, strategy=&#x27;constant&#x27;)),\n",
       "                (&#x27;scaling&#x27;, StandardScaler()), (&#x27;pca&#x27;, PCA(n_components=10)),\n",
       "                (&#x27;model&#x27;,\n",
       "                 RandomForestClassifier(max_depth=5, n_estimators=10, n_jobs=-1,\n",
       "                                        oob_score=True, random_state=42))])</pre><b>In a Jupyter environment, please rerun this cell to show the HTML representation or trust the notebook. <br />On GitHub, the HTML representation is unable to render, please try loading this page with nbviewer.org.</b></div><div class=\"sk-container\" hidden><div class=\"sk-item sk-dashed-wrapped\"><div class=\"sk-label-container\"><div class=\"sk-label sk-toggleable\"><input class=\"sk-toggleable__control sk-hidden--visually\" id=\"sk-estimator-id-2\" type=\"checkbox\" ><label for=\"sk-estimator-id-2\" class=\"sk-toggleable__label sk-toggleable__label-arrow\">Pipeline</label><div class=\"sk-toggleable__content\"><pre>Pipeline(steps=[(&#x27;imputation&#x27;,\n",
       "                 SimpleImputer(fill_value=0, strategy=&#x27;constant&#x27;)),\n",
       "                (&#x27;scaling&#x27;, StandardScaler()), (&#x27;pca&#x27;, PCA(n_components=10)),\n",
       "                (&#x27;model&#x27;,\n",
       "                 RandomForestClassifier(max_depth=5, n_estimators=10, n_jobs=-1,\n",
       "                                        oob_score=True, random_state=42))])</pre></div></div></div><div class=\"sk-serial\"><div class=\"sk-item\"><div class=\"sk-estimator sk-toggleable\"><input class=\"sk-toggleable__control sk-hidden--visually\" id=\"sk-estimator-id-3\" type=\"checkbox\" ><label for=\"sk-estimator-id-3\" class=\"sk-toggleable__label sk-toggleable__label-arrow\">SimpleImputer</label><div class=\"sk-toggleable__content\"><pre>SimpleImputer(fill_value=0, strategy=&#x27;constant&#x27;)</pre></div></div></div><div class=\"sk-item\"><div class=\"sk-estimator sk-toggleable\"><input class=\"sk-toggleable__control sk-hidden--visually\" id=\"sk-estimator-id-4\" type=\"checkbox\" ><label for=\"sk-estimator-id-4\" class=\"sk-toggleable__label sk-toggleable__label-arrow\">StandardScaler</label><div class=\"sk-toggleable__content\"><pre>StandardScaler()</pre></div></div></div><div class=\"sk-item\"><div class=\"sk-estimator sk-toggleable\"><input class=\"sk-toggleable__control sk-hidden--visually\" id=\"sk-estimator-id-5\" type=\"checkbox\" ><label for=\"sk-estimator-id-5\" class=\"sk-toggleable__label sk-toggleable__label-arrow\">PCA</label><div class=\"sk-toggleable__content\"><pre>PCA(n_components=10)</pre></div></div></div><div class=\"sk-item\"><div class=\"sk-estimator sk-toggleable\"><input class=\"sk-toggleable__control sk-hidden--visually\" id=\"sk-estimator-id-6\" type=\"checkbox\" ><label for=\"sk-estimator-id-6\" class=\"sk-toggleable__label sk-toggleable__label-arrow\">RandomForestClassifier</label><div class=\"sk-toggleable__content\"><pre>RandomForestClassifier(max_depth=5, n_estimators=10, n_jobs=-1, oob_score=True,\n",
       "                       random_state=42)</pre></div></div></div></div></div></div></div>"
      ],
      "text/plain": [
       "Pipeline(steps=[('imputation',\n",
       "                 SimpleImputer(fill_value=0, strategy='constant')),\n",
       "                ('scaling', StandardScaler()), ('pca', PCA(n_components=10)),\n",
       "                ('model',\n",
       "                 RandomForestClassifier(max_depth=5, n_estimators=10, n_jobs=-1,\n",
       "                                        oob_score=True, random_state=42))])"
      ]
     },
     "execution_count": 60,
     "metadata": {},
     "output_type": "execute_result"
    }
   ],
   "source": [
    "pipeline.fit(X_train, y_train)"
   ]
  },
  {
   "cell_type": "code",
   "execution_count": 61,
   "id": "44029685",
   "metadata": {},
   "outputs": [
    {
     "name": "stdout",
     "output_type": "stream",
     "text": [
      "Training accuracy: 0.9087840854300969\n"
     ]
    }
   ],
   "source": [
    "train_score = pipeline.score(X_train, y_train)\n",
    "print(\"Training accuracy:\", train_score)"
   ]
  },
  {
   "cell_type": "code",
   "execution_count": 62,
   "id": "754d7814",
   "metadata": {},
   "outputs": [
    {
     "name": "stdout",
     "output_type": "stream",
     "text": [
      "Test accuracy: 0.9055714285714286\n"
     ]
    }
   ],
   "source": [
    "test_score = pipeline.score(X_test, y_test)\n",
    "print(\"Test accuracy:\", test_score)"
   ]
  },
  {
   "cell_type": "markdown",
   "id": "af4f2703",
   "metadata": {
    "papermill": {
     "duration": 0.092738,
     "end_time": "2022-05-24T08:46:31.089651",
     "exception": false,
     "start_time": "2022-05-24T08:46:30.996913",
     "status": "completed"
    },
    "tags": []
   },
   "source": [
    "# 6. Model building\n",
    "\n",
    "Let's build a quick model with logistic regression and the first 2 PCA components."
   ]
  },
  {
   "cell_type": "code",
   "execution_count": null,
   "id": "a6503df1",
   "metadata": {
    "execution": {
     "iopub.execute_input": "2022-05-24T08:46:31.277453Z",
     "iopub.status.busy": "2022-05-24T08:46:31.276816Z",
     "iopub.status.idle": "2022-05-24T08:46:31.377767Z",
     "shell.execute_reply": "2022-05-24T08:46:31.377225Z"
    },
    "papermill": {
     "duration": 0.196182,
     "end_time": "2022-05-24T08:46:31.379346",
     "exception": false,
     "start_time": "2022-05-24T08:46:31.183164",
     "status": "completed"
    },
    "tags": []
   },
   "outputs": [],
   "source": [
    "lr = LogisticRegression(max_iter=1000, tol=0.001, solver='sag')\n",
    "lr.fit(pca_components[:,:2], y_train)"
   ]
  },
  {
   "cell_type": "code",
   "execution_count": null,
   "id": "2013fabd",
   "metadata": {
    "execution": {
     "iopub.execute_input": "2022-05-24T08:46:31.570412Z",
     "iopub.status.busy": "2022-05-24T08:46:31.569705Z",
     "iopub.status.idle": "2022-05-24T08:46:31.585718Z",
     "shell.execute_reply": "2022-05-24T08:46:31.585110Z"
    },
    "papermill": {
     "duration": 0.114982,
     "end_time": "2022-05-24T08:46:31.588264",
     "exception": false,
     "start_time": "2022-05-24T08:46:31.473282",
     "status": "completed"
    },
    "tags": []
   },
   "outputs": [],
   "source": [
    "lr.score(pca_components[:,:2], y_train)"
   ]
  },
  {
   "cell_type": "markdown",
   "id": "d75c1c40",
   "metadata": {
    "papermill": {
     "duration": 0.095799,
     "end_time": "2022-05-24T08:46:31.827077",
     "exception": false,
     "start_time": "2022-05-24T08:46:31.731278",
     "status": "completed"
    },
    "tags": []
   },
   "source": [
    "The model has 89.8% accuracy, but let's build a pipeline to fit and score the model faster.\n",
    "\n",
    "The steps of this pipeline would be the following, but this is only one type of pipeline -\n",
    "1. Imputation\n",
    "2. Scaling\n",
    "3. PCA\n",
    "4. Classification model\n",
    "\n",
    "You can change this pipeline, add addition transformations, change models, use cross validation or even use this pipeline to work with a Gridsearch."
   ]
  },
  {
   "cell_type": "code",
   "execution_count": null,
   "id": "63f1d52a",
   "metadata": {
    "execution": {
     "iopub.execute_input": "2022-05-24T08:46:32.020631Z",
     "iopub.status.busy": "2022-05-24T08:46:32.019744Z",
     "iopub.status.idle": "2022-05-24T08:46:32.024840Z",
     "shell.execute_reply": "2022-05-24T08:46:32.024326Z"
    },
    "papermill": {
     "duration": 0.106412,
     "end_time": "2022-05-24T08:46:32.026463",
     "exception": false,
     "start_time": "2022-05-24T08:46:31.920051",
     "status": "completed"
    },
    "tags": []
   },
   "outputs": [],
   "source": [
    "imp = SimpleImputer(strategy='constant', fill_value=0)\n",
    "scale = StandardScaler()\n",
    "pca = PCA(n_components=10)\n",
    "lr = LogisticRegression(max_iter=1000, tol=0.001)"
   ]
  },
  {
   "cell_type": "code",
   "execution_count": null,
   "id": "676cf315",
   "metadata": {
    "execution": {
     "iopub.execute_input": "2022-05-24T08:46:32.221224Z",
     "iopub.status.busy": "2022-05-24T08:46:32.220758Z",
     "iopub.status.idle": "2022-05-24T08:46:32.224541Z",
     "shell.execute_reply": "2022-05-24T08:46:32.224054Z"
    },
    "papermill": {
     "duration": 0.100076,
     "end_time": "2022-05-24T08:46:32.226140",
     "exception": false,
     "start_time": "2022-05-24T08:46:32.126064",
     "status": "completed"
    },
    "tags": []
   },
   "outputs": [],
   "source": [
    "#pipe = Pipeline(steps = [('imputation',imp),\n",
    "  #                       ('scaling',scale),\n",
    " #                        ('pca',pca),\n",
    " #                        ('model',lr)])"
   ]
  },
  {
   "cell_type": "code",
   "execution_count": null,
   "id": "17c72530",
   "metadata": {
    "execution": {
     "iopub.execute_input": "2022-05-24T08:46:32.413811Z",
     "iopub.status.busy": "2022-05-24T08:46:32.413438Z",
     "iopub.status.idle": "2022-05-24T08:46:32.806742Z",
     "shell.execute_reply": "2022-05-24T08:46:32.805765Z"
    },
    "papermill": {
     "duration": 0.490309,
     "end_time": "2022-05-24T08:46:32.809802",
     "exception": false,
     "start_time": "2022-05-24T08:46:32.319493",
     "status": "completed"
    },
    "tags": []
   },
   "outputs": [],
   "source": [
    "#pipe.fit(X_train, y_train)"
   ]
  },
  {
   "cell_type": "code",
   "execution_count": null,
   "id": "ae9fa42c",
   "metadata": {
    "execution": {
     "iopub.execute_input": "2022-05-24T08:46:33.056224Z",
     "iopub.status.busy": "2022-05-24T08:46:33.055461Z",
     "iopub.status.idle": "2022-05-24T08:46:33.089479Z",
     "shell.execute_reply": "2022-05-24T08:46:33.088622Z"
    },
    "papermill": {
     "duration": 0.135699,
     "end_time": "2022-05-24T08:46:33.094033",
     "exception": false,
     "start_time": "2022-05-24T08:46:32.958334",
     "status": "completed"
    },
    "tags": []
   },
   "outputs": [],
   "source": [
    "#train_score = pipe.score(X_train, y_train)\n",
    "#print(\"Training accuracy:\", train_score)"
   ]
  },
  {
   "cell_type": "code",
   "execution_count": null,
   "id": "9697c259",
   "metadata": {
    "execution": {
     "iopub.execute_input": "2022-05-24T08:46:33.331344Z",
     "iopub.status.busy": "2022-05-24T08:46:33.331115Z",
     "iopub.status.idle": "2022-05-24T08:46:33.350047Z",
     "shell.execute_reply": "2022-05-24T08:46:33.348988Z"
    },
    "papermill": {
     "duration": 0.116225,
     "end_time": "2022-05-24T08:46:33.352802",
     "exception": false,
     "start_time": "2022-05-24T08:46:33.236577",
     "status": "completed"
    },
    "tags": []
   },
   "outputs": [],
   "source": [
    "#test_score = pipe.score(X_test, y_test)\n",
    "#print(\"Test accuracy:\", test_score)"
   ]
  },
  {
   "cell_type": "markdown",
   "id": "7ec6f719",
   "metadata": {
    "papermill": {
     "duration": 0.09421,
     "end_time": "2022-05-24T08:46:33.591590",
     "exception": false,
     "start_time": "2022-05-24T08:46:33.497380",
     "status": "completed"
    },
    "tags": []
   },
   "source": [
    "Let's make a confusion matrix to analyze how each class is being predicted by the model."
   ]
  },
  {
   "cell_type": "code",
   "execution_count": 63,
   "id": "49ea9903",
   "metadata": {
    "execution": {
     "iopub.execute_input": "2022-05-24T08:46:33.783097Z",
     "iopub.status.busy": "2022-05-24T08:46:33.782807Z",
     "iopub.status.idle": "2022-05-24T08:46:33.825784Z",
     "shell.execute_reply": "2022-05-24T08:46:33.824849Z"
    },
    "papermill": {
     "duration": 0.142949,
     "end_time": "2022-05-24T08:46:33.828631",
     "exception": false,
     "start_time": "2022-05-24T08:46:33.685682",
     "status": "completed"
    },
    "tags": []
   },
   "outputs": [
    {
     "data": {
      "text/plain": [
       "array([[50113,   180],\n",
       "       [ 4928,   778]], dtype=int64)"
      ]
     },
     "execution_count": 63,
     "metadata": {},
     "output_type": "execute_result"
    }
   ],
   "source": [
    "confusion_matrix(y_train, pipeline.predict(X_train))"
   ]
  },
  {
   "cell_type": "code",
   "execution_count": 64,
   "id": "4534fa6a",
   "metadata": {
    "execution": {
     "iopub.execute_input": "2022-05-24T08:46:34.073110Z",
     "iopub.status.busy": "2022-05-24T08:46:34.072578Z",
     "iopub.status.idle": "2022-05-24T08:46:34.090222Z",
     "shell.execute_reply": "2022-05-24T08:46:34.089306Z"
    },
    "papermill": {
     "duration": 0.123057,
     "end_time": "2022-05-24T08:46:34.092848",
     "exception": false,
     "start_time": "2022-05-24T08:46:33.969791",
     "status": "completed"
    },
    "tags": []
   },
   "outputs": [
    {
     "data": {
      "text/plain": [
       "array([[12517,    57],\n",
       "       [ 1265,   161]], dtype=int64)"
      ]
     },
     "execution_count": 64,
     "metadata": {},
     "output_type": "execute_result"
    }
   ],
   "source": [
    "confusion_matrix(y_test, pipeline.predict(X_test))"
   ]
  },
  {
   "cell_type": "markdown",
   "id": "e5158cd5",
   "metadata": {
    "papermill": {
     "duration": 0.103094,
     "end_time": "2022-05-24T08:46:34.351937",
     "exception": false,
     "start_time": "2022-05-24T08:46:34.248843",
     "status": "completed"
    },
    "tags": []
   },
   "source": [
    "We can see a high amount of type 2 error. Due to class imbalance, the model is clearly trying to predict majority of the cases as class 0. Understanding how to handle class imbalance in classification models might be the key to winning this competition :) (hint!)"
   ]
  },
  {
   "cell_type": "code",
   "execution_count": 65,
   "id": "839ce458",
   "metadata": {
    "execution": {
     "iopub.execute_input": "2022-05-24T08:46:34.554151Z",
     "iopub.status.busy": "2022-05-24T08:46:34.553887Z",
     "iopub.status.idle": "2022-05-24T08:46:34.577282Z",
     "shell.execute_reply": "2022-05-24T08:46:34.576375Z"
    },
    "papermill": {
     "duration": 0.127755,
     "end_time": "2022-05-24T08:46:34.579994",
     "exception": false,
     "start_time": "2022-05-24T08:46:34.452239",
     "status": "completed"
    },
    "tags": []
   },
   "outputs": [
    {
     "data": {
      "text/plain": [
       "0.7385321100917431"
      ]
     },
     "execution_count": 65,
     "metadata": {},
     "output_type": "execute_result"
    }
   ],
   "source": [
    "precision_score(y_test, pipeline.predict(X_test))"
   ]
  },
  {
   "cell_type": "code",
   "execution_count": 66,
   "id": "ff7c56b8",
   "metadata": {
    "execution": {
     "iopub.execute_input": "2022-05-24T08:46:34.825937Z",
     "iopub.status.busy": "2022-05-24T08:46:34.825664Z",
     "iopub.status.idle": "2022-05-24T08:46:34.849380Z",
     "shell.execute_reply": "2022-05-24T08:46:34.848648Z"
    },
    "papermill": {
     "duration": 0.124321,
     "end_time": "2022-05-24T08:46:34.852018",
     "exception": false,
     "start_time": "2022-05-24T08:46:34.727697",
     "status": "completed"
    },
    "tags": []
   },
   "outputs": [
    {
     "data": {
      "text/plain": [
       "0.11290322580645161"
      ]
     },
     "execution_count": 66,
     "metadata": {},
     "output_type": "execute_result"
    }
   ],
   "source": [
    "recall_score(y_test, pipeline.predict(X_test))"
   ]
  },
  {
   "cell_type": "code",
   "execution_count": null,
   "id": "00d19fe8",
   "metadata": {},
   "outputs": [],
   "source": []
  },
  {
   "cell_type": "code",
   "execution_count": null,
   "id": "e69a8fa4",
   "metadata": {},
   "outputs": [],
   "source": []
  },
  {
   "cell_type": "code",
   "execution_count": null,
   "id": "1940f29f",
   "metadata": {},
   "outputs": [],
   "source": []
  },
  {
   "cell_type": "code",
   "execution_count": null,
   "id": "dd18b305",
   "metadata": {},
   "outputs": [],
   "source": []
  },
  {
   "cell_type": "markdown",
   "id": "dc7f8cfa",
   "metadata": {
    "papermill": {
     "duration": 0.098675,
     "end_time": "2022-05-24T08:46:35.097778",
     "exception": false,
     "start_time": "2022-05-24T08:46:34.999103",
     "status": "completed"
    },
    "tags": []
   },
   "source": [
    "# 7. Creating submission file\n",
    "\n",
    "For submission, we need to make sure that the format is exactly the same as the sample.csv file. It contains 2 columns, id and churn_probability"
   ]
  },
  {
   "cell_type": "code",
   "execution_count": null,
   "id": "2f6cd189",
   "metadata": {
    "execution": {
     "iopub.execute_input": "2022-05-24T08:46:35.297808Z",
     "iopub.status.busy": "2022-05-24T08:46:35.297047Z",
     "iopub.status.idle": "2022-05-24T08:46:35.306119Z",
     "shell.execute_reply": "2022-05-24T08:46:35.305382Z"
    },
    "papermill": {
     "duration": 0.113425,
     "end_time": "2022-05-24T08:46:35.308307",
     "exception": false,
     "start_time": "2022-05-24T08:46:35.194882",
     "status": "completed"
    },
    "tags": []
   },
   "outputs": [],
   "source": [
    "sample.head()"
   ]
  },
  {
   "cell_type": "markdown",
   "id": "e28db5e3",
   "metadata": {
    "papermill": {
     "duration": 0.098932,
     "end_time": "2022-05-24T08:46:35.516995",
     "exception": false,
     "start_time": "2022-05-24T08:46:35.418063",
     "status": "completed"
    },
    "tags": []
   },
   "source": [
    "The submission file should contain churn_probability values that have to be predicted for the unseen data provided (test.csv)"
   ]
  },
  {
   "cell_type": "code",
   "execution_count": null,
   "id": "7864bf0f",
   "metadata": {
    "execution": {
     "iopub.execute_input": "2022-05-24T08:46:35.714384Z",
     "iopub.status.busy": "2022-05-24T08:46:35.713874Z",
     "iopub.status.idle": "2022-05-24T08:46:35.736201Z",
     "shell.execute_reply": "2022-05-24T08:46:35.735688Z"
    },
    "papermill": {
     "duration": 0.122035,
     "end_time": "2022-05-24T08:46:35.737891",
     "exception": false,
     "start_time": "2022-05-24T08:46:35.615856",
     "status": "completed"
    },
    "tags": []
   },
   "outputs": [],
   "source": [
    "unseen.head()"
   ]
  },
  {
   "cell_type": "markdown",
   "id": "24dbce0b",
   "metadata": {
    "papermill": {
     "duration": 0.099943,
     "end_time": "2022-05-24T08:46:35.935317",
     "exception": false,
     "start_time": "2022-05-24T08:46:35.835374",
     "status": "completed"
    },
    "tags": []
   },
   "source": [
    "Lets first select the columns that we want to work with (or create them, if you have done any feature engineering)"
   ]
  },
  {
   "cell_type": "code",
   "execution_count": 67,
   "id": "376f74ef",
   "metadata": {
    "execution": {
     "iopub.execute_input": "2022-05-24T08:46:36.152620Z",
     "iopub.status.busy": "2022-05-24T08:46:36.152178Z",
     "iopub.status.idle": "2022-05-24T08:46:36.203052Z",
     "shell.execute_reply": "2022-05-24T08:46:36.202497Z"
    },
    "papermill": {
     "duration": 0.164458,
     "end_time": "2022-05-24T08:46:36.204666",
     "exception": false,
     "start_time": "2022-05-24T08:46:36.040208",
     "status": "completed"
    },
    "tags": []
   },
   "outputs": [
    {
     "data": {
      "text/plain": [
       "(30000, 124)"
      ]
     },
     "execution_count": 67,
     "metadata": {},
     "output_type": "execute_result"
    }
   ],
   "source": [
    "new_vars = X_train.columns\n",
    "submission_data = unseen.set_index('id')[new_vars]\n",
    "submission_data.shape"
   ]
  },
  {
   "cell_type": "markdown",
   "id": "ed5bd2ab",
   "metadata": {
    "papermill": {
     "duration": 0.097352,
     "end_time": "2022-05-24T08:46:36.401664",
     "exception": false,
     "start_time": "2022-05-24T08:46:36.304312",
     "status": "completed"
    },
    "tags": []
   },
   "source": [
    "Next, lets create a new column in the unseen dataset called churn_probability and use the model pipeline to predict the probabilities for this data"
   ]
  },
  {
   "cell_type": "code",
   "execution_count": 68,
   "id": "30926e2b",
   "metadata": {
    "execution": {
     "iopub.execute_input": "2022-05-24T08:46:36.601339Z",
     "iopub.status.busy": "2022-05-24T08:46:36.600892Z",
     "iopub.status.idle": "2022-05-24T08:46:36.637208Z",
     "shell.execute_reply": "2022-05-24T08:46:36.636154Z"
    },
    "papermill": {
     "duration": 0.140554,
     "end_time": "2022-05-24T08:46:36.640138",
     "exception": false,
     "start_time": "2022-05-24T08:46:36.499584",
     "status": "completed"
    },
    "tags": []
   },
   "outputs": [
    {
     "data": {
      "text/html": [
       "<div>\n",
       "<style scoped>\n",
       "    .dataframe tbody tr th:only-of-type {\n",
       "        vertical-align: middle;\n",
       "    }\n",
       "\n",
       "    .dataframe tbody tr th {\n",
       "        vertical-align: top;\n",
       "    }\n",
       "\n",
       "    .dataframe thead th {\n",
       "        text-align: right;\n",
       "    }\n",
       "</style>\n",
       "<table border=\"1\" class=\"dataframe\">\n",
       "  <thead>\n",
       "    <tr style=\"text-align: right;\">\n",
       "      <th></th>\n",
       "      <th>id</th>\n",
       "      <th>churn_probability</th>\n",
       "    </tr>\n",
       "  </thead>\n",
       "  <tbody>\n",
       "    <tr>\n",
       "      <th>0</th>\n",
       "      <td>69999</td>\n",
       "      <td>0</td>\n",
       "    </tr>\n",
       "    <tr>\n",
       "      <th>1</th>\n",
       "      <td>70000</td>\n",
       "      <td>0</td>\n",
       "    </tr>\n",
       "    <tr>\n",
       "      <th>2</th>\n",
       "      <td>70001</td>\n",
       "      <td>0</td>\n",
       "    </tr>\n",
       "    <tr>\n",
       "      <th>3</th>\n",
       "      <td>70002</td>\n",
       "      <td>0</td>\n",
       "    </tr>\n",
       "    <tr>\n",
       "      <th>4</th>\n",
       "      <td>70003</td>\n",
       "      <td>0</td>\n",
       "    </tr>\n",
       "  </tbody>\n",
       "</table>\n",
       "</div>"
      ],
      "text/plain": [
       "      id  churn_probability\n",
       "0  69999                  0\n",
       "1  70000                  0\n",
       "2  70001                  0\n",
       "3  70002                  0\n",
       "4  70003                  0"
      ]
     },
     "execution_count": 68,
     "metadata": {},
     "output_type": "execute_result"
    }
   ],
   "source": [
    "unseen['churn_probability'] = pipeline.predict(submission_data)\n",
    "output = unseen[['id','churn_probability']]\n",
    "output.head()"
   ]
  },
  {
   "cell_type": "markdown",
   "id": "c3b0c584",
   "metadata": {
    "papermill": {
     "duration": 0.099349,
     "end_time": "2022-05-24T08:46:36.888450",
     "exception": false,
     "start_time": "2022-05-24T08:46:36.789101",
     "status": "completed"
    },
    "tags": []
   },
   "source": [
    "Finally, lets create a csv file out of this dataset, ensuring to set index=False to avoid an addition column in the csv."
   ]
  },
  {
   "cell_type": "code",
   "execution_count": 69,
   "id": "ce44afde",
   "metadata": {
    "execution": {
     "iopub.execute_input": "2022-05-24T08:46:37.092289Z",
     "iopub.status.busy": "2022-05-24T08:46:37.091583Z",
     "iopub.status.idle": "2022-05-24T08:46:37.142002Z",
     "shell.execute_reply": "2022-05-24T08:46:37.141131Z"
    },
    "papermill": {
     "duration": 0.155849,
     "end_time": "2022-05-24T08:46:37.144070",
     "exception": false,
     "start_time": "2022-05-24T08:46:36.988221",
     "status": "completed"
    },
    "tags": []
   },
   "outputs": [],
   "source": [
    "output.to_csv('submission_1506.csv',index=False)"
   ]
  },
  {
   "cell_type": "markdown",
   "id": "50c6ed53",
   "metadata": {
    "papermill": {
     "duration": 0.097433,
     "end_time": "2022-05-24T08:46:37.340875",
     "exception": false,
     "start_time": "2022-05-24T08:46:37.243442",
     "status": "completed"
    },
    "tags": []
   },
   "source": [
    "You can now take this file and upload it as a submission on Kaggle."
   ]
  },
  {
   "cell_type": "code",
   "execution_count": null,
   "id": "e1779ff7",
   "metadata": {
    "papermill": {
     "duration": 0.10026,
     "end_time": "2022-05-24T08:46:37.539753",
     "exception": false,
     "start_time": "2022-05-24T08:46:37.439493",
     "status": "completed"
    },
    "tags": []
   },
   "outputs": [],
   "source": []
  }
 ],
 "metadata": {
  "kernelspec": {
   "display_name": "Python 3 (ipykernel)",
   "language": "python",
   "name": "python3"
  },
  "language_info": {
   "codemirror_mode": {
    "name": "ipython",
    "version": 3
   },
   "file_extension": ".py",
   "mimetype": "text/x-python",
   "name": "python",
   "nbconvert_exporter": "python",
   "pygments_lexer": "ipython3",
   "version": "3.9.7"
  },
  "papermill": {
   "default_parameters": {},
   "duration": 56.535965,
   "end_time": "2022-05-24T08:46:38.360346",
   "environment_variables": {},
   "exception": null,
   "input_path": "__notebook__.ipynb",
   "output_path": "__notebook__.ipynb",
   "parameters": {},
   "start_time": "2022-05-24T08:45:41.824381",
   "version": "2.3.4"
  }
 },
 "nbformat": 4,
 "nbformat_minor": 5
}
